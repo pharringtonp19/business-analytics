{
  "nbformat": 4,
  "nbformat_minor": 0,
  "metadata": {
    "colab": {
      "provenance": [],
      "authorship_tag": "ABX9TyOywawTxjxcczlAv7oNvis6",
      "include_colab_link": true
    },
    "kernelspec": {
      "name": "python3",
      "display_name": "Python 3"
    },
    "language_info": {
      "name": "python"
    }
  },
  "cells": [
    {
      "cell_type": "markdown",
      "metadata": {
        "id": "view-in-github",
        "colab_type": "text"
      },
      "source": [
        "<a href=\"https://colab.research.google.com/github/pharringtonp19/business-analytics/blob/main/homeworks/HW1_Solutions.ipynb\" target=\"_parent\"><img src=\"https://colab.research.google.com/assets/colab-badge.svg\" alt=\"Open In Colab\"/></a>"
      ]
    },
    {
      "cell_type": "markdown",
      "source": [
        "### Question # 1(**Code**):\n",
        "Write a function that takes a number and returns that number plus one."
      ],
      "metadata": {
        "id": "WNmqzqJPV7wG"
      }
    },
    {
      "cell_type": "code",
      "source": [
        "def plus_one(number):\n",
        "  return number + 1"
      ],
      "metadata": {
        "id": "aGwHrKKsV_Ye"
      },
      "execution_count": null,
      "outputs": []
    },
    {
      "cell_type": "markdown",
      "source": [
        "### Question #2 (**Code**)\n",
        "The following code has a syntax error. Identify and fix it."
      ],
      "metadata": {
        "id": "OqVLD5s0X8oV"
      }
    },
    {
      "cell_type": "code",
      "source": [
        "x = 8\n",
        "if x == 8\n",
        "    print(\"x is equal to 8\")"
      ],
      "metadata": {
        "id": "vf9KPcBeYdvb"
      },
      "execution_count": null,
      "outputs": []
    },
    {
      "cell_type": "markdown",
      "source": [
        "The correct code is the following:"
      ],
      "metadata": {
        "id": "REDzMbT_92Vc"
      }
    },
    {
      "cell_type": "code",
      "source": [
        "x = 8\n",
        "if x == 8:\n",
        "  print(\"x is equal to 8\")"
      ],
      "metadata": {
        "id": "G42DwqZe95T7",
        "outputId": "f055100b-66b8-42c4-f4e6-19b2c81ac6f4",
        "colab": {
          "base_uri": "https://localhost:8080/"
        }
      },
      "execution_count": 1,
      "outputs": [
        {
          "output_type": "stream",
          "name": "stdout",
          "text": [
            "x is equal to 8\n"
          ]
        }
      ]
    },
    {
      "cell_type": "markdown",
      "source": [
        "### Question #3 (**Written**)\n",
        "Based on the following two code blocks, explain the difference between `sorted(companies)` and `companies.sort()`\n"
      ],
      "metadata": {
        "id": "gS_BF4Uw_AtW"
      }
    },
    {
      "cell_type": "code",
      "source": [
        "companies = ['Google', 'Amazon', 'Verizon', 'Microsoft', 'Apple']\n",
        "print(sorted(companies))"
      ],
      "metadata": {
        "colab": {
          "base_uri": "https://localhost:8080/"
        },
        "id": "FiKUzCTA_HXv",
        "outputId": "9d9dc05a-34be-42b4-da08-b675a73dc24f"
      },
      "execution_count": null,
      "outputs": [
        {
          "output_type": "stream",
          "name": "stdout",
          "text": [
            "['Amazon', 'Apple', 'Google', 'Microsoft', 'Verizon']\n"
          ]
        }
      ]
    },
    {
      "cell_type": "code",
      "source": [
        "companies = ['Google', 'Amazon', 'Verizon', 'Microsoft', 'Apple']\n",
        "companies.sort()\n",
        "print(companies)"
      ],
      "metadata": {
        "colab": {
          "base_uri": "https://localhost:8080/"
        },
        "id": "ksLVkT1h_i6F",
        "outputId": "f40a8ae6-7fe4-4fac-a9e4-112e7874251b"
      },
      "execution_count": null,
      "outputs": [
        {
          "output_type": "stream",
          "name": "stdout",
          "text": [
            "['Amazon', 'Apple', 'Google', 'Microsoft', 'Verizon']\n"
          ]
        }
      ]
    },
    {
      "cell_type": "markdown",
      "source": [
        "**Answer**:`companies.sort()` can be understood as `companies = sorted(companies)`"
      ],
      "metadata": {
        "id": "QkFWXE4X_54D"
      }
    },
    {
      "cell_type": "markdown",
      "source": [
        "### Question #4 (**Code**)\n",
        "Write a function that calculates the perimeter of a rectangle given its length and width."
      ],
      "metadata": {
        "id": "go1nV1hRZDAn"
      }
    },
    {
      "cell_type": "code",
      "source": [
        "def perimeter(length, width):\n",
        "  return 2*length + 2*width"
      ],
      "metadata": {
        "id": "VD-7OMrDZIFX"
      },
      "execution_count": 2,
      "outputs": []
    },
    {
      "cell_type": "markdown",
      "source": [
        "### Question #5 (**Code**)\n",
        "Added 'uber' to the following list as the second element"
      ],
      "metadata": {
        "id": "516Hr-2qAJfT"
      }
    },
    {
      "cell_type": "code",
      "source": [
        "companies = ['Google', 'Amazon', 'Verizon', 'Microsoft', 'Apple']"
      ],
      "metadata": {
        "id": "s5xVH9heAeQ8"
      },
      "execution_count": 4,
      "outputs": []
    },
    {
      "cell_type": "code",
      "source": [
        "companies.insert(1, 'Uber')\n",
        "print(companies)"
      ],
      "metadata": {
        "id": "n8DxzRYp-L-C",
        "outputId": "bd0560db-a354-4fc1-8488-aedbb93c5ef0",
        "colab": {
          "base_uri": "https://localhost:8080/"
        }
      },
      "execution_count": 5,
      "outputs": [
        {
          "output_type": "stream",
          "name": "stdout",
          "text": [
            "['Google', 'Uber', 'Amazon', 'Verizon', 'Microsoft', 'Apple']\n"
          ]
        }
      ]
    },
    {
      "cell_type": "markdown",
      "source": [
        "### Question #6 (**Code**)\n",
        "Write a function that checks if a number is positive, negative, or zero."
      ],
      "metadata": {
        "id": "mfltl7OCYOW1"
      }
    },
    {
      "cell_type": "code",
      "source": [
        "def check_int(x):\n",
        "  if x > 0 :\n",
        "    print(\"x is positive\")\n",
        "  elif x == 0:\n",
        "    print(\"x is zero\")\n",
        "  else:\n",
        "    print(\"x is negative\")"
      ],
      "metadata": {
        "id": "VX2s8QBEY812"
      },
      "execution_count": 7,
      "outputs": []
    },
    {
      "cell_type": "markdown",
      "source": [
        "### Question #7 (**Code**)\n",
        "Referencing only the variables `a`, `b`, `c` and `d`, constuct the following sentence: “I have 5 apples.”"
      ],
      "metadata": {
        "id": "9C58bbjwckF_"
      }
    },
    {
      "cell_type": "code",
      "source": [
        "a = 5\n",
        "b = \"apples.\"\n",
        "c = \"I\"\n",
        "d = \"have\""
      ],
      "metadata": {
        "id": "usEQ8AYUcjVx"
      },
      "execution_count": 8,
      "outputs": []
    },
    {
      "cell_type": "code",
      "source": [
        "c + ' ' +  d + ' ' + str(a) + ' ' + b"
      ],
      "metadata": {
        "id": "EOvLMrRj-fsH",
        "outputId": "2ebd4c85-a635-4c90-e100-9b339df053f9",
        "colab": {
          "base_uri": "https://localhost:8080/",
          "height": 36
        }
      },
      "execution_count": 10,
      "outputs": [
        {
          "output_type": "execute_result",
          "data": {
            "text/plain": [
              "'I have 5 apples.'"
            ],
            "application/vnd.google.colaboratory.intrinsic+json": {
              "type": "string"
            }
          },
          "metadata": {},
          "execution_count": 10
        }
      ]
    },
    {
      "cell_type": "markdown",
      "source": [
        "### Question #8 (**Code**)\n",
        "Write a function that calculates the price after a discount is applied. The function should take the original price and the discount percentage. Add type hints!"
      ],
      "metadata": {
        "id": "eB7FmIC9ZR97"
      }
    },
    {
      "cell_type": "code",
      "source": [
        "def price_after_discount(original_price: float, discount_percentage: float) -> float:\n",
        "  return original_price * (1 - discount_percentage/100.0)\n",
        "\n",
        "price_after_discount(10, 10)"
      ],
      "metadata": {
        "id": "-a_DmZZNZa-J",
        "outputId": "97418778-c355-45ef-afc8-89ffc4c569fc",
        "colab": {
          "base_uri": "https://localhost:8080/"
        }
      },
      "execution_count": 11,
      "outputs": [
        {
          "output_type": "execute_result",
          "data": {
            "text/plain": [
              "9.0"
            ]
          },
          "metadata": {},
          "execution_count": 11
        }
      ]
    },
    {
      "cell_type": "markdown",
      "source": [
        "### Question #9 (**Code**)\n",
        "The following code has a syntax error. Identify and fix it."
      ],
      "metadata": {
        "id": "uPaIIBlbaN0h"
      }
    },
    {
      "cell_type": "code",
      "source": [
        "temperature = 75\n",
        "if temperature > 70\n",
        "print(\"It's warm outside!\")\n",
        "else\n",
        "print(\"It's cool outside.\")"
      ],
      "metadata": {
        "id": "4ibL7MX8aREj"
      },
      "execution_count": null,
      "outputs": []
    },
    {
      "cell_type": "markdown",
      "source": [
        "The correct code is as follows"
      ],
      "metadata": {
        "id": "D2CB37Yf-19h"
      }
    },
    {
      "cell_type": "code",
      "source": [
        "temperature = 60\n",
        "if temperature > 70:\n",
        "  print(\"It's warm outside!\")\n",
        "else:\n",
        "  print(\"It's cool outside.\")"
      ],
      "metadata": {
        "id": "sWoQDco0-4aZ",
        "outputId": "72aa3e9e-928b-4e08-80ce-7ffc9b83a07e",
        "colab": {
          "base_uri": "https://localhost:8080/"
        }
      },
      "execution_count": 13,
      "outputs": [
        {
          "output_type": "stream",
          "name": "stdout",
          "text": [
            "It's cool outside.\n"
          ]
        }
      ]
    },
    {
      "cell_type": "markdown",
      "source": [
        "### Question #10 (**Code**)\n",
        "Write a function that categorizes a person based on their age: “Child” if under 13, “Teenager” if between 13 and 19, and “Adult” if 20 or older. Add type hints!"
      ],
      "metadata": {
        "id": "WCSGDQ7rYfr8"
      }
    },
    {
      "cell_type": "code",
      "source": [
        "def categorize_age(age: int) -> str:\n",
        "  if age < 13:\n",
        "    return 'Child'\n",
        "  elif 13 <= age <=19:\n",
        "    return 'Teenager'\n",
        "  else:\n",
        "    return 'Adult'\n",
        "\n",
        "print(categorize_age(20))\n",
        "print(categorize_age(15))\n",
        "print(categorize_age(11))"
      ],
      "metadata": {
        "id": "OArt6UZSY8il",
        "outputId": "22792a52-128b-4083-897d-757fadfff762",
        "colab": {
          "base_uri": "https://localhost:8080/"
        }
      },
      "execution_count": 14,
      "outputs": [
        {
          "output_type": "stream",
          "name": "stdout",
          "text": [
            "Adult\n",
            "Teenager\n",
            "Child\n"
          ]
        }
      ]
    },
    {
      "cell_type": "markdown",
      "source": [
        "### Question #11 (**Code**)\n",
        "Add type hints to the following function\n"
      ],
      "metadata": {
        "id": "pp83nfkpA-8H"
      }
    },
    {
      "cell_type": "code",
      "source": [
        "def divide(x: int | float, y: int | float) -> float:\n",
        "  return x / y\n",
        "\n",
        "print(divide(10, 2))"
      ],
      "metadata": {
        "id": "S3xS2w4mBFTy",
        "outputId": "b0e72a53-d79a-4d1f-dd37-eedda469de75",
        "colab": {
          "base_uri": "https://localhost:8080/"
        }
      },
      "execution_count": 16,
      "outputs": [
        {
          "output_type": "stream",
          "name": "stdout",
          "text": [
            "5.0\n"
          ]
        }
      ]
    },
    {
      "cell_type": "markdown",
      "source": [
        "### Question #12 (**Code**)\n",
        "Using the functions `sum` and `len`, write a function that takes a list of numbers and returns their average. Hint: applying `sum` to a list will add all of the elements of the list. Applying `len` to a list returns the number of elements in the list."
      ],
      "metadata": {
        "id": "zNdSPxetZomt"
      }
    },
    {
      "cell_type": "code",
      "source": [
        "def average(numbers: list) -> float:\n",
        "  return sum(numbers) / len(numbers)\n",
        "\n",
        "print(average([1, 3, 5]))"
      ],
      "metadata": {
        "id": "R8jp1DmUaB8S",
        "outputId": "7ada4c00-4c29-419f-ac14-17d399576215",
        "colab": {
          "base_uri": "https://localhost:8080/"
        }
      },
      "execution_count": 18,
      "outputs": [
        {
          "output_type": "stream",
          "name": "stdout",
          "text": [
            "3.0\n"
          ]
        }
      ]
    },
    {
      "cell_type": "markdown",
      "source": [
        "### Question #13 (**Code**)\n",
        "Using a for-loop, write a function that takes a list of numbers and returns their average."
      ],
      "metadata": {
        "id": "Pevr3e89amNh"
      }
    },
    {
      "cell_type": "code",
      "source": [
        "def average(numbers: list) -> float:\n",
        "  val = 0\n",
        "  for i in numbers:\n",
        "    val = val + i\n",
        "  return val / len(numbers)\n",
        "print(average([1, 3, 5]))"
      ],
      "metadata": {
        "id": "wfKcWXf7ayRJ",
        "outputId": "51bbcec7-0271-47bb-ca4e-62c5e2d9fb1e",
        "colab": {
          "base_uri": "https://localhost:8080/"
        }
      },
      "execution_count": 19,
      "outputs": [
        {
          "output_type": "stream",
          "name": "stdout",
          "text": [
            "3.0\n"
          ]
        }
      ]
    },
    {
      "cell_type": "markdown",
      "source": [
        "### Question #14 (**Code**)\n",
        "Create a list of your top three favorite colors and print the second color from the list."
      ],
      "metadata": {
        "id": "cxIGIGG9ZcGf"
      }
    },
    {
      "cell_type": "code",
      "source": [
        "my_fav_colors = ['purple', 'green', 'gold']\n",
        "print(\"My second favorite color is\", my_fav_colors[1])"
      ],
      "metadata": {
        "id": "FjeayOSgZg3l",
        "outputId": "1836ec33-a6a4-4172-8d06-aaff9a775cd7",
        "colab": {
          "base_uri": "https://localhost:8080/"
        }
      },
      "execution_count": 21,
      "outputs": [
        {
          "output_type": "stream",
          "name": "stdout",
          "text": [
            "My second favorite color is green\n"
          ]
        }
      ]
    },
    {
      "cell_type": "markdown",
      "source": [
        "### Question #15 (**Code**)\n",
        "Write a piece of code that checks if a person is eligible for a discount. The discount is available if the person is either a senior citizen (age 65 or older) or a member of the club. Print “Eligible for discount” if they qualify, otherwise print “Not eligible for discount.”"
      ],
      "metadata": {
        "id": "TYT5r8ltdiYs"
      }
    },
    {
      "cell_type": "code",
      "source": [
        "def eligible_for_discount(age, is_member_of_club):\n",
        "  pass"
      ],
      "metadata": {
        "id": "QDHh4rMPdmnw"
      },
      "execution_count": null,
      "outputs": []
    },
    {
      "cell_type": "markdown",
      "source": [
        "### Question #16 (**Code**)\n",
        "A user inputs their weight in kilograms as a string (e.g., \"70.5\"). Write a program that converts this input into a float and calculates the weight in grams. Print the result with a message."
      ],
      "metadata": {
        "id": "1X8TORqAcumI"
      }
    },
    {
      "cell_type": "code",
      "source": [],
      "metadata": {
        "id": "LXBfqJIqcxXo"
      },
      "execution_count": null,
      "outputs": []
    },
    {
      "cell_type": "markdown",
      "source": [
        "### Question #17 (**Code**)\n",
        "Write a function that calculates the percentage grade of a student given the points earned and the total points possible."
      ],
      "metadata": {
        "id": "UJ6V8c1oY45g"
      }
    },
    {
      "cell_type": "code",
      "source": [],
      "metadata": {
        "id": "hP7sHy_GB2Vr"
      },
      "execution_count": null,
      "outputs": []
    },
    {
      "cell_type": "markdown",
      "source": [
        "### Question #18 (**Code**)\n",
        "Write a piece of code that iterates through a list of words and prints only the words that start with the letter ‘a’."
      ],
      "metadata": {
        "id": "eeYV8yBde6_v"
      }
    },
    {
      "cell_type": "code",
      "source": [],
      "metadata": {
        "id": "ntGEk5rQe9b7"
      },
      "execution_count": null,
      "outputs": []
    },
    {
      "cell_type": "markdown",
      "source": [
        "### Question #19 (**Code**)\n",
        "Write a piece of code that checks the temperature of water and prints whether it’s “Frozen” if below 0°C, “Boiling” if above 100°C, or “Liquid” otherwise."
      ],
      "metadata": {
        "id": "0RvZN5rDYqb2"
      }
    },
    {
      "cell_type": "code",
      "source": [],
      "metadata": {
        "id": "9xz4HcttY7be"
      },
      "execution_count": null,
      "outputs": []
    },
    {
      "cell_type": "markdown",
      "source": [
        "### Question #20 (**Code**):\n",
        "Write a function that takes in two variables and raises one to the power of the other variable.\n"
      ],
      "metadata": {
        "id": "vb2h3cBlCG1J"
      }
    },
    {
      "cell_type": "code",
      "execution_count": null,
      "metadata": {
        "id": "jvNgRDwYByoM"
      },
      "outputs": [],
      "source": []
    },
    {
      "cell_type": "markdown",
      "source": [
        "### Question #21 (**Code**)\n",
        "A student passes the course if they have both a passing grade of 50 or above and have attended at least 75% of classes. Write a piece of code that checks if the student passes the course and prints “Pass” if true, otherwise print \"Good Try!”."
      ],
      "metadata": {
        "id": "uK7NY5qIdzPD"
      }
    },
    {
      "cell_type": "code",
      "source": [],
      "metadata": {
        "id": "tbeRrWgkd5CJ"
      },
      "execution_count": null,
      "outputs": []
    },
    {
      "cell_type": "markdown",
      "source": [
        "### Question #22 (**Code**)\n",
        "\n",
        " You have a float representing a price, such as 19.99. Write a piece of code that converts this price to an integer and prints a message indicating the whole dollar amount without cents."
      ],
      "metadata": {
        "id": "Dlbonj8Wc41M"
      }
    },
    {
      "cell_type": "code",
      "source": [],
      "metadata": {
        "id": "fk9WU7uxCl1C"
      },
      "execution_count": null,
      "outputs": []
    },
    {
      "cell_type": "markdown",
      "source": [
        "### Question #23 (**Code**)\n",
        "Write a function that takes a first name, middle name, and last name, and returns the full name. If the middle name is an empty string, it should be excluded from the full name."
      ],
      "metadata": {
        "id": "Iv6c1h4-Vs4A"
      }
    },
    {
      "cell_type": "code",
      "source": [
        "# Your code here\n",
        "def full_name(first, middle, last):\n",
        "    pass  # Implement the function"
      ],
      "metadata": {
        "id": "Kt8QAE0qCNdL"
      },
      "execution_count": null,
      "outputs": []
    },
    {
      "cell_type": "markdown",
      "source": [
        "### Question #24 (**Code**)\n",
        "Write a piece of code to check if a product is available for purchase. A product is available if it is both in stock (in_stock = True) and not expired (expired = False). Print “Available for purchase” if both conditions are met; otherwise, print “Not available for purchase.”"
      ],
      "metadata": {
        "id": "dhiTM_FdeFaN"
      }
    },
    {
      "cell_type": "code",
      "source": [],
      "metadata": {
        "id": "e3KUwK7Zn8b_"
      },
      "execution_count": null,
      "outputs": []
    },
    {
      "cell_type": "markdown",
      "source": [
        "### Question #25 (**Code**)\n",
        "\n",
        "Write a piece of code that iterates through a list of integers and counts how many of them are positive. Print the total count at the end."
      ],
      "metadata": {
        "id": "NSQt-7cRehlS"
      }
    },
    {
      "cell_type": "code",
      "source": [],
      "metadata": {
        "id": "-ner0EmGCt2u"
      },
      "execution_count": null,
      "outputs": []
    },
    {
      "cell_type": "markdown",
      "source": [
        "### Question #26 (**Optional**)\n",
        "\n",
        "What can you infer about the `print` function from the following piece of code?\n",
        "```\n",
        "a = 1\n",
        "print(type(a))        # Output: <class 'int'>\n",
        "print(type(a) == int) # Output: True\n",
        "```"
      ],
      "metadata": {
        "id": "AWEdFA3H71j_"
      }
    }
  ]
}