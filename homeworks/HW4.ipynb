{
  "nbformat": 4,
  "nbformat_minor": 0,
  "metadata": {
    "colab": {
      "provenance": [],
      "authorship_tag": "ABX9TyPmsC1Zq4ruCPtko4SvlJHj",
      "include_colab_link": true
    },
    "kernelspec": {
      "name": "python3",
      "display_name": "Python 3"
    },
    "language_info": {
      "name": "python"
    }
  },
  "cells": [
    {
      "cell_type": "markdown",
      "metadata": {
        "id": "view-in-github",
        "colab_type": "text"
      },
      "source": [
        "<a href=\"https://colab.research.google.com/github/pharringtonp19/business-analytics/blob/main/homeworks/HW4.ipynb\" target=\"_parent\"><img src=\"https://colab.research.google.com/assets/colab-badge.svg\" alt=\"Open In Colab\"/></a>"
      ]
    },
    {
      "cell_type": "code",
      "source": [
        "!git clone https://github.com/pharringtonp19/business-analytics.git"
      ],
      "metadata": {
        "colab": {
          "base_uri": "https://localhost:8080/"
        },
        "id": "L7xUaXDUoJyo",
        "outputId": "2b91eb87-6d51-4ca8-cc2d-3e14a5b6f158"
      },
      "execution_count": null,
      "outputs": [
        {
          "output_type": "stream",
          "name": "stdout",
          "text": [
            "fatal: destination path 'business-analytics' already exists and is not an empty directory.\n"
          ]
        }
      ]
    },
    {
      "cell_type": "code",
      "source": [
        "import pandas as pd\n",
        "import matplotlib.pyplot as plt\n",
        "import numpy as np\n",
        "pd.set_option('display.max_columns', None)"
      ],
      "metadata": {
        "id": "6hFq8Gq9oTti"
      },
      "execution_count": null,
      "outputs": []
    },
    {
      "cell_type": "markdown",
      "source": [
        "**NOTE**\n",
        "- Questions 1-10 use the WNBA dataset (**qs**)\n",
        "- Questions 11-21 use the Massachusetts Mortgage Application Dataset\n",
        "(**df**)\n",
        "- Questions 22-25 test basic Python knowledge"
      ],
      "metadata": {
        "id": "h6TmZii4SXdN"
      }
    },
    {
      "cell_type": "code",
      "source": [
        "qs = pd.read_csv('/content/business-analytics/datasets/sportsref_download.csv')\n",
        "df = pd.read_csv('/content/business-analytics/datasets/massachusetts_mortgages_2017.zip')"
      ],
      "metadata": {
        "colab": {
          "base_uri": "https://localhost:8080/"
        },
        "id": "iSxyB1igSW8U",
        "outputId": "8a4b70f1-4e8f-43da-bd15-9143d72a996a"
      },
      "execution_count": null,
      "outputs": [
        {
          "output_type": "stream",
          "name": "stderr",
          "text": [
            "<ipython-input-61-4cb1d2c3a676>:2: DtypeWarning: Columns (34,36,38,44) have mixed types. Specify dtype option on import or set low_memory=False.\n",
            "  df = pd.read_csv('/content/business-analytics/datasets/massachusetts_mortgages_2017.zip')\n"
          ]
        }
      ]
    },
    {
      "cell_type": "markdown",
      "source": [
        "### Question #1\n",
        "\n",
        "`qs.shape[0]` corresponds to which of the following?\n",
        "\n",
        "(A) The number of columns in the dataset\n",
        "\n",
        "(B) The number of variables in the dataset\n",
        "\n",
        "(C) The number of variables which are of type `str` in the dataset\n",
        "\n",
        "(D) The number of rows in the dataset\n",
        "\n",
        "(E) The number of variables which are of type `float` or `int`"
      ],
      "metadata": {
        "id": "Sqaz4EoHnkNy"
      }
    },
    {
      "cell_type": "markdown",
      "source": [
        "**Answer**:"
      ],
      "metadata": {
        "id": "29u0wk8VZZs2"
      }
    },
    {
      "cell_type": "markdown",
      "source": [
        "### Question #2\n",
        "\n",
        "What is the average number of offensive rebounds (**ORB**)?\n",
        "\n",
        "(A) 3.16\n",
        "\n",
        "(B) 12.1\n",
        "\n",
        "(C) -0.5\n",
        "\n",
        "(D) 0.74\n",
        "\n",
        "(E) 1.3\n",
        "\n"
      ],
      "metadata": {
        "id": "WoQZ8EIXTl7F"
      }
    },
    {
      "cell_type": "markdown",
      "source": [
        "**Answer**:"
      ],
      "metadata": {
        "id": "TnzJBdahZX4s"
      }
    },
    {
      "cell_type": "markdown",
      "source": [
        "### Question #3\n",
        "\n",
        "Describe the **sign** of the relationship between points and assists?\n",
        "\n",
        "(A) Positively Correlated\n",
        "\n",
        "(B) Negatively Correlated\n",
        "\n",
        "(C) Uncorrelated\n",
        "\n",
        "(D) Weakly correlated\n",
        "\n",
        "(E) Strongly correlated"
      ],
      "metadata": {
        "id": "qHCXLJGZUTn0"
      }
    },
    {
      "cell_type": "markdown",
      "source": [
        "**Answer**:"
      ],
      "metadata": {
        "id": "mobQQj-TZWHz"
      }
    },
    {
      "cell_type": "markdown",
      "source": [
        "### Question #4\n",
        "\n",
        "Which variable has a weaker relationship with points compared to the relationship between assists and points?\n",
        "\n",
        "(A) Turnovers (**TOV**)\n",
        "\n",
        "(B) Minutes (**MP.1**)\n",
        "\n",
        "(C) Rebounds (**TRB**)\n",
        "\n",
        "(D) Field Goal Percentage (**FG%**)\n",
        "\n",
        "(E) Free Throw Attemps (**FT**)"
      ],
      "metadata": {
        "id": "Vg5BCllSVZyV"
      }
    },
    {
      "cell_type": "markdown",
      "source": [
        "**Answer**:"
      ],
      "metadata": {
        "id": "ioNT8ZQ_ZOO5"
      }
    },
    {
      "cell_type": "markdown",
      "source": [
        "### Question #5\n",
        "\n",
        "Looking at a scatter plot of Three Point Percentage and Two Point Percentage, are there outliers in the data?\n",
        "\n",
        "(A) No, all the data is closely clumped together\n",
        "\n",
        "(B) Yes, all the data is closely clumped together\n",
        "\n",
        "(C) Yes, but only with respect to **3P%**\n",
        "\n",
        "(D) Yes, but only with respect to **2P%**\n",
        "\n",
        "(E) Yes, there are outlier values in both **3P%** and **2P%**"
      ],
      "metadata": {
        "id": "JNEQVZT6WrEk"
      }
    },
    {
      "cell_type": "markdown",
      "source": [
        "**Answer**:"
      ],
      "metadata": {
        "id": "ZPB8EF-5ZRFd"
      }
    },
    {
      "cell_type": "markdown",
      "source": [
        "### Question #6\n",
        "\n",
        "The relationship between minutes played per game (**MP.1**) and free throw attempts (**FTA**) can be described as which of the following?\n",
        "\n",
        "> A linear relationship is when two variables are connected in such a way that if one variable changes, the other changes by a consistent amount. If you plot this relationship on a graph, the points form a straight line. For example: If you earn \\$10 for every hour you work, then for each additional hour, you will always earn an extra \\$10. The more hours you work, the more money you make, and this increase follows a steady, predictable pattern.\n",
        "\n",
        "(A) linear\n",
        "\n",
        "(B) non-linear\n",
        "\n",
        "(C) symmetric\n",
        "\n",
        "(D) bi-modal\n",
        "\n",
        "(E) uniform"
      ],
      "metadata": {
        "id": "b60MYv2dX3zq"
      }
    },
    {
      "cell_type": "markdown",
      "source": [
        "### Question #7\n",
        "\n",
        "Explain the relationship between points and the dispersion of assists?\n",
        "\n",
        "(A) Constant\n",
        "\n",
        "(B) Increasing\n",
        "\n",
        "(C) Decreasing\n",
        "\n",
        "(D) No Relationship\n",
        "\n",
        "(E) Symmetric"
      ],
      "metadata": {
        "id": "nc-oiWkAnw9O"
      }
    },
    {
      "cell_type": "markdown",
      "source": [
        "**Answer**"
      ],
      "metadata": {
        "id": "WqRCH6iGoTz3"
      }
    },
    {
      "cell_type": "markdown",
      "source": [
        "### Question #8\n",
        "\n",
        "The distribution of Two Point Percentage (**2P%**) for players who play at least 15 minutes per game is\n",
        "\n",
        "(A) Symmetric, unimodal\n",
        "\n",
        "(B) Skew  left\n",
        "\n",
        "(C) Skew right\n",
        "\n",
        "(D) Uniform\n",
        "\n",
        "(E) Bimodal"
      ],
      "metadata": {
        "id": "cYqMP-Pf1LDg"
      }
    },
    {
      "cell_type": "markdown",
      "source": [
        "**Answer**:"
      ],
      "metadata": {
        "id": "Grz8qZ5W15v_"
      }
    },
    {
      "cell_type": "markdown",
      "source": [
        "### Question #9\n",
        "\n",
        "The distribution of Field Goal Percentage (**FG%**) for players who play at least 25 games (**G**) and average at least 0.1 Free Throw Attempts per game (**FTA**).\n",
        "\n",
        "(A) Symmetric, unimodal\n",
        "\n",
        "(B) Skew left\n",
        "\n",
        "(C) Skew right\n",
        "\n",
        "(D) Uniform\n",
        "\n",
        "(E) Bimodal"
      ],
      "metadata": {
        "id": "qQIhq3k119nD"
      }
    },
    {
      "cell_type": "markdown",
      "source": [
        "**Answer**"
      ],
      "metadata": {
        "id": "kz9spq8PHFst"
      }
    },
    {
      "cell_type": "markdown",
      "source": [
        "### Question #10\n",
        "\n",
        "The following line of code does which of the following?\n",
        "\n",
        "**Code**: `qs.groupby('Pos')['AST'].mean().sort_values()`\n",
        "\n",
        "(A) Randomly shuffles the rows of the DataFrame\n",
        "\n",
        "(B) Throws an error because we didn't tell Python was variable to sort by\n",
        "\n",
        "(C) Creates a DataFrame\n",
        "\n",
        "(D) Partitions the data by Assists and then computes the average position within each bin, sorting from lowest to highest.\n",
        "\n",
        "(E) Partitions the data by Position and then computes the average assist within each position, sorting from lowest to highest."
      ],
      "metadata": {
        "id": "g9M4oGKW7Se1"
      }
    },
    {
      "cell_type": "markdown",
      "source": [
        "**Answer**"
      ],
      "metadata": {
        "id": "kiglDs5c2QE1"
      }
    },
    {
      "cell_type": "markdown",
      "source": [
        "### Question #11\n",
        "\n",
        "The variables `loan_type_name` and `loan_amount_000s` are which of the following?\n",
        "\n",
        "**Note**: Two continuous variables can exhibit correlation, meaning they have a linear or statistical relationship. A categorical variable is said to be associated with a continuous variable if the average value of the continuous variable varies across the different categories of the categorical variable.\n",
        "\n",
        "(A) Both continuous variables and strongly correlated\n",
        "\n",
        "(B) Both categorical variables\n",
        "\n",
        "(C) Categorical and continuous respectively and associated\n",
        "\n",
        "(D) Continuous and categorical respectively and associated\n",
        "\n",
        "(E) Categorical and continuous respectively and not associated"
      ],
      "metadata": {
        "id": "FeSBA0qJonSz"
      }
    },
    {
      "cell_type": "markdown",
      "source": [
        "**Answer**:"
      ],
      "metadata": {
        "id": "jPnJSwKFs_Gd"
      }
    },
    {
      "cell_type": "markdown",
      "source": [
        "### Question #12\n",
        "\n",
        "The first column of the DataFrame generated by the following line of code tells us that most Hispanic or Latino applicants applied for which type of loans\n",
        "\n",
        "**Code**: `pd.crosstab(index=df['loan_type_name'], columns=df['applicant_ethnicity_name'], normalize='columns')`\n",
        "\n",
        "(A) Conventional\n",
        "\n",
        "(B) FHA-insured\n",
        "\n",
        "(C) FSA/RHS-guaranteed\n",
        "\n",
        "(D) VA-guaranteed\n",
        "\n",
        "(E) Not known"
      ],
      "metadata": {
        "id": "ymvb8a7mqqr6"
      }
    },
    {
      "cell_type": "markdown",
      "source": [
        "**Answer**:"
      ],
      "metadata": {
        "id": "d6ADm0_4s9E5"
      }
    },
    {
      "cell_type": "markdown",
      "source": [
        "### Question #13\n",
        "\n",
        "Approximately what fraction of the mortgage applications are overseen by HUD and classified as conventional loans?\n",
        "\n",
        "(A) 100%\n",
        "\n",
        "(B) 0%\n",
        "\n",
        "(C) 10%\n",
        "\n",
        "(D) 20%\n",
        "\n",
        "(E) 30%"
      ],
      "metadata": {
        "id": "IzkD0xx4ot7N"
      }
    },
    {
      "cell_type": "markdown",
      "source": [
        "**Answer**:"
      ],
      "metadata": {
        "id": "i6lB8ldxuMXR"
      }
    },
    {
      "cell_type": "markdown",
      "source": [
        "### Question #14\n",
        "\n",
        "Approximately how many applications had income greater than $200K?\n",
        "\n",
        "(A) 10,000\n",
        "\n",
        "(B) 5,000\n",
        "\n",
        "(C) 15,600\n",
        "\n",
        "(D) 17,200\n",
        "\n",
        "(E) 22,500"
      ],
      "metadata": {
        "id": "Ak4WgPCoqrej"
      }
    },
    {
      "cell_type": "markdown",
      "source": [
        "**Answer**:"
      ],
      "metadata": {
        "id": "fznUtCMIue89"
      }
    },
    {
      "cell_type": "markdown",
      "source": [
        "### Question #15\n",
        "\n",
        "We want to create a table which shows the difference in the average loan amount between applicants earning at least \\$200K and those earning less than \\$200K?\n",
        "\n",
        "**Code**:\n",
        "```\n",
        "df['More_than_200k'] = df['applicant_income_000s'].map(lambda x: #A)\n",
        "df.groupby('More_than_200k')[#B]\n",
        "```\n",
        "\n",
        "\\#A and \\#B should be replace with which of the following?\n",
        "\n",
        "(A) `x`, `'More_than_200k'`\n",
        "\n",
        "(B) `x - df['loan_amount_000s'].mean()`, `'loan_amount_000s'`\n",
        "\n",
        "(C) `x > 300`, `'loan_amount_000s'`\n",
        "\n",
        "(D) `x < 200`, `'loan_amount_000s'`\n",
        "\n",
        "(E) `x- df['loan_amount_000s'].mean()`, `'More_than_200k'`"
      ],
      "metadata": {
        "id": "B7Sgtb-0sYds"
      }
    },
    {
      "cell_type": "markdown",
      "source": [
        "**Answer**"
      ],
      "metadata": {
        "id": "kJk7AHrjv-7a"
      }
    },
    {
      "cell_type": "markdown",
      "source": [
        "### Question #16\n",
        "\n",
        "The folllowing line of code would be correct if\n",
        "\n",
        "**code**: `df['loan_amount_000s', 'loan_purpose_name']`\n",
        "\n",
        "(A) df was capitalized. All DataFrames must be capitalized\n",
        "\n",
        "(B) `.loc` was used. As in, `df.loc['loan_amount_000s', 'loan_purpose_name']`\n",
        "\n",
        "(C) The numbers of rows were specified. As in `df[:30, loan_amount_000s', 'loan_purpose_name']`\n",
        "\n",
        "(D) A pair of `[]` was added. As in `df[['loan_amount_000s', 'loan_purpose_name']]`\n",
        "\n",
        "(E) The comma was replaced with a semicolon. As in `df['loan_amount_000s'; 'loan_purpose_name']`"
      ],
      "metadata": {
        "id": "nsU5kATRv9t0"
      }
    },
    {
      "cell_type": "markdown",
      "source": [
        "**Answer**:"
      ],
      "metadata": {
        "id": "-0PhxlAKxTo-"
      }
    },
    {
      "cell_type": "markdown",
      "source": [
        "### Question #17\n",
        "\n",
        "Specify how we could correct the following lines of code\n",
        "\n",
        "**Incorrect Code**\n",
        "```\n",
        "condition = df['agency_abbr'] == 'HUD'\n",
        "new_df = df['HUD']\n",
        "```\n",
        "\n",
        "(A) There should be only one equal sign in the first line. As in `condition = df['agency_abbr'] = 'HUD'`\n",
        "\n",
        "(B) 'HUD' in the first line should be replaced with `FDIC` becuase 'HUD' is not a value of `agency_abbr`. As in `condition = df['agency_abbr'] = 'FDIC'`\n",
        "\n",
        "(C) 'HUD' in the second line should be replaced with 'condition' because DataFrames can only be indexed by boolean strings. As in `new_df = df['condition']`\n",
        "\n",
        "(D) The `_df` should be removed from `new_df` because ending variables names with `_df` is an invalid naming convention in Python. As in `new = df['HUD']`\n",
        "\n",
        "(E) 'HUD' in the second line should be replaced with `condition`. As in `new_df = df[condition]`"
      ],
      "metadata": {
        "id": "I7S18Sd7xLXy"
      }
    },
    {
      "cell_type": "markdown",
      "source": [
        "**Answer**:"
      ],
      "metadata": {
        "id": "m5eOTcVvy8p1"
      }
    },
    {
      "cell_type": "markdown",
      "source": [
        "### Question #18:\n",
        "\n",
        "The following code doesn't do what the author intended. Can you spot the error?\n",
        "\n",
        "```\n",
        "condition = (df['loan_amount_000s'] >= 15)  & (df['applicant_income_000s'] >= 50)\n",
        "new_df = df[condition]\n",
        "plt.hist(new_df)\n",
        "plt.show()\n",
        "```\n",
        "\n",
        "(A) Plotting is not allowed in Python.\n",
        "\n",
        "(B) Continuous variables like `loan_amount_000s` and `'applicant_income_000s'` cannot be used to form a boolean index\n",
        "\n",
        "(C) `condition` is not a boolean series\n",
        "\n",
        "(D) `plt.hist` cannot be called on a DataFrame\n",
        "\n",
        "(E) `&` should be replaced by `and`"
      ],
      "metadata": {
        "id": "NRIICZjq3iUo"
      }
    },
    {
      "cell_type": "markdown",
      "source": [
        "**Answer**:"
      ],
      "metadata": {
        "id": "Dxr2ARXP4mt3"
      }
    },
    {
      "cell_type": "markdown",
      "source": [
        "### Question #19\n",
        "\n",
        "The following line of code does which of the following?\n",
        "\n",
        "```\n",
        "df.sort_by('applicant_income_000s')\n",
        "```\n",
        "\n",
        "(A) Randomly samples from the DataFrame\n",
        "\n",
        "(B) Drops the first 10 observations from the DataFrame\n",
        "\n",
        "(C) Computes the standard deviation of `applicant_income_000s`\n",
        "\n",
        "(D) Sorts the DataFrame by `applicant_income_000s` from lowest to highest\n",
        "\n",
        "(E) Sorts the DataFrame by `applicant_income_000s` from highest to lowest"
      ],
      "metadata": {
        "id": "Z4YJ0SbozNUT"
      }
    },
    {
      "cell_type": "markdown",
      "source": [
        "**Answer**:"
      ],
      "metadata": {
        "id": "xgcrErllHL_t"
      }
    },
    {
      "cell_type": "markdown",
      "source": [
        "### Question #20\n",
        "\n",
        "Conventional loans are which of the following in the mortgage dataset?\n",
        "\n",
        "(A) Under-represented\n",
        "\n",
        "(B) Over-represented\n",
        "\n",
        "(C) Fairly-represented\n",
        "\n",
        "(D) Have a bimodal distribution\n",
        "\n",
        "(E) Skew Left"
      ],
      "metadata": {
        "id": "YJokFKDE_my5"
      }
    },
    {
      "cell_type": "markdown",
      "source": [
        "**Answer**:"
      ],
      "metadata": {
        "id": "L1mBx_8qHN3r"
      }
    },
    {
      "cell_type": "markdown",
      "source": [
        "### Question #21\n",
        "\n",
        "The 50$^{th}$ percentile of `loan_amount_000s` is roughly equal to which of the following percentiles of `applicant_income_000s`?\n",
        "\n",
        "(A) 10$^{th}$ percentile\n",
        "\n",
        "(B) 50$^{th}$ percentile\n",
        "\n",
        "(C) 75$^{th}$ percentile\n",
        "\n",
        "(D) 85$^{th}$ percentile\n",
        "\n",
        "(E) 95$^{th}$ percentile"
      ],
      "metadata": {
        "id": "-Lk8IPwdATwF"
      }
    },
    {
      "cell_type": "markdown",
      "source": [
        "**Answer**:"
      ],
      "metadata": {
        "id": "Khl-VmXpHPkG"
      }
    },
    {
      "cell_type": "markdown",
      "source": [
        "### Question #22\n",
        "\n",
        "What will the following function `check_speed(sprinter_speed)` print if it is called with sprinter_speed = 10.1?\n",
        "\n",
        "```\n",
        "def check_speed(sprinter_speed):\n",
        "  if sprinter_speed < 9.58:\n",
        "    print(\"You are faster than Usain Bolt\")\n",
        "  if sprinter_speed < 9.79:\n",
        "    print(\"You are fast than Noah Lyes\")\n",
        "  elif sprinter_speed < 9.91:\n",
        "    print(\"You are faster than Oblique Seville\")\n",
        "```\n",
        "\n",
        "(A) “You are faster than Usain Bolt”\n",
        "\n",
        "(B) “You are faster than Noah Lyes”\n",
        "\n",
        "(C) \"You are faster than Oblique Seville\"\n",
        "\n",
        "(D) Nothing\n",
        "\n",
        "(E) “You are faster than Usain Bolt”\n",
        "“You are faster than Noah Lyes”"
      ],
      "metadata": {
        "id": "S2FD-KLiBm-_"
      }
    },
    {
      "cell_type": "markdown",
      "source": [
        "**Answer**:"
      ],
      "metadata": {
        "id": "wZZgyAUtHRVx"
      }
    },
    {
      "cell_type": "markdown",
      "source": [
        "### Question #23\n",
        "\n",
        "Given the following list\n",
        "\n",
        "`my_list = ['cars', 'boats', 'flipflops', 'airplanes', 'night', 'moon']`\n",
        "\n",
        "Which of the following is equivalent to `my_list[1:-1]`\n",
        "\n",
        "(A) `my_list[:-1]`\n",
        "\n",
        "(B) `my_list[2]`\n",
        "\n",
        "(C) `my_list[-5:5]`\n",
        "\n",
        "(D) `my_list[2,3,4,5]`\n",
        "\n",
        "(E) `my_list`"
      ],
      "metadata": {
        "id": "jC1j3onrEazJ"
      }
    },
    {
      "cell_type": "markdown",
      "source": [
        "**Answer**:"
      ],
      "metadata": {
        "id": "3NgHGm-hHS1n"
      }
    },
    {
      "cell_type": "markdown",
      "source": [
        "### Question #24\n",
        "\n",
        "Which of the following would improve the code below:\n",
        "\n",
        "```\n",
        "def greet(name):\n",
        "    return \"Hello\" + name + \"!\"\n",
        "```\n",
        "\n",
        "(A) Replace `+` with `,` in the return statement.\n",
        "\n",
        "(B) Remove the parentheses from the function definition.\n",
        "\n",
        "(C) Replace `def` with `lambda`. `lambda` is more efficient\n",
        "\n",
        "(D) Replace `\"Hello\"` with `\"Hello \"`\n",
        "\n",
        "(E) Change the Double Quotes to Single Quotes.\n",
        "\n"
      ],
      "metadata": {
        "id": "5SBwjYoCFSqN"
      }
    },
    {
      "cell_type": "markdown",
      "source": [
        "**Answer**:"
      ],
      "metadata": {
        "id": "-d7tLjEJHUrK"
      }
    },
    {
      "cell_type": "markdown",
      "source": [
        "### Question #25\n",
        "\n",
        "The following code will show which of the following:\n",
        "\n",
        "```\n",
        "x = 5\n",
        "y = 10\n",
        "x, y = y, x\n",
        "print(x, y)\n",
        "```\n",
        "\n",
        "(A) `5 10`\n",
        "\n",
        "(B) `510`\n",
        "\n",
        "(C) `55`\n",
        "\n",
        "(D) `10 5`\n",
        "\n",
        "(E) `105`"
      ],
      "metadata": {
        "id": "h9zZS0HGGbDD"
      }
    },
    {
      "cell_type": "markdown",
      "source": [
        "**Answer**:"
      ],
      "metadata": {
        "id": "cGKG8dqoHWQX"
      }
    },
    {
      "cell_type": "code",
      "source": [],
      "metadata": {
        "id": "FDmVODicHXKp"
      },
      "execution_count": null,
      "outputs": []
    }
  ]
}