{
  "nbformat": 4,
  "nbformat_minor": 0,
  "metadata": {
    "colab": {
      "provenance": [],
      "authorship_tag": "ABX9TyMGVse3Zki4yu2UfI+UX1NU",
      "include_colab_link": true
    },
    "kernelspec": {
      "name": "python3",
      "display_name": "Python 3"
    },
    "language_info": {
      "name": "python"
    }
  },
  "cells": [
    {
      "cell_type": "markdown",
      "metadata": {
        "id": "view-in-github",
        "colab_type": "text"
      },
      "source": [
        "<a href=\"https://colab.research.google.com/github/pharringtonp19/business-analytics/blob/main/notebooks/Data_Manipulation_One_Class.ipynb\" target=\"_parent\"><img src=\"https://colab.research.google.com/assets/colab-badge.svg\" alt=\"Open In Colab\"/></a>"
      ]
    },
    {
      "cell_type": "markdown",
      "source": [
        "### **Clone Business Analytics Repository**"
      ],
      "metadata": {
        "id": "RHY7dZPJmXsW"
      }
    },
    {
      "cell_type": "code",
      "execution_count": null,
      "metadata": {
        "colab": {
          "base_uri": "https://localhost:8080/"
        },
        "id": "dvUNb1wAjXAv",
        "outputId": "aeb016b5-4047-44ef-a273-1c9da5ea7fa9"
      },
      "outputs": [
        {
          "output_type": "stream",
          "name": "stdout",
          "text": [
            "fatal: destination path 'business-analytics' already exists and is not an empty directory.\n"
          ]
        }
      ],
      "source": [
        "!git clone https://github.com/pharringtonp19/business-analytics.git"
      ]
    },
    {
      "cell_type": "markdown",
      "source": [
        "### **Import Libraries**"
      ],
      "metadata": {
        "id": "4ddLLxwimwtM"
      }
    },
    {
      "cell_type": "code",
      "source": [
        "import pandas as pd\n",
        "import matplotlib.pyplot as plt"
      ],
      "metadata": {
        "id": "cqdSe_eUmuzd"
      },
      "execution_count": null,
      "outputs": []
    },
    {
      "cell_type": "markdown",
      "source": [
        "### **Read In the Dataset**"
      ],
      "metadata": {
        "id": "ezWbBQgGsJDy"
      }
    },
    {
      "cell_type": "code",
      "source": [
        "# Don't worry about understanding these lines of code!\n",
        "df = pd.read_excel(io='/content/business-analytics/datasets/Household_Debt_and_Credit.xlsx',\n",
        "                   sheet_name='Page 3 Data',\n",
        "                   skiprows=3)\n",
        "df = df.rename(columns={'Unnamed: 0' : 'Period'}) # Rename column\n",
        "df['Period'] = df['Period'].apply(lambda x: '20'+x[:2]+x[3:])\n",
        "df['Period'] = pd.PeriodIndex(df['Period'], freq='Q').astype('datetime64[ns]')"
      ],
      "metadata": {
        "id": "zt3jnjnfjY9N"
      },
      "execution_count": null,
      "outputs": []
    }
  ]
}