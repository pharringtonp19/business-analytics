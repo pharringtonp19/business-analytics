{
  "nbformat": 4,
  "nbformat_minor": 0,
  "metadata": {
    "colab": {
      "provenance": [],
      "authorship_tag": "ABX9TyN/ObE3icbH7VByLe/vAT6z",
      "include_colab_link": true
    },
    "kernelspec": {
      "name": "python3",
      "display_name": "Python 3"
    },
    "language_info": {
      "name": "python"
    }
  },
  "cells": [
    {
      "cell_type": "markdown",
      "metadata": {
        "id": "view-in-github",
        "colab_type": "text"
      },
      "source": [
        "<a href=\"https://colab.research.google.com/github/pharringtonp19/business-analytics/blob/main/notebooks/Data_Manipulation_Three.ipynb\" target=\"_parent\"><img src=\"https://colab.research.google.com/assets/colab-badge.svg\" alt=\"Open In Colab\"/></a>"
      ]
    },
    {
      "cell_type": "markdown",
      "source": [
        "### **Clone Business Analytics Repository**\n"
      ],
      "metadata": {
        "id": "36pSCJlhD75B"
      }
    },
    {
      "cell_type": "code",
      "source": [
        "!git clone https://github.com/pharringtonp19/business-analytics.git"
      ],
      "metadata": {
        "id": "UaLOOWYuD7Hh",
        "outputId": "41750926-a5fa-4e16-b473-921e01e6175e",
        "colab": {
          "base_uri": "https://localhost:8080/"
        }
      },
      "execution_count": 2,
      "outputs": [
        {
          "output_type": "stream",
          "name": "stdout",
          "text": [
            "Cloning into 'business-analytics'...\n",
            "remote: Enumerating objects: 404, done.\u001b[K\n",
            "remote: Counting objects: 100% (202/202), done.\u001b[K\n",
            "remote: Compressing objects: 100% (180/180), done.\u001b[K\n",
            "remote: Total 404 (delta 117), reused 28 (delta 18), pack-reused 202 (from 1)\u001b[K\n",
            "Receiving objects: 100% (404/404), 7.41 MiB | 7.41 MiB/s, done.\n",
            "Resolving deltas: 100% (207/207), done.\n"
          ]
        }
      ]
    },
    {
      "cell_type": "markdown",
      "source": [
        "### **Import Libraries**"
      ],
      "metadata": {
        "id": "XTzYjzHzEGqa"
      }
    },
    {
      "cell_type": "code",
      "source": [
        "import pandas as pd\n",
        "import numpy as np\n",
        "import matplotlib.pyplot as plt"
      ],
      "metadata": {
        "id": "xu_OOo_DEFWQ"
      },
      "execution_count": 3,
      "outputs": []
    },
    {
      "cell_type": "markdown",
      "source": [
        "### **A Function Without a Name**"
      ],
      "metadata": {
        "id": "nkJZXl7w3H-Q"
      }
    },
    {
      "cell_type": "code",
      "execution_count": null,
      "metadata": {
        "colab": {
          "base_uri": "https://localhost:8080/"
        },
        "id": "kZk7IVle3Gcg",
        "outputId": "d151b164-a10a-46bb-e6b9-9e04d61c4cd8"
      },
      "outputs": [
        {
          "output_type": "execute_result",
          "data": {
            "text/plain": [
              "<function __main__.<lambda>(x)>"
            ]
          },
          "metadata": {},
          "execution_count": 4
        }
      ],
      "source": [
        "lambda x: x**2"
      ]
    },
    {
      "cell_type": "code",
      "source": [
        "(lambda x: x**2)(4)"
      ],
      "metadata": {
        "colab": {
          "base_uri": "https://localhost:8080/"
        },
        "id": "fzAupNo-3Oau",
        "outputId": "487c8b6b-6909-4821-e716-90e0c06bf28b"
      },
      "execution_count": null,
      "outputs": [
        {
          "output_type": "execute_result",
          "data": {
            "text/plain": [
              "16"
            ]
          },
          "metadata": {},
          "execution_count": 5
        }
      ]
    },
    {
      "cell_type": "markdown",
      "source": [
        "### Map"
      ],
      "metadata": {
        "id": "-f9DSoC03gK3"
      }
    },
    {
      "cell_type": "code",
      "source": [
        "file_path = \"https://github.com/pharringtonp19/business-analytics/blob/main/datasets/atlanta_evictions.xls\""
      ],
      "metadata": {
        "id": "G4LBHCC5EU9r"
      },
      "execution_count": 11,
      "outputs": []
    },
    {
      "cell_type": "code",
      "source": [],
      "metadata": {
        "id": "RcwQbHSC3fqy"
      },
      "execution_count": null,
      "outputs": []
    },
    {
      "cell_type": "markdown",
      "source": [],
      "metadata": {
        "id": "8ZVVGu6i3HXF"
      }
    }
  ]
}