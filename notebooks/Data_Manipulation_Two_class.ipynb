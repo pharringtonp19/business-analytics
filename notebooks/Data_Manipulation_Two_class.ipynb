{
  "nbformat": 4,
  "nbformat_minor": 0,
  "metadata": {
    "colab": {
      "provenance": [],
      "authorship_tag": "ABX9TyO9HomuA/GCKMVM8z2s3Zhx",
      "include_colab_link": true
    },
    "kernelspec": {
      "name": "python3",
      "display_name": "Python 3"
    },
    "language_info": {
      "name": "python"
    }
  },
  "cells": [
    {
      "cell_type": "markdown",
      "metadata": {
        "id": "view-in-github",
        "colab_type": "text"
      },
      "source": [
        "<a href=\"https://colab.research.google.com/github/pharringtonp19/business-analytics/blob/main/notebooks/Data_Manipulation_Two_class.ipynb\" target=\"_parent\"><img src=\"https://colab.research.google.com/assets/colab-badge.svg\" alt=\"Open In Colab\"/></a>"
      ]
    },
    {
      "cell_type": "markdown",
      "source": [
        "### **Clone Business Analytics Repository**"
      ],
      "metadata": {
        "id": "RHY7dZPJmXsW"
      }
    },
    {
      "cell_type": "code",
      "execution_count": null,
      "metadata": {
        "colab": {
          "base_uri": "https://localhost:8080/"
        },
        "id": "dvUNb1wAjXAv",
        "outputId": "d6d38046-037c-4fd5-c558-0570024830e4"
      },
      "outputs": [
        {
          "output_type": "stream",
          "name": "stdout",
          "text": [
            "Cloning into 'business-analytics'...\n",
            "remote: Enumerating objects: 200, done.\u001b[K\n",
            "remote: Counting objects: 100% (200/200), done.\u001b[K\n",
            "remote: Compressing objects: 100% (156/156), done.\u001b[K\n",
            "remote: Total 200 (delta 91), reused 76 (delta 22), pack-reused 0 (from 0)\u001b[K\n",
            "Receiving objects: 100% (200/200), 5.32 MiB | 14.61 MiB/s, done.\n",
            "Resolving deltas: 100% (91/91), done.\n"
          ]
        }
      ],
      "source": [
        "!git clone https://github.com/pharringtonp19/business-analytics.git"
      ]
    },
    {
      "cell_type": "markdown",
      "source": [
        "### **Import Libraries**"
      ],
      "metadata": {
        "id": "4ddLLxwimwtM"
      }
    },
    {
      "cell_type": "code",
      "source": [
        "import pandas as pd\n",
        "import matplotlib.pyplot as plt\n",
        "import numpy as np\n",
        "pd.set_option('display.max_columns', None)"
      ],
      "metadata": {
        "id": "cqdSe_eUmuzd"
      },
      "execution_count": null,
      "outputs": []
    },
    {
      "cell_type": "markdown",
      "source": [
        "### **Read In the Dataset**"
      ],
      "metadata": {
        "id": "ezWbBQgGsJDy"
      }
    },
    {
      "cell_type": "code",
      "source": [
        "df = pd.read_csv('/content/business-analytics/datasets/massachusetts_mortgages_2017.zip')"
      ],
      "metadata": {
        "id": "zt3jnjnfjY9N",
        "colab": {
          "base_uri": "https://localhost:8080/"
        },
        "outputId": "afb06fe5-8340-4639-9478-dd4dd377ad64"
      },
      "execution_count": null,
      "outputs": [
        {
          "output_type": "stream",
          "name": "stderr",
          "text": [
            "<ipython-input-10-3a3a8047f5cf>:1: DtypeWarning: Columns (34,36,38,44) have mixed types. Specify dtype option on import or set low_memory=False.\n",
            "  df = pd.read_csv('/content/business-analytics/datasets/massachusetts_mortgages_2017.zip')\n"
          ]
        }
      ]
    }
  ]
}