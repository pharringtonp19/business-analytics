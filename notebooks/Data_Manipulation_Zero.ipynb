{
  "nbformat": 4,
  "nbformat_minor": 0,
  "metadata": {
    "colab": {
      "provenance": [],
      "authorship_tag": "ABX9TyPfeFAy/9lY63umGtorOAre",
      "include_colab_link": true
    },
    "kernelspec": {
      "name": "python3",
      "display_name": "Python 3"
    },
    "language_info": {
      "name": "python"
    }
  },
  "cells": [
    {
      "cell_type": "markdown",
      "metadata": {
        "id": "view-in-github",
        "colab_type": "text"
      },
      "source": [
        "<a href=\"https://colab.research.google.com/github/pharringtonp19/business-analytics/blob/main/notebooks/Data_Manipulation_Zero.ipynb\" target=\"_parent\"><img src=\"https://colab.research.google.com/assets/colab-badge.svg\" alt=\"Open In Colab\"/></a>"
      ]
    },
    {
      "cell_type": "markdown",
      "source": [
        "### **Creating a Pandas Dataframe**"
      ],
      "metadata": {
        "id": "_yKyqPgIM4ht"
      }
    },
    {
      "cell_type": "code",
      "execution_count": 9,
      "metadata": {
        "id": "TAVYMh1tCbto"
      },
      "outputs": [],
      "source": [
        "import pandas as pd\n",
        "import numpy as np\n",
        "\n",
        "# Creating a DataFrame with 4 columns and 5 rows filled with letters\n",
        "letters = np.array([['a', 'K', 'E', 'H'],\n",
        "       ['d', 'R', 'W', 'P'],\n",
        "       ['i', 'E', 'E', 'X'],\n",
        "       ['g', 'x', 'H', 'D'],\n",
        "       ['o', 'c', 'N', 'P']])\n",
        "df = pd.DataFrame(letters, columns=['Column1', 'Column2', 'Column3', 'Column4'])"
      ]
    }
  ]
}