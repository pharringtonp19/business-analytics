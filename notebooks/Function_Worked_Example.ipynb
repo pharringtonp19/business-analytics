{
  "nbformat": 4,
  "nbformat_minor": 0,
  "metadata": {
    "colab": {
      "provenance": [],
      "authorship_tag": "ABX9TyNIustqp7wCeem0uRtJGMyx",
      "include_colab_link": true
    },
    "kernelspec": {
      "name": "python3",
      "display_name": "Python 3"
    },
    "language_info": {
      "name": "python"
    }
  },
  "cells": [
    {
      "cell_type": "markdown",
      "metadata": {
        "id": "view-in-github",
        "colab_type": "text"
      },
      "source": [
        "<a href=\"https://colab.research.google.com/github/pharringtonp19/business-analytics/blob/main/notebooks/Function_Worked_Example.ipynb\" target=\"_parent\"><img src=\"https://colab.research.google.com/assets/colab-badge.svg\" alt=\"Open In Colab\"/></a>"
      ]
    },
    {
      "cell_type": "markdown",
      "source": [
        "### **Import Libraries**"
      ],
      "metadata": {
        "id": "huNrbr39RNM5"
      }
    },
    {
      "cell_type": "code",
      "execution_count": 1,
      "metadata": {
        "id": "P59fnEdIRJuO"
      },
      "outputs": [],
      "source": [
        "import yfinance as yf\n",
        "import pandas as pd\n",
        "import numpy as np\n",
        "import matplotlib.pyplot as plt"
      ]
    },
    {
      "cell_type": "markdown",
      "source": [
        "### **Download Data**"
      ],
      "metadata": {
        "id": "TDx5skidRQOH"
      }
    },
    {
      "cell_type": "code",
      "source": [
        "data = yf.download([\"AAPL\", \"MSFT\"], start=\"2000-01-01\", end = \"2024-09-10\")"
      ],
      "metadata": {
        "colab": {
          "base_uri": "https://localhost:8080/"
        },
        "id": "NnPIMbgyRMrL",
        "outputId": "a317d146-6f7d-4793-9a4a-9ee0ff70f4f2"
      },
      "execution_count": 2,
      "outputs": [
        {
          "output_type": "stream",
          "name": "stderr",
          "text": [
            "\r[                       0%                       ]\r[*********************100%***********************]  2 of 2 completed\n"
          ]
        }
      ]
    },
    {
      "cell_type": "markdown",
      "source": [
        "### **Check Object Type**"
      ],
      "metadata": {
        "id": "LLlRi8R6Rq-c"
      }
    },
    {
      "cell_type": "code",
      "source": [
        "type(data)"
      ],
      "metadata": {
        "colab": {
          "base_uri": "https://localhost:8080/",
          "height": 203
        },
        "id": "6sLwNwygRnYW",
        "outputId": "cf46085f-c7c6-4f8e-b40e-4ca55668e43e"
      },
      "execution_count": 3,
      "outputs": [
        {
          "output_type": "execute_result",
          "data": {
            "text/plain": [
              "pandas.core.frame.DataFrame"
            ],
            "text/html": [
              "<div style=\"max-width:800px; border: 1px solid var(--colab-border-color);\"><style>\n",
              "      pre.function-repr-contents {\n",
              "        overflow-x: auto;\n",
              "        padding: 8px 12px;\n",
              "        max-height: 500px;\n",
              "      }\n",
              "\n",
              "      pre.function-repr-contents.function-repr-contents-collapsed {\n",
              "        cursor: pointer;\n",
              "        max-height: 100px;\n",
              "      }\n",
              "    </style>\n",
              "    <pre style=\"white-space: initial; background:\n",
              "         var(--colab-secondary-surface-color); padding: 8px 12px;\n",
              "         border-bottom: 1px solid var(--colab-border-color);\"><b>pandas.core.frame.DataFrame</b><br/>def __init__(data=None, index: Axes | None=None, columns: Axes | None=None, dtype: Dtype | None=None, copy: bool | None=None) -&gt; None</pre><pre class=\"function-repr-contents function-repr-contents-collapsed\" style=\"\"><a class=\"filepath\" style=\"display:none\" href=\"#\">/usr/local/lib/python3.10/dist-packages/pandas/core/frame.py</a>Two-dimensional, size-mutable, potentially heterogeneous tabular data.\n",
              "\n",
              "Data structure also contains labeled axes (rows and columns).\n",
              "Arithmetic operations align on both row and column labels. Can be\n",
              "thought of as a dict-like container for Series objects. The primary\n",
              "pandas data structure.\n",
              "\n",
              "Parameters\n",
              "----------\n",
              "data : ndarray (structured or homogeneous), Iterable, dict, or DataFrame\n",
              "    Dict can contain Series, arrays, constants, dataclass or list-like objects. If\n",
              "    data is a dict, column order follows insertion-order. If a dict contains Series\n",
              "    which have an index defined, it is aligned by its index. This alignment also\n",
              "    occurs if data is a Series or a DataFrame itself. Alignment is done on\n",
              "    Series/DataFrame inputs.\n",
              "\n",
              "    If data is a list of dicts, column order follows insertion-order.\n",
              "\n",
              "index : Index or array-like\n",
              "    Index to use for resulting frame. Will default to RangeIndex if\n",
              "    no indexing information part of input data and no index provided.\n",
              "columns : Index or array-like\n",
              "    Column labels to use for resulting frame when data does not have them,\n",
              "    defaulting to RangeIndex(0, 1, 2, ..., n). If data contains column labels,\n",
              "    will perform column selection instead.\n",
              "dtype : dtype, default None\n",
              "    Data type to force. Only a single dtype is allowed. If None, infer.\n",
              "copy : bool or None, default None\n",
              "    Copy data from inputs.\n",
              "    For dict data, the default of None behaves like ``copy=True``.  For DataFrame\n",
              "    or 2d ndarray input, the default of None behaves like ``copy=False``.\n",
              "    If data is a dict containing one or more Series (possibly of different dtypes),\n",
              "    ``copy=False`` will ensure that these inputs are not copied.\n",
              "\n",
              "    .. versionchanged:: 1.3.0\n",
              "\n",
              "See Also\n",
              "--------\n",
              "DataFrame.from_records : Constructor from tuples, also record arrays.\n",
              "DataFrame.from_dict : From dicts of Series, arrays, or dicts.\n",
              "read_csv : Read a comma-separated values (csv) file into DataFrame.\n",
              "read_table : Read general delimited file into DataFrame.\n",
              "read_clipboard : Read text from clipboard into DataFrame.\n",
              "\n",
              "Notes\n",
              "-----\n",
              "Please reference the :ref:`User Guide &lt;basics.dataframe&gt;` for more information.\n",
              "\n",
              "Examples\n",
              "--------\n",
              "Constructing DataFrame from a dictionary.\n",
              "\n",
              "&gt;&gt;&gt; d = {&#x27;col1&#x27;: [1, 2], &#x27;col2&#x27;: [3, 4]}\n",
              "&gt;&gt;&gt; df = pd.DataFrame(data=d)\n",
              "&gt;&gt;&gt; df\n",
              "   col1  col2\n",
              "0     1     3\n",
              "1     2     4\n",
              "\n",
              "Notice that the inferred dtype is int64.\n",
              "\n",
              "&gt;&gt;&gt; df.dtypes\n",
              "col1    int64\n",
              "col2    int64\n",
              "dtype: object\n",
              "\n",
              "To enforce a single dtype:\n",
              "\n",
              "&gt;&gt;&gt; df = pd.DataFrame(data=d, dtype=np.int8)\n",
              "&gt;&gt;&gt; df.dtypes\n",
              "col1    int8\n",
              "col2    int8\n",
              "dtype: object\n",
              "\n",
              "Constructing DataFrame from a dictionary including Series:\n",
              "\n",
              "&gt;&gt;&gt; d = {&#x27;col1&#x27;: [0, 1, 2, 3], &#x27;col2&#x27;: pd.Series([2, 3], index=[2, 3])}\n",
              "&gt;&gt;&gt; pd.DataFrame(data=d, index=[0, 1, 2, 3])\n",
              "   col1  col2\n",
              "0     0   NaN\n",
              "1     1   NaN\n",
              "2     2   2.0\n",
              "3     3   3.0\n",
              "\n",
              "Constructing DataFrame from numpy ndarray:\n",
              "\n",
              "&gt;&gt;&gt; df2 = pd.DataFrame(np.array([[1, 2, 3], [4, 5, 6], [7, 8, 9]]),\n",
              "...                    columns=[&#x27;a&#x27;, &#x27;b&#x27;, &#x27;c&#x27;])\n",
              "&gt;&gt;&gt; df2\n",
              "   a  b  c\n",
              "0  1  2  3\n",
              "1  4  5  6\n",
              "2  7  8  9\n",
              "\n",
              "Constructing DataFrame from a numpy ndarray that has labeled columns:\n",
              "\n",
              "&gt;&gt;&gt; data = np.array([(1, 2, 3), (4, 5, 6), (7, 8, 9)],\n",
              "...                 dtype=[(&quot;a&quot;, &quot;i4&quot;), (&quot;b&quot;, &quot;i4&quot;), (&quot;c&quot;, &quot;i4&quot;)])\n",
              "&gt;&gt;&gt; df3 = pd.DataFrame(data, columns=[&#x27;c&#x27;, &#x27;a&#x27;])\n",
              "...\n",
              "&gt;&gt;&gt; df3\n",
              "   c  a\n",
              "0  3  1\n",
              "1  6  4\n",
              "2  9  7\n",
              "\n",
              "Constructing DataFrame from dataclass:\n",
              "\n",
              "&gt;&gt;&gt; from dataclasses import make_dataclass\n",
              "&gt;&gt;&gt; Point = make_dataclass(&quot;Point&quot;, [(&quot;x&quot;, int), (&quot;y&quot;, int)])\n",
              "&gt;&gt;&gt; pd.DataFrame([Point(0, 0), Point(0, 3), Point(2, 3)])\n",
              "   x  y\n",
              "0  0  0\n",
              "1  0  3\n",
              "2  2  3\n",
              "\n",
              "Constructing DataFrame from Series/DataFrame:\n",
              "\n",
              "&gt;&gt;&gt; ser = pd.Series([1, 2, 3], index=[&quot;a&quot;, &quot;b&quot;, &quot;c&quot;])\n",
              "&gt;&gt;&gt; df = pd.DataFrame(data=ser, index=[&quot;a&quot;, &quot;c&quot;])\n",
              "&gt;&gt;&gt; df\n",
              "   0\n",
              "a  1\n",
              "c  3\n",
              "\n",
              "&gt;&gt;&gt; df1 = pd.DataFrame([1, 2, 3], index=[&quot;a&quot;, &quot;b&quot;, &quot;c&quot;], columns=[&quot;x&quot;])\n",
              "&gt;&gt;&gt; df2 = pd.DataFrame(data=df1, index=[&quot;a&quot;, &quot;c&quot;])\n",
              "&gt;&gt;&gt; df2\n",
              "   x\n",
              "a  1\n",
              "c  3</pre>\n",
              "      <script>\n",
              "      if (google.colab.kernel.accessAllowed && google.colab.files && google.colab.files.view) {\n",
              "        for (const element of document.querySelectorAll('.filepath')) {\n",
              "          element.style.display = 'block'\n",
              "          element.onclick = (event) => {\n",
              "            event.preventDefault();\n",
              "            event.stopPropagation();\n",
              "            google.colab.files.view(element.textContent, 491);\n",
              "          };\n",
              "        }\n",
              "      }\n",
              "      for (const element of document.querySelectorAll('.function-repr-contents')) {\n",
              "        element.onclick = (event) => {\n",
              "          event.preventDefault();\n",
              "          event.stopPropagation();\n",
              "          element.classList.toggle('function-repr-contents-collapsed');\n",
              "        };\n",
              "      }\n",
              "      </script>\n",
              "      </div>"
            ]
          },
          "metadata": {},
          "execution_count": 3
        }
      ]
    },
    {
      "cell_type": "markdown",
      "source": [
        "### **Visualize Data**"
      ],
      "metadata": {
        "id": "3WrJtL74R9tY"
      }
    },
    {
      "cell_type": "code",
      "source": [
        "data.head()"
      ],
      "metadata": {
        "colab": {
          "base_uri": "https://localhost:8080/",
          "height": 269
        },
        "id": "osEN2aZXRlwE",
        "outputId": "152dc290-9a25-4594-8aa7-b99ad52ebe92"
      },
      "execution_count": 4,
      "outputs": [
        {
          "output_type": "execute_result",
          "data": {
            "text/plain": [
              "Price                     Adj Close                Close                High  \\\n",
              "Ticker                         AAPL       MSFT      AAPL      MSFT      AAPL   \n",
              "Date                                                                           \n",
              "2000-01-03 00:00:00+00:00  0.844004  35.935863  0.999442  58.28125  1.004464   \n",
              "2000-01-04 00:00:00+00:00  0.772846  34.721939  0.915179  56.31250  0.987723   \n",
              "2000-01-05 00:00:00+00:00  0.784155  35.088043  0.928571  56.90625  0.987165   \n",
              "2000-01-06 00:00:00+00:00  0.716296  33.912655  0.848214  55.00000  0.955357   \n",
              "2000-01-07 00:00:00+00:00  0.750226  34.355850  0.888393  55.71875  0.901786   \n",
              "\n",
              "Price                                    Low                Open            \\\n",
              "Ticker                        MSFT      AAPL      MSFT      AAPL      MSFT   \n",
              "Date                                                                         \n",
              "2000-01-03 00:00:00+00:00  59.3125  0.907924  56.00000  0.936384  58.68750   \n",
              "2000-01-04 00:00:00+00:00  58.5625  0.903460  56.12500  0.966518  56.78125   \n",
              "2000-01-05 00:00:00+00:00  58.1875  0.919643  54.68750  0.926339  55.56250   \n",
              "2000-01-06 00:00:00+00:00  56.9375  0.848214  54.18750  0.947545  56.09375   \n",
              "2000-01-07 00:00:00+00:00  56.1250  0.852679  53.65625  0.861607  54.31250   \n",
              "\n",
              "Price                         Volume            \n",
              "Ticker                          AAPL      MSFT  \n",
              "Date                                            \n",
              "2000-01-03 00:00:00+00:00  535796800  53228400  \n",
              "2000-01-04 00:00:00+00:00  512377600  54119000  \n",
              "2000-01-05 00:00:00+00:00  778321600  64059600  \n",
              "2000-01-06 00:00:00+00:00  767972800  54976600  \n",
              "2000-01-07 00:00:00+00:00  460734400  62013600  "
            ],
            "text/html": [
              "\n",
              "  <div id=\"df-e01d31c8-0995-40d5-953c-481d9949a9a2\" class=\"colab-df-container\">\n",
              "    <div>\n",
              "<style scoped>\n",
              "    .dataframe tbody tr th:only-of-type {\n",
              "        vertical-align: middle;\n",
              "    }\n",
              "\n",
              "    .dataframe tbody tr th {\n",
              "        vertical-align: top;\n",
              "    }\n",
              "\n",
              "    .dataframe thead tr th {\n",
              "        text-align: left;\n",
              "    }\n",
              "\n",
              "    .dataframe thead tr:last-of-type th {\n",
              "        text-align: right;\n",
              "    }\n",
              "</style>\n",
              "<table border=\"1\" class=\"dataframe\">\n",
              "  <thead>\n",
              "    <tr>\n",
              "      <th>Price</th>\n",
              "      <th colspan=\"2\" halign=\"left\">Adj Close</th>\n",
              "      <th colspan=\"2\" halign=\"left\">Close</th>\n",
              "      <th colspan=\"2\" halign=\"left\">High</th>\n",
              "      <th colspan=\"2\" halign=\"left\">Low</th>\n",
              "      <th colspan=\"2\" halign=\"left\">Open</th>\n",
              "      <th colspan=\"2\" halign=\"left\">Volume</th>\n",
              "    </tr>\n",
              "    <tr>\n",
              "      <th>Ticker</th>\n",
              "      <th>AAPL</th>\n",
              "      <th>MSFT</th>\n",
              "      <th>AAPL</th>\n",
              "      <th>MSFT</th>\n",
              "      <th>AAPL</th>\n",
              "      <th>MSFT</th>\n",
              "      <th>AAPL</th>\n",
              "      <th>MSFT</th>\n",
              "      <th>AAPL</th>\n",
              "      <th>MSFT</th>\n",
              "      <th>AAPL</th>\n",
              "      <th>MSFT</th>\n",
              "    </tr>\n",
              "    <tr>\n",
              "      <th>Date</th>\n",
              "      <th></th>\n",
              "      <th></th>\n",
              "      <th></th>\n",
              "      <th></th>\n",
              "      <th></th>\n",
              "      <th></th>\n",
              "      <th></th>\n",
              "      <th></th>\n",
              "      <th></th>\n",
              "      <th></th>\n",
              "      <th></th>\n",
              "      <th></th>\n",
              "    </tr>\n",
              "  </thead>\n",
              "  <tbody>\n",
              "    <tr>\n",
              "      <th>2000-01-03 00:00:00+00:00</th>\n",
              "      <td>0.844004</td>\n",
              "      <td>35.935863</td>\n",
              "      <td>0.999442</td>\n",
              "      <td>58.28125</td>\n",
              "      <td>1.004464</td>\n",
              "      <td>59.3125</td>\n",
              "      <td>0.907924</td>\n",
              "      <td>56.00000</td>\n",
              "      <td>0.936384</td>\n",
              "      <td>58.68750</td>\n",
              "      <td>535796800</td>\n",
              "      <td>53228400</td>\n",
              "    </tr>\n",
              "    <tr>\n",
              "      <th>2000-01-04 00:00:00+00:00</th>\n",
              "      <td>0.772846</td>\n",
              "      <td>34.721939</td>\n",
              "      <td>0.915179</td>\n",
              "      <td>56.31250</td>\n",
              "      <td>0.987723</td>\n",
              "      <td>58.5625</td>\n",
              "      <td>0.903460</td>\n",
              "      <td>56.12500</td>\n",
              "      <td>0.966518</td>\n",
              "      <td>56.78125</td>\n",
              "      <td>512377600</td>\n",
              "      <td>54119000</td>\n",
              "    </tr>\n",
              "    <tr>\n",
              "      <th>2000-01-05 00:00:00+00:00</th>\n",
              "      <td>0.784155</td>\n",
              "      <td>35.088043</td>\n",
              "      <td>0.928571</td>\n",
              "      <td>56.90625</td>\n",
              "      <td>0.987165</td>\n",
              "      <td>58.1875</td>\n",
              "      <td>0.919643</td>\n",
              "      <td>54.68750</td>\n",
              "      <td>0.926339</td>\n",
              "      <td>55.56250</td>\n",
              "      <td>778321600</td>\n",
              "      <td>64059600</td>\n",
              "    </tr>\n",
              "    <tr>\n",
              "      <th>2000-01-06 00:00:00+00:00</th>\n",
              "      <td>0.716296</td>\n",
              "      <td>33.912655</td>\n",
              "      <td>0.848214</td>\n",
              "      <td>55.00000</td>\n",
              "      <td>0.955357</td>\n",
              "      <td>56.9375</td>\n",
              "      <td>0.848214</td>\n",
              "      <td>54.18750</td>\n",
              "      <td>0.947545</td>\n",
              "      <td>56.09375</td>\n",
              "      <td>767972800</td>\n",
              "      <td>54976600</td>\n",
              "    </tr>\n",
              "    <tr>\n",
              "      <th>2000-01-07 00:00:00+00:00</th>\n",
              "      <td>0.750226</td>\n",
              "      <td>34.355850</td>\n",
              "      <td>0.888393</td>\n",
              "      <td>55.71875</td>\n",
              "      <td>0.901786</td>\n",
              "      <td>56.1250</td>\n",
              "      <td>0.852679</td>\n",
              "      <td>53.65625</td>\n",
              "      <td>0.861607</td>\n",
              "      <td>54.31250</td>\n",
              "      <td>460734400</td>\n",
              "      <td>62013600</td>\n",
              "    </tr>\n",
              "  </tbody>\n",
              "</table>\n",
              "</div>\n",
              "    <div class=\"colab-df-buttons\">\n",
              "\n",
              "  <div class=\"colab-df-container\">\n",
              "    <button class=\"colab-df-convert\" onclick=\"convertToInteractive('df-e01d31c8-0995-40d5-953c-481d9949a9a2')\"\n",
              "            title=\"Convert this dataframe to an interactive table.\"\n",
              "            style=\"display:none;\">\n",
              "\n",
              "  <svg xmlns=\"http://www.w3.org/2000/svg\" height=\"24px\" viewBox=\"0 -960 960 960\">\n",
              "    <path d=\"M120-120v-720h720v720H120Zm60-500h600v-160H180v160Zm220 220h160v-160H400v160Zm0 220h160v-160H400v160ZM180-400h160v-160H180v160Zm440 0h160v-160H620v160ZM180-180h160v-160H180v160Zm440 0h160v-160H620v160Z\"/>\n",
              "  </svg>\n",
              "    </button>\n",
              "\n",
              "  <style>\n",
              "    .colab-df-container {\n",
              "      display:flex;\n",
              "      gap: 12px;\n",
              "    }\n",
              "\n",
              "    .colab-df-convert {\n",
              "      background-color: #E8F0FE;\n",
              "      border: none;\n",
              "      border-radius: 50%;\n",
              "      cursor: pointer;\n",
              "      display: none;\n",
              "      fill: #1967D2;\n",
              "      height: 32px;\n",
              "      padding: 0 0 0 0;\n",
              "      width: 32px;\n",
              "    }\n",
              "\n",
              "    .colab-df-convert:hover {\n",
              "      background-color: #E2EBFA;\n",
              "      box-shadow: 0px 1px 2px rgba(60, 64, 67, 0.3), 0px 1px 3px 1px rgba(60, 64, 67, 0.15);\n",
              "      fill: #174EA6;\n",
              "    }\n",
              "\n",
              "    .colab-df-buttons div {\n",
              "      margin-bottom: 4px;\n",
              "    }\n",
              "\n",
              "    [theme=dark] .colab-df-convert {\n",
              "      background-color: #3B4455;\n",
              "      fill: #D2E3FC;\n",
              "    }\n",
              "\n",
              "    [theme=dark] .colab-df-convert:hover {\n",
              "      background-color: #434B5C;\n",
              "      box-shadow: 0px 1px 3px 1px rgba(0, 0, 0, 0.15);\n",
              "      filter: drop-shadow(0px 1px 2px rgba(0, 0, 0, 0.3));\n",
              "      fill: #FFFFFF;\n",
              "    }\n",
              "  </style>\n",
              "\n",
              "    <script>\n",
              "      const buttonEl =\n",
              "        document.querySelector('#df-e01d31c8-0995-40d5-953c-481d9949a9a2 button.colab-df-convert');\n",
              "      buttonEl.style.display =\n",
              "        google.colab.kernel.accessAllowed ? 'block' : 'none';\n",
              "\n",
              "      async function convertToInteractive(key) {\n",
              "        const element = document.querySelector('#df-e01d31c8-0995-40d5-953c-481d9949a9a2');\n",
              "        const dataTable =\n",
              "          await google.colab.kernel.invokeFunction('convertToInteractive',\n",
              "                                                    [key], {});\n",
              "        if (!dataTable) return;\n",
              "\n",
              "        const docLinkHtml = 'Like what you see? Visit the ' +\n",
              "          '<a target=\"_blank\" href=https://colab.research.google.com/notebooks/data_table.ipynb>data table notebook</a>'\n",
              "          + ' to learn more about interactive tables.';\n",
              "        element.innerHTML = '';\n",
              "        dataTable['output_type'] = 'display_data';\n",
              "        await google.colab.output.renderOutput(dataTable, element);\n",
              "        const docLink = document.createElement('div');\n",
              "        docLink.innerHTML = docLinkHtml;\n",
              "        element.appendChild(docLink);\n",
              "      }\n",
              "    </script>\n",
              "  </div>\n",
              "\n",
              "\n",
              "<div id=\"df-857dc510-cdbc-4e84-92a3-5225f3d48356\">\n",
              "  <button class=\"colab-df-quickchart\" onclick=\"quickchart('df-857dc510-cdbc-4e84-92a3-5225f3d48356')\"\n",
              "            title=\"Suggest charts\"\n",
              "            style=\"display:none;\">\n",
              "\n",
              "<svg xmlns=\"http://www.w3.org/2000/svg\" height=\"24px\"viewBox=\"0 0 24 24\"\n",
              "     width=\"24px\">\n",
              "    <g>\n",
              "        <path d=\"M19 3H5c-1.1 0-2 .9-2 2v14c0 1.1.9 2 2 2h14c1.1 0 2-.9 2-2V5c0-1.1-.9-2-2-2zM9 17H7v-7h2v7zm4 0h-2V7h2v10zm4 0h-2v-4h2v4z\"/>\n",
              "    </g>\n",
              "</svg>\n",
              "  </button>\n",
              "\n",
              "<style>\n",
              "  .colab-df-quickchart {\n",
              "      --bg-color: #E8F0FE;\n",
              "      --fill-color: #1967D2;\n",
              "      --hover-bg-color: #E2EBFA;\n",
              "      --hover-fill-color: #174EA6;\n",
              "      --disabled-fill-color: #AAA;\n",
              "      --disabled-bg-color: #DDD;\n",
              "  }\n",
              "\n",
              "  [theme=dark] .colab-df-quickchart {\n",
              "      --bg-color: #3B4455;\n",
              "      --fill-color: #D2E3FC;\n",
              "      --hover-bg-color: #434B5C;\n",
              "      --hover-fill-color: #FFFFFF;\n",
              "      --disabled-bg-color: #3B4455;\n",
              "      --disabled-fill-color: #666;\n",
              "  }\n",
              "\n",
              "  .colab-df-quickchart {\n",
              "    background-color: var(--bg-color);\n",
              "    border: none;\n",
              "    border-radius: 50%;\n",
              "    cursor: pointer;\n",
              "    display: none;\n",
              "    fill: var(--fill-color);\n",
              "    height: 32px;\n",
              "    padding: 0;\n",
              "    width: 32px;\n",
              "  }\n",
              "\n",
              "  .colab-df-quickchart:hover {\n",
              "    background-color: var(--hover-bg-color);\n",
              "    box-shadow: 0 1px 2px rgba(60, 64, 67, 0.3), 0 1px 3px 1px rgba(60, 64, 67, 0.15);\n",
              "    fill: var(--button-hover-fill-color);\n",
              "  }\n",
              "\n",
              "  .colab-df-quickchart-complete:disabled,\n",
              "  .colab-df-quickchart-complete:disabled:hover {\n",
              "    background-color: var(--disabled-bg-color);\n",
              "    fill: var(--disabled-fill-color);\n",
              "    box-shadow: none;\n",
              "  }\n",
              "\n",
              "  .colab-df-spinner {\n",
              "    border: 2px solid var(--fill-color);\n",
              "    border-color: transparent;\n",
              "    border-bottom-color: var(--fill-color);\n",
              "    animation:\n",
              "      spin 1s steps(1) infinite;\n",
              "  }\n",
              "\n",
              "  @keyframes spin {\n",
              "    0% {\n",
              "      border-color: transparent;\n",
              "      border-bottom-color: var(--fill-color);\n",
              "      border-left-color: var(--fill-color);\n",
              "    }\n",
              "    20% {\n",
              "      border-color: transparent;\n",
              "      border-left-color: var(--fill-color);\n",
              "      border-top-color: var(--fill-color);\n",
              "    }\n",
              "    30% {\n",
              "      border-color: transparent;\n",
              "      border-left-color: var(--fill-color);\n",
              "      border-top-color: var(--fill-color);\n",
              "      border-right-color: var(--fill-color);\n",
              "    }\n",
              "    40% {\n",
              "      border-color: transparent;\n",
              "      border-right-color: var(--fill-color);\n",
              "      border-top-color: var(--fill-color);\n",
              "    }\n",
              "    60% {\n",
              "      border-color: transparent;\n",
              "      border-right-color: var(--fill-color);\n",
              "    }\n",
              "    80% {\n",
              "      border-color: transparent;\n",
              "      border-right-color: var(--fill-color);\n",
              "      border-bottom-color: var(--fill-color);\n",
              "    }\n",
              "    90% {\n",
              "      border-color: transparent;\n",
              "      border-bottom-color: var(--fill-color);\n",
              "    }\n",
              "  }\n",
              "</style>\n",
              "\n",
              "  <script>\n",
              "    async function quickchart(key) {\n",
              "      const quickchartButtonEl =\n",
              "        document.querySelector('#' + key + ' button');\n",
              "      quickchartButtonEl.disabled = true;  // To prevent multiple clicks.\n",
              "      quickchartButtonEl.classList.add('colab-df-spinner');\n",
              "      try {\n",
              "        const charts = await google.colab.kernel.invokeFunction(\n",
              "            'suggestCharts', [key], {});\n",
              "      } catch (error) {\n",
              "        console.error('Error during call to suggestCharts:', error);\n",
              "      }\n",
              "      quickchartButtonEl.classList.remove('colab-df-spinner');\n",
              "      quickchartButtonEl.classList.add('colab-df-quickchart-complete');\n",
              "    }\n",
              "    (() => {\n",
              "      let quickchartButtonEl =\n",
              "        document.querySelector('#df-857dc510-cdbc-4e84-92a3-5225f3d48356 button');\n",
              "      quickchartButtonEl.style.display =\n",
              "        google.colab.kernel.accessAllowed ? 'block' : 'none';\n",
              "    })();\n",
              "  </script>\n",
              "</div>\n",
              "\n",
              "    </div>\n",
              "  </div>\n"
            ],
            "application/vnd.google.colaboratory.intrinsic+json": {
              "type": "dataframe",
              "variable_name": "data",
              "summary": "{\n  \"name\": \"data\",\n  \"rows\": 6209,\n  \"fields\": [\n    {\n      \"column\": [\n        \"Date\",\n        \"\"\n      ],\n      \"properties\": {\n        \"dtype\": \"date\",\n        \"min\": \"2000-01-03 00:00:00+00:00\",\n        \"max\": \"2024-09-06 00:00:00+00:00\",\n        \"num_unique_values\": 6209,\n        \"samples\": [\n          \"2014-04-16 00:00:00+00:00\",\n          \"2002-07-02 00:00:00+00:00\",\n          \"2017-11-03 00:00:00+00:00\"\n        ],\n        \"semantic_type\": \"\",\n        \"description\": \"\"\n      }\n    },\n    {\n      \"column\": [\n        \"Adj Close\",\n        \"AAPL\"\n      ],\n      \"properties\": {\n        \"dtype\": \"number\",\n        \"std\": 56.559106924989116,\n        \"min\": 0.19784873723983765,\n        \"max\": 234.54852294921875,\n        \"num_unique_values\": 5798,\n        \"samples\": [\n          21.531957626342773,\n          1.404543161392212,\n          0.45420679450035095\n        ],\n        \"semantic_type\": \"\",\n        \"description\": \"\"\n      }\n    },\n    {\n      \"column\": [\n        \"Adj Close\",\n        \"MSFT\"\n      ],\n      \"properties\": {\n        \"dtype\": \"number\",\n        \"std\": 105.19149459453435,\n        \"min\": 11.24317741394043,\n        \"max\": 466.7187805175781,\n        \"num_unique_values\": 5715,\n        \"samples\": [\n          274.8262939453125,\n          372.34503173828125,\n          21.923812866210938\n        ],\n        \"semantic_type\": \"\",\n        \"description\": \"\"\n      }\n    },\n    {\n      \"column\": [\n        \"Close\",\n        \"AAPL\"\n      ],\n      \"properties\": {\n        \"dtype\": \"number\",\n        \"std\": 56.818099700893,\n        \"min\": 0.23428599536418915,\n        \"max\": 234.82000732421875,\n        \"num_unique_values\": 5679,\n        \"samples\": [\n          1.8464289903640747,\n          1.14267897605896,\n          6.457499980926514\n        ],\n        \"semantic_type\": \"\",\n        \"description\": \"\"\n      }\n    },\n    {\n      \"column\": [\n        \"Close\",\n        \"MSFT\"\n      ],\n      \"properties\": {\n        \"dtype\": \"number\",\n        \"std\": 103.83995772706301,\n        \"min\": 15.149999618530273,\n        \"max\": 467.55999755859375,\n        \"num_unique_values\": 4096,\n        \"samples\": [\n          19.440000534057617,\n          15.270000457763672,\n          331.1600036621094\n        ],\n        \"semantic_type\": \"\",\n        \"description\": \"\"\n      }\n    },\n    {\n      \"column\": [\n        \"High\",\n        \"AAPL\"\n      ],\n      \"properties\": {\n        \"dtype\": \"number\",\n        \"std\": 57.38396534471669,\n        \"min\": 0.23553599417209625,\n        \"max\": 237.22999572753906,\n        \"num_unique_values\": 5581,\n        \"samples\": [\n          38.48500061035156,\n          166.1999969482422,\n          1.0245540142059326\n        ],\n        \"semantic_type\": \"\",\n        \"description\": \"\"\n      }\n    },\n    {\n      \"column\": [\n        \"High\",\n        \"MSFT\"\n      ],\n      \"properties\": {\n        \"dtype\": \"number\",\n        \"std\": 104.76944204817922,\n        \"min\": 15.619999885559082,\n        \"max\": 468.3500061035156,\n        \"num_unique_values\": 4041,\n        \"samples\": [\n          33.099998474121094,\n          32.875,\n          52.970001220703125\n        ],\n        \"semantic_type\": \"\",\n        \"description\": \"\"\n      }\n    },\n    {\n      \"column\": [\n        \"Low\",\n        \"AAPL\"\n      ],\n      \"properties\": {\n        \"dtype\": \"number\",\n        \"std\": 56.203085746170935,\n        \"min\": 0.22714300453662872,\n        \"max\": 233.08999633789062,\n        \"num_unique_values\": 5612,\n        \"samples\": [\n          137.69000244140625,\n          54.1875,\n          5.3889288902282715\n        ],\n        \"semantic_type\": \"\",\n        \"description\": \"\"\n      }\n    },\n    {\n      \"column\": [\n        \"Low\",\n        \"MSFT\"\n      ],\n      \"properties\": {\n        \"dtype\": \"number\",\n        \"std\": 102.80178967448728,\n        \"min\": 14.869999885559082,\n        \"max\": 464.4599914550781,\n        \"num_unique_values\": 4077,\n        \"samples\": [\n          44.86000061035156,\n          51.099998474121094,\n          20.704999923706055\n        ],\n        \"semantic_type\": \"\",\n        \"description\": \"\"\n      }\n    },\n    {\n      \"column\": [\n        \"Open\",\n        \"AAPL\"\n      ],\n      \"properties\": {\n        \"dtype\": \"number\",\n        \"std\": 56.77217987858547,\n        \"min\": 0.23196400701999664,\n        \"max\": 236.47999572753906,\n        \"num_unique_values\": 5669,\n        \"samples\": [\n          27.607500076293945,\n          173.6199951171875,\n          3.068213939666748\n        ],\n        \"semantic_type\": \"\",\n        \"description\": \"\"\n      }\n    },\n    {\n      \"column\": [\n        \"Open\",\n        \"MSFT\"\n      ],\n      \"properties\": {\n        \"dtype\": \"number\",\n        \"std\": 103.8263065414017,\n        \"min\": 15.199999809265137,\n        \"max\": 467.0,\n        \"num_unique_values\": 4111,\n        \"samples\": [\n          34.5625,\n          27.75,\n          27.184999465942383\n        ],\n        \"semantic_type\": \"\",\n        \"description\": \"\"\n      }\n    },\n    {\n      \"column\": [\n        \"Volume\",\n        \"AAPL\"\n      ],\n      \"properties\": {\n        \"dtype\": \"number\",\n        \"std\": 384246509,\n        \"min\": 24048300,\n        \"max\": 7421640800,\n        \"num_unique_values\": 6177,\n        \"samples\": [\n          524381200,\n          697037600,\n          182384000\n        ],\n        \"semantic_type\": \"\",\n        \"description\": \"\"\n      }\n    },\n    {\n      \"column\": [\n        \"Volume\",\n        \"MSFT\"\n      ],\n      \"properties\": {\n        \"dtype\": \"number\",\n        \"std\": 30744466,\n        \"min\": 7425600,\n        \"max\": 591052200,\n        \"num_unique_values\": 6180,\n        \"samples\": [\n          38686100,\n          78949500,\n          38472700\n        ],\n        \"semantic_type\": \"\",\n        \"description\": \"\"\n      }\n    }\n  ]\n}"
            }
          },
          "metadata": {},
          "execution_count": 4
        }
      ]
    },
    {
      "cell_type": "code",
      "source": [
        "data.tail()"
      ],
      "metadata": {
        "id": "1GqDlBY25EAs",
        "outputId": "dd92a8fc-c16a-4d28-f4b2-b87f0b762cd1",
        "colab": {
          "base_uri": "https://localhost:8080/",
          "height": 269
        }
      },
      "execution_count": 5,
      "outputs": [
        {
          "output_type": "execute_result",
          "data": {
            "text/plain": [
              "Price                       Adj Close                   Close              \\\n",
              "Ticker                           AAPL        MSFT        AAPL        MSFT   \n",
              "Date                                                                        \n",
              "2024-08-30 00:00:00+00:00  229.000000  417.140015  229.000000  417.140015   \n",
              "2024-09-03 00:00:00+00:00  222.770004  409.440002  222.770004  409.440002   \n",
              "2024-09-04 00:00:00+00:00  220.850006  408.899994  220.850006  408.899994   \n",
              "2024-09-05 00:00:00+00:00  222.380005  408.390015  222.380005  408.390015   \n",
              "2024-09-06 00:00:00+00:00  220.820007  401.700012  220.820007  401.700012   \n",
              "\n",
              "Price                            High                     Low              \\\n",
              "Ticker                           AAPL        MSFT        AAPL        MSFT   \n",
              "Date                                                                        \n",
              "2024-08-30 00:00:00+00:00  230.399994  417.489990  227.479996  412.130005   \n",
              "2024-09-03 00:00:00+00:00  229.000000  419.880005  221.169998  407.029999   \n",
              "2024-09-04 00:00:00+00:00  221.779999  411.239990  217.479996  404.369995   \n",
              "2024-09-05 00:00:00+00:00  225.479996  413.100006  221.520004  406.130005   \n",
              "2024-09-06 00:00:00+00:00  225.240005  410.649994  219.770004  400.799988   \n",
              "\n",
              "Price                            Open                Volume            \n",
              "Ticker                           AAPL        MSFT      AAPL      MSFT  \n",
              "Date                                                                   \n",
              "2024-08-30 00:00:00+00:00  230.190002  415.600006  52990800  24308300  \n",
              "2024-09-03 00:00:00+00:00  228.550003  417.910004  50190600  20313600  \n",
              "2024-09-04 00:00:00+00:00  221.660004  405.910004  43840200  15135800  \n",
              "2024-09-05 00:00:00+00:00  221.630005  407.619995  36615400  14195500  \n",
              "2024-09-06 00:00:00+00:00  223.949997  409.059998  48388600  19382200  "
            ],
            "text/html": [
              "\n",
              "  <div id=\"df-e28873a4-2ce7-4e4a-a35b-64645a2a89b9\" class=\"colab-df-container\">\n",
              "    <div>\n",
              "<style scoped>\n",
              "    .dataframe tbody tr th:only-of-type {\n",
              "        vertical-align: middle;\n",
              "    }\n",
              "\n",
              "    .dataframe tbody tr th {\n",
              "        vertical-align: top;\n",
              "    }\n",
              "\n",
              "    .dataframe thead tr th {\n",
              "        text-align: left;\n",
              "    }\n",
              "\n",
              "    .dataframe thead tr:last-of-type th {\n",
              "        text-align: right;\n",
              "    }\n",
              "</style>\n",
              "<table border=\"1\" class=\"dataframe\">\n",
              "  <thead>\n",
              "    <tr>\n",
              "      <th>Price</th>\n",
              "      <th colspan=\"2\" halign=\"left\">Adj Close</th>\n",
              "      <th colspan=\"2\" halign=\"left\">Close</th>\n",
              "      <th colspan=\"2\" halign=\"left\">High</th>\n",
              "      <th colspan=\"2\" halign=\"left\">Low</th>\n",
              "      <th colspan=\"2\" halign=\"left\">Open</th>\n",
              "      <th colspan=\"2\" halign=\"left\">Volume</th>\n",
              "    </tr>\n",
              "    <tr>\n",
              "      <th>Ticker</th>\n",
              "      <th>AAPL</th>\n",
              "      <th>MSFT</th>\n",
              "      <th>AAPL</th>\n",
              "      <th>MSFT</th>\n",
              "      <th>AAPL</th>\n",
              "      <th>MSFT</th>\n",
              "      <th>AAPL</th>\n",
              "      <th>MSFT</th>\n",
              "      <th>AAPL</th>\n",
              "      <th>MSFT</th>\n",
              "      <th>AAPL</th>\n",
              "      <th>MSFT</th>\n",
              "    </tr>\n",
              "    <tr>\n",
              "      <th>Date</th>\n",
              "      <th></th>\n",
              "      <th></th>\n",
              "      <th></th>\n",
              "      <th></th>\n",
              "      <th></th>\n",
              "      <th></th>\n",
              "      <th></th>\n",
              "      <th></th>\n",
              "      <th></th>\n",
              "      <th></th>\n",
              "      <th></th>\n",
              "      <th></th>\n",
              "    </tr>\n",
              "  </thead>\n",
              "  <tbody>\n",
              "    <tr>\n",
              "      <th>2024-08-30 00:00:00+00:00</th>\n",
              "      <td>229.000000</td>\n",
              "      <td>417.140015</td>\n",
              "      <td>229.000000</td>\n",
              "      <td>417.140015</td>\n",
              "      <td>230.399994</td>\n",
              "      <td>417.489990</td>\n",
              "      <td>227.479996</td>\n",
              "      <td>412.130005</td>\n",
              "      <td>230.190002</td>\n",
              "      <td>415.600006</td>\n",
              "      <td>52990800</td>\n",
              "      <td>24308300</td>\n",
              "    </tr>\n",
              "    <tr>\n",
              "      <th>2024-09-03 00:00:00+00:00</th>\n",
              "      <td>222.770004</td>\n",
              "      <td>409.440002</td>\n",
              "      <td>222.770004</td>\n",
              "      <td>409.440002</td>\n",
              "      <td>229.000000</td>\n",
              "      <td>419.880005</td>\n",
              "      <td>221.169998</td>\n",
              "      <td>407.029999</td>\n",
              "      <td>228.550003</td>\n",
              "      <td>417.910004</td>\n",
              "      <td>50190600</td>\n",
              "      <td>20313600</td>\n",
              "    </tr>\n",
              "    <tr>\n",
              "      <th>2024-09-04 00:00:00+00:00</th>\n",
              "      <td>220.850006</td>\n",
              "      <td>408.899994</td>\n",
              "      <td>220.850006</td>\n",
              "      <td>408.899994</td>\n",
              "      <td>221.779999</td>\n",
              "      <td>411.239990</td>\n",
              "      <td>217.479996</td>\n",
              "      <td>404.369995</td>\n",
              "      <td>221.660004</td>\n",
              "      <td>405.910004</td>\n",
              "      <td>43840200</td>\n",
              "      <td>15135800</td>\n",
              "    </tr>\n",
              "    <tr>\n",
              "      <th>2024-09-05 00:00:00+00:00</th>\n",
              "      <td>222.380005</td>\n",
              "      <td>408.390015</td>\n",
              "      <td>222.380005</td>\n",
              "      <td>408.390015</td>\n",
              "      <td>225.479996</td>\n",
              "      <td>413.100006</td>\n",
              "      <td>221.520004</td>\n",
              "      <td>406.130005</td>\n",
              "      <td>221.630005</td>\n",
              "      <td>407.619995</td>\n",
              "      <td>36615400</td>\n",
              "      <td>14195500</td>\n",
              "    </tr>\n",
              "    <tr>\n",
              "      <th>2024-09-06 00:00:00+00:00</th>\n",
              "      <td>220.820007</td>\n",
              "      <td>401.700012</td>\n",
              "      <td>220.820007</td>\n",
              "      <td>401.700012</td>\n",
              "      <td>225.240005</td>\n",
              "      <td>410.649994</td>\n",
              "      <td>219.770004</td>\n",
              "      <td>400.799988</td>\n",
              "      <td>223.949997</td>\n",
              "      <td>409.059998</td>\n",
              "      <td>48388600</td>\n",
              "      <td>19382200</td>\n",
              "    </tr>\n",
              "  </tbody>\n",
              "</table>\n",
              "</div>\n",
              "    <div class=\"colab-df-buttons\">\n",
              "\n",
              "  <div class=\"colab-df-container\">\n",
              "    <button class=\"colab-df-convert\" onclick=\"convertToInteractive('df-e28873a4-2ce7-4e4a-a35b-64645a2a89b9')\"\n",
              "            title=\"Convert this dataframe to an interactive table.\"\n",
              "            style=\"display:none;\">\n",
              "\n",
              "  <svg xmlns=\"http://www.w3.org/2000/svg\" height=\"24px\" viewBox=\"0 -960 960 960\">\n",
              "    <path d=\"M120-120v-720h720v720H120Zm60-500h600v-160H180v160Zm220 220h160v-160H400v160Zm0 220h160v-160H400v160ZM180-400h160v-160H180v160Zm440 0h160v-160H620v160ZM180-180h160v-160H180v160Zm440 0h160v-160H620v160Z\"/>\n",
              "  </svg>\n",
              "    </button>\n",
              "\n",
              "  <style>\n",
              "    .colab-df-container {\n",
              "      display:flex;\n",
              "      gap: 12px;\n",
              "    }\n",
              "\n",
              "    .colab-df-convert {\n",
              "      background-color: #E8F0FE;\n",
              "      border: none;\n",
              "      border-radius: 50%;\n",
              "      cursor: pointer;\n",
              "      display: none;\n",
              "      fill: #1967D2;\n",
              "      height: 32px;\n",
              "      padding: 0 0 0 0;\n",
              "      width: 32px;\n",
              "    }\n",
              "\n",
              "    .colab-df-convert:hover {\n",
              "      background-color: #E2EBFA;\n",
              "      box-shadow: 0px 1px 2px rgba(60, 64, 67, 0.3), 0px 1px 3px 1px rgba(60, 64, 67, 0.15);\n",
              "      fill: #174EA6;\n",
              "    }\n",
              "\n",
              "    .colab-df-buttons div {\n",
              "      margin-bottom: 4px;\n",
              "    }\n",
              "\n",
              "    [theme=dark] .colab-df-convert {\n",
              "      background-color: #3B4455;\n",
              "      fill: #D2E3FC;\n",
              "    }\n",
              "\n",
              "    [theme=dark] .colab-df-convert:hover {\n",
              "      background-color: #434B5C;\n",
              "      box-shadow: 0px 1px 3px 1px rgba(0, 0, 0, 0.15);\n",
              "      filter: drop-shadow(0px 1px 2px rgba(0, 0, 0, 0.3));\n",
              "      fill: #FFFFFF;\n",
              "    }\n",
              "  </style>\n",
              "\n",
              "    <script>\n",
              "      const buttonEl =\n",
              "        document.querySelector('#df-e28873a4-2ce7-4e4a-a35b-64645a2a89b9 button.colab-df-convert');\n",
              "      buttonEl.style.display =\n",
              "        google.colab.kernel.accessAllowed ? 'block' : 'none';\n",
              "\n",
              "      async function convertToInteractive(key) {\n",
              "        const element = document.querySelector('#df-e28873a4-2ce7-4e4a-a35b-64645a2a89b9');\n",
              "        const dataTable =\n",
              "          await google.colab.kernel.invokeFunction('convertToInteractive',\n",
              "                                                    [key], {});\n",
              "        if (!dataTable) return;\n",
              "\n",
              "        const docLinkHtml = 'Like what you see? Visit the ' +\n",
              "          '<a target=\"_blank\" href=https://colab.research.google.com/notebooks/data_table.ipynb>data table notebook</a>'\n",
              "          + ' to learn more about interactive tables.';\n",
              "        element.innerHTML = '';\n",
              "        dataTable['output_type'] = 'display_data';\n",
              "        await google.colab.output.renderOutput(dataTable, element);\n",
              "        const docLink = document.createElement('div');\n",
              "        docLink.innerHTML = docLinkHtml;\n",
              "        element.appendChild(docLink);\n",
              "      }\n",
              "    </script>\n",
              "  </div>\n",
              "\n",
              "\n",
              "<div id=\"df-c21ab615-2c97-4e7b-9759-cb8d7f47a67b\">\n",
              "  <button class=\"colab-df-quickchart\" onclick=\"quickchart('df-c21ab615-2c97-4e7b-9759-cb8d7f47a67b')\"\n",
              "            title=\"Suggest charts\"\n",
              "            style=\"display:none;\">\n",
              "\n",
              "<svg xmlns=\"http://www.w3.org/2000/svg\" height=\"24px\"viewBox=\"0 0 24 24\"\n",
              "     width=\"24px\">\n",
              "    <g>\n",
              "        <path d=\"M19 3H5c-1.1 0-2 .9-2 2v14c0 1.1.9 2 2 2h14c1.1 0 2-.9 2-2V5c0-1.1-.9-2-2-2zM9 17H7v-7h2v7zm4 0h-2V7h2v10zm4 0h-2v-4h2v4z\"/>\n",
              "    </g>\n",
              "</svg>\n",
              "  </button>\n",
              "\n",
              "<style>\n",
              "  .colab-df-quickchart {\n",
              "      --bg-color: #E8F0FE;\n",
              "      --fill-color: #1967D2;\n",
              "      --hover-bg-color: #E2EBFA;\n",
              "      --hover-fill-color: #174EA6;\n",
              "      --disabled-fill-color: #AAA;\n",
              "      --disabled-bg-color: #DDD;\n",
              "  }\n",
              "\n",
              "  [theme=dark] .colab-df-quickchart {\n",
              "      --bg-color: #3B4455;\n",
              "      --fill-color: #D2E3FC;\n",
              "      --hover-bg-color: #434B5C;\n",
              "      --hover-fill-color: #FFFFFF;\n",
              "      --disabled-bg-color: #3B4455;\n",
              "      --disabled-fill-color: #666;\n",
              "  }\n",
              "\n",
              "  .colab-df-quickchart {\n",
              "    background-color: var(--bg-color);\n",
              "    border: none;\n",
              "    border-radius: 50%;\n",
              "    cursor: pointer;\n",
              "    display: none;\n",
              "    fill: var(--fill-color);\n",
              "    height: 32px;\n",
              "    padding: 0;\n",
              "    width: 32px;\n",
              "  }\n",
              "\n",
              "  .colab-df-quickchart:hover {\n",
              "    background-color: var(--hover-bg-color);\n",
              "    box-shadow: 0 1px 2px rgba(60, 64, 67, 0.3), 0 1px 3px 1px rgba(60, 64, 67, 0.15);\n",
              "    fill: var(--button-hover-fill-color);\n",
              "  }\n",
              "\n",
              "  .colab-df-quickchart-complete:disabled,\n",
              "  .colab-df-quickchart-complete:disabled:hover {\n",
              "    background-color: var(--disabled-bg-color);\n",
              "    fill: var(--disabled-fill-color);\n",
              "    box-shadow: none;\n",
              "  }\n",
              "\n",
              "  .colab-df-spinner {\n",
              "    border: 2px solid var(--fill-color);\n",
              "    border-color: transparent;\n",
              "    border-bottom-color: var(--fill-color);\n",
              "    animation:\n",
              "      spin 1s steps(1) infinite;\n",
              "  }\n",
              "\n",
              "  @keyframes spin {\n",
              "    0% {\n",
              "      border-color: transparent;\n",
              "      border-bottom-color: var(--fill-color);\n",
              "      border-left-color: var(--fill-color);\n",
              "    }\n",
              "    20% {\n",
              "      border-color: transparent;\n",
              "      border-left-color: var(--fill-color);\n",
              "      border-top-color: var(--fill-color);\n",
              "    }\n",
              "    30% {\n",
              "      border-color: transparent;\n",
              "      border-left-color: var(--fill-color);\n",
              "      border-top-color: var(--fill-color);\n",
              "      border-right-color: var(--fill-color);\n",
              "    }\n",
              "    40% {\n",
              "      border-color: transparent;\n",
              "      border-right-color: var(--fill-color);\n",
              "      border-top-color: var(--fill-color);\n",
              "    }\n",
              "    60% {\n",
              "      border-color: transparent;\n",
              "      border-right-color: var(--fill-color);\n",
              "    }\n",
              "    80% {\n",
              "      border-color: transparent;\n",
              "      border-right-color: var(--fill-color);\n",
              "      border-bottom-color: var(--fill-color);\n",
              "    }\n",
              "    90% {\n",
              "      border-color: transparent;\n",
              "      border-bottom-color: var(--fill-color);\n",
              "    }\n",
              "  }\n",
              "</style>\n",
              "\n",
              "  <script>\n",
              "    async function quickchart(key) {\n",
              "      const quickchartButtonEl =\n",
              "        document.querySelector('#' + key + ' button');\n",
              "      quickchartButtonEl.disabled = true;  // To prevent multiple clicks.\n",
              "      quickchartButtonEl.classList.add('colab-df-spinner');\n",
              "      try {\n",
              "        const charts = await google.colab.kernel.invokeFunction(\n",
              "            'suggestCharts', [key], {});\n",
              "      } catch (error) {\n",
              "        console.error('Error during call to suggestCharts:', error);\n",
              "      }\n",
              "      quickchartButtonEl.classList.remove('colab-df-spinner');\n",
              "      quickchartButtonEl.classList.add('colab-df-quickchart-complete');\n",
              "    }\n",
              "    (() => {\n",
              "      let quickchartButtonEl =\n",
              "        document.querySelector('#df-c21ab615-2c97-4e7b-9759-cb8d7f47a67b button');\n",
              "      quickchartButtonEl.style.display =\n",
              "        google.colab.kernel.accessAllowed ? 'block' : 'none';\n",
              "    })();\n",
              "  </script>\n",
              "</div>\n",
              "\n",
              "    </div>\n",
              "  </div>\n"
            ],
            "application/vnd.google.colaboratory.intrinsic+json": {
              "type": "dataframe",
              "summary": "{\n  \"name\": \"data\",\n  \"rows\": 5,\n  \"fields\": [\n    {\n      \"column\": [\n        \"Date\",\n        \"\"\n      ],\n      \"properties\": {\n        \"dtype\": \"date\",\n        \"min\": \"2024-08-30 00:00:00+00:00\",\n        \"max\": \"2024-09-06 00:00:00+00:00\",\n        \"num_unique_values\": 5,\n        \"samples\": [\n          \"2024-09-03 00:00:00+00:00\",\n          \"2024-09-06 00:00:00+00:00\",\n          \"2024-09-04 00:00:00+00:00\"\n        ],\n        \"semantic_type\": \"\",\n        \"description\": \"\"\n      }\n    },\n    {\n      \"column\": [\n        \"Adj Close\",\n        \"AAPL\"\n      ],\n      \"properties\": {\n        \"dtype\": \"number\",\n        \"std\": 3.3792619902159835,\n        \"min\": 220.82000732421875,\n        \"max\": 229.0,\n        \"num_unique_values\": 5,\n        \"samples\": [\n          222.77000427246094,\n          220.82000732421875,\n          220.85000610351562\n        ],\n        \"semantic_type\": \"\",\n        \"description\": \"\"\n      }\n    },\n    {\n      \"column\": [\n        \"Adj Close\",\n        \"MSFT\"\n      ],\n      \"properties\": {\n        \"dtype\": \"number\",\n        \"std\": 5.4786028584931765,\n        \"min\": 401.70001220703125,\n        \"max\": 417.1400146484375,\n        \"num_unique_values\": 5,\n        \"samples\": [\n          409.44000244140625,\n          401.70001220703125,\n          408.8999938964844\n        ],\n        \"semantic_type\": \"\",\n        \"description\": \"\"\n      }\n    },\n    {\n      \"column\": [\n        \"Close\",\n        \"AAPL\"\n      ],\n      \"properties\": {\n        \"dtype\": \"number\",\n        \"std\": 3.3792619902159835,\n        \"min\": 220.82000732421875,\n        \"max\": 229.0,\n        \"num_unique_values\": 5,\n        \"samples\": [\n          222.77000427246094,\n          220.82000732421875,\n          220.85000610351562\n        ],\n        \"semantic_type\": \"\",\n        \"description\": \"\"\n      }\n    },\n    {\n      \"column\": [\n        \"Close\",\n        \"MSFT\"\n      ],\n      \"properties\": {\n        \"dtype\": \"number\",\n        \"std\": 5.4786028584931765,\n        \"min\": 401.70001220703125,\n        \"max\": 417.1400146484375,\n        \"num_unique_values\": 5,\n        \"samples\": [\n          409.44000244140625,\n          401.70001220703125,\n          408.8999938964844\n        ],\n        \"semantic_type\": \"\",\n        \"description\": \"\"\n      }\n    },\n    {\n      \"column\": [\n        \"High\",\n        \"AAPL\"\n      ],\n      \"properties\": {\n        \"dtype\": \"number\",\n        \"std\": 3.4019978440725995,\n        \"min\": 221.77999877929688,\n        \"max\": 230.39999389648438,\n        \"num_unique_values\": 5,\n        \"samples\": [\n          229.0,\n          225.24000549316406,\n          221.77999877929688\n        ],\n        \"semantic_type\": \"\",\n        \"description\": \"\"\n      }\n    },\n    {\n      \"column\": [\n        \"High\",\n        \"MSFT\"\n      ],\n      \"properties\": {\n        \"dtype\": \"number\",\n        \"std\": 4.040135112210365,\n        \"min\": 410.6499938964844,\n        \"max\": 419.8800048828125,\n        \"num_unique_values\": 5,\n        \"samples\": [\n          419.8800048828125,\n          410.6499938964844,\n          411.239990234375\n        ],\n        \"semantic_type\": \"\",\n        \"description\": \"\"\n      }\n    },\n    {\n      \"column\": [\n        \"Low\",\n        \"AAPL\"\n      ],\n      \"properties\": {\n        \"dtype\": \"number\",\n        \"std\": 3.708830334152358,\n        \"min\": 217.47999572753906,\n        \"max\": 227.47999572753906,\n        \"num_unique_values\": 5,\n        \"samples\": [\n          221.1699981689453,\n          219.77000427246094,\n          217.47999572753906\n        ],\n        \"semantic_type\": \"\",\n        \"description\": \"\"\n      }\n    },\n    {\n      \"column\": [\n        \"Low\",\n        \"MSFT\"\n      ],\n      \"properties\": {\n        \"dtype\": \"number\",\n        \"std\": 4.132477557765162,\n        \"min\": 400.79998779296875,\n        \"max\": 412.1300048828125,\n        \"num_unique_values\": 5,\n        \"samples\": [\n          407.0299987792969,\n          400.79998779296875,\n          404.3699951171875\n        ],\n        \"semantic_type\": \"\",\n        \"description\": \"\"\n      }\n    },\n    {\n      \"column\": [\n        \"Open\",\n        \"AAPL\"\n      ],\n      \"properties\": {\n        \"dtype\": \"number\",\n        \"std\": 3.9674145150941484,\n        \"min\": 221.6300048828125,\n        \"max\": 230.19000244140625,\n        \"num_unique_values\": 5,\n        \"samples\": [\n          228.5500030517578,\n          223.9499969482422,\n          221.66000366210938\n        ],\n        \"semantic_type\": \"\",\n        \"description\": \"\"\n      }\n    },\n    {\n      \"column\": [\n        \"Open\",\n        \"MSFT\"\n      ],\n      \"properties\": {\n        \"dtype\": \"number\",\n        \"std\": 5.238375446582418,\n        \"min\": 405.9100036621094,\n        \"max\": 417.9100036621094,\n        \"num_unique_values\": 5,\n        \"samples\": [\n          417.9100036621094,\n          409.05999755859375,\n          405.9100036621094\n        ],\n        \"semantic_type\": \"\",\n        \"description\": \"\"\n      }\n    },\n    {\n      \"column\": [\n        \"Volume\",\n        \"AAPL\"\n      ],\n      \"properties\": {\n        \"dtype\": \"number\",\n        \"std\": 6404152,\n        \"min\": 36615400,\n        \"max\": 52990800,\n        \"num_unique_values\": 5,\n        \"samples\": [\n          50190600,\n          48388600,\n          43840200\n        ],\n        \"semantic_type\": \"\",\n        \"description\": \"\"\n      }\n    },\n    {\n      \"column\": [\n        \"Volume\",\n        \"MSFT\"\n      ],\n      \"properties\": {\n        \"dtype\": \"number\",\n        \"std\": 4108246,\n        \"min\": 14195500,\n        \"max\": 24308300,\n        \"num_unique_values\": 5,\n        \"samples\": [\n          20313600,\n          19382200,\n          15135800\n        ],\n        \"semantic_type\": \"\",\n        \"description\": \"\"\n      }\n    }\n  ]\n}"
            }
          },
          "metadata": {},
          "execution_count": 5
        }
      ]
    },
    {
      "cell_type": "markdown",
      "source": [
        "### **Define Variables**"
      ],
      "metadata": {
        "id": "4Za48_jtSsmS"
      }
    },
    {
      "cell_type": "code",
      "source": [
        "apple_close = data[('Adj Close', 'AAPL')]\n",
        "microsoft_close = data[('Adj Close', 'MSFT')]"
      ],
      "metadata": {
        "id": "5a3uMz15SGXF"
      },
      "execution_count": 6,
      "outputs": []
    },
    {
      "cell_type": "markdown",
      "source": [
        "### **Plot Variables**"
      ],
      "metadata": {
        "id": "jvvlQd8ES3UQ"
      }
    },
    {
      "cell_type": "code",
      "source": [
        "plt.plot(apple_close, label='Apple')\n",
        "plt.plot(microsoft_close, label='Microsoft')\n",
        "plt.legend()\n",
        "plt.show()"
      ],
      "metadata": {
        "colab": {
          "base_uri": "https://localhost:8080/",
          "height": 430
        },
        "id": "DwlhwR0BS2is",
        "outputId": "30f547bc-2354-4a92-f2ca-c58348bd64cf"
      },
      "execution_count": 8,
      "outputs": [
        {
          "output_type": "display_data",
          "data": {
            "text/plain": [
              "<Figure size 640x480 with 1 Axes>"
            ],
            "image/png": "[encoded data removed]"
          },
          "metadata": {}
        }
      ]
    },
    {
      "cell_type": "markdown",
      "source": [
        "### **Scatter Plot**"
      ],
      "metadata": {
        "id": "uotfsfalTEEe"
      }
    },
    {
      "cell_type": "code",
      "source": [
        "plt.scatter(apple_close, microsoft_close, edgecolors='black')\n",
        "plt.xlabel(\"Apple\", size=14)\n",
        "plt.title('Microsoft', loc='left', size=14)\n",
        "plt.show()"
      ],
      "metadata": {
        "colab": {
          "base_uri": "https://localhost:8080/",
          "height": 478
        },
        "id": "e0vx7UF7SSRx",
        "outputId": "21d31e90-b295-418c-aadc-f3fe53ee8450"
      },
      "execution_count": null,
      "outputs": [
        {
          "output_type": "display_data",
          "data": {
            "text/plain": [
              "<Figure size 640x480 with 1 Axes>"
            ],
            "image/png": "[encoded data removed]"
          },
          "metadata": {}
        }
      ]
    },
    {
      "cell_type": "markdown",
      "source": [
        "### **Correlation Coefficient**\n",
        "\n",
        "Measures the strenght of the **linear** relationship between two variables\n",
        "  - 1 means perfect positive relationship\n",
        "  - -1 means perfect negative relationship\n",
        "  - 0 means no relationship\n",
        "\n",
        "$$\n",
        "\\frac{\\sum (X_i - \\overline{X})(Y_i - \\overline{Y})}{\\sqrt{\\sum (X_i - \\overline{X})^2 \\sum (Y_i - \\overline{Y})^2}}\n",
        "$$"
      ],
      "metadata": {
        "id": "_RUuWxBWVEfU"
      }
    },
    {
      "cell_type": "code",
      "source": [
        "np.corrcoef(apple_close, microsoft_close)[0,1]"
      ],
      "metadata": {
        "colab": {
          "base_uri": "https://localhost:8080/"
        },
        "id": "cvRzBh9TTJJk",
        "outputId": "edadb286-f405-461d-f9d0-558f21562231"
      },
      "execution_count": null,
      "outputs": [
        {
          "output_type": "execute_result",
          "data": {
            "text/plain": [
              "0.9877690290464556"
            ]
          },
          "metadata": {},
          "execution_count": 36
        }
      ]
    },
    {
      "cell_type": "markdown",
      "source": [
        "### **Defining a Function**"
      ],
      "metadata": {
        "id": "iUPr0vDzWZcy"
      }
    },
    {
      "cell_type": "code",
      "source": [
        "def stock_price_correlation(stock1_name, stock2_name, start_time, end_time):\n",
        "  # Download the data\n",
        "  data = yf.download([stock1_name, stock2_name], start=start_time, end=end_time)\n",
        "  stock1 = data[('Adj Close', stock1_name)]\n",
        "  stock2 = data[('Adj Close', stock2_name)]\n",
        "  return np.corrcoef(stock1, stock2)[0,1]"
      ],
      "metadata": {
        "id": "a34UbhQYWT--"
      },
      "execution_count": null,
      "outputs": []
    },
    {
      "cell_type": "markdown",
      "source": [
        "#### **Apple v.s. Microsoft**"
      ],
      "metadata": {
        "id": "d8tfwvvyXmmV"
      }
    },
    {
      "cell_type": "code",
      "source": [
        "stock_price_correlation('AAPL', 'MSFT', '2000-01-01', '2024-09-10')"
      ],
      "metadata": {
        "colab": {
          "base_uri": "https://localhost:8080/"
        },
        "id": "-sqhL7ZKXgib",
        "outputId": "c66367b9-7264-4522-dfe3-ea30dd593f74"
      },
      "execution_count": null,
      "outputs": [
        {
          "output_type": "stream",
          "name": "stderr",
          "text": [
            "[*********************100%***********************]  2 of 2 completed\n"
          ]
        },
        {
          "output_type": "execute_result",
          "data": {
            "text/plain": [
              "0.987769028461491"
            ]
          },
          "metadata": {},
          "execution_count": 39
        }
      ]
    },
    {
      "cell_type": "markdown",
      "source": [
        "#### **Apple v.s. Berkshire Hathaway**"
      ],
      "metadata": {
        "id": "gx5bpPwIYSy_"
      }
    },
    {
      "cell_type": "code",
      "source": [
        "stock_price_correlation('AAPL', 'BRK-B', '2000-01-01', '2024-09-10')"
      ],
      "metadata": {
        "colab": {
          "base_uri": "https://localhost:8080/"
        },
        "id": "Y0Kro3gOXjUM",
        "outputId": "b6588227-8bc5-4df8-e5f9-f056fb30b326"
      },
      "execution_count": null,
      "outputs": [
        {
          "output_type": "stream",
          "name": "stderr",
          "text": [
            "[*********************100%***********************]  2 of 2 completed\n"
          ]
        },
        {
          "output_type": "execute_result",
          "data": {
            "text/plain": [
              "0.9542457905911712"
            ]
          },
          "metadata": {},
          "execution_count": 42
        }
      ]
    },
    {
      "cell_type": "markdown",
      "source": [
        "#### **Apple v.s. Duke Energy**"
      ],
      "metadata": {
        "id": "_6OyhlCTZyV4"
      }
    },
    {
      "cell_type": "code",
      "source": [
        "stock_price_correlation('AAPL', 'DUK', '2000-01-01', '2024-09-10')"
      ],
      "metadata": {
        "colab": {
          "base_uri": "https://localhost:8080/"
        },
        "id": "hTY_krmUYLPy",
        "outputId": "e1083230-85e7-4e3e-e20f-1f4fddefde57"
      },
      "execution_count": null,
      "outputs": [
        {
          "output_type": "stream",
          "name": "stderr",
          "text": [
            "[*********************100%***********************]  2 of 2 completed\n"
          ]
        },
        {
          "output_type": "execute_result",
          "data": {
            "text/plain": [
              "0.9007042038075249"
            ]
          },
          "metadata": {},
          "execution_count": 43
        }
      ]
    },
    {
      "cell_type": "markdown",
      "source": [
        "### **Since January 2024**"
      ],
      "metadata": {
        "id": "aYmp9MO7Z_1j"
      }
    },
    {
      "cell_type": "code",
      "source": [
        "avm = stock_price_correlation('AAPL', 'MSFT', '2024-01-01', '2024-09-10')\n",
        "print(f\"Apple v.s. Microsoft: {avm:.3f}\")\n",
        "avb = stock_price_correlation('AAPL', 'BRK-B', '2024-01-01', '2024-09-10')\n",
        "print(f\"Apple v.s. Berkshire Hathaway: {avb:.3f}\")\n",
        "avd = stock_price_correlation('AAPL', 'DUK', '2024-01-01', '2024-09-10')\n",
        "print(f\"Apple v.s. Duke Energy: {avd:.3f}\")"
      ],
      "metadata": {
        "colab": {
          "base_uri": "https://localhost:8080/"
        },
        "id": "RB-x2KGFZ2RH",
        "outputId": "febba883-edb9-4e0b-d5aa-92aa62537d9a"
      },
      "execution_count": null,
      "outputs": [
        {
          "output_type": "stream",
          "name": "stderr",
          "text": [
            "[*********************100%***********************]  2 of 2 completed\n",
            "[*********************100%***********************]  2 of 2 completed\n"
          ]
        },
        {
          "output_type": "stream",
          "name": "stdout",
          "text": [
            "Apple v.s. Microsoft: 0.502\n",
            "Apple v.s. Berkshire Hathaway: 0.589\n"
          ]
        },
        {
          "output_type": "stream",
          "name": "stderr",
          "text": [
            "[*********************100%***********************]  2 of 2 completed"
          ]
        },
        {
          "output_type": "stream",
          "name": "stdout",
          "text": [
            "Apple v.s. Duke Energy: 0.783\n"
          ]
        },
        {
          "output_type": "stream",
          "name": "stderr",
          "text": [
            "\n"
          ]
        }
      ]
    },
    {
      "cell_type": "markdown",
      "source": [
        "#### **Application of For Loops & Dictionaries & Lists**"
      ],
      "metadata": {
        "id": "eQIg1_gXauNI"
      }
    },
    {
      "cell_type": "code",
      "source": [
        "stocks = ['MSFT', 'BRK-B', 'DUK']\n",
        "dates = ['2000-01-01', '2004-01-01', '2012-01-01', '2016-01-01', '2020-01-01', '2024-01-01', '2024-03-01', '2024-05-01', '2024-07-01']\n",
        "\n",
        "results = {}\n",
        "for stock in stocks:\n",
        "  results[stock] = []\n",
        "  for start_date in dates:\n",
        "    av = stock_price_correlation('AAPL', stock, start_date, '2024-09-01')\n",
        "    results[stock].append(av)"
      ],
      "metadata": {
        "colab": {
          "base_uri": "https://localhost:8080/"
        },
        "id": "CRagpvDmak65",
        "outputId": "557a5db9-7499-4be7-966f-15b9569eebba"
      },
      "execution_count": null,
      "outputs": [
        {
          "output_type": "stream",
          "name": "stderr",
          "text": [
            "[*********************100%***********************]  2 of 2 completed\n",
            "[*********************100%***********************]  2 of 2 completed\n",
            "[*********************100%***********************]  2 of 2 completed\n",
            "[*********************100%***********************]  2 of 2 completed\n",
            "[*********************100%***********************]  2 of 2 completed\n",
            "[*********************100%***********************]  2 of 2 completed\n",
            "[*********************100%***********************]  2 of 2 completed\n",
            "[*********************100%***********************]  2 of 2 completed\n",
            "[*********************100%***********************]  2 of 2 completed\n",
            "[*********************100%***********************]  2 of 2 completed\n",
            "[*********************100%***********************]  2 of 2 completed\n",
            "[*********************100%***********************]  2 of 2 completed\n",
            "[*********************100%***********************]  2 of 2 completed\n",
            "[*********************100%***********************]  2 of 2 completed\n",
            "[*********************100%***********************]  2 of 2 completed\n",
            "[*********************100%***********************]  2 of 2 completed\n",
            "[*********************100%***********************]  2 of 2 completed\n",
            "[*********************100%***********************]  2 of 2 completed\n",
            "[*********************100%***********************]  2 of 2 completed\n",
            "[*********************100%***********************]  2 of 2 completed\n",
            "[*********************100%***********************]  2 of 2 completed\n",
            "[*********************100%***********************]  2 of 2 completed\n",
            "[*********************100%***********************]  2 of 2 completed\n",
            "[*********************100%***********************]  2 of 2 completed\n",
            "[*********************100%***********************]  2 of 2 completed\n",
            "[*********************100%***********************]  2 of 2 completed\n",
            "[*********************100%***********************]  2 of 2 completed\n"
          ]
        }
      ]
    },
    {
      "cell_type": "markdown",
      "source": [
        "#### **Plot**"
      ],
      "metadata": {
        "id": "7IUUdWvHdOdU"
      }
    },
    {
      "cell_type": "code",
      "source": [
        "for stock in stocks:\n",
        "  plt.plot(pd.to_datetime(dates), results[stock], label=stock)\n",
        "plt.legend()\n",
        "plt.show()"
      ],
      "metadata": {
        "colab": {
          "base_uri": "https://localhost:8080/",
          "height": 430
        },
        "id": "H4WAD-XxZ8sa",
        "outputId": "ce8d222e-d1d4-457b-a549-b4117dc758fd"
      },
      "execution_count": null,
      "outputs": [
        {
          "output_type": "display_data",
          "data": {
            "text/plain": [
              "<Figure size 640x480 with 1 Axes>"
            ],
            "image/png": "[encoded data removed]"
          },
          "metadata": {}
        }
      ]
    }
  ]
}