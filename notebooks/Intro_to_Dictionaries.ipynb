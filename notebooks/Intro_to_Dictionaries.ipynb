{
  "nbformat": 4,
  "nbformat_minor": 0,
  "metadata": {
    "colab": {
      "provenance": [],
      "authorship_tag": "ABX9TyOgwslCikvPj0wysQ26N/sI",
      "include_colab_link": true
    },
    "kernelspec": {
      "name": "python3",
      "display_name": "Python 3"
    },
    "language_info": {
      "name": "python"
    }
  },
  "cells": [
    {
      "cell_type": "markdown",
      "metadata": {
        "id": "view-in-github",
        "colab_type": "text"
      },
      "source": [
        "<a href=\"https://colab.research.google.com/github/pharringtonp19/business-analytics/blob/main/notebooks/Intro_to_Dictionaries.ipynb\" target=\"_parent\"><img src=\"https://colab.research.google.com/assets/colab-badge.svg\" alt=\"Open In Colab\"/></a>"
      ]
    },
    {
      "cell_type": "markdown",
      "source": [
        "### **Creating a Dictionary**"
      ],
      "metadata": {
        "id": "A3ylSJbzQ8eU"
      }
    },
    {
      "cell_type": "code",
      "source": [
        "companies =  ['Apple', 'Microsoft', 'Google', 'Amazon', 'Facebook', 'Tesla', 'IBM', 'Netflix', 'Samsung', 'Intel']"
      ],
      "metadata": {
        "id": "jYVZ4y05qXF9"
      },
      "execution_count": 2,
      "outputs": []
    },
    {
      "cell_type": "code",
      "source": [
        "current_thoughts = {'prioritize' :companies[:3],\n",
        "                    'wait_to_apply': [companies[4], companies[7]],\n",
        "                    'ignore': companies[8:]}"
      ],
      "metadata": {
        "id": "bgyjLEY0qhV3"
      },
      "execution_count": 3,
      "outputs": []
    },
    {
      "cell_type": "markdown",
      "source": [
        "### **Adding elemements to a dictionary**"
      ],
      "metadata": {
        "id": "7RV2Z648v3s7"
      }
    },
    {
      "cell_type": "code",
      "source": [
        "current_thoughts['research_more'] = companies[1:4]"
      ],
      "metadata": {
        "id": "_fIY8c0Cq2gU"
      },
      "execution_count": 4,
      "outputs": []
    },
    {
      "cell_type": "code",
      "source": [],
      "metadata": {
        "id": "fLBnkwCDv-gF"
      },
      "execution_count": null,
      "outputs": []
    }
  ]
}