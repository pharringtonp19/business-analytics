{
  "nbformat": 4,
  "nbformat_minor": 0,
  "metadata": {
    "colab": {
      "provenance": [],
      "authorship_tag": "ABX9TyNHAe0yL6uoKdGFRHN1sVtO",
      "include_colab_link": true
    },
    "kernelspec": {
      "name": "python3",
      "display_name": "Python 3"
    },
    "language_info": {
      "name": "python"
    }
  },
  "cells": [
    {
      "cell_type": "markdown",
      "metadata": {
        "id": "view-in-github",
        "colab_type": "text"
      },
      "source": [
        "<a href=\"https://colab.research.google.com/github/pharringtonp19/business-analytics/blob/main/notebooks/Intro_to_Lists.ipynb\" target=\"_parent\"><img src=\"https://colab.research.google.com/assets/colab-badge.svg\" alt=\"Open In Colab\"/></a>"
      ]
    },
    {
      "cell_type": "markdown",
      "source": [
        "### **Creating a List**"
      ],
      "metadata": {
        "id": "A3ylSJbzQ8eU"
      }
    },
    {
      "cell_type": "code",
      "execution_count": 4,
      "metadata": {
        "id": "riJiovPbQzb2"
      },
      "outputs": [],
      "source": [
        "companies = [\"Microsoft\", \"GE\", \"Intel\"]"
      ]
    },
    {
      "cell_type": "markdown",
      "source": [
        "### **Appending Elements to a List**"
      ],
      "metadata": {
        "id": "ryqX0o8SgWHX"
      }
    },
    {
      "cell_type": "code",
      "source": [
        "companies.append(\"Uber\")\n",
        "print(companies)"
      ],
      "metadata": {
        "id": "oWAljj50gYvG",
        "outputId": "29e79866-f252-463e-d409-4958fb59052e",
        "colab": {
          "base_uri": "https://localhost:8080/"
        }
      },
      "execution_count": 5,
      "outputs": [
        {
          "output_type": "stream",
          "name": "stdout",
          "text": [
            "['Microsoft', 'GE', 'Intel', 'Uber']\n"
          ]
        }
      ]
    },
    {
      "cell_type": "markdown",
      "source": [
        "### **Indexing a List**"
      ],
      "metadata": {
        "id": "1uxPrMIxQ-mQ"
      }
    },
    {
      "cell_type": "code",
      "source": [
        "print(companies[0])\n",
        "print(companies[2])\n",
        "print(companies[-3])"
      ],
      "metadata": {
        "colab": {
          "base_uri": "https://localhost:8080/"
        },
        "id": "lsChFQowQ7Nh",
        "outputId": "143ec767-6076-4da8-8dff-4a9453c88437"
      },
      "execution_count": 7,
      "outputs": [
        {
          "output_type": "stream",
          "name": "stdout",
          "text": [
            "Microsoft\n",
            "Intel\n",
            "GE\n"
          ]
        }
      ]
    },
    {
      "cell_type": "markdown",
      "source": [
        "### **Slicing**"
      ],
      "metadata": {
        "id": "ildFtJuARGGw"
      }
    },
    {
      "cell_type": "code",
      "source": [
        "print(companies[1:3])"
      ],
      "metadata": {
        "colab": {
          "base_uri": "https://localhost:8080/"
        },
        "id": "4li5n_DDRIBj",
        "outputId": "1c4c82c6-d5c3-45d0-f3b2-0bac4b759e59"
      },
      "execution_count": 8,
      "outputs": [
        {
          "output_type": "stream",
          "name": "stdout",
          "text": [
            "['GE', 'Intel']\n"
          ]
        }
      ]
    },
    {
      "cell_type": "code",
      "source": [
        "print(companies[:2])\n",
        "print(companies[0:2])"
      ],
      "metadata": {
        "id": "EzWu4XEzlMZd",
        "outputId": "ad70ab9f-9024-4cd1-f9cf-3900aa38a40e",
        "colab": {
          "base_uri": "https://localhost:8080/"
        }
      },
      "execution_count": 9,
      "outputs": [
        {
          "output_type": "stream",
          "name": "stdout",
          "text": [
            "['Microsoft', 'GE']\n",
            "['Microsoft', 'GE']\n"
          ]
        }
      ]
    },
    {
      "cell_type": "code",
      "source": [
        "print(companies[-3:])\n",
        "print(companies[-3:len(companies)])"
      ],
      "metadata": {
        "id": "q4xVvsPrlSNF",
        "outputId": "1c2aec98-ec33-498a-f9fe-f6f528b8452c",
        "colab": {
          "base_uri": "https://localhost:8080/"
        }
      },
      "execution_count": 10,
      "outputs": [
        {
          "output_type": "stream",
          "name": "stdout",
          "text": [
            "['GE', 'Intel', 'Uber']\n",
            "['GE', 'Intel', 'Uber']\n"
          ]
        }
      ]
    },
    {
      "cell_type": "markdown",
      "source": [
        "### **Lists of Lists**"
      ],
      "metadata": {
        "id": "YqA0ACE8qU5R"
      }
    },
    {
      "cell_type": "code",
      "source": [
        "companies =  ['Apple', 'Microsoft', 'Google', 'Amazon', 'Facebook', 'Tesla', 'IBM', 'Netflix', 'Samsung', 'Intel']"
      ],
      "metadata": {
        "id": "jYVZ4y05qXF9"
      },
      "execution_count": 11,
      "outputs": []
    },
    {
      "cell_type": "code",
      "source": [
        "current_thoughts = [companies[:3], [companies[4], companies[7]], companies[8:]]"
      ],
      "metadata": {
        "id": "bgyjLEY0qhV3"
      },
      "execution_count": 13,
      "outputs": []
    },
    {
      "cell_type": "code",
      "source": [
        "companies[0] == companies[:1]"
      ],
      "metadata": {
        "id": "_fIY8c0Cq2gU",
        "outputId": "6b75a416-4954-40aa-e584-690e39b1d6a7",
        "colab": {
          "base_uri": "https://localhost:8080/"
        }
      },
      "execution_count": 14,
      "outputs": [
        {
          "output_type": "execute_result",
          "data": {
            "text/plain": [
              "False"
            ]
          },
          "metadata": {},
          "execution_count": 14
        }
      ]
    }
  ]
}