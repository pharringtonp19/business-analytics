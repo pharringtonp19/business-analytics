{
  "nbformat": 4,
  "nbformat_minor": 0,
  "metadata": {
    "colab": {
      "provenance": [],
      "authorship_tag": "ABX9TyNAMsjHRah3hSEBtCzEiaPa",
      "include_colab_link": true
    },
    "kernelspec": {
      "name": "python3",
      "display_name": "Python 3"
    },
    "language_info": {
      "name": "python"
    }
  },
  "cells": [
    {
      "cell_type": "markdown",
      "metadata": {
        "id": "view-in-github",
        "colab_type": "text"
      },
      "source": [
        "<a href=\"https://colab.research.google.com/github/pharringtonp19/business-analytics/blob/main/notebooks/Intro_to_Lists.ipynb\" target=\"_parent\"><img src=\"https://colab.research.google.com/assets/colab-badge.svg\" alt=\"Open In Colab\"/></a>"
      ]
    },
    {
      "cell_type": "markdown",
      "source": [
        "### **Import Libraries**"
      ],
      "metadata": {
        "id": "E1W9oHuetzzl"
      }
    },
    {
      "cell_type": "code",
      "source": [
        "import sys"
      ],
      "metadata": {
        "id": "deCeJQjatzaH"
      },
      "execution_count": 4,
      "outputs": []
    },
    {
      "cell_type": "markdown",
      "source": [
        "### **Creating a List**"
      ],
      "metadata": {
        "id": "A3ylSJbzQ8eU"
      }
    },
    {
      "cell_type": "code",
      "execution_count": 5,
      "metadata": {
        "id": "riJiovPbQzb2"
      },
      "outputs": [],
      "source": [
        "companies = [\"Microsoft\", \"General Electric\", \"ExxonMobil\", \"Intel\"]"
      ]
    },
    {
      "cell_type": "code",
      "source": [
        "print(id(companies))\n",
        "print(sys.getsizeof(companies))"
      ],
      "metadata": {
        "id": "WqhpdAY_tvvT",
        "outputId": "89b03ebb-7347-44f3-aaf1-7c533140a5cc",
        "colab": {
          "base_uri": "https://localhost:8080/"
        }
      },
      "execution_count": 6,
      "outputs": [
        {
          "output_type": "stream",
          "name": "stdout",
          "text": [
            "138964137973824\n",
            "88\n"
          ]
        }
      ]
    },
    {
      "cell_type": "markdown",
      "source": [
        "### **Indexing a List**"
      ],
      "metadata": {
        "id": "1uxPrMIxQ-mQ"
      }
    },
    {
      "cell_type": "code",
      "source": [
        "print(companies[0])\n",
        "print(f\"Location of Companies[0]: {id(companies[0])}\")\n",
        "print(f\"Size of Companies[0]: {sys.getsizeof(companies[0])}\")"
      ],
      "metadata": {
        "colab": {
          "base_uri": "https://localhost:8080/"
        },
        "id": "lsChFQowQ7Nh",
        "outputId": "756232b0-c8cf-4da8-89eb-13d184347cb8"
      },
      "execution_count": 10,
      "outputs": [
        {
          "output_type": "stream",
          "name": "stdout",
          "text": [
            "Microsoft\n",
            "Location of Companies[0]: 138964845718896\n",
            "Size of Companies[0]: 58\n"
          ]
        }
      ]
    },
    {
      "cell_type": "code",
      "source": [
        "print(companies[1])\n",
        "print(f\"Location of Companies[0]: {id(companies[1])}\")\n",
        "print(f\"Size of Companies[0]: {sys.getsizeof(companies[1])}\")"
      ],
      "metadata": {
        "id": "2dfKmQKaxqTj",
        "outputId": "e155ca05-d48c-4c36-f0d8-e48611fb0b60",
        "colab": {
          "base_uri": "https://localhost:8080/"
        }
      },
      "execution_count": 11,
      "outputs": [
        {
          "output_type": "stream",
          "name": "stdout",
          "text": [
            "General Electric\n",
            "Location of Companies[0]: 138964137987568\n",
            "Size of Companies[0]: 65\n"
          ]
        }
      ]
    },
    {
      "cell_type": "markdown",
      "source": [
        "### **Slicing**"
      ],
      "metadata": {
        "id": "ildFtJuARGGw"
      }
    },
    {
      "cell_type": "code",
      "source": [
        "m_2000[1:3]"
      ],
      "metadata": {
        "colab": {
          "base_uri": "https://localhost:8080/"
        },
        "id": "4li5n_DDRIBj",
        "outputId": "d49593e0-4267-428c-d84d-0d495caeaeec"
      },
      "execution_count": null,
      "outputs": [
        {
          "output_type": "execute_result",
          "data": {
            "text/plain": [
              "['General Electric', 'ExxonMobil']"
            ]
          },
          "metadata": {},
          "execution_count": 3
        }
      ]
    },
    {
      "cell_type": "markdown",
      "source": [
        "### **Appending**"
      ],
      "metadata": {
        "id": "CEZyX661RMiw"
      }
    },
    {
      "cell_type": "code",
      "source": [
        "m_2000.append(\"Nokia\")"
      ],
      "metadata": {
        "id": "xz6qDzQbROes"
      },
      "execution_count": null,
      "outputs": []
    },
    {
      "cell_type": "markdown",
      "source": [
        "### **Inserting Elements**"
      ],
      "metadata": {
        "id": "zqDYDPYJRYeC"
      }
    },
    {
      "cell_type": "code",
      "source": [
        "m_2000.insert(2, \"Cisco\")"
      ],
      "metadata": {
        "id": "xEBoMDZiRbFY"
      },
      "execution_count": null,
      "outputs": []
    },
    {
      "cell_type": "markdown",
      "source": [
        "### **Extending a List/ Concatenating**"
      ],
      "metadata": {
        "id": "SdmnkugQRl-O"
      }
    },
    {
      "cell_type": "code",
      "source": [
        "other_companies = ['BP', 'Royal Dutch Shell', 'IBM']\n",
        "m_2000.extend(other_companies)\n",
        "#m_2000 ++ other_companies"
      ],
      "metadata": {
        "id": "5zOVQjbMRqJ1"
      },
      "execution_count": null,
      "outputs": []
    },
    {
      "cell_type": "markdown",
      "source": [
        "### **Removing Element by Value**"
      ],
      "metadata": {
        "id": "v_jGNBrnQ78Y"
      }
    },
    {
      "cell_type": "code",
      "source": [
        "m_2000.remove('BP')"
      ],
      "metadata": {
        "id": "v4699U1WR-wZ"
      },
      "execution_count": null,
      "outputs": []
    },
    {
      "cell_type": "markdown",
      "source": [
        "### **Remove Element by Index**"
      ],
      "metadata": {
        "id": "fNGRxjMESKD3"
      }
    },
    {
      "cell_type": "code",
      "source": [
        "m_2000.pop(2)"
      ],
      "metadata": {
        "colab": {
          "base_uri": "https://localhost:8080/",
          "height": 35
        },
        "id": "HEdjb2p3SAuS",
        "outputId": "4da08e79-2105-4421-a116-479207e63495"
      },
      "execution_count": null,
      "outputs": [
        {
          "output_type": "execute_result",
          "data": {
            "text/plain": [
              "'Cisco'"
            ],
            "application/vnd.google.colaboratory.intrinsic+json": {
              "type": "string"
            }
          },
          "metadata": {},
          "execution_count": 8
        }
      ]
    },
    {
      "cell_type": "markdown",
      "source": [
        "### **Checking Membership**"
      ],
      "metadata": {
        "id": "RUMb3MiPTXNu"
      }
    },
    {
      "cell_type": "code",
      "source": [
        "'uber' in m_2000"
      ],
      "metadata": {
        "colab": {
          "base_uri": "https://localhost:8080/"
        },
        "id": "C39B9hllTZ3S",
        "outputId": "868f7136-e718-469e-8d55-69024608ba88"
      },
      "execution_count": null,
      "outputs": [
        {
          "output_type": "execute_result",
          "data": {
            "text/plain": [
              "False"
            ]
          },
          "metadata": {},
          "execution_count": 9
        }
      ]
    },
    {
      "cell_type": "markdown",
      "source": [
        "### **Sorting**"
      ],
      "metadata": {
        "id": "6pLGqMi2Ts1X"
      }
    },
    {
      "cell_type": "code",
      "source": [
        "m_2000.sort()"
      ],
      "metadata": {
        "id": "2dZkUUiiTIBO"
      },
      "execution_count": null,
      "outputs": []
    },
    {
      "cell_type": "markdown",
      "source": [
        "### **Length**"
      ],
      "metadata": {
        "id": "N1ekdc39T_ab"
      }
    },
    {
      "cell_type": "code",
      "source": [
        "len(m_2000)"
      ],
      "metadata": {
        "colab": {
          "base_uri": "https://localhost:8080/"
        },
        "id": "_4e6cMdvTxEi",
        "outputId": "ab8e7590-b178-4674-a26e-d5841ee99b00"
      },
      "execution_count": null,
      "outputs": [
        {
          "output_type": "execute_result",
          "data": {
            "text/plain": [
              "7"
            ]
          },
          "metadata": {},
          "execution_count": 11
        }
      ]
    },
    {
      "cell_type": "markdown",
      "source": [
        "### **Comparing Lists**"
      ],
      "metadata": {
        "id": "Hi5W3M2C93jc"
      }
    },
    {
      "cell_type": "code",
      "source": [
        "[3, 4, 2] < [3, 4, 1]"
      ],
      "metadata": {
        "id": "mkK7XdrR8X5t",
        "outputId": "0322d202-19cc-46ef-be5b-c2a1acb95244",
        "colab": {
          "base_uri": "https://localhost:8080/"
        }
      },
      "execution_count": null,
      "outputs": [
        {
          "output_type": "execute_result",
          "data": {
            "text/plain": [
              "False"
            ]
          },
          "metadata": {},
          "execution_count": 16
        }
      ]
    },
    {
      "cell_type": "code",
      "source": [],
      "metadata": {
        "id": "bWckfrO4-gn9"
      },
      "execution_count": null,
      "outputs": []
    }
  ]
}