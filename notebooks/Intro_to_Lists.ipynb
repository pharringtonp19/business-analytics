{
  "nbformat": 4,
  "nbformat_minor": 0,
  "metadata": {
    "colab": {
      "provenance": [],
      "authorship_tag": "ABX9TyMwY/XGpfw51VozHEJBKz3N",
      "include_colab_link": true
    },
    "kernelspec": {
      "name": "python3",
      "display_name": "Python 3"
    },
    "language_info": {
      "name": "python"
    }
  },
  "cells": [
    {
      "cell_type": "markdown",
      "metadata": {
        "id": "view-in-github",
        "colab_type": "text"
      },
      "source": [
        "<a href=\"https://colab.research.google.com/github/pharringtonp19/business-analytics/blob/main/notebooks/Intro_to_Lists.ipynb\" target=\"_parent\"><img src=\"https://colab.research.google.com/assets/colab-badge.svg\" alt=\"Open In Colab\"/></a>"
      ]
    },
    {
      "cell_type": "markdown",
      "source": [
        "### **Creating a List**"
      ],
      "metadata": {
        "id": "A3ylSJbzQ8eU"
      }
    },
    {
      "cell_type": "code",
      "execution_count": 1,
      "metadata": {
        "id": "riJiovPbQzb2"
      },
      "outputs": [],
      "source": [
        "m_2000 = [\"Microsoft\", \"General Electric\", \"ExxonMobil\", \"Intel\"]"
      ]
    },
    {
      "cell_type": "markdown",
      "source": [
        "### **Indexing a List**"
      ],
      "metadata": {
        "id": "1uxPrMIxQ-mQ"
      }
    },
    {
      "cell_type": "code",
      "source": [
        "m_2000[0]"
      ],
      "metadata": {
        "colab": {
          "base_uri": "https://localhost:8080/",
          "height": 35
        },
        "id": "lsChFQowQ7Nh",
        "outputId": "30c95b8b-51dd-4bb2-80ef-e14539d7135e"
      },
      "execution_count": 2,
      "outputs": [
        {
          "output_type": "execute_result",
          "data": {
            "text/plain": [
              "'Microsoft'"
            ],
            "application/vnd.google.colaboratory.intrinsic+json": {
              "type": "string"
            }
          },
          "metadata": {},
          "execution_count": 2
        }
      ]
    },
    {
      "cell_type": "markdown",
      "source": [
        "### **Slicing**"
      ],
      "metadata": {
        "id": "ildFtJuARGGw"
      }
    },
    {
      "cell_type": "code",
      "source": [
        "m_2000[1:3]"
      ],
      "metadata": {
        "colab": {
          "base_uri": "https://localhost:8080/"
        },
        "id": "4li5n_DDRIBj",
        "outputId": "8eef4850-9c96-4a1b-ae51-dad0ef219498"
      },
      "execution_count": 3,
      "outputs": [
        {
          "output_type": "execute_result",
          "data": {
            "text/plain": [
              "['General Electric', 'ExxonMobil']"
            ]
          },
          "metadata": {},
          "execution_count": 3
        }
      ]
    },
    {
      "cell_type": "markdown",
      "source": [
        "### **Appending**"
      ],
      "metadata": {
        "id": "CEZyX661RMiw"
      }
    },
    {
      "cell_type": "code",
      "source": [
        "m_2000.append(\"Nokia\")"
      ],
      "metadata": {
        "id": "xz6qDzQbROes"
      },
      "execution_count": 5,
      "outputs": []
    },
    {
      "cell_type": "markdown",
      "source": [
        "### **Inserting Elements**"
      ],
      "metadata": {
        "id": "zqDYDPYJRYeC"
      }
    },
    {
      "cell_type": "code",
      "source": [
        "m_2000.insert(2, \"Cisco\")"
      ],
      "metadata": {
        "id": "xEBoMDZiRbFY"
      },
      "execution_count": 6,
      "outputs": []
    },
    {
      "cell_type": "markdown",
      "source": [
        "### **Extending a List**"
      ],
      "metadata": {
        "id": "SdmnkugQRl-O"
      }
    },
    {
      "cell_type": "code",
      "source": [
        "m_2000.extend(['BP', 'Royal Dutch Shell', 'IBM'])"
      ],
      "metadata": {
        "id": "5zOVQjbMRqJ1"
      },
      "execution_count": 7,
      "outputs": []
    },
    {
      "cell_type": "markdown",
      "source": [
        "### **Removing Element by Value**"
      ],
      "metadata": {
        "id": "v_jGNBrnQ78Y"
      }
    },
    {
      "cell_type": "code",
      "source": [
        "m_2000.remove('BP')"
      ],
      "metadata": {
        "id": "v4699U1WR-wZ"
      },
      "execution_count": 8,
      "outputs": []
    },
    {
      "cell_type": "markdown",
      "source": [
        "### **Remove Element by Index**"
      ],
      "metadata": {
        "id": "fNGRxjMESKD3"
      }
    },
    {
      "cell_type": "code",
      "source": [
        "m_2000.pop(2)"
      ],
      "metadata": {
        "colab": {
          "base_uri": "https://localhost:8080/",
          "height": 35
        },
        "id": "HEdjb2p3SAuS",
        "outputId": "91877619-a82d-4b3c-991d-728b30a95078"
      },
      "execution_count": 9,
      "outputs": [
        {
          "output_type": "execute_result",
          "data": {
            "text/plain": [
              "'Cisco'"
            ],
            "application/vnd.google.colaboratory.intrinsic+json": {
              "type": "string"
            }
          },
          "metadata": {},
          "execution_count": 9
        }
      ]
    },
    {
      "cell_type": "markdown",
      "source": [
        "### **Checking Membership**"
      ],
      "metadata": {
        "id": "RUMb3MiPTXNu"
      }
    },
    {
      "cell_type": "code",
      "source": [
        "'uber' in m_2000"
      ],
      "metadata": {
        "colab": {
          "base_uri": "https://localhost:8080/"
        },
        "id": "C39B9hllTZ3S",
        "outputId": "cf691907-3c87-4b1b-9314-04ca74b494e0"
      },
      "execution_count": 10,
      "outputs": [
        {
          "output_type": "execute_result",
          "data": {
            "text/plain": [
              "False"
            ]
          },
          "metadata": {},
          "execution_count": 10
        }
      ]
    },
    {
      "cell_type": "markdown",
      "source": [
        "### **Sorting**"
      ],
      "metadata": {
        "id": "6pLGqMi2Ts1X"
      }
    },
    {
      "cell_type": "code",
      "source": [
        "m_2000.sort()"
      ],
      "metadata": {
        "id": "2dZkUUiiTIBO"
      },
      "execution_count": 11,
      "outputs": []
    },
    {
      "cell_type": "markdown",
      "source": [
        "### **Length**"
      ],
      "metadata": {
        "id": "N1ekdc39T_ab"
      }
    },
    {
      "cell_type": "code",
      "source": [
        "len(m_2000)"
      ],
      "metadata": {
        "colab": {
          "base_uri": "https://localhost:8080/"
        },
        "id": "_4e6cMdvTxEi",
        "outputId": "b63dc7ef-9ec7-4ca6-ea89-e1af65a95341"
      },
      "execution_count": 13,
      "outputs": [
        {
          "output_type": "execute_result",
          "data": {
            "text/plain": [
              "7"
            ]
          },
          "metadata": {},
          "execution_count": 13
        }
      ]
    }
  ]
}