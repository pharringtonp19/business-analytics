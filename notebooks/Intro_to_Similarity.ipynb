{
  "nbformat": 4,
  "nbformat_minor": 0,
  "metadata": {
    "colab": {
      "provenance": [],
      "authorship_tag": "ABX9TyO+UOFfEyRVikJ4F5a5Kiyo",
      "include_colab_link": true
    },
    "kernelspec": {
      "name": "python3",
      "display_name": "Python 3"
    },
    "language_info": {
      "name": "python"
    }
  },
  "cells": [
    {
      "cell_type": "markdown",
      "metadata": {
        "id": "view-in-github",
        "colab_type": "text"
      },
      "source": [
        "<a href=\"https://colab.research.google.com/github/pharringtonp19/business-analytics/blob/main/notebooks/Intro_to_Similarity.ipynb\" target=\"_parent\"><img src=\"https://colab.research.google.com/assets/colab-badge.svg\" alt=\"Open In Colab\"/></a>"
      ]
    },
    {
      "cell_type": "markdown",
      "source": [
        "### **Type Casting Revisited**"
      ],
      "metadata": {
        "id": "10c1YziykEX0"
      }
    },
    {
      "cell_type": "code",
      "execution_count": 1,
      "metadata": {
        "colab": {
          "base_uri": "https://localhost:8080/"
        },
        "id": "Daesj6oykC_I",
        "outputId": "a7cd317e-8868-4428-d1a4-d9b3d7c869cb"
      },
      "outputs": [
        {
          "output_type": "execute_result",
          "data": {
            "text/plain": [
              "25.0"
            ]
          },
          "metadata": {},
          "execution_count": 1
        }
      ],
      "source": [
        "float(\"25\")"
      ]
    },
    {
      "cell_type": "code",
      "source": [
        "float(\"I like Python\")"
      ],
      "metadata": {
        "colab": {
          "base_uri": "https://localhost:8080/",
          "height": 141
        },
        "id": "ty-MAl9RkZ-m",
        "outputId": "7ffc1508-abe1-45e6-b679-79e229c18bb2"
      },
      "execution_count": 2,
      "outputs": [
        {
          "output_type": "error",
          "ename": "ValueError",
          "evalue": "could not convert string to float: 'I like Python'",
          "traceback": [
            "\u001b[0;31m---------------------------------------------------------------------------\u001b[0m",
            "\u001b[0;31mValueError\u001b[0m                                Traceback (most recent call last)",
            "\u001b[0;32m<ipython-input-2-a621f2416316>\u001b[0m in \u001b[0;36m<cell line: 1>\u001b[0;34m()\u001b[0m\n\u001b[0;32m----> 1\u001b[0;31m \u001b[0mfloat\u001b[0m\u001b[0;34m(\u001b[0m\u001b[0;34m\"I like Python\"\u001b[0m\u001b[0;34m)\u001b[0m\u001b[0;34m\u001b[0m\u001b[0;34m\u001b[0m\u001b[0m\n\u001b[0m",
            "\u001b[0;31mValueError\u001b[0m: could not convert string to float: 'I like Python'"
          ]
        }
      ]
    },
    {
      "cell_type": "code",
      "source": [
        "my_dict = {\n",
        "    'a': 1,\n",
        "    'b': 2,\n",
        "    'c': 3,\n",
        "    'd': 4,\n",
        "    'e': 5,\n",
        "    'f': 6,\n",
        "    'g': 7,\n",
        "    'h': 8,\n",
        "    'i': 9,\n",
        "    'j': 10,\n",
        "    'k': 11,\n",
        "    'l': 12,\n",
        "    'm': 13,\n",
        "    'n': 14,\n",
        "    'o': 15,\n",
        "    'p': 16,\n",
        "    'q': 17,\n",
        "    'r': 18,\n",
        "    's': 19,\n",
        "    't': 20,\n",
        "    'u': 21,\n",
        "    'v': 22,\n",
        "    'w': 23,\n",
        "    'x': 24,\n",
        "    'y': 25,\n",
        "    'z': 26,\n",
        "}\n",
        "\n",
        "def map_string(text: str) -> int:\n",
        "  return my_dict[text[0].lower()]"
      ],
      "metadata": {
        "id": "F7ktukQJmEWz"
      },
      "execution_count": 9,
      "outputs": []
    },
    {
      "cell_type": "code",
      "source": [
        "map_string(\"I like Python\")\n",
        ""
      ],
      "metadata": {
        "colab": {
          "base_uri": "https://localhost:8080/"
        },
        "id": "bvcBEpz3kb2a",
        "outputId": "b9976a3c-007c-4e18-87ae-8be2ede235cc"
      },
      "execution_count": 10,
      "outputs": [
        {
          "output_type": "execute_result",
          "data": {
            "text/plain": [
              "9"
            ]
          },
          "metadata": {},
          "execution_count": 10
        }
      ]
    },
    {
      "cell_type": "code",
      "source": [],
      "metadata": {
        "id": "rP9JpE8OmMf4"
      },
      "execution_count": null,
      "outputs": []
    }
  ]
}