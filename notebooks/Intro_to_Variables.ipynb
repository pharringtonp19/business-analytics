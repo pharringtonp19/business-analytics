{
  "nbformat": 4,
  "nbformat_minor": 0,
  "metadata": {
    "colab": {
      "provenance": [],
      "authorship_tag": "ABX9TyMzbQyFA191B38oZz3pfcA/",
      "include_colab_link": true
    },
    "kernelspec": {
      "name": "python3",
      "display_name": "Python 3"
    },
    "language_info": {
      "name": "python"
    }
  },
  "cells": [
    {
      "cell_type": "markdown",
      "metadata": {
        "id": "view-in-github",
        "colab_type": "text"
      },
      "source": [
        "<a href=\"https://colab.research.google.com/github/pharringtonp19/business-analytics/blob/main/notebooks/Intro_to_Variables.ipynb\" target=\"_parent\"><img src=\"https://colab.research.google.com/assets/colab-badge.svg\" alt=\"Open In Colab\"/></a>"
      ]
    },
    {
      "cell_type": "markdown",
      "source": [
        "## **Basics**"
      ],
      "metadata": {
        "id": "VI-uKb37wbcx"
      }
    },
    {
      "cell_type": "markdown",
      "source": [
        "### **Creating Variables**"
      ],
      "metadata": {
        "id": "zKHPgwxciHJU"
      }
    },
    {
      "cell_type": "code",
      "source": [
        "a = 5\n",
        "b = 10\n",
        "print(a + b)"
      ],
      "metadata": {
        "colab": {
          "base_uri": "https://localhost:8080/"
        },
        "id": "CkgD6MuBiIiz",
        "outputId": "1c7cdedf-8947-4063-fb70-0e444d0d59ab"
      },
      "execution_count": 2,
      "outputs": [
        {
          "output_type": "stream",
          "name": "stdout",
          "text": [
            "15\n"
          ]
        }
      ]
    },
    {
      "cell_type": "code",
      "source": [
        "first_name = 'Lebron'\n",
        "last_name = 'James'\n",
        "print(first_name + ' ' + last_name)"
      ],
      "metadata": {
        "id": "De6itWHatP_Z",
        "outputId": "94f87073-0768-4279-8e6f-d2da01b20056",
        "colab": {
          "base_uri": "https://localhost:8080/"
        }
      },
      "execution_count": 3,
      "outputs": [
        {
          "output_type": "stream",
          "name": "stdout",
          "text": [
            "Lebron James\n"
          ]
        }
      ]
    },
    {
      "cell_type": "markdown",
      "source": [
        "### **Variables are Mutable**"
      ],
      "metadata": {
        "id": "C06hEpUatcTf"
      }
    },
    {
      "cell_type": "code",
      "source": [
        "a = 5\n",
        "b = 10\n",
        "a = 25\n",
        "print(a + b)"
      ],
      "metadata": {
        "colab": {
          "base_uri": "https://localhost:8080/"
        },
        "id": "RPfYaJ-PiNTK",
        "outputId": "17075d64-9a68-4a0a-b189-3edda91c6ba5"
      },
      "execution_count": 4,
      "outputs": [
        {
          "output_type": "stream",
          "name": "stdout",
          "text": [
            "35\n"
          ]
        }
      ]
    },
    {
      "cell_type": "code",
      "source": [
        "first_name = 'Lebron'\n",
        "last_name = 'James'\n",
        "first_name = 'Bronny'\n",
        "print(first_name + ' ' + last_name)"
      ],
      "metadata": {
        "colab": {
          "base_uri": "https://localhost:8080/"
        },
        "id": "Pz-6SzvKiVkq",
        "outputId": "b0e0aaeb-f007-4254-c2bf-4c1395385956"
      },
      "execution_count": 5,
      "outputs": [
        {
          "output_type": "stream",
          "name": "stdout",
          "text": [
            "Bronny James\n"
          ]
        }
      ]
    },
    {
      "cell_type": "markdown",
      "source": [
        "## **Deep Dive**"
      ],
      "metadata": {
        "id": "k0H4jXDztw_y"
      }
    },
    {
      "cell_type": "markdown",
      "source": [
        "### **Example # 1**"
      ],
      "metadata": {
        "id": "nkDWqunMwafb"
      }
    },
    {
      "cell_type": "code",
      "source": [
        "import sys\n",
        "\n",
        "a = 10\n",
        "memory_location = id(a)\n",
        "size_in_bytes = sys.getsizeof(a)\n",
        "\n",
        "print(f\"Memory location of a: {memory_location}\")\n",
        "print(f\"Size of a: {size_in_bytes} bytes\")"
      ],
      "metadata": {
        "id": "-KBgMB8ria3W",
        "outputId": "2b27ef90-dc65-479c-bdb0-751a933d1194",
        "colab": {
          "base_uri": "https://localhost:8080/"
        }
      },
      "execution_count": 9,
      "outputs": [
        {
          "output_type": "stream",
          "name": "stdout",
          "text": [
            "Memory location of a: 132761122505232\n",
            "Size of a: 28 bytes\n"
          ]
        }
      ]
    },
    {
      "cell_type": "markdown",
      "source": [
        "### **Example # 2**"
      ],
      "metadata": {
        "id": "Wf-ojeMhwpAF"
      }
    },
    {
      "cell_type": "code",
      "source": [
        "a = 5\n",
        "b = 5\n",
        "\n",
        "print(id(a))\n",
        "print(id(b))\n",
        "print(a is b)\n",
        "print(a == b)"
      ],
      "metadata": {
        "id": "wSIxW-TzuD_J",
        "outputId": "c9c64288-485e-478d-ca44-f91631f1a5d4",
        "colab": {
          "base_uri": "https://localhost:8080/"
        }
      },
      "execution_count": 15,
      "outputs": [
        {
          "output_type": "stream",
          "name": "stdout",
          "text": [
            "132761122505072\n",
            "132761122505072\n",
            "True\n",
            "True\n"
          ]
        }
      ]
    },
    {
      "cell_type": "markdown",
      "source": [
        "### **Example # 3**"
      ],
      "metadata": {
        "id": "uMnujBWVxAhE"
      }
    },
    {
      "cell_type": "code",
      "source": [
        "a = 257\n",
        "b = 257\n",
        "\n",
        "print(id(a))\n",
        "print(id(b))\n",
        "print(a is b)\n",
        "print(a == b)"
      ],
      "metadata": {
        "id": "wPjqpF8PuRHg",
        "outputId": "7d35bd7d-c702-4f87-fcb6-eb5946e00777",
        "colab": {
          "base_uri": "https://localhost:8080/"
        }
      },
      "execution_count": 16,
      "outputs": [
        {
          "output_type": "stream",
          "name": "stdout",
          "text": [
            "132759840171024\n",
            "132759840171280\n",
            "False\n",
            "True\n"
          ]
        }
      ]
    },
    {
      "cell_type": "markdown",
      "source": [
        "### **Example # 4**"
      ],
      "metadata": {
        "id": "gHjdh4sgzJLu"
      }
    },
    {
      "cell_type": "code",
      "source": [
        "a = 257\n",
        "b = a\n",
        "a = 10\n",
        "print(id(a))\n",
        "print(id(b))\n",
        "print(a is b)\n",
        "print(a == b)"
      ],
      "metadata": {
        "id": "1sT5erUswxNj",
        "outputId": "0bb3837f-af1d-4eba-9237-a53b1d72ffda",
        "colab": {
          "base_uri": "https://localhost:8080/"
        }
      },
      "execution_count": 20,
      "outputs": [
        {
          "output_type": "stream",
          "name": "stdout",
          "text": [
            "132759840171760\n",
            "132761122505232\n",
            "132759840171760\n",
            "False\n",
            "False\n"
          ]
        }
      ]
    },
    {
      "cell_type": "code",
      "source": [],
      "metadata": {
        "id": "NQnRNLN8zOCw"
      },
      "execution_count": null,
      "outputs": []
    }
  ]
}