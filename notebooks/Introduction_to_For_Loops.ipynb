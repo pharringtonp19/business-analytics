{
  "nbformat": 4,
  "nbformat_minor": 0,
  "metadata": {
    "colab": {
      "provenance": [],
      "authorship_tag": "ABX9TyMfzssaPpZF6PL0GWT3wU43",
      "include_colab_link": true
    },
    "kernelspec": {
      "name": "python3",
      "display_name": "Python 3"
    },
    "language_info": {
      "name": "python"
    }
  },
  "cells": [
    {
      "cell_type": "markdown",
      "metadata": {
        "id": "view-in-github",
        "colab_type": "text"
      },
      "source": [
        "<a href=\"https://colab.research.google.com/github/pharringtonp19/business-analytics/blob/main/notebooks/Introduction_to_For_Loops.ipynb\" target=\"_parent\"><img src=\"https://colab.research.google.com/assets/colab-badge.svg\" alt=\"Open In Colab\"/></a>"
      ]
    },
    {
      "cell_type": "markdown",
      "source": [
        "### **Task #1**\n",
        "\n",
        "apply the function `f` to `my_list` and `print` the result"
      ],
      "metadata": {
        "id": "EVlMQkDpQsQn"
      }
    },
    {
      "cell_type": "code",
      "execution_count": null,
      "metadata": {
        "id": "MIz8wVl7Qfur"
      },
      "outputs": [],
      "source": [
        "my_list = [0, 1, 2, 3, 4, 5]\n",
        "\n",
        "def f(x):\n",
        "  return x**2"
      ]
    },
    {
      "cell_type": "markdown",
      "source": [
        "#### **Naive Solution**"
      ],
      "metadata": {
        "id": "oxi2be-AQ9Bf"
      }
    },
    {
      "cell_type": "code",
      "source": [
        "print(f(my_list[0]))\n",
        "print(f(my_list[1]))\n",
        "print(f(my_list[2]))\n",
        "print(f(my_list[3]))\n",
        "print(f(my_list[4]))\n",
        "print(f(my_list[5]))"
      ],
      "metadata": {
        "colab": {
          "base_uri": "https://localhost:8080/"
        },
        "id": "gxOm7QFBQrM8",
        "outputId": "3a29e3a2-7b82-4baa-f614-c848370829fe"
      },
      "execution_count": null,
      "outputs": [
        {
          "output_type": "stream",
          "name": "stdout",
          "text": [
            "0\n",
            "1\n",
            "4\n",
            "9\n",
            "16\n",
            "25\n"
          ]
        }
      ]
    },
    {
      "cell_type": "markdown",
      "source": [
        "#### **For Loop**"
      ],
      "metadata": {
        "id": "WDW_guh1RFuK"
      }
    },
    {
      "cell_type": "code",
      "source": [
        "for i in my_list:\n",
        "  print(f(i))"
      ],
      "metadata": {
        "colab": {
          "base_uri": "https://localhost:8080/"
        },
        "id": "_XJ7egt3RE5d",
        "outputId": "26d47cd1-1a4a-475b-e2ba-d4151ba6d10b"
      },
      "execution_count": null,
      "outputs": [
        {
          "output_type": "stream",
          "name": "stdout",
          "text": [
            "0\n",
            "1\n",
            "4\n",
            "9\n",
            "16\n",
            "25\n"
          ]
        }
      ]
    },
    {
      "cell_type": "markdown",
      "source": [
        "### **Task #2**\n",
        "\n",
        "Let's say that we want to square each element of the list and append it to the new list"
      ],
      "metadata": {
        "id": "GYH_xHW4wjP5"
      }
    },
    {
      "cell_type": "code",
      "source": [
        "my_list = [0, 1, 2, 3, 4, 5]\n",
        "\n",
        "def f(x):\n",
        "  return x**2\n",
        "\n",
        "new_list = []\n",
        "\n",
        "for i in my_list:\n",
        "  new_list.append(f(i))\n",
        "\n",
        "print(new_list)"
      ],
      "metadata": {
        "id": "ObPJEE2Lwl4F",
        "outputId": "6bda3738-a4f1-4926-cf7c-e97f92a13a7e",
        "colab": {
          "base_uri": "https://localhost:8080/"
        }
      },
      "execution_count": 7,
      "outputs": [
        {
          "output_type": "stream",
          "name": "stdout",
          "text": [
            "[0, 1, 4, 9, 16, 25]\n"
          ]
        }
      ]
    },
    {
      "cell_type": "markdown",
      "source": [
        "### **Task #3**\n",
        "\n",
        "Let's say that we only want to print the square of the even numbers:\n",
        "Hint `x %2 ==0` returns `True` if x is even and `False` otherwise"
      ],
      "metadata": {
        "id": "vCZm3IesRemu"
      }
    },
    {
      "cell_type": "code",
      "source": [
        "# Code Block 1\n",
        "\n",
        "my_list = [0, 1, 2, 3, 4, 5]\n",
        "\n",
        "def f(x):\n",
        "  return x**2\n",
        "\n",
        "for i in my_list:\n",
        "  if i%2 == 0:\n",
        "    print(f(i))"
      ],
      "metadata": {
        "colab": {
          "base_uri": "https://localhost:8080/"
        },
        "id": "oXW5ipzfX1WL",
        "outputId": "6357edc1-e84e-4aa8-8ebb-2f91510e0bc1"
      },
      "execution_count": 1,
      "outputs": [
        {
          "output_type": "stream",
          "name": "stdout",
          "text": [
            "0\n",
            "4\n",
            "16\n"
          ]
        }
      ]
    },
    {
      "cell_type": "markdown",
      "source": [
        "### **Task #4**\n",
        "Let's say that someone has given us a list (could be a list of numbers or strings), and we want to print out the square of the even numbers and the cube of the odd numbers, or just the string if it is a string. Hint: `type(i) == int` checks if `i` is an integer"
      ],
      "metadata": {
        "id": "JNlpGoODvAac"
      }
    },
    {
      "cell_type": "code",
      "source": [
        "my_list = [0, 1, \"Apple\", \"BU\", 2, 3, 5, \"Boston\", 6, 7]\n",
        "\n",
        "for i in my_list:\n",
        "\n",
        "  if type(i) == int:\n",
        "    if i%2 == 0:\n",
        "      print(f(i))\n",
        "    else:\n",
        "      print(i**3)\n",
        "  else:\n",
        "    print(i)"
      ],
      "metadata": {
        "id": "gMjYHsDTu-we",
        "outputId": "adb08698-4610-4bd0-98a3-d225f9bbbb5a",
        "colab": {
          "base_uri": "https://localhost:8080/"
        }
      },
      "execution_count": 9,
      "outputs": [
        {
          "output_type": "stream",
          "name": "stdout",
          "text": [
            "0\n",
            "1\n",
            "Apple\n",
            "BU\n",
            "4\n",
            "27\n",
            "125\n",
            "Boston\n",
            "36\n",
            "343\n"
          ]
        }
      ]
    }
  ]
}