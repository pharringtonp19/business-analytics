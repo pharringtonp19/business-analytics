{
  "nbformat": 4,
  "nbformat_minor": 0,
  "metadata": {
    "colab": {
      "provenance": [],
      "authorship_tag": "ABX9TyPbHcla9adNihSU3oFAbwkS",
      "include_colab_link": true
    },
    "kernelspec": {
      "name": "python3",
      "display_name": "Python 3"
    },
    "language_info": {
      "name": "python"
    }
  },
  "cells": [
    {
      "cell_type": "markdown",
      "metadata": {
        "id": "view-in-github",
        "colab_type": "text"
      },
      "source": [
        "<a href=\"https://colab.research.google.com/github/pharringtonp19/business-analytics/blob/main/notebooks/Introduction_to_For_Loops.ipynb\" target=\"_parent\"><img src=\"https://colab.research.google.com/assets/colab-badge.svg\" alt=\"Open In Colab\"/></a>"
      ]
    },
    {
      "cell_type": "markdown",
      "source": [
        "### **Task (For Loop)**\n",
        "\n",
        "apply the function `f` to `my_list` and `print` the result"
      ],
      "metadata": {
        "id": "EVlMQkDpQsQn"
      }
    },
    {
      "cell_type": "code",
      "execution_count": 15,
      "metadata": {
        "id": "MIz8wVl7Qfur"
      },
      "outputs": [],
      "source": [
        "my_list = [0, 1, 2, 3, 4, 5]\n",
        "\n",
        "def f(x):\n",
        "  return x**2"
      ]
    },
    {
      "cell_type": "markdown",
      "source": [
        "#### **Naive Solution**"
      ],
      "metadata": {
        "id": "oxi2be-AQ9Bf"
      }
    },
    {
      "cell_type": "code",
      "source": [
        "print(f(my_list[0]))\n",
        "print(f(my_list[1]))\n",
        "print(f(my_list[2]))\n",
        "print(f(my_list[3]))\n",
        "print(f(my_list[4]))\n",
        "print(f(my_list[5]))"
      ],
      "metadata": {
        "colab": {
          "base_uri": "https://localhost:8080/"
        },
        "id": "gxOm7QFBQrM8",
        "outputId": "3a29e3a2-7b82-4baa-f614-c848370829fe"
      },
      "execution_count": 16,
      "outputs": [
        {
          "output_type": "stream",
          "name": "stdout",
          "text": [
            "0\n",
            "1\n",
            "4\n",
            "9\n",
            "16\n",
            "25\n"
          ]
        }
      ]
    },
    {
      "cell_type": "markdown",
      "source": [
        "#### **For Loop**"
      ],
      "metadata": {
        "id": "WDW_guh1RFuK"
      }
    },
    {
      "cell_type": "code",
      "source": [
        "for i in my_list:\n",
        "  print(f(i))"
      ],
      "metadata": {
        "colab": {
          "base_uri": "https://localhost:8080/"
        },
        "id": "_XJ7egt3RE5d",
        "outputId": "26d47cd1-1a4a-475b-e2ba-d4151ba6d10b"
      },
      "execution_count": 17,
      "outputs": [
        {
          "output_type": "stream",
          "name": "stdout",
          "text": [
            "0\n",
            "1\n",
            "4\n",
            "9\n",
            "16\n",
            "25\n"
          ]
        }
      ]
    },
    {
      "cell_type": "markdown",
      "source": [
        "### **Task #2**\n",
        "\n",
        "Let's say that we only want to square the even numbers. Which of the following code blocks do you like the most?"
      ],
      "metadata": {
        "id": "vCZm3IesRemu"
      }
    },
    {
      "cell_type": "code",
      "source": [
        "# Code Block 1\n",
        "\n",
        "my_list = [0, 1, 2, 3, 4, 5]\n",
        "\n",
        "def f(x):\n",
        "  if x%2 == 0:\n",
        "    return x**2\n",
        "  else:\n",
        "    return x\n",
        "\n",
        "for i in my_list:\n",
        "  print(f(i))"
      ],
      "metadata": {
        "colab": {
          "base_uri": "https://localhost:8080/"
        },
        "id": "oXW5ipzfX1WL",
        "outputId": "7e05af64-c3de-45f2-af15-3c77df1c892b"
      },
      "execution_count": 18,
      "outputs": [
        {
          "output_type": "stream",
          "name": "stdout",
          "text": [
            "0\n",
            "1\n",
            "4\n",
            "3\n",
            "16\n",
            "5\n"
          ]
        }
      ]
    },
    {
      "cell_type": "code",
      "source": [
        "# Code Block 2\n",
        "\n",
        "my_list = [0, 1, 2, 3, 4, 5]\n",
        "\n",
        "def f(x):\n",
        "  return x**2\n",
        "\n",
        "for i in my_list:\n",
        "  if i%2 == 0:\n",
        "    print(f(i))\n",
        "  else:\n",
        "    print(i)"
      ],
      "metadata": {
        "colab": {
          "base_uri": "https://localhost:8080/"
        },
        "id": "HMO6GditZpDk",
        "outputId": "22fbb18b-903f-48fe-8910-43c08c48cf1d"
      },
      "execution_count": 19,
      "outputs": [
        {
          "output_type": "stream",
          "name": "stdout",
          "text": [
            "0\n",
            "1\n",
            "4\n",
            "3\n",
            "16\n",
            "5\n"
          ]
        }
      ]
    },
    {
      "cell_type": "code",
      "source": [
        "# Code Block 3\n",
        "\n",
        "my_list = [0, 1, 2, 3, 4, 5]\n",
        "\n",
        "def f(x):\n",
        "  return x**2\n",
        "\n",
        "for i in my_list:\n",
        "  if i % 2 == 0:\n",
        "    x = f(i)\n",
        "  else:\n",
        "    x = i\n",
        "  print(x)"
      ],
      "metadata": {
        "colab": {
          "base_uri": "https://localhost:8080/"
        },
        "id": "xTkRSbPsayUn",
        "outputId": "c7fbf925-1cda-4349-be2a-1739f488e798"
      },
      "execution_count": 21,
      "outputs": [
        {
          "output_type": "stream",
          "name": "stdout",
          "text": [
            "0\n",
            "1\n",
            "4\n",
            "3\n",
            "16\n",
            "5\n"
          ]
        }
      ]
    },
    {
      "cell_type": "code",
      "source": [],
      "metadata": {
        "id": "lP_phs5EbAPi"
      },
      "execution_count": 20,
      "outputs": []
    }
  ]
}