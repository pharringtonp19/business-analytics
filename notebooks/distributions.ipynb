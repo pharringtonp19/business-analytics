{
  "nbformat": 4,
  "nbformat_minor": 0,
  "metadata": {
    "colab": {
      "provenance": [],
      "authorship_tag": "ABX9TyOqN6hDwTYjwNAV18a9A0od",
      "include_colab_link": true
    },
    "kernelspec": {
      "name": "python3",
      "display_name": "Python 3"
    },
    "language_info": {
      "name": "python"
    }
  },
  "cells": [
    {
      "cell_type": "markdown",
      "metadata": {
        "id": "view-in-github",
        "colab_type": "text"
      },
      "source": [
        "<a href=\"https://colab.research.google.com/github/pharringtonp19/business-analytics/blob/main/notebooks/distributions.ipynb\" target=\"_parent\"><img src=\"https://colab.research.google.com/assets/colab-badge.svg\" alt=\"Open In Colab\"/></a>"
      ]
    },
    {
      "cell_type": "markdown",
      "source": [
        "### **References**\n",
        "\n",
        "- https://gist.github.com/mwaskom/de44147ed2974457ad6372750bbe5751"
      ],
      "metadata": {
        "id": "c98VzD9E-lp-"
      }
    },
    {
      "cell_type": "markdown",
      "source": [
        "### **Install Libraries**"
      ],
      "metadata": {
        "id": "zCKmhAxp0yyO"
      }
    },
    {
      "cell_type": "code",
      "execution_count": 1,
      "metadata": {
        "colab": {
          "base_uri": "https://localhost:8080/"
        },
        "id": "mLxwkc7G0CfX",
        "outputId": "6407fe53-276e-4d30-a5ff-a0571967f8d9"
      },
      "outputs": [
        {
          "output_type": "stream",
          "name": "stdout",
          "text": [
            "Collecting oryx\n",
            "  Downloading oryx-0.2.7-py3-none-any.whl.metadata (560 bytes)\n",
            "Requirement already satisfied: jax<0.5.0,>=0.4.6 in /usr/local/lib/python3.10/dist-packages (from oryx) (0.4.33)\n",
            "Requirement already satisfied: tensorflow-probability>=0.19.0 in /usr/local/lib/python3.10/dist-packages (from oryx) (0.24.0)\n",
            "Requirement already satisfied: jaxlib<=0.4.33,>=0.4.33 in /usr/local/lib/python3.10/dist-packages (from jax<0.5.0,>=0.4.6->oryx) (0.4.33)\n",
            "Requirement already satisfied: ml-dtypes>=0.2.0 in /usr/local/lib/python3.10/dist-packages (from jax<0.5.0,>=0.4.6->oryx) (0.4.1)\n",
            "Requirement already satisfied: numpy>=1.24 in /usr/local/lib/python3.10/dist-packages (from jax<0.5.0,>=0.4.6->oryx) (1.26.4)\n",
            "Requirement already satisfied: opt-einsum in /usr/local/lib/python3.10/dist-packages (from jax<0.5.0,>=0.4.6->oryx) (3.4.0)\n",
            "Requirement already satisfied: scipy>=1.10 in /usr/local/lib/python3.10/dist-packages (from jax<0.5.0,>=0.4.6->oryx) (1.13.1)\n",
            "Requirement already satisfied: absl-py in /usr/local/lib/python3.10/dist-packages (from tensorflow-probability>=0.19.0->oryx) (1.4.0)\n",
            "Requirement already satisfied: six>=1.10.0 in /usr/local/lib/python3.10/dist-packages (from tensorflow-probability>=0.19.0->oryx) (1.16.0)\n",
            "Requirement already satisfied: decorator in /usr/local/lib/python3.10/dist-packages (from tensorflow-probability>=0.19.0->oryx) (4.4.2)\n",
            "Requirement already satisfied: cloudpickle>=1.3 in /usr/local/lib/python3.10/dist-packages (from tensorflow-probability>=0.19.0->oryx) (3.1.0)\n",
            "Requirement already satisfied: gast>=0.3.2 in /usr/local/lib/python3.10/dist-packages (from tensorflow-probability>=0.19.0->oryx) (0.6.0)\n",
            "Requirement already satisfied: dm-tree in /usr/local/lib/python3.10/dist-packages (from tensorflow-probability>=0.19.0->oryx) (0.1.8)\n",
            "Downloading oryx-0.2.7-py3-none-any.whl (206 kB)\n",
            "\u001b[2K   \u001b[90m━━━━━━━━━━━━━━━━━━━━━━━━━━━━━━━━━━━━━━━━\u001b[0m \u001b[32m206.5/206.5 kB\u001b[0m \u001b[31m2.3 MB/s\u001b[0m eta \u001b[36m0:00:00\u001b[0m\n",
            "\u001b[?25hInstalling collected packages: oryx\n",
            "Successfully installed oryx-0.2.7\n"
          ]
        }
      ],
      "source": [
        "!pip install oryx"
      ]
    },
    {
      "cell_type": "markdown",
      "source": [
        "### **Import Functions**"
      ],
      "metadata": {
        "id": "BJ0HBNkK01k1"
      }
    },
    {
      "cell_type": "code",
      "source": [
        "from functools import partial\n",
        "\n",
        "import matplotlib.pyplot as plt\n",
        "import seaborn as sns\n",
        "sns.set(style='white')\n",
        "\n",
        "import jax\n",
        "import jax.numpy as jnp\n",
        "from jax import jit, vmap, grad\n",
        "from jax import random\n",
        "\n",
        "from tensorflow_probability.substrates import jax as tfp\n",
        "tfd = tfp.distributions\n",
        "\n",
        "import oryx\n",
        "from oryx.core.ppl import random_variable\n",
        "from oryx.core.ppl import log_prob\n",
        "from oryx.core.ppl import joint_sample\n",
        "from oryx.core.ppl import joint_log_prob\n",
        "from oryx.core.ppl import block\n",
        "from oryx.core.ppl import intervene\n",
        "from oryx.core.ppl import conditional\n",
        "from oryx.core.ppl import graph_replace\n",
        "from oryx.core.ppl import nest"
      ],
      "metadata": {
        "id": "BgiL0BKw0Dtp"
      },
      "execution_count": 29,
      "outputs": []
    },
    {
      "cell_type": "markdown",
      "source": [
        "### **Normal Random Variable**"
      ],
      "metadata": {
        "id": "0QAWWsdTAxqG"
      }
    },
    {
      "cell_type": "code",
      "source": [
        "def normal(key):\n",
        "  X = random_variable(tfd.Normal(0., 1.)) # Kind of Random Variable\n",
        "  return X(key)                          # In Python the sample space is the key. Here the Random Variable maps a key to a value\n",
        "\n",
        "# Calling the Function\n",
        "print(normal(random.PRNGKey(0)))"
      ],
      "metadata": {
        "colab": {
          "base_uri": "https://localhost:8080/"
        },
        "id": "o1yl5lAo36CT",
        "outputId": "ba94295f-aa21-493e-82bc-711b065497e9"
      },
      "execution_count": 55,
      "outputs": [
        {
          "output_type": "stream",
          "name": "stdout",
          "text": [
            "-0.20584226\n"
          ]
        }
      ]
    },
    {
      "cell_type": "markdown",
      "source": [
        "### **Creating a Bunch of Keys**"
      ],
      "metadata": {
        "id": "kyp5Z7MQ520H"
      }
    },
    {
      "cell_type": "code",
      "source": [
        "a_bunch_of_keys = jax.random.split(jax.random.PRNGKey(0), 500_000)\n",
        "print(f\"There are {len(a_bunch_of_keys)} keys\")"
      ],
      "metadata": {
        "colab": {
          "base_uri": "https://localhost:8080/"
        },
        "id": "_MYsWXPb4MMF",
        "outputId": "5ce0b03e-23a4-475a-8264-b7d3cd28c03e"
      },
      "execution_count": 68,
      "outputs": [
        {
          "output_type": "stream",
          "name": "stdout",
          "text": [
            "There are 500000 keys\n"
          ]
        }
      ]
    },
    {
      "cell_type": "markdown",
      "source": [
        "### **Evaluating the Random Variable Across a bunch of Keys**"
      ],
      "metadata": {
        "id": "yvm6K4Qd5eKF"
      }
    },
    {
      "cell_type": "code",
      "source": [
        "ys = jax.vmap(normal)(a_bunch_of_keys)"
      ],
      "metadata": {
        "id": "J9LIk7g85o-7"
      },
      "execution_count": 69,
      "outputs": []
    },
    {
      "cell_type": "code",
      "source": [
        "sns.kdeplot(ys, fill=True)\n",
        "plt.ylabel('')\n",
        "plt.title('Density', loc='left')\n",
        "ax = plt.gca()\n",
        "ax.spines['right'].set_visible(False)\n",
        "ax.spines['top'].set_visible(False)\n",
        "ax.annotate(f'Mean: {jnp.mean(ys):.3f}\\n Std: {jnp.std(ys):.3f}',\n",
        "            xy = (.8, .9),\n",
        "            xycoords='axes fraction',\n",
        "            ha='left',\n",
        "            va=\"center\",\n",
        "            size=10)\n",
        "\n",
        "plt.show()"
      ],
      "metadata": {
        "colab": {
          "base_uri": "https://localhost:8080/",
          "height": 457
        },
        "id": "v5igEcqS-Izk",
        "outputId": "4631bf54-26ad-4b74-d85e-2513986fd6a7"
      },
      "execution_count": 70,
      "outputs": [
        {
          "output_type": "display_data",
          "data": {
            "text/plain": [
              "<Figure size 640x480 with 1 Axes>"
            ],
            "image/png": "[encoded data removed]"
          },
          "metadata": {}
        }
      ]
    },
    {
      "cell_type": "code",
      "source": [],
      "metadata": {
        "id": "ppPfsxOt-MRm"
      },
      "execution_count": null,
      "outputs": []
    }
  ]
}