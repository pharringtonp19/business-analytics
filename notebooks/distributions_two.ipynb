{
  "nbformat": 4,
  "nbformat_minor": 0,
  "metadata": {
    "colab": {
      "provenance": [],
      "authorship_tag": "ABX9TyNpKi/Bo5BR7FYFZ9Rim5rx",
      "include_colab_link": true
    },
    "kernelspec": {
      "name": "python3",
      "display_name": "Python 3"
    },
    "language_info": {
      "name": "python"
    }
  },
  "cells": [
    {
      "cell_type": "markdown",
      "metadata": {
        "id": "view-in-github",
        "colab_type": "text"
      },
      "source": [
        "<a href=\"https://colab.research.google.com/github/pharringtonp19/business-analytics/blob/main/notebooks/distributions_two.ipynb\" target=\"_parent\"><img src=\"https://colab.research.google.com/assets/colab-badge.svg\" alt=\"Open In Colab\"/></a>"
      ]
    },
    {
      "cell_type": "markdown",
      "source": [
        "### **References**\n",
        "\n",
        "- https://gist.github.com/mwaskom/de44147ed2974457ad6372750bbe5751"
      ],
      "metadata": {
        "id": "c98VzD9E-lp-"
      }
    },
    {
      "cell_type": "markdown",
      "source": [
        "### **Install Libraries**"
      ],
      "metadata": {
        "id": "zCKmhAxp0yyO"
      }
    },
    {
      "cell_type": "code",
      "execution_count": 19,
      "metadata": {
        "colab": {
          "base_uri": "https://localhost:8080/"
        },
        "id": "mLxwkc7G0CfX",
        "outputId": "eb929e0c-dc9f-4e59-dabc-b50bda09e644"
      },
      "outputs": [
        {
          "output_type": "stream",
          "name": "stdout",
          "text": [
            "Requirement already satisfied: oryx in /usr/local/lib/python3.10/dist-packages (0.2.7)\n",
            "Requirement already satisfied: jax<0.5.0,>=0.4.6 in /usr/local/lib/python3.10/dist-packages (from oryx) (0.4.33)\n",
            "Requirement already satisfied: tensorflow-probability>=0.19.0 in /usr/local/lib/python3.10/dist-packages (from oryx) (0.24.0)\n",
            "Requirement already satisfied: jaxlib<=0.4.33,>=0.4.33 in /usr/local/lib/python3.10/dist-packages (from jax<0.5.0,>=0.4.6->oryx) (0.4.33)\n",
            "Requirement already satisfied: ml-dtypes>=0.2.0 in /usr/local/lib/python3.10/dist-packages (from jax<0.5.0,>=0.4.6->oryx) (0.4.1)\n",
            "Requirement already satisfied: numpy>=1.24 in /usr/local/lib/python3.10/dist-packages (from jax<0.5.0,>=0.4.6->oryx) (1.26.4)\n",
            "Requirement already satisfied: opt-einsum in /usr/local/lib/python3.10/dist-packages (from jax<0.5.0,>=0.4.6->oryx) (3.4.0)\n",
            "Requirement already satisfied: scipy>=1.10 in /usr/local/lib/python3.10/dist-packages (from jax<0.5.0,>=0.4.6->oryx) (1.13.1)\n",
            "Requirement already satisfied: absl-py in /usr/local/lib/python3.10/dist-packages (from tensorflow-probability>=0.19.0->oryx) (1.4.0)\n",
            "Requirement already satisfied: six>=1.10.0 in /usr/local/lib/python3.10/dist-packages (from tensorflow-probability>=0.19.0->oryx) (1.16.0)\n",
            "Requirement already satisfied: decorator in /usr/local/lib/python3.10/dist-packages (from tensorflow-probability>=0.19.0->oryx) (4.4.2)\n",
            "Requirement already satisfied: cloudpickle>=1.3 in /usr/local/lib/python3.10/dist-packages (from tensorflow-probability>=0.19.0->oryx) (3.1.0)\n",
            "Requirement already satisfied: gast>=0.3.2 in /usr/local/lib/python3.10/dist-packages (from tensorflow-probability>=0.19.0->oryx) (0.6.0)\n",
            "Requirement already satisfied: dm-tree in /usr/local/lib/python3.10/dist-packages (from tensorflow-probability>=0.19.0->oryx) (0.1.8)\n"
          ]
        }
      ],
      "source": [
        "!pip install oryx"
      ]
    },
    {
      "cell_type": "markdown",
      "source": [
        "### **Import Functions**"
      ],
      "metadata": {
        "id": "BJ0HBNkK01k1"
      }
    },
    {
      "cell_type": "code",
      "source": [
        "from functools import partial\n",
        "\n",
        "import matplotlib.pyplot as plt\n",
        "import seaborn as sns\n",
        "sns.set(style='white')\n",
        "\n",
        "import jax\n",
        "import jax.numpy as jnp\n",
        "from jax import jit, vmap, grad\n",
        "from jax import random\n",
        "\n",
        "from tensorflow_probability.substrates import jax as tfp\n",
        "tfd = tfp.distributions\n",
        "\n",
        "import oryx\n",
        "from oryx.core.ppl import random_variable\n",
        "from oryx.core.ppl import log_prob\n",
        "from oryx.core.ppl import joint_sample\n",
        "from oryx.core.ppl import joint_log_prob\n",
        "from oryx.core.ppl import block\n",
        "from oryx.core.ppl import intervene\n",
        "from oryx.core.ppl import conditional\n",
        "from oryx.core.ppl import graph_replace\n",
        "from oryx.core.ppl import nest"
      ],
      "metadata": {
        "id": "BgiL0BKw0Dtp"
      },
      "execution_count": 20,
      "outputs": []
    },
    {
      "cell_type": "markdown",
      "source": [
        "## **Normal Random Variable**"
      ],
      "metadata": {
        "id": "0QAWWsdTAxqG"
      }
    },
    {
      "cell_type": "code",
      "source": [
        "def X(p, key1, key2):\n",
        "  question = random_variable(tfd.Uniform(0., 1.))(key1)\n",
        "  delta = random_variable(tfd.Uniform(-0.25, 0.25))(key2)\n",
        "  return (question < p + delta).astype(jnp.float32)\n",
        "\n",
        "p = 0.8\n",
        "X(p, jax.random.PRNGKey(0), jax.random.PRNGKey(1))"
      ],
      "metadata": {
        "colab": {
          "base_uri": "https://localhost:8080/"
        },
        "id": "o1yl5lAo36CT",
        "outputId": "ae9c613e-eb5c-44f5-f701-3befcf9a3997"
      },
      "execution_count": 21,
      "outputs": [
        {
          "output_type": "execute_result",
          "data": {
            "text/plain": [
              "Array(1., dtype=float32)"
            ]
          },
          "metadata": {},
          "execution_count": 21
        }
      ]
    },
    {
      "cell_type": "markdown",
      "source": [
        "### **Creating a Bunch of Keys**"
      ],
      "metadata": {
        "id": "kyp5Z7MQ520H"
      }
    },
    {
      "cell_type": "code",
      "source": [
        "key = jax.random.PRNGKey(0)\n",
        "k1, k2 = jax.random.split(key)\n",
        "a_bunch_of_keys = jax.random.split(k1, 50_000)\n",
        "b_bunch_of_keys = jax.random.split(k2, 50_000)"
      ],
      "metadata": {
        "id": "_MYsWXPb4MMF"
      },
      "execution_count": 22,
      "outputs": []
    },
    {
      "cell_type": "markdown",
      "source": [
        "### **Evaluating the Random Variable Across a bunch of Keys**"
      ],
      "metadata": {
        "id": "yvm6K4Qd5eKF"
      }
    },
    {
      "cell_type": "code",
      "source": [
        "ys = jax.vmap(partial(X, 0.8))(a_bunch_of_keys, b_bunch_of_keys)"
      ],
      "metadata": {
        "id": "J9LIk7g85o-7"
      },
      "execution_count": 23,
      "outputs": []
    },
    {
      "cell_type": "markdown",
      "source": [
        "### **Plotting**"
      ],
      "metadata": {
        "id": "gwMnupV4CmQ0"
      }
    },
    {
      "cell_type": "code",
      "source": [
        "sns.kdeplot(ys, fill=True)\n",
        "plt.ylabel('')\n",
        "plt.title('Density', loc='left')\n",
        "ax = plt.gca()\n",
        "ax.spines['right'].set_visible(False)\n",
        "ax.spines['top'].set_visible(False)\n",
        "ax.annotate(f'Mean: {jnp.mean(ys):.3f}\\n Std: {jnp.std(ys):.3f}',\n",
        "            xy = (.5, .9),\n",
        "            xycoords='axes fraction',\n",
        "            ha='left',\n",
        "            va=\"center\",\n",
        "            size=10)\n",
        "\n",
        "plt.show()"
      ],
      "metadata": {
        "colab": {
          "base_uri": "https://localhost:8080/",
          "height": 457
        },
        "id": "v5igEcqS-Izk",
        "outputId": "dc5adfdc-3f47-4da8-fafa-b0a8cc348af6"
      },
      "execution_count": 24,
      "outputs": [
        {
          "output_type": "display_data",
          "data": {
            "text/plain": [
              "<Figure size 640x480 with 1 Axes>"
            ],
            "image/png": "[encoded data removed]"
          },
          "metadata": {}
        }
      ]
    },
    {
      "cell_type": "markdown",
      "source": [
        "## **Sample Mean (i.i.d)**"
      ],
      "metadata": {
        "id": "2UT-j1QtFPfD"
      }
    },
    {
      "cell_type": "code",
      "source": [
        "def SampleMean_iid(p, n, key):\n",
        "  k1, k2 = jax.random.split(key, 2)\n",
        "  k1s = jax.random.split(k1, n)\n",
        "  k2s = jax.random.split(k2, n)\n",
        "  ys = jax.vmap(partial(X, p))(k1s, k2s)\n",
        "  return jnp.mean(ys)\n",
        "\n",
        "def SampleMean_cluster(p, n, key):\n",
        "  k1, k2 = jax.random.split(key, 2)\n",
        "  k1s = jax.random.split(k1, n)\n",
        "  k2s = jnp.tile(key, (n, 1))\n",
        "  ys = jax.vmap(partial(X, p))(k1s, k2s)\n",
        "  return jnp.mean(ys)"
      ],
      "metadata": {
        "id": "JSBwGRhsYPEF"
      },
      "execution_count": 49,
      "outputs": []
    },
    {
      "cell_type": "code",
      "source": [
        "p = 0.7\n",
        "n = 100\n",
        "\n",
        "a_bunch_of_keys = jax.random.split(jax.random.PRNGKey(0), 20_000)\n",
        "ys_iid = jax.vmap(partial(SampleMean_iid, p, n))(a_bunch_of_keys)\n",
        "ys_cluster = jax.vmap(partial(SampleMean_cluster, p, n))(a_bunch_of_keys)\n",
        "\n",
        "\n",
        "sns.kdeplot(ys_iid, fill=True, label='IID')\n",
        "sns.kdeplot(ys_cluster, fill=True, label='cluster')\n",
        "plt.ylabel('')\n",
        "plt.title('Density', loc='left')\n",
        "ax = plt.gca()\n",
        "ax.spines['right'].set_visible(False)\n",
        "ax.spines['top'].set_visible(False)\n",
        "plt.xlim(0, 1)\n",
        "plt.legend(frameon=False)\n",
        "plt.show()"
      ],
      "metadata": {
        "colab": {
          "base_uri": "https://localhost:8080/",
          "height": 457
        },
        "id": "ppPfsxOt-MRm",
        "outputId": "81bd7c6a-04c9-4aa4-eb73-bcf446551458"
      },
      "execution_count": 58,
      "outputs": [
        {
          "output_type": "display_data",
          "data": {
            "text/plain": [
              "<Figure size 640x480 with 1 Axes>"
            ],
            "image/png": "[encoded data removed]"
          },
          "metadata": {}
        }
      ]
    },
    {
      "cell_type": "code",
      "source": [],
      "metadata": {
        "id": "eELWQvLmXl_Q"
      },
      "execution_count": null,
      "outputs": []
    }
  ]
}