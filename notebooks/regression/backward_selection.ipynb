{
  "nbformat": 4,
  "nbformat_minor": 0,
  "metadata": {
    "colab": {
      "provenance": [],
      "authorship_tag": "ABX9TyNvsKVvKm/gjbiwhPJIcn9v",
      "include_colab_link": true
    },
    "kernelspec": {
      "name": "python3",
      "display_name": "Python 3"
    },
    "language_info": {
      "name": "python"
    }
  },
  "cells": [
    {
      "cell_type": "markdown",
      "metadata": {
        "id": "view-in-github",
        "colab_type": "text"
      },
      "source": [
        "<a href=\"https://colab.research.google.com/github/pharringtonp19/business-analytics/blob/main/notebooks/regression/backward_selection.ipynb\" target=\"_parent\"><img src=\"https://colab.research.google.com/assets/colab-badge.svg\" alt=\"Open In Colab\"/></a>"
      ]
    },
    {
      "cell_type": "code",
      "execution_count": 142,
      "metadata": {
        "colab": {
          "base_uri": "https://localhost:8080/"
        },
        "id": "6Oodh9Qc-MvJ",
        "outputId": "c23f4675-5a09-4f19-9614-eb16c9d6bbf0"
      },
      "outputs": [
        {
          "output_type": "stream",
          "name": "stdout",
          "text": [
            "fatal: destination path 'business-analytics' already exists and is not an empty directory.\n"
          ]
        }
      ],
      "source": [
        "!git clone https://github.com/pharringtonp19/business-analytics.git"
      ]
    },
    {
      "cell_type": "markdown",
      "source": [
        "### **Import Packages**"
      ],
      "metadata": {
        "id": "f26Jqdel-hbb"
      }
    },
    {
      "cell_type": "code",
      "source": [
        "import pandas as pd\n",
        "pd.set_option('display.max_columns', None)\n",
        "import matplotlib.pyplot as plt\n",
        "import matplotlib.ticker as mticker\n",
        "import statsmodels.formula.api as smf\n",
        "from statsmodels.iolib.summary2 import summary_col\n",
        "import plotly.graph_objects as go\n",
        "import plotly.express as px\n",
        "import numpy as np\n",
        "import jax.numpy as jnp\n",
        "import jax\n",
        "import seaborn as sb\n",
        "from functools import partial"
      ],
      "metadata": {
        "id": "I7sWtc92-Was"
      },
      "execution_count": 143,
      "outputs": []
    },
    {
      "cell_type": "markdown",
      "source": [
        "### **Specify Dataset**"
      ],
      "metadata": {
        "id": "wVa1nk3O6Is7"
      }
    },
    {
      "cell_type": "code",
      "source": [
        "dataset = 'brookline'"
      ],
      "metadata": {
        "id": "ULIxp73-1QjM"
      },
      "execution_count": 144,
      "outputs": []
    },
    {
      "cell_type": "markdown",
      "source": [
        "### **Read In Data Set**"
      ],
      "metadata": {
        "id": "GSK0cZ4Z-koJ"
      }
    },
    {
      "cell_type": "code",
      "source": [
        "if dataset == 'brookline':\n",
        "  df = pd.read_csv('/content/business-analytics/datasets/brookline.csv')\n",
        "else:\n",
        "  df = pd.read_csv('/content/business-analytics/datasets/CASchools.csv')\n",
        "  df['Students_per_Teacher'] = df['students'] / df['teachers']\n",
        "df.head()"
      ],
      "metadata": {
        "id": "cNM7U1qP-bE8",
        "colab": {
          "base_uri": "https://localhost:8080/",
          "height": 206
        },
        "outputId": "20a7cf0e-f902-436b-d08c-d17e7812e9be"
      },
      "execution_count": 145,
      "outputs": [
        {
          "output_type": "execute_result",
          "data": {
            "text/plain": [
              "    price  stNumber         stName  size  beacon  baseFloor buildingStyle  \\\n",
              "0  174000       150    PLEASANT ST  1060       0          4      MID-RISE   \n",
              "1  337000         7    LEVERETT ST   831       0          1        DECKER   \n",
              "2  850000        24      EUSTON ST  2246       0          1       ROW-END   \n",
              "3  516000       417  WASHINGTON ST  1574       0          2      LOW-RISE   \n",
              "4  145000       150    PLEASANT ST   669       0          4      MID-RISE   \n",
              "\n",
              "   elevators  rooms  bedrooms  fullBathrooms  halfBathrooms  garage  \n",
              "0          1      4         2              1              1     1.0  \n",
              "1          0      4         2              1              0     0.0  \n",
              "2          0     10         6              3              0     0.0  \n",
              "3          0      6         3              2              0     0.0  \n",
              "4          1      3         1              1              0     1.0  "
            ],
            "text/html": [
              "\n",
              "  <div id=\"df-bc5ffb9e-daf0-4a33-955d-95d20476cd13\" class=\"colab-df-container\">\n",
              "    <div>\n",
              "<style scoped>\n",
              "    .dataframe tbody tr th:only-of-type {\n",
              "        vertical-align: middle;\n",
              "    }\n",
              "\n",
              "    .dataframe tbody tr th {\n",
              "        vertical-align: top;\n",
              "    }\n",
              "\n",
              "    .dataframe thead th {\n",
              "        text-align: right;\n",
              "    }\n",
              "</style>\n",
              "<table border=\"1\" class=\"dataframe\">\n",
              "  <thead>\n",
              "    <tr style=\"text-align: right;\">\n",
              "      <th></th>\n",
              "      <th>price</th>\n",
              "      <th>stNumber</th>\n",
              "      <th>stName</th>\n",
              "      <th>size</th>\n",
              "      <th>beacon</th>\n",
              "      <th>baseFloor</th>\n",
              "      <th>buildingStyle</th>\n",
              "      <th>elevators</th>\n",
              "      <th>rooms</th>\n",
              "      <th>bedrooms</th>\n",
              "      <th>fullBathrooms</th>\n",
              "      <th>halfBathrooms</th>\n",
              "      <th>garage</th>\n",
              "    </tr>\n",
              "  </thead>\n",
              "  <tbody>\n",
              "    <tr>\n",
              "      <th>0</th>\n",
              "      <td>174000</td>\n",
              "      <td>150</td>\n",
              "      <td>PLEASANT ST</td>\n",
              "      <td>1060</td>\n",
              "      <td>0</td>\n",
              "      <td>4</td>\n",
              "      <td>MID-RISE</td>\n",
              "      <td>1</td>\n",
              "      <td>4</td>\n",
              "      <td>2</td>\n",
              "      <td>1</td>\n",
              "      <td>1</td>\n",
              "      <td>1.0</td>\n",
              "    </tr>\n",
              "    <tr>\n",
              "      <th>1</th>\n",
              "      <td>337000</td>\n",
              "      <td>7</td>\n",
              "      <td>LEVERETT ST</td>\n",
              "      <td>831</td>\n",
              "      <td>0</td>\n",
              "      <td>1</td>\n",
              "      <td>DECKER</td>\n",
              "      <td>0</td>\n",
              "      <td>4</td>\n",
              "      <td>2</td>\n",
              "      <td>1</td>\n",
              "      <td>0</td>\n",
              "      <td>0.0</td>\n",
              "    </tr>\n",
              "    <tr>\n",
              "      <th>2</th>\n",
              "      <td>850000</td>\n",
              "      <td>24</td>\n",
              "      <td>EUSTON ST</td>\n",
              "      <td>2246</td>\n",
              "      <td>0</td>\n",
              "      <td>1</td>\n",
              "      <td>ROW-END</td>\n",
              "      <td>0</td>\n",
              "      <td>10</td>\n",
              "      <td>6</td>\n",
              "      <td>3</td>\n",
              "      <td>0</td>\n",
              "      <td>0.0</td>\n",
              "    </tr>\n",
              "    <tr>\n",
              "      <th>3</th>\n",
              "      <td>516000</td>\n",
              "      <td>417</td>\n",
              "      <td>WASHINGTON ST</td>\n",
              "      <td>1574</td>\n",
              "      <td>0</td>\n",
              "      <td>2</td>\n",
              "      <td>LOW-RISE</td>\n",
              "      <td>0</td>\n",
              "      <td>6</td>\n",
              "      <td>3</td>\n",
              "      <td>2</td>\n",
              "      <td>0</td>\n",
              "      <td>0.0</td>\n",
              "    </tr>\n",
              "    <tr>\n",
              "      <th>4</th>\n",
              "      <td>145000</td>\n",
              "      <td>150</td>\n",
              "      <td>PLEASANT ST</td>\n",
              "      <td>669</td>\n",
              "      <td>0</td>\n",
              "      <td>4</td>\n",
              "      <td>MID-RISE</td>\n",
              "      <td>1</td>\n",
              "      <td>3</td>\n",
              "      <td>1</td>\n",
              "      <td>1</td>\n",
              "      <td>0</td>\n",
              "      <td>1.0</td>\n",
              "    </tr>\n",
              "  </tbody>\n",
              "</table>\n",
              "</div>\n",
              "    <div class=\"colab-df-buttons\">\n",
              "\n",
              "  <div class=\"colab-df-container\">\n",
              "    <button class=\"colab-df-convert\" onclick=\"convertToInteractive('df-bc5ffb9e-daf0-4a33-955d-95d20476cd13')\"\n",
              "            title=\"Convert this dataframe to an interactive table.\"\n",
              "            style=\"display:none;\">\n",
              "\n",
              "  <svg xmlns=\"http://www.w3.org/2000/svg\" height=\"24px\" viewBox=\"0 -960 960 960\">\n",
              "    <path d=\"M120-120v-720h720v720H120Zm60-500h600v-160H180v160Zm220 220h160v-160H400v160Zm0 220h160v-160H400v160ZM180-400h160v-160H180v160Zm440 0h160v-160H620v160ZM180-180h160v-160H180v160Zm440 0h160v-160H620v160Z\"/>\n",
              "  </svg>\n",
              "    </button>\n",
              "\n",
              "  <style>\n",
              "    .colab-df-container {\n",
              "      display:flex;\n",
              "      gap: 12px;\n",
              "    }\n",
              "\n",
              "    .colab-df-convert {\n",
              "      background-color: #E8F0FE;\n",
              "      border: none;\n",
              "      border-radius: 50%;\n",
              "      cursor: pointer;\n",
              "      display: none;\n",
              "      fill: #1967D2;\n",
              "      height: 32px;\n",
              "      padding: 0 0 0 0;\n",
              "      width: 32px;\n",
              "    }\n",
              "\n",
              "    .colab-df-convert:hover {\n",
              "      background-color: #E2EBFA;\n",
              "      box-shadow: 0px 1px 2px rgba(60, 64, 67, 0.3), 0px 1px 3px 1px rgba(60, 64, 67, 0.15);\n",
              "      fill: #174EA6;\n",
              "    }\n",
              "\n",
              "    .colab-df-buttons div {\n",
              "      margin-bottom: 4px;\n",
              "    }\n",
              "\n",
              "    [theme=dark] .colab-df-convert {\n",
              "      background-color: #3B4455;\n",
              "      fill: #D2E3FC;\n",
              "    }\n",
              "\n",
              "    [theme=dark] .colab-df-convert:hover {\n",
              "      background-color: #434B5C;\n",
              "      box-shadow: 0px 1px 3px 1px rgba(0, 0, 0, 0.15);\n",
              "      filter: drop-shadow(0px 1px 2px rgba(0, 0, 0, 0.3));\n",
              "      fill: #FFFFFF;\n",
              "    }\n",
              "  </style>\n",
              "\n",
              "    <script>\n",
              "      const buttonEl =\n",
              "        document.querySelector('#df-bc5ffb9e-daf0-4a33-955d-95d20476cd13 button.colab-df-convert');\n",
              "      buttonEl.style.display =\n",
              "        google.colab.kernel.accessAllowed ? 'block' : 'none';\n",
              "\n",
              "      async function convertToInteractive(key) {\n",
              "        const element = document.querySelector('#df-bc5ffb9e-daf0-4a33-955d-95d20476cd13');\n",
              "        const dataTable =\n",
              "          await google.colab.kernel.invokeFunction('convertToInteractive',\n",
              "                                                    [key], {});\n",
              "        if (!dataTable) return;\n",
              "\n",
              "        const docLinkHtml = 'Like what you see? Visit the ' +\n",
              "          '<a target=\"_blank\" href=https://colab.research.google.com/notebooks/data_table.ipynb>data table notebook</a>'\n",
              "          + ' to learn more about interactive tables.';\n",
              "        element.innerHTML = '';\n",
              "        dataTable['output_type'] = 'display_data';\n",
              "        await google.colab.output.renderOutput(dataTable, element);\n",
              "        const docLink = document.createElement('div');\n",
              "        docLink.innerHTML = docLinkHtml;\n",
              "        element.appendChild(docLink);\n",
              "      }\n",
              "    </script>\n",
              "  </div>\n",
              "\n",
              "\n",
              "<div id=\"df-b9f13b9e-073d-42a6-983d-5f19b9ea3fd2\">\n",
              "  <button class=\"colab-df-quickchart\" onclick=\"quickchart('df-b9f13b9e-073d-42a6-983d-5f19b9ea3fd2')\"\n",
              "            title=\"Suggest charts\"\n",
              "            style=\"display:none;\">\n",
              "\n",
              "<svg xmlns=\"http://www.w3.org/2000/svg\" height=\"24px\"viewBox=\"0 0 24 24\"\n",
              "     width=\"24px\">\n",
              "    <g>\n",
              "        <path d=\"M19 3H5c-1.1 0-2 .9-2 2v14c0 1.1.9 2 2 2h14c1.1 0 2-.9 2-2V5c0-1.1-.9-2-2-2zM9 17H7v-7h2v7zm4 0h-2V7h2v10zm4 0h-2v-4h2v4z\"/>\n",
              "    </g>\n",
              "</svg>\n",
              "  </button>\n",
              "\n",
              "<style>\n",
              "  .colab-df-quickchart {\n",
              "      --bg-color: #E8F0FE;\n",
              "      --fill-color: #1967D2;\n",
              "      --hover-bg-color: #E2EBFA;\n",
              "      --hover-fill-color: #174EA6;\n",
              "      --disabled-fill-color: #AAA;\n",
              "      --disabled-bg-color: #DDD;\n",
              "  }\n",
              "\n",
              "  [theme=dark] .colab-df-quickchart {\n",
              "      --bg-color: #3B4455;\n",
              "      --fill-color: #D2E3FC;\n",
              "      --hover-bg-color: #434B5C;\n",
              "      --hover-fill-color: #FFFFFF;\n",
              "      --disabled-bg-color: #3B4455;\n",
              "      --disabled-fill-color: #666;\n",
              "  }\n",
              "\n",
              "  .colab-df-quickchart {\n",
              "    background-color: var(--bg-color);\n",
              "    border: none;\n",
              "    border-radius: 50%;\n",
              "    cursor: pointer;\n",
              "    display: none;\n",
              "    fill: var(--fill-color);\n",
              "    height: 32px;\n",
              "    padding: 0;\n",
              "    width: 32px;\n",
              "  }\n",
              "\n",
              "  .colab-df-quickchart:hover {\n",
              "    background-color: var(--hover-bg-color);\n",
              "    box-shadow: 0 1px 2px rgba(60, 64, 67, 0.3), 0 1px 3px 1px rgba(60, 64, 67, 0.15);\n",
              "    fill: var(--button-hover-fill-color);\n",
              "  }\n",
              "\n",
              "  .colab-df-quickchart-complete:disabled,\n",
              "  .colab-df-quickchart-complete:disabled:hover {\n",
              "    background-color: var(--disabled-bg-color);\n",
              "    fill: var(--disabled-fill-color);\n",
              "    box-shadow: none;\n",
              "  }\n",
              "\n",
              "  .colab-df-spinner {\n",
              "    border: 2px solid var(--fill-color);\n",
              "    border-color: transparent;\n",
              "    border-bottom-color: var(--fill-color);\n",
              "    animation:\n",
              "      spin 1s steps(1) infinite;\n",
              "  }\n",
              "\n",
              "  @keyframes spin {\n",
              "    0% {\n",
              "      border-color: transparent;\n",
              "      border-bottom-color: var(--fill-color);\n",
              "      border-left-color: var(--fill-color);\n",
              "    }\n",
              "    20% {\n",
              "      border-color: transparent;\n",
              "      border-left-color: var(--fill-color);\n",
              "      border-top-color: var(--fill-color);\n",
              "    }\n",
              "    30% {\n",
              "      border-color: transparent;\n",
              "      border-left-color: var(--fill-color);\n",
              "      border-top-color: var(--fill-color);\n",
              "      border-right-color: var(--fill-color);\n",
              "    }\n",
              "    40% {\n",
              "      border-color: transparent;\n",
              "      border-right-color: var(--fill-color);\n",
              "      border-top-color: var(--fill-color);\n",
              "    }\n",
              "    60% {\n",
              "      border-color: transparent;\n",
              "      border-right-color: var(--fill-color);\n",
              "    }\n",
              "    80% {\n",
              "      border-color: transparent;\n",
              "      border-right-color: var(--fill-color);\n",
              "      border-bottom-color: var(--fill-color);\n",
              "    }\n",
              "    90% {\n",
              "      border-color: transparent;\n",
              "      border-bottom-color: var(--fill-color);\n",
              "    }\n",
              "  }\n",
              "</style>\n",
              "\n",
              "  <script>\n",
              "    async function quickchart(key) {\n",
              "      const quickchartButtonEl =\n",
              "        document.querySelector('#' + key + ' button');\n",
              "      quickchartButtonEl.disabled = true;  // To prevent multiple clicks.\n",
              "      quickchartButtonEl.classList.add('colab-df-spinner');\n",
              "      try {\n",
              "        const charts = await google.colab.kernel.invokeFunction(\n",
              "            'suggestCharts', [key], {});\n",
              "      } catch (error) {\n",
              "        console.error('Error during call to suggestCharts:', error);\n",
              "      }\n",
              "      quickchartButtonEl.classList.remove('colab-df-spinner');\n",
              "      quickchartButtonEl.classList.add('colab-df-quickchart-complete');\n",
              "    }\n",
              "    (() => {\n",
              "      let quickchartButtonEl =\n",
              "        document.querySelector('#df-b9f13b9e-073d-42a6-983d-5f19b9ea3fd2 button');\n",
              "      quickchartButtonEl.style.display =\n",
              "        google.colab.kernel.accessAllowed ? 'block' : 'none';\n",
              "    })();\n",
              "  </script>\n",
              "</div>\n",
              "\n",
              "    </div>\n",
              "  </div>\n"
            ],
            "application/vnd.google.colaboratory.intrinsic+json": {
              "type": "dataframe",
              "variable_name": "df",
              "summary": "{\n  \"name\": \"df\",\n  \"rows\": 1085,\n  \"fields\": [\n    {\n      \"column\": \"price\",\n      \"properties\": {\n        \"dtype\": \"number\",\n        \"std\": 262864,\n        \"min\": 113785,\n        \"max\": 2350000,\n        \"num_unique_values\": 557,\n        \"samples\": [\n          531000,\n          248000,\n          980000\n        ],\n        \"semantic_type\": \"\",\n        \"description\": \"\"\n      }\n    },\n    {\n      \"column\": \"stNumber\",\n      \"properties\": {\n        \"dtype\": \"number\",\n        \"std\": 464,\n        \"min\": 1,\n        \"max\": 1896,\n        \"num_unique_values\": 268,\n        \"samples\": [\n          313,\n          73,\n          28\n        ],\n        \"semantic_type\": \"\",\n        \"description\": \"\"\n      }\n    },\n    {\n      \"column\": \"stName\",\n      \"properties\": {\n        \"dtype\": \"category\",\n        \"num_unique_values\": 143,\n        \"samples\": [\n          \"GORHAM AVE\",\n          \"WALNUT ST\",\n          \"UNIVERSITY RD\"\n        ],\n        \"semantic_type\": \"\",\n        \"description\": \"\"\n      }\n    },\n    {\n      \"column\": \"size\",\n      \"properties\": {\n        \"dtype\": \"number\",\n        \"std\": 558,\n        \"min\": 159,\n        \"max\": 4163,\n        \"num_unique_values\": 703,\n        \"samples\": [\n          1240,\n          920,\n          346\n        ],\n        \"semantic_type\": \"\",\n        \"description\": \"\"\n      }\n    },\n    {\n      \"column\": \"beacon\",\n      \"properties\": {\n        \"dtype\": \"number\",\n        \"std\": 0,\n        \"min\": 0,\n        \"max\": 1,\n        \"num_unique_values\": 2,\n        \"samples\": [\n          1,\n          0\n        ],\n        \"semantic_type\": \"\",\n        \"description\": \"\"\n      }\n    },\n    {\n      \"column\": \"baseFloor\",\n      \"properties\": {\n        \"dtype\": \"number\",\n        \"std\": 2,\n        \"min\": 0,\n        \"max\": 14,\n        \"num_unique_values\": 15,\n        \"samples\": [\n          9,\n          14\n        ],\n        \"semantic_type\": \"\",\n        \"description\": \"\"\n      }\n    },\n    {\n      \"column\": \"buildingStyle\",\n      \"properties\": {\n        \"dtype\": \"category\",\n        \"num_unique_values\": 10,\n        \"samples\": [\n          \"CLUSTER-TYPE\",\n          \"DECKER\"\n        ],\n        \"semantic_type\": \"\",\n        \"description\": \"\"\n      }\n    },\n    {\n      \"column\": \"elevators\",\n      \"properties\": {\n        \"dtype\": \"number\",\n        \"std\": 1,\n        \"min\": 0,\n        \"max\": 6,\n        \"num_unique_values\": 7,\n        \"samples\": [\n          1,\n          0\n        ],\n        \"semantic_type\": \"\",\n        \"description\": \"\"\n      }\n    },\n    {\n      \"column\": \"rooms\",\n      \"properties\": {\n        \"dtype\": \"number\",\n        \"std\": 1,\n        \"min\": 1,\n        \"max\": 11,\n        \"num_unique_values\": 11,\n        \"samples\": [\n          5,\n          4\n        ],\n        \"semantic_type\": \"\",\n        \"description\": \"\"\n      }\n    },\n    {\n      \"column\": \"bedrooms\",\n      \"properties\": {\n        \"dtype\": \"number\",\n        \"std\": 0,\n        \"min\": 0,\n        \"max\": 6,\n        \"num_unique_values\": 7,\n        \"samples\": [\n          2,\n          6\n        ],\n        \"semantic_type\": \"\",\n        \"description\": \"\"\n      }\n    },\n    {\n      \"column\": \"fullBathrooms\",\n      \"properties\": {\n        \"dtype\": \"number\",\n        \"std\": 0,\n        \"min\": 0,\n        \"max\": 4,\n        \"num_unique_values\": 5,\n        \"samples\": [\n          3,\n          0\n        ],\n        \"semantic_type\": \"\",\n        \"description\": \"\"\n      }\n    },\n    {\n      \"column\": \"halfBathrooms\",\n      \"properties\": {\n        \"dtype\": \"number\",\n        \"std\": 0,\n        \"min\": 0,\n        \"max\": 2,\n        \"num_unique_values\": 3,\n        \"samples\": [\n          1,\n          0\n        ],\n        \"semantic_type\": \"\",\n        \"description\": \"\"\n      }\n    },\n    {\n      \"column\": \"garage\",\n      \"properties\": {\n        \"dtype\": \"number\",\n        \"std\": 0.8783529608606133,\n        \"min\": 0.0,\n        \"max\": 18.0,\n        \"num_unique_values\": 7,\n        \"samples\": [\n          1.0,\n          0.0\n        ],\n        \"semantic_type\": \"\",\n        \"description\": \"\"\n      }\n    }\n  ]\n}"
            }
          },
          "metadata": {},
          "execution_count": 145
        }
      ]
    },
    {
      "cell_type": "markdown",
      "source": [
        "### **Create Function**"
      ],
      "metadata": {
        "id": "t9oGEBodr2CV"
      }
    },
    {
      "cell_type": "code",
      "source": [
        "def get_pvalues(reg_formula):\n",
        "  linear_model  = smf.ols(reg_formula, df)\n",
        "  results = linear_model.fit()\n",
        "  pvalues = results.pvalues\n",
        "  p_df = pd.DataFrame(list(pvalues.items()), columns=['variable', 'pvalue'])\n",
        "  p_df = p_df[p_df['variable'] != 'Intercept']\n",
        "  p_df['base_variable'] = p_df['variable'].apply(lambda x: x.split('[')[0] if 'C(' in x else x)\n",
        "  row = p_df.groupby('base_variable')['pvalue'].min().sort_values(ascending=False).head(1)\n",
        "  return row.index[0], row.values[0]\n",
        "\n",
        "if dataset == 'brookline':\n",
        "  print(get_pvalues('price ~ beacon'))\n",
        "else:\n",
        "  print(get_pvalues('math ~ expenditure'))"
      ],
      "metadata": {
        "id": "BIZFTtMPrmdb",
        "colab": {
          "base_uri": "https://localhost:8080/"
        },
        "outputId": "4adcec82-6525-43f5-b2b8-5a15355babc2"
      },
      "execution_count": 146,
      "outputs": [
        {
          "output_type": "stream",
          "name": "stdout",
          "text": [
            "('beacon', 0.0689400325872895)\n"
          ]
        }
      ]
    },
    {
      "cell_type": "markdown",
      "source": [
        "### **Store Results**"
      ],
      "metadata": {
        "id": "09H_iFxn6ZUl"
      }
    },
    {
      "cell_type": "code",
      "source": [
        "# To Keep Track of Results\n",
        "ordered_variables = []\n",
        "pvalues = []"
      ],
      "metadata": {
        "id": "wehA-4eO6Y2t"
      },
      "execution_count": 147,
      "outputs": []
    },
    {
      "cell_type": "markdown",
      "source": [
        "### **Specify the dependent variable**"
      ],
      "metadata": {
        "id": "xrZSA9Yi6pbf"
      }
    },
    {
      "cell_type": "code",
      "source": [
        "dep_var = 'price' if dataset == 'brookline' else 'math'"
      ],
      "metadata": {
        "id": "E6XXh2fw6oM2"
      },
      "execution_count": 148,
      "outputs": []
    },
    {
      "cell_type": "markdown",
      "source": [
        "### **Create list of possible Right Hand Side Variables**"
      ],
      "metadata": {
        "id": "0UplO0n66twb"
      }
    },
    {
      "cell_type": "code",
      "source": [
        "if dataset == 'brookline':\n",
        "  eligible_vars = df.columns.drop(['stNumber', 'stName', dep_var]).tolist()\n",
        "  categorical_vars = ['buildingStyle']\n",
        "else:\n",
        "  eligible_vars = df.columns.drop(['Unnamed: 0', 'district', 'school', 'county', 'grades', dep_var]).tolist()"
      ],
      "metadata": {
        "id": "iP8zu_Sw6tHJ"
      },
      "execution_count": 149,
      "outputs": []
    },
    {
      "cell_type": "markdown",
      "source": [
        "### **Create Dictionary of Variable Name and Regression String Format**"
      ],
      "metadata": {
        "id": "jLwDTRUp-aQT"
      }
    },
    {
      "cell_type": "code",
      "source": [
        "eligible_vars = {key: key if key not in categorical_vars else f'C({key})' for key in eligible_vars}\n",
        "inverted_vars = {value: key for key, value in eligible_vars.items()}"
      ],
      "metadata": {
        "id": "rjsm5EHA9wUC"
      },
      "execution_count": 150,
      "outputs": []
    },
    {
      "cell_type": "markdown",
      "source": [
        "### **For Loop**"
      ],
      "metadata": {
        "id": "cqa0gycS8tsH"
      }
    },
    {
      "cell_type": "code",
      "source": [
        "for i in range(len(eligible_vars)):\n",
        "\n",
        "  # Create Regression Formula\n",
        "  reg_formula = dep_var + ' ~ ' + ' + '.join(list(eligible_vars.values()))\n",
        "\n",
        "  # Get Variable String and Pvalue of Highest Pvalue\n",
        "  var_string, pvalue = get_pvalues(reg_formula)\n",
        "\n",
        "  # Get Corresponding Variable\n",
        "  key = inverted_vars[var_string]\n",
        "\n",
        "  ordered_variables.append(key)\n",
        "\n",
        "  pvalues.append(pvalue)\n",
        "  del eligible_vars[key]"
      ],
      "metadata": {
        "id": "zeAAYnwUqAtH"
      },
      "execution_count": 151,
      "outputs": []
    },
    {
      "cell_type": "markdown",
      "source": [
        "### **Plot**"
      ],
      "metadata": {
        "id": "jwyui9hl2jtt"
      }
    },
    {
      "cell_type": "code",
      "source": [
        "# Create the figure and axes\n",
        "fig, ax = plt.subplots(figsize=(10, 6))\n",
        "\n",
        "# Define the width of the bars and their positions\n",
        "bar_width = 0.5\n",
        "x = np.arange(len(ordered_variables))\n",
        "\n",
        "# Plot the p-values as bars\n",
        "bars = ax.bar(ordered_variables, pvalues, width=bar_width, label=\"P-Values\", alpha=0.7)\n",
        "\n",
        "# Add labels, title, and angle the x-axis labels\n",
        "ax.set_title(\"P-Values by Variable\", loc='left')\n",
        "ax.set_xticks(x)\n",
        "ax.set_xticklabels(ordered_variables, rotation=45, ha='right')\n",
        "ax.legend(loc='upper right')\n",
        "ax.spines['right'].set_visible(False)\n",
        "ax.spines['top'].set_visible(False)\n",
        "\n",
        "# Display values above each bar\n",
        "for bar in bars:\n",
        "    height = bar.get_height()\n",
        "    ax.text(bar.get_x() + bar.get_width() / 2, height, f'{height:.3f}', ha='center', va='bottom')\n",
        "\n",
        "plt.show()"
      ],
      "metadata": {
        "id": "9KSByIp6yP-m",
        "outputId": "7ec06729-40f6-4867-830b-d52c5e2d7968",
        "colab": {
          "base_uri": "https://localhost:8080/",
          "height": 612
        }
      },
      "execution_count": 157,
      "outputs": [
        {
          "output_type": "display_data",
          "data": {
            "text/plain": [
              "<Figure size 1000x600 with 1 Axes>"
            ],
            "image/png": "[encoded data removed]"
          },
          "metadata": {}
        }
      ]
    }
  ]
}