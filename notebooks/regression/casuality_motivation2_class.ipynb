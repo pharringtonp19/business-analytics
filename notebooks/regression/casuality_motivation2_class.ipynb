{
  "nbformat": 4,
  "nbformat_minor": 0,
  "metadata": {
    "colab": {
      "provenance": [],
      "authorship_tag": "ABX9TyNAlvwql2glgPK835wefIAu",
      "include_colab_link": true
    },
    "kernelspec": {
      "name": "python3",
      "display_name": "Python 3"
    },
    "language_info": {
      "name": "python"
    }
  },
  "cells": [
    {
      "cell_type": "markdown",
      "metadata": {
        "id": "view-in-github",
        "colab_type": "text"
      },
      "source": [
        "<a href=\"https://colab.research.google.com/github/pharringtonp19/business-analytics/blob/main/notebooks/regression/casuality_motivation2_class.ipynb\" target=\"_parent\"><img src=\"https://colab.research.google.com/assets/colab-badge.svg\" alt=\"Open In Colab\"/></a>"
      ]
    },
    {
      "cell_type": "markdown",
      "source": [
        "### **Import Libraries**"
      ],
      "metadata": {
        "id": "E39gNZfoBZv7"
      }
    },
    {
      "cell_type": "code",
      "execution_count": null,
      "metadata": {
        "id": "HWhjSPem-YkN"
      },
      "outputs": [],
      "source": [
        "import jax\n",
        "import jax.numpy as jnp\n",
        "import pandas as pd\n",
        "import matplotlib.pyplot as plt"
      ]
    },
    {
      "cell_type": "markdown",
      "source": [
        "### **Helper Functions**"
      ],
      "metadata": {
        "id": "WKokG7oMBcaR"
      }
    },
    {
      "cell_type": "code",
      "source": [
        "def expected_outcome(d, x):\n",
        "  return 10_000*d + 10000*jnp.maximum(jnp.sum(x), 0)\n",
        "\n",
        "def expected_treatment(x):\n",
        "  return jax.nn.sigmoid(jnp.sum(x))\n",
        "\n",
        "def sample(key):\n",
        "  k1, k2, k3 = jax.random.split(key, 3)\n",
        "  x = jax.random.normal(k1, shape=(10,))\n",
        "  propensity_score = expected_treatment(x)\n",
        "  d = jax.random.bernoulli(k2, propensity_score).astype(jnp.float32)\n",
        "  y = expected_outcome(d, x) + jax.random.normal(k3)*10\n",
        "  return y, d, x"
      ],
      "metadata": {
        "id": "gxC-9-rR-7u2"
      },
      "execution_count": null,
      "outputs": []
    },
    {
      "cell_type": "markdown",
      "source": [
        "### **Sample Data**"
      ],
      "metadata": {
        "id": "2ad0WzHWBhLC"
      }
    },
    {
      "cell_type": "code",
      "source": [
        "data = jax.vmap(sample)(jax.random.split(jax.random.PRNGKey(0), 5000))\n",
        "\n",
        "df = pd.DataFrame({'Outcome': data[0], 'Treatment': data[1]})\n",
        "for i in range(10):\n",
        "  df[f'X{i}'] = data[2][:,i]"
      ],
      "metadata": {
        "id": "C5-B8rWd_cfG"
      },
      "execution_count": null,
      "outputs": []
    },
    {
      "cell_type": "code",
      "source": [],
      "metadata": {
        "id": "eALIkPqzBLy8"
      },
      "execution_count": null,
      "outputs": []
    }
  ]
}