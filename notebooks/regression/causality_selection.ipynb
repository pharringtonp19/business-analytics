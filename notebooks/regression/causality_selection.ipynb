{
  "nbformat": 4,
  "nbformat_minor": 0,
  "metadata": {
    "colab": {
      "provenance": [],
      "authorship_tag": "ABX9TyNLJEqTfs5oCQiBlcL8JU6+",
      "include_colab_link": true
    },
    "kernelspec": {
      "name": "python3",
      "display_name": "Python 3"
    },
    "language_info": {
      "name": "python"
    }
  },
  "cells": [
    {
      "cell_type": "markdown",
      "metadata": {
        "id": "view-in-github",
        "colab_type": "text"
      },
      "source": [
        "<a href=\"https://colab.research.google.com/github/pharringtonp19/business-analytics/blob/main/notebooks/regression/causality_selection.ipynb\" target=\"_parent\"><img src=\"https://colab.research.google.com/assets/colab-badge.svg\" alt=\"Open In Colab\"/></a>"
      ]
    },
    {
      "cell_type": "code",
      "execution_count": 1,
      "metadata": {
        "colab": {
          "base_uri": "https://localhost:8080/"
        },
        "id": "6Oodh9Qc-MvJ",
        "outputId": "dfb337eb-c84a-4925-ef73-2cb0e075503b"
      },
      "outputs": [
        {
          "output_type": "stream",
          "name": "stdout",
          "text": [
            "Cloning into 'business-analytics'...\n",
            "remote: Enumerating objects: 1210, done.\u001b[K\n",
            "remote: Counting objects: 100% (827/827), done.\u001b[K\n",
            "remote: Compressing objects: 100% (380/380), done.\u001b[K\n",
            "remote: Total 1210 (delta 578), reused 601 (delta 422), pack-reused 383 (from 1)\u001b[K\n",
            "Receiving objects: 100% (1210/1210), 21.35 MiB | 10.25 MiB/s, done.\n",
            "Resolving deltas: 100% (706/706), done.\n"
          ]
        }
      ],
      "source": [
        "!git clone https://github.com/pharringtonp19/business-analytics.git"
      ]
    },
    {
      "cell_type": "markdown",
      "source": [
        "### **Import Packages**"
      ],
      "metadata": {
        "id": "f26Jqdel-hbb"
      }
    },
    {
      "cell_type": "code",
      "source": [
        "import pandas as pd\n",
        "pd.set_option('display.max_columns', None)\n",
        "import matplotlib.pyplot as plt\n",
        "import matplotlib.ticker as mticker\n",
        "import statsmodels.formula.api as smf\n",
        "from statsmodels.iolib.summary2 import summary_col\n",
        "import plotly.graph_objects as go\n",
        "import plotly.express as px\n",
        "import numpy as np\n",
        "import jax.numpy as jnp\n",
        "import jax\n",
        "import seaborn as sb\n",
        "from functools import partial"
      ],
      "metadata": {
        "id": "I7sWtc92-Was"
      },
      "execution_count": 2,
      "outputs": []
    },
    {
      "cell_type": "markdown",
      "source": [
        "### **Read In Data Set**"
      ],
      "metadata": {
        "id": "GSK0cZ4Z-koJ"
      }
    },
    {
      "cell_type": "code",
      "source": [
        "df = pd.read_csv('/content/business-analytics/datasets/lifeExpectancy.csv')\n",
        "df.head()"
      ],
      "metadata": {
        "id": "cNM7U1qP-bE8",
        "outputId": "a80256fc-2759-4fd5-c2b3-381d346ad0f9",
        "colab": {
          "base_uri": "https://localhost:8080/",
          "height": 296
        }
      },
      "execution_count": 3,
      "outputs": [
        {
          "output_type": "execute_result",
          "data": {
            "text/plain": [
              "   Country          Region  Year  Infant_deaths  Under_five_deaths  \\\n",
              "0  Turkiye     Middle East  2015           11.1               13.0   \n",
              "1    Spain  European Union  2015            2.7                3.3   \n",
              "2    India            Asia  2007           51.5               67.9   \n",
              "3   Guyana   South America  2006           32.8               40.5   \n",
              "4   Israel     Middle East  2012            3.4                4.3   \n",
              "\n",
              "   Adult_mortality  Alcohol_consumption  Hepatitis_B  Measles   BMI  Polio  \\\n",
              "0         105.8240                 1.32           97       65  27.8     97   \n",
              "1          57.9025                10.35           97       94  26.0     97   \n",
              "2         201.0765                 1.57           60       35  21.2     67   \n",
              "3         222.1965                 5.68           93       74  25.3     92   \n",
              "4          57.9510                 2.89           97       89  27.0     94   \n",
              "\n",
              "   Diphtheria  Incidents_HIV  GDP_per_capita  Population_mln  \\\n",
              "0          97           0.08           11006           78.53   \n",
              "1          97           0.09           25742           46.44   \n",
              "2          64           0.13            1076         1183.21   \n",
              "3          93           0.79            4146            0.75   \n",
              "4          94           0.08           33995            7.91   \n",
              "\n",
              "   Thinness_ten_nineteen_years  Thinness_five_nine_years  Schooling  \\\n",
              "0                          4.9                       4.8        7.8   \n",
              "1                          0.6                       0.5        9.7   \n",
              "2                         27.1                      28.0        5.0   \n",
              "3                          5.7                       5.5        7.9   \n",
              "4                          1.2                       1.1       12.8   \n",
              "\n",
              "   Economy_status_Developed  Economy_status_Developing  Life_expectancy  \n",
              "0                         0                          1             76.5  \n",
              "1                         1                          0             82.8  \n",
              "2                         0                          1             65.4  \n",
              "3                         0                          1             67.0  \n",
              "4                         1                          0             81.7  "
            ],
            "text/html": [
              "\n",
              "  <div id=\"df-b5c1ad3f-4bec-4567-bccd-2143ca7f6c27\" class=\"colab-df-container\">\n",
              "    <div>\n",
              "<style scoped>\n",
              "    .dataframe tbody tr th:only-of-type {\n",
              "        vertical-align: middle;\n",
              "    }\n",
              "\n",
              "    .dataframe tbody tr th {\n",
              "        vertical-align: top;\n",
              "    }\n",
              "\n",
              "    .dataframe thead th {\n",
              "        text-align: right;\n",
              "    }\n",
              "</style>\n",
              "<table border=\"1\" class=\"dataframe\">\n",
              "  <thead>\n",
              "    <tr style=\"text-align: right;\">\n",
              "      <th></th>\n",
              "      <th>Country</th>\n",
              "      <th>Region</th>\n",
              "      <th>Year</th>\n",
              "      <th>Infant_deaths</th>\n",
              "      <th>Under_five_deaths</th>\n",
              "      <th>Adult_mortality</th>\n",
              "      <th>Alcohol_consumption</th>\n",
              "      <th>Hepatitis_B</th>\n",
              "      <th>Measles</th>\n",
              "      <th>BMI</th>\n",
              "      <th>Polio</th>\n",
              "      <th>Diphtheria</th>\n",
              "      <th>Incidents_HIV</th>\n",
              "      <th>GDP_per_capita</th>\n",
              "      <th>Population_mln</th>\n",
              "      <th>Thinness_ten_nineteen_years</th>\n",
              "      <th>Thinness_five_nine_years</th>\n",
              "      <th>Schooling</th>\n",
              "      <th>Economy_status_Developed</th>\n",
              "      <th>Economy_status_Developing</th>\n",
              "      <th>Life_expectancy</th>\n",
              "    </tr>\n",
              "  </thead>\n",
              "  <tbody>\n",
              "    <tr>\n",
              "      <th>0</th>\n",
              "      <td>Turkiye</td>\n",
              "      <td>Middle East</td>\n",
              "      <td>2015</td>\n",
              "      <td>11.1</td>\n",
              "      <td>13.0</td>\n",
              "      <td>105.8240</td>\n",
              "      <td>1.32</td>\n",
              "      <td>97</td>\n",
              "      <td>65</td>\n",
              "      <td>27.8</td>\n",
              "      <td>97</td>\n",
              "      <td>97</td>\n",
              "      <td>0.08</td>\n",
              "      <td>11006</td>\n",
              "      <td>78.53</td>\n",
              "      <td>4.9</td>\n",
              "      <td>4.8</td>\n",
              "      <td>7.8</td>\n",
              "      <td>0</td>\n",
              "      <td>1</td>\n",
              "      <td>76.5</td>\n",
              "    </tr>\n",
              "    <tr>\n",
              "      <th>1</th>\n",
              "      <td>Spain</td>\n",
              "      <td>European Union</td>\n",
              "      <td>2015</td>\n",
              "      <td>2.7</td>\n",
              "      <td>3.3</td>\n",
              "      <td>57.9025</td>\n",
              "      <td>10.35</td>\n",
              "      <td>97</td>\n",
              "      <td>94</td>\n",
              "      <td>26.0</td>\n",
              "      <td>97</td>\n",
              "      <td>97</td>\n",
              "      <td>0.09</td>\n",
              "      <td>25742</td>\n",
              "      <td>46.44</td>\n",
              "      <td>0.6</td>\n",
              "      <td>0.5</td>\n",
              "      <td>9.7</td>\n",
              "      <td>1</td>\n",
              "      <td>0</td>\n",
              "      <td>82.8</td>\n",
              "    </tr>\n",
              "    <tr>\n",
              "      <th>2</th>\n",
              "      <td>India</td>\n",
              "      <td>Asia</td>\n",
              "      <td>2007</td>\n",
              "      <td>51.5</td>\n",
              "      <td>67.9</td>\n",
              "      <td>201.0765</td>\n",
              "      <td>1.57</td>\n",
              "      <td>60</td>\n",
              "      <td>35</td>\n",
              "      <td>21.2</td>\n",
              "      <td>67</td>\n",
              "      <td>64</td>\n",
              "      <td>0.13</td>\n",
              "      <td>1076</td>\n",
              "      <td>1183.21</td>\n",
              "      <td>27.1</td>\n",
              "      <td>28.0</td>\n",
              "      <td>5.0</td>\n",
              "      <td>0</td>\n",
              "      <td>1</td>\n",
              "      <td>65.4</td>\n",
              "    </tr>\n",
              "    <tr>\n",
              "      <th>3</th>\n",
              "      <td>Guyana</td>\n",
              "      <td>South America</td>\n",
              "      <td>2006</td>\n",
              "      <td>32.8</td>\n",
              "      <td>40.5</td>\n",
              "      <td>222.1965</td>\n",
              "      <td>5.68</td>\n",
              "      <td>93</td>\n",
              "      <td>74</td>\n",
              "      <td>25.3</td>\n",
              "      <td>92</td>\n",
              "      <td>93</td>\n",
              "      <td>0.79</td>\n",
              "      <td>4146</td>\n",
              "      <td>0.75</td>\n",
              "      <td>5.7</td>\n",
              "      <td>5.5</td>\n",
              "      <td>7.9</td>\n",
              "      <td>0</td>\n",
              "      <td>1</td>\n",
              "      <td>67.0</td>\n",
              "    </tr>\n",
              "    <tr>\n",
              "      <th>4</th>\n",
              "      <td>Israel</td>\n",
              "      <td>Middle East</td>\n",
              "      <td>2012</td>\n",
              "      <td>3.4</td>\n",
              "      <td>4.3</td>\n",
              "      <td>57.9510</td>\n",
              "      <td>2.89</td>\n",
              "      <td>97</td>\n",
              "      <td>89</td>\n",
              "      <td>27.0</td>\n",
              "      <td>94</td>\n",
              "      <td>94</td>\n",
              "      <td>0.08</td>\n",
              "      <td>33995</td>\n",
              "      <td>7.91</td>\n",
              "      <td>1.2</td>\n",
              "      <td>1.1</td>\n",
              "      <td>12.8</td>\n",
              "      <td>1</td>\n",
              "      <td>0</td>\n",
              "      <td>81.7</td>\n",
              "    </tr>\n",
              "  </tbody>\n",
              "</table>\n",
              "</div>\n",
              "    <div class=\"colab-df-buttons\">\n",
              "\n",
              "  <div class=\"colab-df-container\">\n",
              "    <button class=\"colab-df-convert\" onclick=\"convertToInteractive('df-b5c1ad3f-4bec-4567-bccd-2143ca7f6c27')\"\n",
              "            title=\"Convert this dataframe to an interactive table.\"\n",
              "            style=\"display:none;\">\n",
              "\n",
              "  <svg xmlns=\"http://www.w3.org/2000/svg\" height=\"24px\" viewBox=\"0 -960 960 960\">\n",
              "    <path d=\"M120-120v-720h720v720H120Zm60-500h600v-160H180v160Zm220 220h160v-160H400v160Zm0 220h160v-160H400v160ZM180-400h160v-160H180v160Zm440 0h160v-160H620v160ZM180-180h160v-160H180v160Zm440 0h160v-160H620v160Z\"/>\n",
              "  </svg>\n",
              "    </button>\n",
              "\n",
              "  <style>\n",
              "    .colab-df-container {\n",
              "      display:flex;\n",
              "      gap: 12px;\n",
              "    }\n",
              "\n",
              "    .colab-df-convert {\n",
              "      background-color: #E8F0FE;\n",
              "      border: none;\n",
              "      border-radius: 50%;\n",
              "      cursor: pointer;\n",
              "      display: none;\n",
              "      fill: #1967D2;\n",
              "      height: 32px;\n",
              "      padding: 0 0 0 0;\n",
              "      width: 32px;\n",
              "    }\n",
              "\n",
              "    .colab-df-convert:hover {\n",
              "      background-color: #E2EBFA;\n",
              "      box-shadow: 0px 1px 2px rgba(60, 64, 67, 0.3), 0px 1px 3px 1px rgba(60, 64, 67, 0.15);\n",
              "      fill: #174EA6;\n",
              "    }\n",
              "\n",
              "    .colab-df-buttons div {\n",
              "      margin-bottom: 4px;\n",
              "    }\n",
              "\n",
              "    [theme=dark] .colab-df-convert {\n",
              "      background-color: #3B4455;\n",
              "      fill: #D2E3FC;\n",
              "    }\n",
              "\n",
              "    [theme=dark] .colab-df-convert:hover {\n",
              "      background-color: #434B5C;\n",
              "      box-shadow: 0px 1px 3px 1px rgba(0, 0, 0, 0.15);\n",
              "      filter: drop-shadow(0px 1px 2px rgba(0, 0, 0, 0.3));\n",
              "      fill: #FFFFFF;\n",
              "    }\n",
              "  </style>\n",
              "\n",
              "    <script>\n",
              "      const buttonEl =\n",
              "        document.querySelector('#df-b5c1ad3f-4bec-4567-bccd-2143ca7f6c27 button.colab-df-convert');\n",
              "      buttonEl.style.display =\n",
              "        google.colab.kernel.accessAllowed ? 'block' : 'none';\n",
              "\n",
              "      async function convertToInteractive(key) {\n",
              "        const element = document.querySelector('#df-b5c1ad3f-4bec-4567-bccd-2143ca7f6c27');\n",
              "        const dataTable =\n",
              "          await google.colab.kernel.invokeFunction('convertToInteractive',\n",
              "                                                    [key], {});\n",
              "        if (!dataTable) return;\n",
              "\n",
              "        const docLinkHtml = 'Like what you see? Visit the ' +\n",
              "          '<a target=\"_blank\" href=https://colab.research.google.com/notebooks/data_table.ipynb>data table notebook</a>'\n",
              "          + ' to learn more about interactive tables.';\n",
              "        element.innerHTML = '';\n",
              "        dataTable['output_type'] = 'display_data';\n",
              "        await google.colab.output.renderOutput(dataTable, element);\n",
              "        const docLink = document.createElement('div');\n",
              "        docLink.innerHTML = docLinkHtml;\n",
              "        element.appendChild(docLink);\n",
              "      }\n",
              "    </script>\n",
              "  </div>\n",
              "\n",
              "\n",
              "<div id=\"df-d894609d-a365-4399-9c97-c23e2892c085\">\n",
              "  <button class=\"colab-df-quickchart\" onclick=\"quickchart('df-d894609d-a365-4399-9c97-c23e2892c085')\"\n",
              "            title=\"Suggest charts\"\n",
              "            style=\"display:none;\">\n",
              "\n",
              "<svg xmlns=\"http://www.w3.org/2000/svg\" height=\"24px\"viewBox=\"0 0 24 24\"\n",
              "     width=\"24px\">\n",
              "    <g>\n",
              "        <path d=\"M19 3H5c-1.1 0-2 .9-2 2v14c0 1.1.9 2 2 2h14c1.1 0 2-.9 2-2V5c0-1.1-.9-2-2-2zM9 17H7v-7h2v7zm4 0h-2V7h2v10zm4 0h-2v-4h2v4z\"/>\n",
              "    </g>\n",
              "</svg>\n",
              "  </button>\n",
              "\n",
              "<style>\n",
              "  .colab-df-quickchart {\n",
              "      --bg-color: #E8F0FE;\n",
              "      --fill-color: #1967D2;\n",
              "      --hover-bg-color: #E2EBFA;\n",
              "      --hover-fill-color: #174EA6;\n",
              "      --disabled-fill-color: #AAA;\n",
              "      --disabled-bg-color: #DDD;\n",
              "  }\n",
              "\n",
              "  [theme=dark] .colab-df-quickchart {\n",
              "      --bg-color: #3B4455;\n",
              "      --fill-color: #D2E3FC;\n",
              "      --hover-bg-color: #434B5C;\n",
              "      --hover-fill-color: #FFFFFF;\n",
              "      --disabled-bg-color: #3B4455;\n",
              "      --disabled-fill-color: #666;\n",
              "  }\n",
              "\n",
              "  .colab-df-quickchart {\n",
              "    background-color: var(--bg-color);\n",
              "    border: none;\n",
              "    border-radius: 50%;\n",
              "    cursor: pointer;\n",
              "    display: none;\n",
              "    fill: var(--fill-color);\n",
              "    height: 32px;\n",
              "    padding: 0;\n",
              "    width: 32px;\n",
              "  }\n",
              "\n",
              "  .colab-df-quickchart:hover {\n",
              "    background-color: var(--hover-bg-color);\n",
              "    box-shadow: 0 1px 2px rgba(60, 64, 67, 0.3), 0 1px 3px 1px rgba(60, 64, 67, 0.15);\n",
              "    fill: var(--button-hover-fill-color);\n",
              "  }\n",
              "\n",
              "  .colab-df-quickchart-complete:disabled,\n",
              "  .colab-df-quickchart-complete:disabled:hover {\n",
              "    background-color: var(--disabled-bg-color);\n",
              "    fill: var(--disabled-fill-color);\n",
              "    box-shadow: none;\n",
              "  }\n",
              "\n",
              "  .colab-df-spinner {\n",
              "    border: 2px solid var(--fill-color);\n",
              "    border-color: transparent;\n",
              "    border-bottom-color: var(--fill-color);\n",
              "    animation:\n",
              "      spin 1s steps(1) infinite;\n",
              "  }\n",
              "\n",
              "  @keyframes spin {\n",
              "    0% {\n",
              "      border-color: transparent;\n",
              "      border-bottom-color: var(--fill-color);\n",
              "      border-left-color: var(--fill-color);\n",
              "    }\n",
              "    20% {\n",
              "      border-color: transparent;\n",
              "      border-left-color: var(--fill-color);\n",
              "      border-top-color: var(--fill-color);\n",
              "    }\n",
              "    30% {\n",
              "      border-color: transparent;\n",
              "      border-left-color: var(--fill-color);\n",
              "      border-top-color: var(--fill-color);\n",
              "      border-right-color: var(--fill-color);\n",
              "    }\n",
              "    40% {\n",
              "      border-color: transparent;\n",
              "      border-right-color: var(--fill-color);\n",
              "      border-top-color: var(--fill-color);\n",
              "    }\n",
              "    60% {\n",
              "      border-color: transparent;\n",
              "      border-right-color: var(--fill-color);\n",
              "    }\n",
              "    80% {\n",
              "      border-color: transparent;\n",
              "      border-right-color: var(--fill-color);\n",
              "      border-bottom-color: var(--fill-color);\n",
              "    }\n",
              "    90% {\n",
              "      border-color: transparent;\n",
              "      border-bottom-color: var(--fill-color);\n",
              "    }\n",
              "  }\n",
              "</style>\n",
              "\n",
              "  <script>\n",
              "    async function quickchart(key) {\n",
              "      const quickchartButtonEl =\n",
              "        document.querySelector('#' + key + ' button');\n",
              "      quickchartButtonEl.disabled = true;  // To prevent multiple clicks.\n",
              "      quickchartButtonEl.classList.add('colab-df-spinner');\n",
              "      try {\n",
              "        const charts = await google.colab.kernel.invokeFunction(\n",
              "            'suggestCharts', [key], {});\n",
              "      } catch (error) {\n",
              "        console.error('Error during call to suggestCharts:', error);\n",
              "      }\n",
              "      quickchartButtonEl.classList.remove('colab-df-spinner');\n",
              "      quickchartButtonEl.classList.add('colab-df-quickchart-complete');\n",
              "    }\n",
              "    (() => {\n",
              "      let quickchartButtonEl =\n",
              "        document.querySelector('#df-d894609d-a365-4399-9c97-c23e2892c085 button');\n",
              "      quickchartButtonEl.style.display =\n",
              "        google.colab.kernel.accessAllowed ? 'block' : 'none';\n",
              "    })();\n",
              "  </script>\n",
              "</div>\n",
              "\n",
              "    </div>\n",
              "  </div>\n"
            ],
            "application/vnd.google.colaboratory.intrinsic+json": {
              "type": "dataframe",
              "variable_name": "df"
            }
          },
          "metadata": {},
          "execution_count": 3
        }
      ]
    },
    {
      "cell_type": "code",
      "source": [
        "df = df.loc[:, 'Year':'Life_expectancy']"
      ],
      "metadata": {
        "id": "k4tzwF2mEcXK"
      },
      "execution_count": 5,
      "outputs": []
    },
    {
      "cell_type": "code",
      "source": [
        "data = df.corr()['Life_expectancy']\n",
        "plt.barh(data.index, data.values)\n",
        "plt.show()"
      ],
      "metadata": {
        "id": "aplxQSSyEaXA",
        "outputId": "f5b8483f-8147-4fbf-9c82-34a44b0618b0",
        "colab": {
          "base_uri": "https://localhost:8080/",
          "height": 430
        }
      },
      "execution_count": 9,
      "outputs": [
        {
          "output_type": "display_data",
          "data": {
            "text/plain": [
              "<Figure size 640x480 with 1 Axes>"
            ],
            "image/png": "[encoded data removed]"
          },
          "metadata": {}
        }
      ]
    },
    {
      "cell_type": "markdown",
      "source": [
        "### **Create Function**"
      ],
      "metadata": {
        "id": "t9oGEBodr2CV"
      }
    },
    {
      "cell_type": "code",
      "source": [
        "def get_rsqrs(reg_formula):\n",
        "  linear_model  = smf.ols(reg_formula, df)\n",
        "  results = linear_model.fit()\n",
        "  return results.rsquared_adj, results.rsquared\n",
        "\n",
        "if dataset == 'brookline':\n",
        "  get_rsqrs('price ~ beacon')\n",
        "else:\n",
        "  get_rsqrs('math ~ expenditure')"
      ],
      "metadata": {
        "id": "BIZFTtMPrmdb"
      },
      "execution_count": null,
      "outputs": []
    },
    {
      "cell_type": "markdown",
      "source": [
        "### **Store Results**"
      ],
      "metadata": {
        "id": "09H_iFxn6ZUl"
      }
    },
    {
      "cell_type": "code",
      "source": [
        "# To Keep Track of Results\n",
        "ordered_variables = []\n",
        "optimal_adj_rsqr, optimal_rsqr = [], []"
      ],
      "metadata": {
        "id": "wehA-4eO6Y2t"
      },
      "execution_count": null,
      "outputs": []
    },
    {
      "cell_type": "markdown",
      "source": [
        "**Specify the dependent variable**"
      ],
      "metadata": {
        "id": "xrZSA9Yi6pbf"
      }
    },
    {
      "cell_type": "code",
      "source": [
        "dep_var = 'price' if dataset == 'brookline' else 'math'"
      ],
      "metadata": {
        "id": "E6XXh2fw6oM2"
      },
      "execution_count": null,
      "outputs": []
    },
    {
      "cell_type": "markdown",
      "source": [
        "**Create list of possible Right Hand Side Variables**"
      ],
      "metadata": {
        "id": "0UplO0n66twb"
      }
    },
    {
      "cell_type": "code",
      "source": [
        "if dataset == 'brookline':\n",
        "  eligible_vars = df.columns.drop(['stNumber', 'stName', dep_var]).tolist()\n",
        "  categorical_vars = ['buildingStyle']\n",
        "else:\n",
        "  eligible_vars = df.columns.drop(['Unnamed: 0', 'district', 'school', 'county', 'grades', dep_var]).tolist()"
      ],
      "metadata": {
        "id": "iP8zu_Sw6tHJ"
      },
      "execution_count": null,
      "outputs": []
    },
    {
      "cell_type": "markdown",
      "source": [
        "### **Create Dictionary of Variable Name and Regression String Format**"
      ],
      "metadata": {
        "id": "jLwDTRUp-aQT"
      }
    },
    {
      "cell_type": "code",
      "source": [
        "eligible_vars = {key: key if key not in categorical_vars else f'C({key})' for key in eligible_vars}"
      ],
      "metadata": {
        "id": "rjsm5EHA9wUC"
      },
      "execution_count": null,
      "outputs": []
    },
    {
      "cell_type": "markdown",
      "source": [
        "### **Create Regression String**"
      ],
      "metadata": {
        "id": "lGYlOsPC61QQ"
      }
    },
    {
      "cell_type": "code",
      "source": [
        "reg_formula = dep_var + ' ~ '"
      ],
      "metadata": {
        "id": "NoHKy9Av600X"
      },
      "execution_count": null,
      "outputs": []
    },
    {
      "cell_type": "markdown",
      "source": [
        "### **For Loop**"
      ],
      "metadata": {
        "id": "cqa0gycS8tsH"
      }
    },
    {
      "cell_type": "code",
      "source": [
        "for i in range(len(eligible_vars)):\n",
        "\n",
        "  # Create a List of regression strings (one for each possible new independent variable)\n",
        "  if i == 0:\n",
        "    reg_formulas = list(map(lambda x : reg_formula + x, eligible_vars.values()))\n",
        "  else:\n",
        "    reg_formulas = list(map(lambda x : reg_formula + ' + ' + x, eligible_vars.values()))\n",
        "\n",
        "  # Compute the Rsquared and Adjusted-Rsquared for each regression model\n",
        "  results = np.array(list(map(get_rsqrs, reg_formulas)))\n",
        "\n",
        "  # Extract the adjusted_rsquared_array (first column of results)\n",
        "  adj_rsqrs = results[:,0]\n",
        "\n",
        "  # Find the index with the largest adjusted_rsquared\n",
        "  argmax_idx = np.argmax(adj_rsqrs)\n",
        "\n",
        "  # Use the index to select the corresponding indpendent variable with the largest adjusted_rsquared\n",
        "  new_rhs = list(eligible_vars.keys())[argmax_idx]\n",
        "  new_rhs_repr =  list(eligible_vars.values())[argmax_idx]\n",
        "  ordered_variables.append(new_rhs)\n",
        "\n",
        "  # Update the Regression Formula\n",
        "  reg_formula = reg_formula + ' + ' + new_rhs_repr\n",
        "\n",
        "  # Update the list of potential independent variables\n",
        "  del eligible_vars[new_rhs]\n",
        "\n",
        "  # Use the index to retrieve the adjusted_rsquared and r_squared associated with that index\n",
        "  adj_rsqr, rsqr  = results[argmax_idx]\n",
        "\n",
        "  # Append the values\n",
        "  optimal_adj_rsqr.append(adj_rsqr)\n",
        "  optimal_rsqr.append(rsqr)"
      ],
      "metadata": {
        "id": "zeAAYnwUqAtH"
      },
      "execution_count": null,
      "outputs": []
    },
    {
      "cell_type": "markdown",
      "source": [
        "### **Plot**"
      ],
      "metadata": {
        "id": "jwyui9hl2jtt"
      }
    },
    {
      "cell_type": "code",
      "source": [
        "# Create the figure and axes\n",
        "fig, ax = plt.subplots(figsize=(10, 6))\n",
        "\n",
        "# Define width for bars and positions for each pair of bars\n",
        "bar_width = 0.35\n",
        "x = np.arange(len(ordered_variables))\n",
        "\n",
        "# Plot adjusted R-squared and R-squared bars side by side\n",
        "bars_adj = ax.bar(x - bar_width / 2, optimal_adj_rsqr, width=bar_width, label=\"Adjusted\", alpha=0.7)\n",
        "bars_rs = ax.bar(x + bar_width / 2, optimal_rsqr, width=bar_width, label=\"Standard\", alpha=0.5)\n",
        "\n",
        "# Add labels, title, and angle the x-axis labels\n",
        "ax.set_title(r\"$R^2$\", loc='left')\n",
        "ax.set_xticks(x)\n",
        "ax.set_xticklabels(ordered_variables, rotation=45, ha='right')\n",
        "ax.legend(loc='center left', bbox_to_anchor=(.95, 0.9))\n",
        "ax.spines['right'].set_visible(False)\n",
        "ax.spines['top'].set_visible(False)\n",
        "\n",
        "# Display values above each bar\n",
        "for bar in bars_adj:\n",
        "    height = bar.get_height()\n",
        "    ax.text(bar.get_x() + bar.get_width() / 2, height, f'{height:.2f}', ha='center', va='bottom')\n",
        "\n",
        "for bar in bars_rs:\n",
        "    height = bar.get_height()\n",
        "    ax.text(bar.get_x() + bar.get_width() / 2, height, f'{height:.2f}', ha='center', va='bottom')\n",
        "\n",
        "plt.show()"
      ],
      "metadata": {
        "id": "9KSByIp6yP-m",
        "outputId": "4471ee2c-11de-43c5-ee91-1f7244b63c61",
        "colab": {
          "base_uri": "https://localhost:8080/",
          "height": 615
        }
      },
      "execution_count": null,
      "outputs": [
        {
          "output_type": "display_data",
          "data": {
            "text/plain": [
              "<Figure size 1000x600 with 1 Axes>"
            ],
            "image/png": "[encoded data removed]"
          },
          "metadata": {}
        }
      ]
    },
    {
      "cell_type": "code",
      "source": [],
      "metadata": {
        "id": "kPAmR7YM8zeR"
      },
      "execution_count": null,
      "outputs": []
    }
  ]
}