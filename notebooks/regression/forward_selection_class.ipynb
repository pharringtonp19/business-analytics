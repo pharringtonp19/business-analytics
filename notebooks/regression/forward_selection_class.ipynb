{
  "nbformat": 4,
  "nbformat_minor": 0,
  "metadata": {
    "colab": {
      "provenance": [],
      "authorship_tag": "ABX9TyMsGNR7CLhpMSBg+WVX8BtT",
      "include_colab_link": true
    },
    "kernelspec": {
      "name": "python3",
      "display_name": "Python 3"
    },
    "language_info": {
      "name": "python"
    }
  },
  "cells": [
    {
      "cell_type": "markdown",
      "metadata": {
        "id": "view-in-github",
        "colab_type": "text"
      },
      "source": [
        "<a href=\"https://colab.research.google.com/github/pharringtonp19/business-analytics/blob/main/notebooks/regression/forward_selection_class.ipynb\" target=\"_parent\"><img src=\"https://colab.research.google.com/assets/colab-badge.svg\" alt=\"Open In Colab\"/></a>"
      ]
    },
    {
      "cell_type": "code",
      "execution_count": null,
      "metadata": {
        "colab": {
          "base_uri": "https://localhost:8080/"
        },
        "id": "6Oodh9Qc-MvJ",
        "outputId": "f34922d8-9a5d-4355-8c35-4967c48e28d5"
      },
      "outputs": [
        {
          "output_type": "stream",
          "name": "stdout",
          "text": [
            "Cloning into 'business-analytics'...\n",
            "remote: Enumerating objects: 1181, done.\u001b[K\n",
            "remote: Counting objects: 100% (798/798), done.\u001b[K\n",
            "remote: Compressing objects: 100% (351/351), done.\u001b[K\n",
            "remote: Total 1181 (delta 561), reused 601 (delta 422), pack-reused 383 (from 1)\u001b[K\n",
            "Receiving objects: 100% (1181/1181), 20.80 MiB | 11.71 MiB/s, done.\n",
            "Resolving deltas: 100% (689/689), done.\n"
          ]
        }
      ],
      "source": [
        "!git clone https://github.com/pharringtonp19/business-analytics.git"
      ]
    },
    {
      "cell_type": "markdown",
      "source": [
        "### **Import Packages**"
      ],
      "metadata": {
        "id": "f26Jqdel-hbb"
      }
    },
    {
      "cell_type": "code",
      "source": [
        "import pandas as pd\n",
        "pd.set_option('display.max_columns', None)\n",
        "import matplotlib.pyplot as plt\n",
        "import matplotlib.ticker as mticker\n",
        "import statsmodels.formula.api as smf\n",
        "from statsmodels.iolib.summary2 import summary_col\n",
        "import plotly.graph_objects as go\n",
        "import plotly.express as px\n",
        "import numpy as np\n",
        "import jax.numpy as jnp\n",
        "import jax\n",
        "import seaborn as sb\n",
        "from functools import partial"
      ],
      "metadata": {
        "id": "I7sWtc92-Was"
      },
      "execution_count": null,
      "outputs": []
    },
    {
      "cell_type": "markdown",
      "source": [
        "### **Specify Dataset**"
      ],
      "metadata": {
        "id": "wVa1nk3O6Is7"
      }
    },
    {
      "cell_type": "code",
      "source": [
        "dataset = 'brookline'"
      ],
      "metadata": {
        "id": "ULIxp73-1QjM"
      },
      "execution_count": null,
      "outputs": []
    },
    {
      "cell_type": "markdown",
      "source": [
        "### **Read In Data Set**"
      ],
      "metadata": {
        "id": "GSK0cZ4Z-koJ"
      }
    },
    {
      "cell_type": "code",
      "source": [
        "if dataset == 'brookline':\n",
        "  df = pd.read_csv('/content/business-analytics/datasets/brookline.csv')\n",
        "else:\n",
        "  df = pd.read_csv('/content/business-analytics/datasets/CASchools.csv')\n",
        "  df['Students_per_Teacher'] = df['students'] / df['teachers']\n",
        "df.head()"
      ],
      "metadata": {
        "id": "cNM7U1qP-bE8"
      },
      "execution_count": null,
      "outputs": []
    },
    {
      "cell_type": "markdown",
      "source": [
        "### **Create Function**"
      ],
      "metadata": {
        "id": "t9oGEBodr2CV"
      }
    },
    {
      "cell_type": "markdown",
      "source": [
        "### **Store Results**"
      ],
      "metadata": {
        "id": "09H_iFxn6ZUl"
      }
    },
    {
      "cell_type": "markdown",
      "source": [
        "### **Specify the dependent variable**"
      ],
      "metadata": {
        "id": "xrZSA9Yi6pbf"
      }
    },
    {
      "cell_type": "markdown",
      "source": [
        "### **Create list of possible Right Hand Side Variables**"
      ],
      "metadata": {
        "id": "0UplO0n66twb"
      }
    },
    {
      "cell_type": "markdown",
      "source": [
        "### **Create Dictionary of Variable Name and Regression String Format**"
      ],
      "metadata": {
        "id": "jLwDTRUp-aQT"
      }
    },
    {
      "cell_type": "markdown",
      "source": [
        "### **Create Regression String**"
      ],
      "metadata": {
        "id": "lGYlOsPC61QQ"
      }
    },
    {
      "cell_type": "markdown",
      "source": [
        "### **For Loop**"
      ],
      "metadata": {
        "id": "cqa0gycS8tsH"
      }
    },
    {
      "cell_type": "code",
      "source": [
        "for i in range(len(eligible_vars)):\n",
        "\n",
        "  # Create a List of regression strings (one for each possible new independent variable)\n",
        "\n",
        "  # Compute the Rsquared and Adjusted-Rsquared for each regression model\n",
        "\n",
        "  # Extract the adjusted_rsquared_array (first column of results)\n",
        "\n",
        "  # Find the index with the largest adjusted_rsquared\n",
        "\n",
        "  # Use the index to select the corresponding indpendent variable with the largest adjusted_rsquared\n",
        "\n",
        "  # Append the Variable to the Ordered Variable List\n",
        "\n",
        "  # Update the Regression Formula\n",
        "\n",
        "  # Update the list of potential independent variables\n",
        "\n",
        "  # Use the index to retrieve the adjusted_rsquared and r_squared associated with that index\n",
        "\n",
        "  # Append the values"
      ],
      "metadata": {
        "id": "zeAAYnwUqAtH"
      },
      "execution_count": null,
      "outputs": []
    },
    {
      "cell_type": "markdown",
      "source": [
        "### **Plot**"
      ],
      "metadata": {
        "id": "jwyui9hl2jtt"
      }
    },
    {
      "cell_type": "code",
      "source": [
        "# Create the figure and axes\n",
        "fig, ax = plt.subplots(figsize=(10, 6))\n",
        "\n",
        "# Define width for bars and positions for each pair of bars\n",
        "bar_width = 0.35\n",
        "x = np.arange(len(ordered_variables))\n",
        "\n",
        "# Plot adjusted R-squared and R-squared bars side by side\n",
        "bars_adj = ax.bar(x - bar_width / 2, optimal_adj_rsqr, width=bar_width, label=\"Adjusted\", alpha=0.7)\n",
        "bars_rs = ax.bar(x + bar_width / 2, optimal_rsqr, width=bar_width, label=\"Default\", alpha=0.5)\n",
        "\n",
        "# Add labels, title, and angle the x-axis labels\n",
        "ax.set_title(r\"$R^2$\", loc='left')\n",
        "ax.set_xticks(x)\n",
        "ax.set_xticklabels(ordered_variables, rotation=45, ha='right')\n",
        "ax.legend(loc='center left', bbox_to_anchor=(.95, 0.9))\n",
        "ax.spines['right'].set_visible(False)\n",
        "ax.spines['top'].set_visible(False)\n",
        "\n",
        "# Display values above each bar\n",
        "for bar in bars_adj:\n",
        "    height = bar.get_height()\n",
        "    ax.text(bar.get_x() + bar.get_width() / 2, height, f'{height:.2f}', ha='center', va='bottom')\n",
        "\n",
        "for bar in bars_rs:\n",
        "    height = bar.get_height()\n",
        "    ax.text(bar.get_x() + bar.get_width() / 2, height, f'{height:.2f}', ha='center', va='bottom')\n",
        "\n",
        "plt.show()"
      ],
      "metadata": {
        "id": "9KSByIp6yP-m",
        "outputId": "139830f2-c548-46a7-d00a-dd8274204730",
        "colab": {
          "base_uri": "https://localhost:8080/",
          "height": 615
        }
      },
      "execution_count": null,
      "outputs": [
        {
          "output_type": "display_data",
          "data": {
            "text/plain": [
              "<Figure size 1000x600 with 1 Axes>"
            ],
            "image/png": "[encoded data removed]"
          },
          "metadata": {}
        }
      ]
    },
    {
      "cell_type": "code",
      "source": [],
      "metadata": {
        "id": "kPAmR7YM8zeR"
      },
      "execution_count": null,
      "outputs": []
    }
  ]
}