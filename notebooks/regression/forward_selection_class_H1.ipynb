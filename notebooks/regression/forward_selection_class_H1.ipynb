{
  "nbformat": 4,
  "nbformat_minor": 0,
  "metadata": {
    "colab": {
      "provenance": []
    },
    "kernelspec": {
      "name": "python3",
      "display_name": "Python 3"
    },
    "language_info": {
      "name": "python"
    }
  },
  "cells": [
    {
      "cell_type": "code",
      "execution_count": 8,
      "metadata": {
        "colab": {
          "base_uri": "https://localhost:8080/"
        },
        "id": "6Oodh9Qc-MvJ",
        "outputId": "d69b6251-ff75-4e2c-ab1c-e74065bc054c"
      },
      "outputs": [
        {
          "output_type": "stream",
          "name": "stdout",
          "text": [
            "fatal: destination path 'business-analytics' already exists and is not an empty directory.\n"
          ]
        }
      ],
      "source": [
        "!git clone https://github.com/pharringtonp19/business-analytics.git"
      ]
    },
    {
      "cell_type": "markdown",
      "source": [
        "### **Import Packages**"
      ],
      "metadata": {
        "id": "f26Jqdel-hbb"
      }
    },
    {
      "cell_type": "code",
      "source": [
        "import pandas as pd\n",
        "pd.set_option('display.max_columns', None)\n",
        "import matplotlib.pyplot as plt\n",
        "import matplotlib.ticker as mticker\n",
        "import statsmodels.formula.api as smf\n",
        "from statsmodels.iolib.summary2 import summary_col\n",
        "import plotly.graph_objects as go\n",
        "import plotly.express as px\n",
        "import numpy as np\n",
        "import jax.numpy as jnp\n",
        "import jax\n",
        "import seaborn as sb\n",
        "from functools import partial"
      ],
      "metadata": {
        "id": "I7sWtc92-Was"
      },
      "execution_count": 9,
      "outputs": []
    },
    {
      "cell_type": "markdown",
      "source": [
        "### **Specify Dataset**"
      ],
      "metadata": {
        "id": "wVa1nk3O6Is7"
      }
    },
    {
      "cell_type": "code",
      "source": [
        "dataset = 'brookline'"
      ],
      "metadata": {
        "id": "ULIxp73-1QjM"
      },
      "execution_count": 10,
      "outputs": []
    },
    {
      "cell_type": "markdown",
      "source": [
        "### **Read In Data Set**"
      ],
      "metadata": {
        "id": "GSK0cZ4Z-koJ"
      }
    },
    {
      "cell_type": "code",
      "source": [
        "if dataset == 'brookline':\n",
        "  df = pd.read_csv('/content/business-analytics/datasets/brookline.csv')\n",
        "else:\n",
        "  df = pd.read_csv('/content/business-analytics/datasets/CASchools.csv')\n",
        "  df['Students_per_Teacher'] = df['students'] / df['teachers']\n",
        "df.head()"
      ],
      "metadata": {
        "id": "cNM7U1qP-bE8",
        "colab": {
          "base_uri": "https://localhost:8080/",
          "height": 206
        },
        "outputId": "161645dc-5328-4a25-da52-f9cd5e66ca73"
      },
      "execution_count": 11,
      "outputs": [
        {
          "output_type": "execute_result",
          "data": {
            "text/plain": [
              "    price  stNumber         stName  size  beacon  baseFloor buildingStyle  \\\n",
              "0  174000       150    PLEASANT ST  1060       0          4      MID-RISE   \n",
              "1  337000         7    LEVERETT ST   831       0          1        DECKER   \n",
              "2  850000        24      EUSTON ST  2246       0          1       ROW-END   \n",
              "3  516000       417  WASHINGTON ST  1574       0          2      LOW-RISE   \n",
              "4  145000       150    PLEASANT ST   669       0          4      MID-RISE   \n",
              "\n",
              "   elevators  rooms  bedrooms  fullBathrooms  halfBathrooms  garage  \n",
              "0          1      4         2              1              1     1.0  \n",
              "1          0      4         2              1              0     0.0  \n",
              "2          0     10         6              3              0     0.0  \n",
              "3          0      6         3              2              0     0.0  \n",
              "4          1      3         1              1              0     1.0  "
            ],
            "text/html": [
              "\n",
              "  <div id=\"df-3607230f-eb06-4895-9b5c-cfc2f3250376\" class=\"colab-df-container\">\n",
              "    <div>\n",
              "<style scoped>\n",
              "    .dataframe tbody tr th:only-of-type {\n",
              "        vertical-align: middle;\n",
              "    }\n",
              "\n",
              "    .dataframe tbody tr th {\n",
              "        vertical-align: top;\n",
              "    }\n",
              "\n",
              "    .dataframe thead th {\n",
              "        text-align: right;\n",
              "    }\n",
              "</style>\n",
              "<table border=\"1\" class=\"dataframe\">\n",
              "  <thead>\n",
              "    <tr style=\"text-align: right;\">\n",
              "      <th></th>\n",
              "      <th>price</th>\n",
              "      <th>stNumber</th>\n",
              "      <th>stName</th>\n",
              "      <th>size</th>\n",
              "      <th>beacon</th>\n",
              "      <th>baseFloor</th>\n",
              "      <th>buildingStyle</th>\n",
              "      <th>elevators</th>\n",
              "      <th>rooms</th>\n",
              "      <th>bedrooms</th>\n",
              "      <th>fullBathrooms</th>\n",
              "      <th>halfBathrooms</th>\n",
              "      <th>garage</th>\n",
              "    </tr>\n",
              "  </thead>\n",
              "  <tbody>\n",
              "    <tr>\n",
              "      <th>0</th>\n",
              "      <td>174000</td>\n",
              "      <td>150</td>\n",
              "      <td>PLEASANT ST</td>\n",
              "      <td>1060</td>\n",
              "      <td>0</td>\n",
              "      <td>4</td>\n",
              "      <td>MID-RISE</td>\n",
              "      <td>1</td>\n",
              "      <td>4</td>\n",
              "      <td>2</td>\n",
              "      <td>1</td>\n",
              "      <td>1</td>\n",
              "      <td>1.0</td>\n",
              "    </tr>\n",
              "    <tr>\n",
              "      <th>1</th>\n",
              "      <td>337000</td>\n",
              "      <td>7</td>\n",
              "      <td>LEVERETT ST</td>\n",
              "      <td>831</td>\n",
              "      <td>0</td>\n",
              "      <td>1</td>\n",
              "      <td>DECKER</td>\n",
              "      <td>0</td>\n",
              "      <td>4</td>\n",
              "      <td>2</td>\n",
              "      <td>1</td>\n",
              "      <td>0</td>\n",
              "      <td>0.0</td>\n",
              "    </tr>\n",
              "    <tr>\n",
              "      <th>2</th>\n",
              "      <td>850000</td>\n",
              "      <td>24</td>\n",
              "      <td>EUSTON ST</td>\n",
              "      <td>2246</td>\n",
              "      <td>0</td>\n",
              "      <td>1</td>\n",
              "      <td>ROW-END</td>\n",
              "      <td>0</td>\n",
              "      <td>10</td>\n",
              "      <td>6</td>\n",
              "      <td>3</td>\n",
              "      <td>0</td>\n",
              "      <td>0.0</td>\n",
              "    </tr>\n",
              "    <tr>\n",
              "      <th>3</th>\n",
              "      <td>516000</td>\n",
              "      <td>417</td>\n",
              "      <td>WASHINGTON ST</td>\n",
              "      <td>1574</td>\n",
              "      <td>0</td>\n",
              "      <td>2</td>\n",
              "      <td>LOW-RISE</td>\n",
              "      <td>0</td>\n",
              "      <td>6</td>\n",
              "      <td>3</td>\n",
              "      <td>2</td>\n",
              "      <td>0</td>\n",
              "      <td>0.0</td>\n",
              "    </tr>\n",
              "    <tr>\n",
              "      <th>4</th>\n",
              "      <td>145000</td>\n",
              "      <td>150</td>\n",
              "      <td>PLEASANT ST</td>\n",
              "      <td>669</td>\n",
              "      <td>0</td>\n",
              "      <td>4</td>\n",
              "      <td>MID-RISE</td>\n",
              "      <td>1</td>\n",
              "      <td>3</td>\n",
              "      <td>1</td>\n",
              "      <td>1</td>\n",
              "      <td>0</td>\n",
              "      <td>1.0</td>\n",
              "    </tr>\n",
              "  </tbody>\n",
              "</table>\n",
              "</div>\n",
              "    <div class=\"colab-df-buttons\">\n",
              "\n",
              "  <div class=\"colab-df-container\">\n",
              "    <button class=\"colab-df-convert\" onclick=\"convertToInteractive('df-3607230f-eb06-4895-9b5c-cfc2f3250376')\"\n",
              "            title=\"Convert this dataframe to an interactive table.\"\n",
              "            style=\"display:none;\">\n",
              "\n",
              "  <svg xmlns=\"http://www.w3.org/2000/svg\" height=\"24px\" viewBox=\"0 -960 960 960\">\n",
              "    <path d=\"M120-120v-720h720v720H120Zm60-500h600v-160H180v160Zm220 220h160v-160H400v160Zm0 220h160v-160H400v160ZM180-400h160v-160H180v160Zm440 0h160v-160H620v160ZM180-180h160v-160H180v160Zm440 0h160v-160H620v160Z\"/>\n",
              "  </svg>\n",
              "    </button>\n",
              "\n",
              "  <style>\n",
              "    .colab-df-container {\n",
              "      display:flex;\n",
              "      gap: 12px;\n",
              "    }\n",
              "\n",
              "    .colab-df-convert {\n",
              "      background-color: #E8F0FE;\n",
              "      border: none;\n",
              "      border-radius: 50%;\n",
              "      cursor: pointer;\n",
              "      display: none;\n",
              "      fill: #1967D2;\n",
              "      height: 32px;\n",
              "      padding: 0 0 0 0;\n",
              "      width: 32px;\n",
              "    }\n",
              "\n",
              "    .colab-df-convert:hover {\n",
              "      background-color: #E2EBFA;\n",
              "      box-shadow: 0px 1px 2px rgba(60, 64, 67, 0.3), 0px 1px 3px 1px rgba(60, 64, 67, 0.15);\n",
              "      fill: #174EA6;\n",
              "    }\n",
              "\n",
              "    .colab-df-buttons div {\n",
              "      margin-bottom: 4px;\n",
              "    }\n",
              "\n",
              "    [theme=dark] .colab-df-convert {\n",
              "      background-color: #3B4455;\n",
              "      fill: #D2E3FC;\n",
              "    }\n",
              "\n",
              "    [theme=dark] .colab-df-convert:hover {\n",
              "      background-color: #434B5C;\n",
              "      box-shadow: 0px 1px 3px 1px rgba(0, 0, 0, 0.15);\n",
              "      filter: drop-shadow(0px 1px 2px rgba(0, 0, 0, 0.3));\n",
              "      fill: #FFFFFF;\n",
              "    }\n",
              "  </style>\n",
              "\n",
              "    <script>\n",
              "      const buttonEl =\n",
              "        document.querySelector('#df-3607230f-eb06-4895-9b5c-cfc2f3250376 button.colab-df-convert');\n",
              "      buttonEl.style.display =\n",
              "        google.colab.kernel.accessAllowed ? 'block' : 'none';\n",
              "\n",
              "      async function convertToInteractive(key) {\n",
              "        const element = document.querySelector('#df-3607230f-eb06-4895-9b5c-cfc2f3250376');\n",
              "        const dataTable =\n",
              "          await google.colab.kernel.invokeFunction('convertToInteractive',\n",
              "                                                    [key], {});\n",
              "        if (!dataTable) return;\n",
              "\n",
              "        const docLinkHtml = 'Like what you see? Visit the ' +\n",
              "          '<a target=\"_blank\" href=https://colab.research.google.com/notebooks/data_table.ipynb>data table notebook</a>'\n",
              "          + ' to learn more about interactive tables.';\n",
              "        element.innerHTML = '';\n",
              "        dataTable['output_type'] = 'display_data';\n",
              "        await google.colab.output.renderOutput(dataTable, element);\n",
              "        const docLink = document.createElement('div');\n",
              "        docLink.innerHTML = docLinkHtml;\n",
              "        element.appendChild(docLink);\n",
              "      }\n",
              "    </script>\n",
              "  </div>\n",
              "\n",
              "\n",
              "<div id=\"df-cb9c267c-783e-49c3-bbbd-0ea8d0bf834d\">\n",
              "  <button class=\"colab-df-quickchart\" onclick=\"quickchart('df-cb9c267c-783e-49c3-bbbd-0ea8d0bf834d')\"\n",
              "            title=\"Suggest charts\"\n",
              "            style=\"display:none;\">\n",
              "\n",
              "<svg xmlns=\"http://www.w3.org/2000/svg\" height=\"24px\"viewBox=\"0 0 24 24\"\n",
              "     width=\"24px\">\n",
              "    <g>\n",
              "        <path d=\"M19 3H5c-1.1 0-2 .9-2 2v14c0 1.1.9 2 2 2h14c1.1 0 2-.9 2-2V5c0-1.1-.9-2-2-2zM9 17H7v-7h2v7zm4 0h-2V7h2v10zm4 0h-2v-4h2v4z\"/>\n",
              "    </g>\n",
              "</svg>\n",
              "  </button>\n",
              "\n",
              "<style>\n",
              "  .colab-df-quickchart {\n",
              "      --bg-color: #E8F0FE;\n",
              "      --fill-color: #1967D2;\n",
              "      --hover-bg-color: #E2EBFA;\n",
              "      --hover-fill-color: #174EA6;\n",
              "      --disabled-fill-color: #AAA;\n",
              "      --disabled-bg-color: #DDD;\n",
              "  }\n",
              "\n",
              "  [theme=dark] .colab-df-quickchart {\n",
              "      --bg-color: #3B4455;\n",
              "      --fill-color: #D2E3FC;\n",
              "      --hover-bg-color: #434B5C;\n",
              "      --hover-fill-color: #FFFFFF;\n",
              "      --disabled-bg-color: #3B4455;\n",
              "      --disabled-fill-color: #666;\n",
              "  }\n",
              "\n",
              "  .colab-df-quickchart {\n",
              "    background-color: var(--bg-color);\n",
              "    border: none;\n",
              "    border-radius: 50%;\n",
              "    cursor: pointer;\n",
              "    display: none;\n",
              "    fill: var(--fill-color);\n",
              "    height: 32px;\n",
              "    padding: 0;\n",
              "    width: 32px;\n",
              "  }\n",
              "\n",
              "  .colab-df-quickchart:hover {\n",
              "    background-color: var(--hover-bg-color);\n",
              "    box-shadow: 0 1px 2px rgba(60, 64, 67, 0.3), 0 1px 3px 1px rgba(60, 64, 67, 0.15);\n",
              "    fill: var(--button-hover-fill-color);\n",
              "  }\n",
              "\n",
              "  .colab-df-quickchart-complete:disabled,\n",
              "  .colab-df-quickchart-complete:disabled:hover {\n",
              "    background-color: var(--disabled-bg-color);\n",
              "    fill: var(--disabled-fill-color);\n",
              "    box-shadow: none;\n",
              "  }\n",
              "\n",
              "  .colab-df-spinner {\n",
              "    border: 2px solid var(--fill-color);\n",
              "    border-color: transparent;\n",
              "    border-bottom-color: var(--fill-color);\n",
              "    animation:\n",
              "      spin 1s steps(1) infinite;\n",
              "  }\n",
              "\n",
              "  @keyframes spin {\n",
              "    0% {\n",
              "      border-color: transparent;\n",
              "      border-bottom-color: var(--fill-color);\n",
              "      border-left-color: var(--fill-color);\n",
              "    }\n",
              "    20% {\n",
              "      border-color: transparent;\n",
              "      border-left-color: var(--fill-color);\n",
              "      border-top-color: var(--fill-color);\n",
              "    }\n",
              "    30% {\n",
              "      border-color: transparent;\n",
              "      border-left-color: var(--fill-color);\n",
              "      border-top-color: var(--fill-color);\n",
              "      border-right-color: var(--fill-color);\n",
              "    }\n",
              "    40% {\n",
              "      border-color: transparent;\n",
              "      border-right-color: var(--fill-color);\n",
              "      border-top-color: var(--fill-color);\n",
              "    }\n",
              "    60% {\n",
              "      border-color: transparent;\n",
              "      border-right-color: var(--fill-color);\n",
              "    }\n",
              "    80% {\n",
              "      border-color: transparent;\n",
              "      border-right-color: var(--fill-color);\n",
              "      border-bottom-color: var(--fill-color);\n",
              "    }\n",
              "    90% {\n",
              "      border-color: transparent;\n",
              "      border-bottom-color: var(--fill-color);\n",
              "    }\n",
              "  }\n",
              "</style>\n",
              "\n",
              "  <script>\n",
              "    async function quickchart(key) {\n",
              "      const quickchartButtonEl =\n",
              "        document.querySelector('#' + key + ' button');\n",
              "      quickchartButtonEl.disabled = true;  // To prevent multiple clicks.\n",
              "      quickchartButtonEl.classList.add('colab-df-spinner');\n",
              "      try {\n",
              "        const charts = await google.colab.kernel.invokeFunction(\n",
              "            'suggestCharts', [key], {});\n",
              "      } catch (error) {\n",
              "        console.error('Error during call to suggestCharts:', error);\n",
              "      }\n",
              "      quickchartButtonEl.classList.remove('colab-df-spinner');\n",
              "      quickchartButtonEl.classList.add('colab-df-quickchart-complete');\n",
              "    }\n",
              "    (() => {\n",
              "      let quickchartButtonEl =\n",
              "        document.querySelector('#df-cb9c267c-783e-49c3-bbbd-0ea8d0bf834d button');\n",
              "      quickchartButtonEl.style.display =\n",
              "        google.colab.kernel.accessAllowed ? 'block' : 'none';\n",
              "    })();\n",
              "  </script>\n",
              "</div>\n",
              "\n",
              "    </div>\n",
              "  </div>\n"
            ],
            "application/vnd.google.colaboratory.intrinsic+json": {
              "type": "dataframe",
              "variable_name": "df",
              "summary": "{\n  \"name\": \"df\",\n  \"rows\": 1085,\n  \"fields\": [\n    {\n      \"column\": \"price\",\n      \"properties\": {\n        \"dtype\": \"number\",\n        \"std\": 262864,\n        \"min\": 113785,\n        \"max\": 2350000,\n        \"num_unique_values\": 557,\n        \"samples\": [\n          531000,\n          248000,\n          980000\n        ],\n        \"semantic_type\": \"\",\n        \"description\": \"\"\n      }\n    },\n    {\n      \"column\": \"stNumber\",\n      \"properties\": {\n        \"dtype\": \"number\",\n        \"std\": 464,\n        \"min\": 1,\n        \"max\": 1896,\n        \"num_unique_values\": 268,\n        \"samples\": [\n          313,\n          73,\n          28\n        ],\n        \"semantic_type\": \"\",\n        \"description\": \"\"\n      }\n    },\n    {\n      \"column\": \"stName\",\n      \"properties\": {\n        \"dtype\": \"category\",\n        \"num_unique_values\": 143,\n        \"samples\": [\n          \"GORHAM AVE\",\n          \"WALNUT ST\",\n          \"UNIVERSITY RD\"\n        ],\n        \"semantic_type\": \"\",\n        \"description\": \"\"\n      }\n    },\n    {\n      \"column\": \"size\",\n      \"properties\": {\n        \"dtype\": \"number\",\n        \"std\": 558,\n        \"min\": 159,\n        \"max\": 4163,\n        \"num_unique_values\": 703,\n        \"samples\": [\n          1240,\n          920,\n          346\n        ],\n        \"semantic_type\": \"\",\n        \"description\": \"\"\n      }\n    },\n    {\n      \"column\": \"beacon\",\n      \"properties\": {\n        \"dtype\": \"number\",\n        \"std\": 0,\n        \"min\": 0,\n        \"max\": 1,\n        \"num_unique_values\": 2,\n        \"samples\": [\n          1,\n          0\n        ],\n        \"semantic_type\": \"\",\n        \"description\": \"\"\n      }\n    },\n    {\n      \"column\": \"baseFloor\",\n      \"properties\": {\n        \"dtype\": \"number\",\n        \"std\": 2,\n        \"min\": 0,\n        \"max\": 14,\n        \"num_unique_values\": 15,\n        \"samples\": [\n          9,\n          14\n        ],\n        \"semantic_type\": \"\",\n        \"description\": \"\"\n      }\n    },\n    {\n      \"column\": \"buildingStyle\",\n      \"properties\": {\n        \"dtype\": \"category\",\n        \"num_unique_values\": 10,\n        \"samples\": [\n          \"CLUSTER-TYPE\",\n          \"DECKER\"\n        ],\n        \"semantic_type\": \"\",\n        \"description\": \"\"\n      }\n    },\n    {\n      \"column\": \"elevators\",\n      \"properties\": {\n        \"dtype\": \"number\",\n        \"std\": 1,\n        \"min\": 0,\n        \"max\": 6,\n        \"num_unique_values\": 7,\n        \"samples\": [\n          1,\n          0\n        ],\n        \"semantic_type\": \"\",\n        \"description\": \"\"\n      }\n    },\n    {\n      \"column\": \"rooms\",\n      \"properties\": {\n        \"dtype\": \"number\",\n        \"std\": 1,\n        \"min\": 1,\n        \"max\": 11,\n        \"num_unique_values\": 11,\n        \"samples\": [\n          5,\n          4\n        ],\n        \"semantic_type\": \"\",\n        \"description\": \"\"\n      }\n    },\n    {\n      \"column\": \"bedrooms\",\n      \"properties\": {\n        \"dtype\": \"number\",\n        \"std\": 0,\n        \"min\": 0,\n        \"max\": 6,\n        \"num_unique_values\": 7,\n        \"samples\": [\n          2,\n          6\n        ],\n        \"semantic_type\": \"\",\n        \"description\": \"\"\n      }\n    },\n    {\n      \"column\": \"fullBathrooms\",\n      \"properties\": {\n        \"dtype\": \"number\",\n        \"std\": 0,\n        \"min\": 0,\n        \"max\": 4,\n        \"num_unique_values\": 5,\n        \"samples\": [\n          3,\n          0\n        ],\n        \"semantic_type\": \"\",\n        \"description\": \"\"\n      }\n    },\n    {\n      \"column\": \"halfBathrooms\",\n      \"properties\": {\n        \"dtype\": \"number\",\n        \"std\": 0,\n        \"min\": 0,\n        \"max\": 2,\n        \"num_unique_values\": 3,\n        \"samples\": [\n          1,\n          0\n        ],\n        \"semantic_type\": \"\",\n        \"description\": \"\"\n      }\n    },\n    {\n      \"column\": \"garage\",\n      \"properties\": {\n        \"dtype\": \"number\",\n        \"std\": 0.8783529608606133,\n        \"min\": 0.0,\n        \"max\": 18.0,\n        \"num_unique_values\": 7,\n        \"samples\": [\n          1.0,\n          0.0\n        ],\n        \"semantic_type\": \"\",\n        \"description\": \"\"\n      }\n    }\n  ]\n}"
            }
          },
          "metadata": {},
          "execution_count": 11
        }
      ]
    },
    {
      "cell_type": "code",
      "source": [
        "def get_rsqr(reg_formula, df):\n",
        "  linear_model = smf.ols(reg_formula, data=df)\n",
        "  results = linear_model.fit()\n",
        "  return results.rsquared_adj, results.rsquared_adj\n",
        "\n",
        "get_rsqr('price ~ size', df)"
      ],
      "metadata": {
        "colab": {
          "base_uri": "https://localhost:8080/"
        },
        "id": "sTmF1RsvG8wG",
        "outputId": "5eabf2c9-f2ea-4da0-8782-1c390262441f"
      },
      "execution_count": 15,
      "outputs": [
        {
          "output_type": "execute_result",
          "data": {
            "text/plain": [
              "(0.7488035137772363, 0.7488035137772363)"
            ]
          },
          "metadata": {},
          "execution_count": 15
        }
      ]
    },
    {
      "cell_type": "code",
      "source": [
        "dep_var = 'price'"
      ],
      "metadata": {
        "id": "8Wn5BsIpIrXx"
      },
      "execution_count": 17,
      "outputs": []
    },
    {
      "cell_type": "code",
      "source": [
        "eligible_vars = df.columns.drop(['stNumber', 'stName', dep_var])\n",
        "categorical_vars = ['buildingStyle']"
      ],
      "metadata": {
        "id": "Xykk5Q1tIWxv"
      },
      "execution_count": 19,
      "outputs": []
    },
    {
      "cell_type": "code",
      "source": [
        "new_dict = {}\n",
        "for var in eligible_vars:\n",
        "  new_dict[var] = var if var not in categorical_vars else f'C({var})'\n",
        "new_dict"
      ],
      "metadata": {
        "colab": {
          "base_uri": "https://localhost:8080/"
        },
        "id": "iu8Ks6DKLKLS",
        "outputId": "8f6a592b-bdce-43f1-808d-0b80b2f4e7db"
      },
      "execution_count": 26,
      "outputs": [
        {
          "output_type": "execute_result",
          "data": {
            "text/plain": [
              "{'size': 'size',\n",
              " 'beacon': 'beacon',\n",
              " 'baseFloor': 'baseFloor',\n",
              " 'buildingStyle': 'C(buildingStyle)',\n",
              " 'elevators': 'elevators',\n",
              " 'rooms': 'rooms',\n",
              " 'bedrooms': 'bedrooms',\n",
              " 'fullBathrooms': 'fullBathrooms',\n",
              " 'halfBathrooms': 'halfBathrooms',\n",
              " 'garage': 'garage'}"
            ]
          },
          "metadata": {},
          "execution_count": 26
        }
      ]
    },
    {
      "cell_type": "code",
      "source": [
        "my_dict = {}\n",
        "for var in eligible_vars:\n",
        "  if var not in categorical_vars:\n",
        "    my_dict[var] = var\n",
        "  else:\n",
        "    my_dict[var] = f'C({var})'\n",
        "my_dict"
      ],
      "metadata": {
        "colab": {
          "base_uri": "https://localhost:8080/"
        },
        "id": "kEngJZ5GL-Bu",
        "outputId": "ffb6fab6-3a09-4ffe-f566-f714363216fe"
      },
      "execution_count": 29,
      "outputs": [
        {
          "output_type": "execute_result",
          "data": {
            "text/plain": [
              "{'size': 'size',\n",
              " 'beacon': 'beacon',\n",
              " 'baseFloor': 'baseFloor',\n",
              " 'buildingStyle': 'C(buildingStyle)',\n",
              " 'elevators': 'elevators',\n",
              " 'rooms': 'rooms',\n",
              " 'bedrooms': 'bedrooms',\n",
              " 'fullBathrooms': 'fullBathrooms',\n",
              " 'halfBathrooms': 'halfBathrooms',\n",
              " 'garage': 'garage'}"
            ]
          },
          "metadata": {},
          "execution_count": 29
        }
      ]
    },
    {
      "cell_type": "code",
      "source": [
        "other_dict = {}\n",
        "for var in eligible_vars:\n",
        "  if var in categorical_vars:\n",
        "    other_dict[var] = 'C(' + var + ')'\n",
        "  else:\n",
        "    other_dict[var] = var\n",
        "other_dict"
      ],
      "metadata": {
        "colab": {
          "base_uri": "https://localhost:8080/"
        },
        "id": "ArZ0Kqh5MYeq",
        "outputId": "b0f95909-b502-421a-87b8-4fb5aafb1b55"
      },
      "execution_count": 30,
      "outputs": [
        {
          "output_type": "execute_result",
          "data": {
            "text/plain": [
              "{'size': 'size',\n",
              " 'beacon': 'beacon',\n",
              " 'baseFloor': 'baseFloor',\n",
              " 'buildingStyle': 'C(buildingStyle)',\n",
              " 'elevators': 'elevators',\n",
              " 'rooms': 'rooms',\n",
              " 'bedrooms': 'bedrooms',\n",
              " 'fullBathrooms': 'fullBathrooms',\n",
              " 'halfBathrooms': 'halfBathrooms',\n",
              " 'garage': 'garage'}"
            ]
          },
          "metadata": {},
          "execution_count": 30
        }
      ]
    },
    {
      "cell_type": "code",
      "source": [
        "eligible_vars_repr = {varname: varname if varname not in categorical_vars else f'C({varname})' for varname in eligible_vars}\n",
        "eligible_vars_repr"
      ],
      "metadata": {
        "colab": {
          "base_uri": "https://localhost:8080/"
        },
        "id": "lU79a0GxIXi1",
        "outputId": "c5bc1a07-3f0f-4e92-d2ee-0b2c272b2475"
      },
      "execution_count": 24,
      "outputs": [
        {
          "output_type": "execute_result",
          "data": {
            "text/plain": [
              "{'size': 'size',\n",
              " 'beacon': 'beacon',\n",
              " 'baseFloor': 'baseFloor',\n",
              " 'buildingStyle': 'C(buildingStyle)',\n",
              " 'elevators': 'elevators',\n",
              " 'rooms': 'rooms',\n",
              " 'bedrooms': 'bedrooms',\n",
              " 'fullBathrooms': 'fullBathrooms',\n",
              " 'halfBathrooms': 'halfBathrooms',\n",
              " 'garage': 'garage'}"
            ]
          },
          "metadata": {},
          "execution_count": 24
        }
      ]
    },
    {
      "cell_type": "code",
      "source": [
        "eligible_vars_repr.keys()"
      ],
      "metadata": {
        "colab": {
          "base_uri": "https://localhost:8080/"
        },
        "id": "lGQ9WURLOFj2",
        "outputId": "774ae0a2-dc19-4874-aa7d-adc4048d15af"
      },
      "execution_count": 33,
      "outputs": [
        {
          "output_type": "execute_result",
          "data": {
            "text/plain": [
              "dict_keys(['size', 'beacon', 'baseFloor', 'buildingStyle', 'elevators', 'rooms', 'bedrooms', 'fullBathrooms', 'halfBathrooms', 'garage'])"
            ]
          },
          "metadata": {},
          "execution_count": 33
        }
      ]
    },
    {
      "cell_type": "code",
      "source": [
        "reg_formula = dep_var + ' ~ '\n",
        "list_reg_updated_formula = list(map(lambda x: reg_formula + x, eligible_vars_repr.values()))"
      ],
      "metadata": {
        "id": "xSyXtDjkIXhp"
      },
      "execution_count": 39,
      "outputs": []
    },
    {
      "cell_type": "code",
      "source": [
        "list_reg_updated_formula[0]"
      ],
      "metadata": {
        "colab": {
          "base_uri": "https://localhost:8080/",
          "height": 35
        },
        "id": "TCLIu4_mOaFz",
        "outputId": "638f5fe1-514c-4f75-8bf8-5c7b39fb9d7c"
      },
      "execution_count": 46,
      "outputs": [
        {
          "output_type": "execute_result",
          "data": {
            "text/plain": [
              "'price ~ size'"
            ],
            "application/vnd.google.colaboratory.intrinsic+json": {
              "type": "string"
            }
          },
          "metadata": {},
          "execution_count": 46
        }
      ]
    },
    {
      "cell_type": "code",
      "source": [
        "list(map(partial(get_rsqr, df=df), list_reg_updated_formula))"
      ],
      "metadata": {
        "colab": {
          "base_uri": "https://localhost:8080/"
        },
        "id": "hRjcRBPMIXep",
        "outputId": "840721ed-fae6-4ff6-ca55-f9f799a1b5e9"
      },
      "execution_count": 45,
      "outputs": [
        {
          "output_type": "execute_result",
          "data": {
            "text/plain": [
              "[(-2.220446049250313e-16, -2.220446049250313e-16),\n",
              " (-2.220446049250313e-16, -2.220446049250313e-16),\n",
              " (-2.220446049250313e-16, -2.220446049250313e-16),\n",
              " (-2.220446049250313e-16, -2.220446049250313e-16),\n",
              " (-2.220446049250313e-16, -2.220446049250313e-16),\n",
              " (-2.220446049250313e-16, -2.220446049250313e-16),\n",
              " (-2.220446049250313e-16, -2.220446049250313e-16),\n",
              " (-2.220446049250313e-16, -2.220446049250313e-16),\n",
              " (-2.220446049250313e-16, -2.220446049250313e-16),\n",
              " (-2.220446049250313e-16, -2.220446049250313e-16)]"
            ]
          },
          "metadata": {},
          "execution_count": 45
        }
      ]
    },
    {
      "cell_type": "code",
      "source": [],
      "metadata": {
        "id": "pYAW6nSqIXcL"
      },
      "execution_count": null,
      "outputs": []
    },
    {
      "cell_type": "code",
      "source": [],
      "metadata": {
        "id": "e71-gS68IXZX"
      },
      "execution_count": null,
      "outputs": []
    },
    {
      "cell_type": "code",
      "source": [],
      "metadata": {
        "id": "RhjEy2_ZIXR5"
      },
      "execution_count": null,
      "outputs": []
    },
    {
      "cell_type": "code",
      "source": [],
      "metadata": {
        "id": "V1xMB3gpIXE0"
      },
      "execution_count": null,
      "outputs": []
    },
    {
      "cell_type": "markdown",
      "source": [
        "### **For Loop**"
      ],
      "metadata": {
        "id": "cqa0gycS8tsH"
      }
    },
    {
      "cell_type": "code",
      "source": [
        "for i in range(len(eligible_vars)):\n",
        "\n",
        "  # Create a List of regression strings (one for each possible new independent variable)\n",
        "\n",
        "  # Compute the Rsquared and Adjusted-Rsquared for each regression model\n",
        "\n",
        "  # Extract the adjusted_rsquared_array (first column of results)\n",
        "\n",
        "  # Find the index with the largest adjusted_rsquared\n",
        "\n",
        "  # Use the index to select the corresponding indpendent variable with the largest adjusted_rsquared\n",
        "\n",
        "  # Append the Variable to the Ordered Variable List\n",
        "\n",
        "  # Update the Regression Formula\n",
        "\n",
        "  # Update the list of potential independent variables\n",
        "\n",
        "  # Use the index to retrieve the adjusted_rsquared and r_squared associated with that index\n",
        "\n",
        "  # Append the values"
      ],
      "metadata": {
        "id": "zeAAYnwUqAtH",
        "colab": {
          "base_uri": "https://localhost:8080/",
          "height": 108
        },
        "outputId": "583ba32f-b573-4cdb-ff01-c8dbe6ffa3ba"
      },
      "execution_count": 13,
      "outputs": [
        {
          "output_type": "error",
          "ename": "SyntaxError",
          "evalue": "incomplete input (<ipython-input-13-024c33f390c7>, line 21)",
          "traceback": [
            "\u001b[0;36m  File \u001b[0;32m\"<ipython-input-13-024c33f390c7>\"\u001b[0;36m, line \u001b[0;32m21\u001b[0m\n\u001b[0;31m    # Append the values\u001b[0m\n\u001b[0m                       ^\u001b[0m\n\u001b[0;31mSyntaxError\u001b[0m\u001b[0;31m:\u001b[0m incomplete input\n"
          ]
        }
      ]
    },
    {
      "cell_type": "markdown",
      "source": [
        "### **Plot**"
      ],
      "metadata": {
        "id": "jwyui9hl2jtt"
      }
    },
    {
      "cell_type": "code",
      "source": [
        "# Create the figure and axes\n",
        "fig, ax = plt.subplots(figsize=(10, 6))\n",
        "\n",
        "# Define width for bars and positions for each pair of bars\n",
        "bar_width = 0.35\n",
        "x = np.arange(len(ordered_variables))\n",
        "\n",
        "# Plot adjusted R-squared and R-squared bars side by side\n",
        "bars_adj = ax.bar(x - bar_width / 2, optimal_adj_rsqr, width=bar_width, label=\"Adjusted\", alpha=0.7)\n",
        "bars_rs = ax.bar(x + bar_width / 2, optimal_rsqr, width=bar_width, label=\"Default\", alpha=0.5)\n",
        "\n",
        "# Add labels, title, and angle the x-axis labels\n",
        "ax.set_title(r\"$R^2$\", loc='left')\n",
        "ax.set_xticks(x)\n",
        "ax.set_xticklabels(ordered_variables, rotation=45, ha='right')\n",
        "ax.legend(loc='center left', bbox_to_anchor=(.95, 0.9))\n",
        "ax.spines['right'].set_visible(False)\n",
        "ax.spines['top'].set_visible(False)\n",
        "\n",
        "# Display values above each bar\n",
        "for bar in bars_adj:\n",
        "    height = bar.get_height()\n",
        "    ax.text(bar.get_x() + bar.get_width() / 2, height, f'{height:.2f}', ha='center', va='bottom')\n",
        "\n",
        "for bar in bars_rs:\n",
        "    height = bar.get_height()\n",
        "    ax.text(bar.get_x() + bar.get_width() / 2, height, f'{height:.2f}', ha='center', va='bottom')\n",
        "\n",
        "plt.show()"
      ],
      "metadata": {
        "id": "9KSByIp6yP-m"
      },
      "execution_count": null,
      "outputs": []
    },
    {
      "cell_type": "code",
      "source": [],
      "metadata": {
        "id": "kPAmR7YM8zeR"
      },
      "execution_count": null,
      "outputs": []
    }
  ]
}