{
  "nbformat": 4,
  "nbformat_minor": 0,
  "metadata": {
    "colab": {
      "provenance": [],
      "authorship_tag": "ABX9TyNOhcRBTZoVyRCaMk9+STaz",
      "include_colab_link": true
    },
    "kernelspec": {
      "name": "python3",
      "display_name": "Python 3"
    },
    "language_info": {
      "name": "python"
    }
  },
  "cells": [
    {
      "cell_type": "markdown",
      "metadata": {
        "id": "view-in-github",
        "colab_type": "text"
      },
      "source": [
        "<a href=\"https://colab.research.google.com/github/pharringtonp19/business-analytics/blob/main/notebooks/regression/multivariate_regression_basics_class.ipynb\" target=\"_parent\"><img src=\"https://colab.research.google.com/assets/colab-badge.svg\" alt=\"Open In Colab\"/></a>"
      ]
    },
    {
      "cell_type": "markdown",
      "source": [
        "### **Setup**\n",
        "\n",
        "You can run this notebook locally. To do so you must install execute one of the following (whichever works best on your system). And, You don't need to clone the Library!!\n",
        "\n",
        "\n",
        "```\n",
        "!pip3 install jax jaxlib seaborn plotly statsmodels  \n",
        "```\n",
        "or\n",
        "\n",
        "```\n",
        "!python -m install jax jaxlib seaborn plotly statsmodels  \n",
        "```"
      ],
      "metadata": {
        "id": "IEVULTWDoRYj"
      }
    },
    {
      "cell_type": "markdown",
      "source": [
        "### **Clone Library**"
      ],
      "metadata": {
        "id": "DFbrseyC-fDE"
      }
    },
    {
      "cell_type": "code",
      "execution_count": 128,
      "metadata": {
        "colab": {
          "base_uri": "https://localhost:8080/"
        },
        "id": "6Oodh9Qc-MvJ",
        "outputId": "b6952780-30f9-4a30-8ce3-48f7488567ee"
      },
      "outputs": [
        {
          "output_type": "stream",
          "name": "stdout",
          "text": [
            "fatal: destination path 'business-analytics' already exists and is not an empty directory.\n"
          ]
        }
      ],
      "source": [
        "!git clone https://github.com/pharringtonp19/business-analytics.git"
      ]
    },
    {
      "cell_type": "markdown",
      "source": [
        "### **Import Packages**"
      ],
      "metadata": {
        "id": "f26Jqdel-hbb"
      }
    },
    {
      "cell_type": "code",
      "source": [
        "import pandas as pd\n",
        "pd.set_option('display.max_columns', None)\n",
        "import matplotlib.pyplot as plt\n",
        "import matplotlib.ticker as mticker\n",
        "import statsmodels.formula.api as smf\n",
        "from statsmodels.iolib.summary2 import summary_col\n",
        "import plotly.graph_objects as go\n",
        "import plotly.express as px\n",
        "import numpy as np\n",
        "import jax.numpy as jnp\n",
        "import jax\n",
        "import seaborn as sb\n",
        "from functools import partial"
      ],
      "metadata": {
        "id": "I7sWtc92-Was"
      },
      "execution_count": 129,
      "outputs": []
    },
    {
      "cell_type": "markdown",
      "source": [
        "### **Read In Data Set**"
      ],
      "metadata": {
        "id": "GSK0cZ4Z-koJ"
      }
    },
    {
      "cell_type": "code",
      "source": [
        "df = pd.read_csv('/content/business-analytics/datasets/CASchools.csv')\n",
        "df['students_per_teacher'] = df['students'] / df['teachers']\n",
        "df.head()"
      ],
      "metadata": {
        "id": "cNM7U1qP-bE8",
        "outputId": "c2230325-f717-498c-af2c-f4be694463b2",
        "colab": {
          "base_uri": "https://localhost:8080/",
          "height": 241
        }
      },
      "execution_count": 130,
      "outputs": [
        {
          "output_type": "execute_result",
          "data": {
            "text/plain": [
              "   Unnamed: 0  district                           school   county grades  \\\n",
              "0           1     75119               Sunol Glen Unified  Alameda  KK-08   \n",
              "1           2     61499             Manzanita Elementary    Butte  KK-08   \n",
              "2           3     61549      Thermalito Union Elementary    Butte  KK-08   \n",
              "3           4     61457  Golden Feather Union Elementary    Butte  KK-08   \n",
              "4           5     61523         Palermo Union Elementary    Butte  KK-08   \n",
              "\n",
              "   students   teachers   calworks      lunch  computer  expenditure  \\\n",
              "0       195  10.900000   0.510200   2.040800        67  6384.911133   \n",
              "1       240  11.150000  15.416700  47.916698       101  5099.380859   \n",
              "2      1550  82.900002  55.032299  76.322601       169  5501.954590   \n",
              "3       243  14.000000  36.475399  77.049202        85  7101.831055   \n",
              "4      1335  71.500000  33.108601  78.427002       171  5235.987793   \n",
              "\n",
              "      income    english        read        math  students_per_teacher  \n",
              "0  22.690001   0.000000  691.599976  690.000000             17.889909  \n",
              "1   9.824000   4.583333  660.500000  661.900024             21.524664  \n",
              "2   8.978000  30.000002  636.299988  650.900024             18.697225  \n",
              "3   8.978000   0.000000  651.900024  643.500000             17.357143  \n",
              "4   9.080333  13.857677  641.799988  639.900024             18.671329  "
            ],
            "text/html": [
              "\n",
              "  <div id=\"df-3182b6de-3c9f-46fa-a5d6-1bf911acf15f\" class=\"colab-df-container\">\n",
              "    <div>\n",
              "<style scoped>\n",
              "    .dataframe tbody tr th:only-of-type {\n",
              "        vertical-align: middle;\n",
              "    }\n",
              "\n",
              "    .dataframe tbody tr th {\n",
              "        vertical-align: top;\n",
              "    }\n",
              "\n",
              "    .dataframe thead th {\n",
              "        text-align: right;\n",
              "    }\n",
              "</style>\n",
              "<table border=\"1\" class=\"dataframe\">\n",
              "  <thead>\n",
              "    <tr style=\"text-align: right;\">\n",
              "      <th></th>\n",
              "      <th>Unnamed: 0</th>\n",
              "      <th>district</th>\n",
              "      <th>school</th>\n",
              "      <th>county</th>\n",
              "      <th>grades</th>\n",
              "      <th>students</th>\n",
              "      <th>teachers</th>\n",
              "      <th>calworks</th>\n",
              "      <th>lunch</th>\n",
              "      <th>computer</th>\n",
              "      <th>expenditure</th>\n",
              "      <th>income</th>\n",
              "      <th>english</th>\n",
              "      <th>read</th>\n",
              "      <th>math</th>\n",
              "      <th>students_per_teacher</th>\n",
              "    </tr>\n",
              "  </thead>\n",
              "  <tbody>\n",
              "    <tr>\n",
              "      <th>0</th>\n",
              "      <td>1</td>\n",
              "      <td>75119</td>\n",
              "      <td>Sunol Glen Unified</td>\n",
              "      <td>Alameda</td>\n",
              "      <td>KK-08</td>\n",
              "      <td>195</td>\n",
              "      <td>10.900000</td>\n",
              "      <td>0.510200</td>\n",
              "      <td>2.040800</td>\n",
              "      <td>67</td>\n",
              "      <td>6384.911133</td>\n",
              "      <td>22.690001</td>\n",
              "      <td>0.000000</td>\n",
              "      <td>691.599976</td>\n",
              "      <td>690.000000</td>\n",
              "      <td>17.889909</td>\n",
              "    </tr>\n",
              "    <tr>\n",
              "      <th>1</th>\n",
              "      <td>2</td>\n",
              "      <td>61499</td>\n",
              "      <td>Manzanita Elementary</td>\n",
              "      <td>Butte</td>\n",
              "      <td>KK-08</td>\n",
              "      <td>240</td>\n",
              "      <td>11.150000</td>\n",
              "      <td>15.416700</td>\n",
              "      <td>47.916698</td>\n",
              "      <td>101</td>\n",
              "      <td>5099.380859</td>\n",
              "      <td>9.824000</td>\n",
              "      <td>4.583333</td>\n",
              "      <td>660.500000</td>\n",
              "      <td>661.900024</td>\n",
              "      <td>21.524664</td>\n",
              "    </tr>\n",
              "    <tr>\n",
              "      <th>2</th>\n",
              "      <td>3</td>\n",
              "      <td>61549</td>\n",
              "      <td>Thermalito Union Elementary</td>\n",
              "      <td>Butte</td>\n",
              "      <td>KK-08</td>\n",
              "      <td>1550</td>\n",
              "      <td>82.900002</td>\n",
              "      <td>55.032299</td>\n",
              "      <td>76.322601</td>\n",
              "      <td>169</td>\n",
              "      <td>5501.954590</td>\n",
              "      <td>8.978000</td>\n",
              "      <td>30.000002</td>\n",
              "      <td>636.299988</td>\n",
              "      <td>650.900024</td>\n",
              "      <td>18.697225</td>\n",
              "    </tr>\n",
              "    <tr>\n",
              "      <th>3</th>\n",
              "      <td>4</td>\n",
              "      <td>61457</td>\n",
              "      <td>Golden Feather Union Elementary</td>\n",
              "      <td>Butte</td>\n",
              "      <td>KK-08</td>\n",
              "      <td>243</td>\n",
              "      <td>14.000000</td>\n",
              "      <td>36.475399</td>\n",
              "      <td>77.049202</td>\n",
              "      <td>85</td>\n",
              "      <td>7101.831055</td>\n",
              "      <td>8.978000</td>\n",
              "      <td>0.000000</td>\n",
              "      <td>651.900024</td>\n",
              "      <td>643.500000</td>\n",
              "      <td>17.357143</td>\n",
              "    </tr>\n",
              "    <tr>\n",
              "      <th>4</th>\n",
              "      <td>5</td>\n",
              "      <td>61523</td>\n",
              "      <td>Palermo Union Elementary</td>\n",
              "      <td>Butte</td>\n",
              "      <td>KK-08</td>\n",
              "      <td>1335</td>\n",
              "      <td>71.500000</td>\n",
              "      <td>33.108601</td>\n",
              "      <td>78.427002</td>\n",
              "      <td>171</td>\n",
              "      <td>5235.987793</td>\n",
              "      <td>9.080333</td>\n",
              "      <td>13.857677</td>\n",
              "      <td>641.799988</td>\n",
              "      <td>639.900024</td>\n",
              "      <td>18.671329</td>\n",
              "    </tr>\n",
              "  </tbody>\n",
              "</table>\n",
              "</div>\n",
              "    <div class=\"colab-df-buttons\">\n",
              "\n",
              "  <div class=\"colab-df-container\">\n",
              "    <button class=\"colab-df-convert\" onclick=\"convertToInteractive('df-3182b6de-3c9f-46fa-a5d6-1bf911acf15f')\"\n",
              "            title=\"Convert this dataframe to an interactive table.\"\n",
              "            style=\"display:none;\">\n",
              "\n",
              "  <svg xmlns=\"http://www.w3.org/2000/svg\" height=\"24px\" viewBox=\"0 -960 960 960\">\n",
              "    <path d=\"M120-120v-720h720v720H120Zm60-500h600v-160H180v160Zm220 220h160v-160H400v160Zm0 220h160v-160H400v160ZM180-400h160v-160H180v160Zm440 0h160v-160H620v160ZM180-180h160v-160H180v160Zm440 0h160v-160H620v160Z\"/>\n",
              "  </svg>\n",
              "    </button>\n",
              "\n",
              "  <style>\n",
              "    .colab-df-container {\n",
              "      display:flex;\n",
              "      gap: 12px;\n",
              "    }\n",
              "\n",
              "    .colab-df-convert {\n",
              "      background-color: #E8F0FE;\n",
              "      border: none;\n",
              "      border-radius: 50%;\n",
              "      cursor: pointer;\n",
              "      display: none;\n",
              "      fill: #1967D2;\n",
              "      height: 32px;\n",
              "      padding: 0 0 0 0;\n",
              "      width: 32px;\n",
              "    }\n",
              "\n",
              "    .colab-df-convert:hover {\n",
              "      background-color: #E2EBFA;\n",
              "      box-shadow: 0px 1px 2px rgba(60, 64, 67, 0.3), 0px 1px 3px 1px rgba(60, 64, 67, 0.15);\n",
              "      fill: #174EA6;\n",
              "    }\n",
              "\n",
              "    .colab-df-buttons div {\n",
              "      margin-bottom: 4px;\n",
              "    }\n",
              "\n",
              "    [theme=dark] .colab-df-convert {\n",
              "      background-color: #3B4455;\n",
              "      fill: #D2E3FC;\n",
              "    }\n",
              "\n",
              "    [theme=dark] .colab-df-convert:hover {\n",
              "      background-color: #434B5C;\n",
              "      box-shadow: 0px 1px 3px 1px rgba(0, 0, 0, 0.15);\n",
              "      filter: drop-shadow(0px 1px 2px rgba(0, 0, 0, 0.3));\n",
              "      fill: #FFFFFF;\n",
              "    }\n",
              "  </style>\n",
              "\n",
              "    <script>\n",
              "      const buttonEl =\n",
              "        document.querySelector('#df-3182b6de-3c9f-46fa-a5d6-1bf911acf15f button.colab-df-convert');\n",
              "      buttonEl.style.display =\n",
              "        google.colab.kernel.accessAllowed ? 'block' : 'none';\n",
              "\n",
              "      async function convertToInteractive(key) {\n",
              "        const element = document.querySelector('#df-3182b6de-3c9f-46fa-a5d6-1bf911acf15f');\n",
              "        const dataTable =\n",
              "          await google.colab.kernel.invokeFunction('convertToInteractive',\n",
              "                                                    [key], {});\n",
              "        if (!dataTable) return;\n",
              "\n",
              "        const docLinkHtml = 'Like what you see? Visit the ' +\n",
              "          '<a target=\"_blank\" href=https://colab.research.google.com/notebooks/data_table.ipynb>data table notebook</a>'\n",
              "          + ' to learn more about interactive tables.';\n",
              "        element.innerHTML = '';\n",
              "        dataTable['output_type'] = 'display_data';\n",
              "        await google.colab.output.renderOutput(dataTable, element);\n",
              "        const docLink = document.createElement('div');\n",
              "        docLink.innerHTML = docLinkHtml;\n",
              "        element.appendChild(docLink);\n",
              "      }\n",
              "    </script>\n",
              "  </div>\n",
              "\n",
              "\n",
              "<div id=\"df-a16e85e4-2589-4a69-a36b-3a57edffccdd\">\n",
              "  <button class=\"colab-df-quickchart\" onclick=\"quickchart('df-a16e85e4-2589-4a69-a36b-3a57edffccdd')\"\n",
              "            title=\"Suggest charts\"\n",
              "            style=\"display:none;\">\n",
              "\n",
              "<svg xmlns=\"http://www.w3.org/2000/svg\" height=\"24px\"viewBox=\"0 0 24 24\"\n",
              "     width=\"24px\">\n",
              "    <g>\n",
              "        <path d=\"M19 3H5c-1.1 0-2 .9-2 2v14c0 1.1.9 2 2 2h14c1.1 0 2-.9 2-2V5c0-1.1-.9-2-2-2zM9 17H7v-7h2v7zm4 0h-2V7h2v10zm4 0h-2v-4h2v4z\"/>\n",
              "    </g>\n",
              "</svg>\n",
              "  </button>\n",
              "\n",
              "<style>\n",
              "  .colab-df-quickchart {\n",
              "      --bg-color: #E8F0FE;\n",
              "      --fill-color: #1967D2;\n",
              "      --hover-bg-color: #E2EBFA;\n",
              "      --hover-fill-color: #174EA6;\n",
              "      --disabled-fill-color: #AAA;\n",
              "      --disabled-bg-color: #DDD;\n",
              "  }\n",
              "\n",
              "  [theme=dark] .colab-df-quickchart {\n",
              "      --bg-color: #3B4455;\n",
              "      --fill-color: #D2E3FC;\n",
              "      --hover-bg-color: #434B5C;\n",
              "      --hover-fill-color: #FFFFFF;\n",
              "      --disabled-bg-color: #3B4455;\n",
              "      --disabled-fill-color: #666;\n",
              "  }\n",
              "\n",
              "  .colab-df-quickchart {\n",
              "    background-color: var(--bg-color);\n",
              "    border: none;\n",
              "    border-radius: 50%;\n",
              "    cursor: pointer;\n",
              "    display: none;\n",
              "    fill: var(--fill-color);\n",
              "    height: 32px;\n",
              "    padding: 0;\n",
              "    width: 32px;\n",
              "  }\n",
              "\n",
              "  .colab-df-quickchart:hover {\n",
              "    background-color: var(--hover-bg-color);\n",
              "    box-shadow: 0 1px 2px rgba(60, 64, 67, 0.3), 0 1px 3px 1px rgba(60, 64, 67, 0.15);\n",
              "    fill: var(--button-hover-fill-color);\n",
              "  }\n",
              "\n",
              "  .colab-df-quickchart-complete:disabled,\n",
              "  .colab-df-quickchart-complete:disabled:hover {\n",
              "    background-color: var(--disabled-bg-color);\n",
              "    fill: var(--disabled-fill-color);\n",
              "    box-shadow: none;\n",
              "  }\n",
              "\n",
              "  .colab-df-spinner {\n",
              "    border: 2px solid var(--fill-color);\n",
              "    border-color: transparent;\n",
              "    border-bottom-color: var(--fill-color);\n",
              "    animation:\n",
              "      spin 1s steps(1) infinite;\n",
              "  }\n",
              "\n",
              "  @keyframes spin {\n",
              "    0% {\n",
              "      border-color: transparent;\n",
              "      border-bottom-color: var(--fill-color);\n",
              "      border-left-color: var(--fill-color);\n",
              "    }\n",
              "    20% {\n",
              "      border-color: transparent;\n",
              "      border-left-color: var(--fill-color);\n",
              "      border-top-color: var(--fill-color);\n",
              "    }\n",
              "    30% {\n",
              "      border-color: transparent;\n",
              "      border-left-color: var(--fill-color);\n",
              "      border-top-color: var(--fill-color);\n",
              "      border-right-color: var(--fill-color);\n",
              "    }\n",
              "    40% {\n",
              "      border-color: transparent;\n",
              "      border-right-color: var(--fill-color);\n",
              "      border-top-color: var(--fill-color);\n",
              "    }\n",
              "    60% {\n",
              "      border-color: transparent;\n",
              "      border-right-color: var(--fill-color);\n",
              "    }\n",
              "    80% {\n",
              "      border-color: transparent;\n",
              "      border-right-color: var(--fill-color);\n",
              "      border-bottom-color: var(--fill-color);\n",
              "    }\n",
              "    90% {\n",
              "      border-color: transparent;\n",
              "      border-bottom-color: var(--fill-color);\n",
              "    }\n",
              "  }\n",
              "</style>\n",
              "\n",
              "  <script>\n",
              "    async function quickchart(key) {\n",
              "      const quickchartButtonEl =\n",
              "        document.querySelector('#' + key + ' button');\n",
              "      quickchartButtonEl.disabled = true;  // To prevent multiple clicks.\n",
              "      quickchartButtonEl.classList.add('colab-df-spinner');\n",
              "      try {\n",
              "        const charts = await google.colab.kernel.invokeFunction(\n",
              "            'suggestCharts', [key], {});\n",
              "      } catch (error) {\n",
              "        console.error('Error during call to suggestCharts:', error);\n",
              "      }\n",
              "      quickchartButtonEl.classList.remove('colab-df-spinner');\n",
              "      quickchartButtonEl.classList.add('colab-df-quickchart-complete');\n",
              "    }\n",
              "    (() => {\n",
              "      let quickchartButtonEl =\n",
              "        document.querySelector('#df-a16e85e4-2589-4a69-a36b-3a57edffccdd button');\n",
              "      quickchartButtonEl.style.display =\n",
              "        google.colab.kernel.accessAllowed ? 'block' : 'none';\n",
              "    })();\n",
              "  </script>\n",
              "</div>\n",
              "\n",
              "    </div>\n",
              "  </div>\n"
            ],
            "application/vnd.google.colaboratory.intrinsic+json": {
              "type": "dataframe",
              "variable_name": "df",
              "summary": "{\n  \"name\": \"df\",\n  \"rows\": 420,\n  \"fields\": [\n    {\n      \"column\": \"Unnamed: 0\",\n      \"properties\": {\n        \"dtype\": \"number\",\n        \"std\": 121,\n        \"min\": 1,\n        \"max\": 420,\n        \"num_unique_values\": 420,\n        \"samples\": [\n          146,\n          335,\n          176\n        ],\n        \"semantic_type\": \"\",\n        \"description\": \"\"\n      }\n    },\n    {\n      \"column\": \"district\",\n      \"properties\": {\n        \"dtype\": \"number\",\n        \"std\": 3466,\n        \"min\": 61382,\n        \"max\": 75440,\n        \"num_unique_values\": 420,\n        \"samples\": [\n          68205,\n          71654,\n          63032\n        ],\n        \"semantic_type\": \"\",\n        \"description\": \"\"\n      }\n    },\n    {\n      \"column\": \"school\",\n      \"properties\": {\n        \"dtype\": \"string\",\n        \"num_unique_values\": 409,\n        \"samples\": [\n          \"Red Bluff Union Elementary\",\n          \"Banta Elementary\",\n          \"Bellevue Union Elementary\"\n        ],\n        \"semantic_type\": \"\",\n        \"description\": \"\"\n      }\n    },\n    {\n      \"column\": \"county\",\n      \"properties\": {\n        \"dtype\": \"category\",\n        \"num_unique_values\": 45,\n        \"samples\": [\n          \"Calaveras\",\n          \"Lake\",\n          \"Sutter\"\n        ],\n        \"semantic_type\": \"\",\n        \"description\": \"\"\n      }\n    },\n    {\n      \"column\": \"grades\",\n      \"properties\": {\n        \"dtype\": \"category\",\n        \"num_unique_values\": 2,\n        \"samples\": [\n          \"KK-06\",\n          \"KK-08\"\n        ],\n        \"semantic_type\": \"\",\n        \"description\": \"\"\n      }\n    },\n    {\n      \"column\": \"students\",\n      \"properties\": {\n        \"dtype\": \"number\",\n        \"std\": 3913,\n        \"min\": 81,\n        \"max\": 27176,\n        \"num_unique_values\": 391,\n        \"samples\": [\n          446,\n          6219\n        ],\n        \"semantic_type\": \"\",\n        \"description\": \"\"\n      }\n    },\n    {\n      \"column\": \"teachers\",\n      \"properties\": {\n        \"dtype\": \"number\",\n        \"std\": 187.9126794313481,\n        \"min\": 4.849999905,\n        \"max\": 1429.0,\n        \"num_unique_values\": 374,\n        \"samples\": [\n          16.28000069,\n          90.40000153\n        ],\n        \"semantic_type\": \"\",\n        \"description\": \"\"\n      }\n    },\n    {\n      \"column\": \"calworks\",\n      \"properties\": {\n        \"dtype\": \"number\",\n        \"std\": 11.454820990356554,\n        \"min\": 0.0,\n        \"max\": 78.99420166,\n        \"num_unique_values\": 411,\n        \"samples\": [\n          20.63489914,\n          12.69200039\n        ],\n        \"semantic_type\": \"\",\n        \"description\": \"\"\n      }\n    },\n    {\n      \"column\": \"lunch\",\n      \"properties\": {\n        \"dtype\": \"number\",\n        \"std\": 27.1233810812201,\n        \"min\": 0.0,\n        \"max\": 100.0,\n        \"num_unique_values\": 407,\n        \"samples\": [\n          86.02940369,\n          34.03609848\n        ],\n        \"semantic_type\": \"\",\n        \"description\": \"\"\n      }\n    },\n    {\n      \"column\": \"computer\",\n      \"properties\": {\n        \"dtype\": \"number\",\n        \"std\": 441,\n        \"min\": 0,\n        \"max\": 3324,\n        \"num_unique_values\": 270,\n        \"samples\": [\n          177,\n          4\n        ],\n        \"semantic_type\": \"\",\n        \"description\": \"\"\n      }\n    },\n    {\n      \"column\": \"expenditure\",\n      \"properties\": {\n        \"dtype\": \"number\",\n        \"std\": 633.9370531365886,\n        \"min\": 3926.06958,\n        \"max\": 7711.506836,\n        \"num_unique_values\": 420,\n        \"samples\": [\n          5124.836426,\n          4357.826172\n        ],\n        \"semantic_type\": \"\",\n        \"description\": \"\"\n      }\n    },\n    {\n      \"column\": \"income\",\n      \"properties\": {\n        \"dtype\": \"number\",\n        \"std\": 7.225889763125028,\n        \"min\": 5.335000038,\n        \"max\": 55.32799911,\n        \"num_unique_values\": 337,\n        \"samples\": [\n          10.47200012,\n          11.9119997\n        ],\n        \"semantic_type\": \"\",\n        \"description\": \"\"\n      }\n    },\n    {\n      \"column\": \"english\",\n      \"properties\": {\n        \"dtype\": \"number\",\n        \"std\": 18.2859274675383,\n        \"min\": 0.0,\n        \"max\": 85.53971863,\n        \"num_unique_values\": 372,\n        \"samples\": [\n          1.68350172,\n          49.82307053\n        ],\n        \"semantic_type\": \"\",\n        \"description\": \"\"\n      }\n    },\n    {\n      \"column\": \"read\",\n      \"properties\": {\n        \"dtype\": \"number\",\n        \"std\": 20.107980021994248,\n        \"min\": 604.5,\n        \"max\": 704.0,\n        \"num_unique_values\": 322,\n        \"samples\": [\n          650.0,\n          650.7999878\n        ],\n        \"semantic_type\": \"\",\n        \"description\": \"\"\n      }\n    },\n    {\n      \"column\": \"math\",\n      \"properties\": {\n        \"dtype\": \"number\",\n        \"std\": 18.75420217321223,\n        \"min\": 605.4000244,\n        \"max\": 709.5,\n        \"num_unique_values\": 324,\n        \"samples\": [\n          646.0999756,\n          645.0999756\n        ],\n        \"semantic_type\": \"\",\n        \"description\": \"\"\n      }\n    },\n    {\n      \"column\": \"students_per_teacher\",\n      \"properties\": {\n        \"dtype\": \"number\",\n        \"std\": 1.8918117781492074,\n        \"min\": 14.0,\n        \"max\": 25.8,\n        \"num_unique_values\": 413,\n        \"samples\": [\n          17.258064516129032,\n          21.584157603764364\n        ],\n        \"semantic_type\": \"\",\n        \"description\": \"\"\n      }\n    }\n  ]\n}"
            }
          },
          "metadata": {},
          "execution_count": 130
        }
      ]
    },
    {
      "cell_type": "markdown",
      "source": [
        "### **Task \\# 1**"
      ],
      "metadata": {
        "id": "jQ_hj-QMZZXe"
      }
    },
    {
      "cell_type": "code",
      "source": [
        "linear_model = smf.ols('math ~ students_per_teacher', data=df)\n",
        "results1 = linear_model.fit()"
      ],
      "metadata": {
        "id": "1iU3XUmqZcCm"
      },
      "execution_count": 131,
      "outputs": []
    },
    {
      "cell_type": "markdown",
      "source": [
        "### **Task \\#2**"
      ],
      "metadata": {
        "id": "lCWXkk4sZjpP"
      }
    },
    {
      "cell_type": "code",
      "source": [
        "results1 = linear_model.fit()"
      ],
      "metadata": {
        "id": "O65LhqMOZgv8"
      },
      "execution_count": 132,
      "outputs": []
    },
    {
      "cell_type": "markdown",
      "source": [
        "### **Task \\# 3**"
      ],
      "metadata": {
        "id": "368ROhswZpgV"
      }
    },
    {
      "cell_type": "code",
      "source": [
        "def model(params, x):\n",
        "  return params.values[0] + params.values[1]*x"
      ],
      "metadata": {
        "id": "QRCXsbcRZsFj"
      },
      "execution_count": 133,
      "outputs": []
    },
    {
      "cell_type": "markdown",
      "source": [
        "### **Task \\#4**"
      ],
      "metadata": {
        "id": "uggmeFXpZziE"
      }
    },
    {
      "cell_type": "code",
      "source": [
        "f = partial(model, results1.params)\n",
        "xs = np.linspace(df['students_per_teacher'].min(), df['students_per_teacher'].max())\n",
        "ys = list(map(f, xs))\n",
        "plt.scatter(df['students_per_teacher'], df['math'])\n",
        "plt.plot(xs, ys, color='black')\n",
        "ax = plt.gca()\n",
        "ax.spines['right'].set_visible(False)\n",
        "ax.spines['top'].set_visible(False)\n",
        "ax.yaxis.set_major_formatter(mticker.FuncFormatter(lambda x, _: f'{int(x):,}'))\n",
        "plt.xlabel('Students Per Teacher', size=14)\n",
        "plt.title('Math', loc='left', size=14)\n",
        "plt.show()"
      ],
      "metadata": {
        "colab": {
          "base_uri": "https://localhost:8080/",
          "height": 478
        },
        "id": "AO94HV67Z2HL",
        "outputId": "670891f9-f21a-4c65-dfb7-5787af4ffc99"
      },
      "execution_count": 134,
      "outputs": [
        {
          "output_type": "display_data",
          "data": {
            "text/plain": [
              "<Figure size 640x480 with 1 Axes>"
            ],
            "image/png": "[encoded data removed]"
          },
          "metadata": {}
        }
      ]
    },
    {
      "cell_type": "markdown",
      "source": [
        "### **Task \\#5**"
      ],
      "metadata": {
        "id": "h7wBavEobVWg"
      }
    },
    {
      "cell_type": "code",
      "source": [
        "linear_model = smf.ols('math ~ students_per_teacher + income', data=df)\n",
        "results2 = linear_model.fit()\n",
        "print(results2.params)"
      ],
      "metadata": {
        "colab": {
          "base_uri": "https://localhost:8080/"
        },
        "id": "GWpbezTLbX4K",
        "outputId": "fb18a775-d96a-40fd-c9d8-17eb34564b15"
      },
      "execution_count": 135,
      "outputs": [
        {
          "output_type": "stream",
          "name": "stdout",
          "text": [
            "Intercept               632.686737\n",
            "students_per_teacher     -0.347434\n",
            "income                    1.794110\n",
            "dtype: float64\n"
          ]
        }
      ]
    },
    {
      "cell_type": "markdown",
      "source": [
        "### **Task \\#6**"
      ],
      "metadata": {
        "id": "IYtLBBy9bo4L"
      }
    },
    {
      "cell_type": "code",
      "source": [
        "# Define model2 function\n",
        "def model2(params, x1, x2):\n",
        "    return params.values[0] + params.values[1]*x1 + params.values[2]*x2\n",
        "\n",
        "# Generate x-values\n",
        "xs = np.linspace(df['students_per_teacher'].min(), df['students_per_teacher'].max(), 100)\n",
        "spt = list(range(int(df['income'].min()), int(df['income'].max()), 8))\n",
        "\n",
        "# Plot lines for each value in 'spt'\n",
        "for num in spt:\n",
        "    f = partial(model2, results2.params, x2=num)  # Using partial to fix x2\n",
        "    ys = list(map(f, xs))\n",
        "    plt.plot(xs, ys, label=num)\n",
        "\n",
        "# Customize plot appearance\n",
        "ax = plt.gca()\n",
        "ax.spines['right'].set_visible(False)\n",
        "ax.spines['top'].set_visible(False)\n",
        "ax.yaxis.set_major_formatter(mticker.FuncFormatter(lambda x, _: f'{int(x):,}'))\n",
        "plt.xlabel('Students Per Teacher', size=14)\n",
        "plt.title('Math', loc='left', size=14)\n",
        "\n",
        "# Move legend to the side\n",
        "plt.legend(title='Income', ncols=1, bbox_to_anchor=(.95, 1), loc='upper left')\n",
        "\n",
        "plt.show()"
      ],
      "metadata": {
        "colab": {
          "base_uri": "https://localhost:8080/",
          "height": 478
        },
        "id": "x9CoZZs5brKO",
        "outputId": "e728bc51-728b-46b6-e7c1-d5e64965f29a"
      },
      "execution_count": 136,
      "outputs": [
        {
          "output_type": "display_data",
          "data": {
            "text/plain": [
              "<Figure size 640x480 with 1 Axes>"
            ],
            "image/png": "[encoded data removed]"
          },
          "metadata": {}
        }
      ]
    },
    {
      "cell_type": "markdown",
      "source": [
        "### **Task \\#7**"
      ],
      "metadata": {
        "id": "9u2Vd5Kg1FWx"
      }
    },
    {
      "cell_type": "code",
      "source": [
        "plt.scatter(df['students_per_teacher'], results1.fittedvalues, label='None')\n",
        "plt.scatter(df['students_per_teacher'], results2.fittedvalues, label='Income')\n",
        "ax = plt.gca()\n",
        "ax.spines['right'].set_visible(False)\n",
        "ax.spines['top'].set_visible(False)\n",
        "plt.xlabel('Students Per Teacher', size=14)\n",
        "plt.title('Math', loc='left', size=14)\n",
        "plt.legend(title='Controls', frameon=False)\n",
        "plt.show()"
      ],
      "metadata": {
        "id": "88Tbt1911DCn",
        "outputId": "f8637267-2edc-45ce-d9ff-e9e9736c85c3",
        "colab": {
          "base_uri": "https://localhost:8080/",
          "height": 478
        }
      },
      "execution_count": 137,
      "outputs": [
        {
          "output_type": "display_data",
          "data": {
            "text/plain": [
              "<Figure size 640x480 with 1 Axes>"
            ],
            "image/png": "[encoded data removed]"
          },
          "metadata": {}
        }
      ]
    },
    {
      "cell_type": "markdown",
      "source": [
        "### **Task \\#8**"
      ],
      "metadata": {
        "id": "56wYUbBZENnF"
      }
    },
    {
      "cell_type": "code",
      "source": [
        "mse_values = [(results1.resid**2).mean(), (results2.resid**2).mean()]\n",
        "model_names = ['Model 1', 'Model 2']\n",
        "\n",
        "# Create the bar plot\n",
        "plt.bar(model_names, mse_values, color=['lightgrey', 'purple'])\n",
        "\n",
        "# Labeling and title\n",
        "\n",
        "# Displaying exact MSE values on top of each bar\n",
        "for i, v in enumerate(mse_values):\n",
        "    plt.text(i, v + 10, f\"{v:.2f}\", ha='center', va='bottom', fontsize=12)\n",
        "ax = plt.gca()\n",
        "ax.spines['right'].set_visible(False)\n",
        "ax.spines['top'].set_visible(False)\n",
        "plt.title('Mean Squared Error', loc='left', size=14, pad=20)\n",
        "plt.show()"
      ],
      "metadata": {
        "id": "qf_wu2l1ERaz",
        "outputId": "262422f7-2742-4c48-9645-25b6482e528b",
        "colab": {
          "base_uri": "https://localhost:8080/",
          "height": 473
        }
      },
      "execution_count": 138,
      "outputs": [
        {
          "output_type": "display_data",
          "data": {
            "text/plain": [
              "<Figure size 640x480 with 1 Axes>"
            ],
            "image/png": "[encoded data removed]"
          },
          "metadata": {}
        }
      ]
    },
    {
      "cell_type": "markdown",
      "source": [
        "### **Task \\#9**"
      ],
      "metadata": {
        "id": "CiZdNA181kLI"
      }
    },
    {
      "cell_type": "code",
      "source": [
        "r2_values = [results1.rsquared, results2.rsquared]\n",
        "model_names = ['Model 1', 'Model 2']\n",
        "\n",
        "# Create the bar plot\n",
        "plt.bar(model_names, r2_values, color=['lightgrey', 'purple'])\n",
        "\n",
        "# Displaying exact MSE values on top of each bar\n",
        "for i, v in enumerate(r2_values):\n",
        "    plt.text(i, v + 0.02, f\"{v:.2f}\", ha='center', va='bottom', fontsize=12)\n",
        "ax = plt.gca()\n",
        "ax.spines['right'].set_visible(False)\n",
        "ax.spines['top'].set_visible(False)\n",
        "plt.title(r'$R^2$', loc='left', size=14)\n",
        "plt.show()"
      ],
      "metadata": {
        "id": "LiQ6MMlK1mrv",
        "outputId": "f4da340b-8474-4d04-93eb-34b07b923d43",
        "colab": {
          "base_uri": "https://localhost:8080/",
          "height": 456
        }
      },
      "execution_count": 145,
      "outputs": [
        {
          "output_type": "display_data",
          "data": {
            "text/plain": [
              "<Figure size 640x480 with 1 Axes>"
            ],
            "image/png": "[encoded data removed]"
          },
          "metadata": {}
        }
      ]
    },
    {
      "cell_type": "code",
      "source": [
        "df['predicted_students_per_teacher'] = smf.ols(\"students_per_teacher ~ income\", data=df).fit().fittedvalues\n",
        "df['residual_students_per_teacher'] = df['students_per_teacher'] - df['predicted_students_per_teacher']\n",
        "params = smf.ols(\"math ~ residual_students_per_teacher\", data=df).fit().params\n",
        "params"
      ],
      "metadata": {
        "id": "v9y5PALkDWLC",
        "outputId": "fb8dc05e-dd6b-476e-c989-d3b003ae41a8",
        "colab": {
          "base_uri": "https://localhost:8080/",
          "height": 147
        }
      },
      "execution_count": 140,
      "outputs": [
        {
          "output_type": "execute_result",
          "data": {
            "text/plain": [
              "Intercept                        653.342619\n",
              "residual_students_per_teacher     -0.347434\n",
              "dtype: float64"
            ],
            "text/html": [
              "<div>\n",
              "<style scoped>\n",
              "    .dataframe tbody tr th:only-of-type {\n",
              "        vertical-align: middle;\n",
              "    }\n",
              "\n",
              "    .dataframe tbody tr th {\n",
              "        vertical-align: top;\n",
              "    }\n",
              "\n",
              "    .dataframe thead th {\n",
              "        text-align: right;\n",
              "    }\n",
              "</style>\n",
              "<table border=\"1\" class=\"dataframe\">\n",
              "  <thead>\n",
              "    <tr style=\"text-align: right;\">\n",
              "      <th></th>\n",
              "      <th>0</th>\n",
              "    </tr>\n",
              "  </thead>\n",
              "  <tbody>\n",
              "    <tr>\n",
              "      <th>Intercept</th>\n",
              "      <td>653.342619</td>\n",
              "    </tr>\n",
              "    <tr>\n",
              "      <th>residual_students_per_teacher</th>\n",
              "      <td>-0.347434</td>\n",
              "    </tr>\n",
              "  </tbody>\n",
              "</table>\n",
              "</div><br><label><b>dtype:</b> float64</label>"
            ]
          },
          "metadata": {},
          "execution_count": 140
        }
      ]
    },
    {
      "cell_type": "code",
      "source": [
        "fig = px.scatter(\n",
        "    df,\n",
        "    x='size',\n",
        "    y='price',\n",
        "    color='buildingStyle',  # This can be adjusted to any other variable\n",
        "    title='Price',\n",
        "    labels={'Size': 'Size (sq ft)'},\n",
        ")\n",
        "\n",
        "fig.update_layout(\n",
        "    title={'x': 0.0, 'xanchor': 'left'},  # Title alignment to left\n",
        "    xaxis=dict(title='Size',\n",
        "        title_font=dict(size=14)),\n",
        "    yaxis=dict(\n",
        "        title='',\n",
        "        tickformat=',',\n",
        "        tickfont=dict(size=12)\n",
        "    ),\n",
        "    margin=dict(t=40, b=40, l=40, r=40)\n",
        ")\n",
        "\n",
        "fig.update_xaxes(showline=True, linewidth=1, linecolor='black', mirror=True)\n",
        "fig.update_yaxes(showline=True, linewidth=1, linecolor='black', mirror=True)\n",
        "\n",
        "fig.show()"
      ],
      "metadata": {
        "id": "gsb0nGZ66AOz",
        "outputId": "4422dd9c-1721-44dd-ddca-049e19b1319a",
        "colab": {
          "base_uri": "https://localhost:8080/",
          "height": 382
        }
      },
      "execution_count": 141,
      "outputs": [
        {
          "output_type": "error",
          "ename": "ValueError",
          "evalue": "Value of 'x' is not the name of a column in 'data_frame'. Expected one of ['Unnamed: 0', 'district', 'school', 'county', 'grades', 'students', 'teachers', 'calworks', 'lunch', 'computer', 'expenditure', 'income', 'english', 'read', 'math', 'students_per_teacher', 'predicted_students_per_teacher', 'residual_students_per_teacher'] but received: size",
          "traceback": [
            "\u001b[0;31m---------------------------------------------------------------------------\u001b[0m",
            "\u001b[0;31mValueError\u001b[0m                                Traceback (most recent call last)",
            "\u001b[0;32m<ipython-input-141-5cd0aa7ad82b>\u001b[0m in \u001b[0;36m<cell line: 1>\u001b[0;34m()\u001b[0m\n\u001b[0;32m----> 1\u001b[0;31m fig = px.scatter(\n\u001b[0m\u001b[1;32m      2\u001b[0m     \u001b[0mdf\u001b[0m\u001b[0;34m,\u001b[0m\u001b[0;34m\u001b[0m\u001b[0;34m\u001b[0m\u001b[0m\n\u001b[1;32m      3\u001b[0m     \u001b[0mx\u001b[0m\u001b[0;34m=\u001b[0m\u001b[0;34m'size'\u001b[0m\u001b[0;34m,\u001b[0m\u001b[0;34m\u001b[0m\u001b[0;34m\u001b[0m\u001b[0m\n\u001b[1;32m      4\u001b[0m     \u001b[0my\u001b[0m\u001b[0;34m=\u001b[0m\u001b[0;34m'price'\u001b[0m\u001b[0;34m,\u001b[0m\u001b[0;34m\u001b[0m\u001b[0;34m\u001b[0m\u001b[0m\n\u001b[1;32m      5\u001b[0m     \u001b[0mcolor\u001b[0m\u001b[0;34m=\u001b[0m\u001b[0;34m'buildingStyle'\u001b[0m\u001b[0;34m,\u001b[0m  \u001b[0;31m# This can be adjusted to any other variable\u001b[0m\u001b[0;34m\u001b[0m\u001b[0;34m\u001b[0m\u001b[0m\n",
            "\u001b[0;32m/usr/local/lib/python3.10/dist-packages/plotly/express/_chart_types.py\u001b[0m in \u001b[0;36mscatter\u001b[0;34m(data_frame, x, y, color, symbol, size, hover_name, hover_data, custom_data, text, facet_row, facet_col, facet_col_wrap, facet_row_spacing, facet_col_spacing, error_x, error_x_minus, error_y, error_y_minus, animation_frame, animation_group, category_orders, labels, orientation, color_discrete_sequence, color_discrete_map, color_continuous_scale, range_color, color_continuous_midpoint, symbol_sequence, symbol_map, opacity, size_max, marginal_x, marginal_y, trendline, trendline_options, trendline_color_override, trendline_scope, log_x, log_y, range_x, range_y, render_mode, title, template, width, height)\u001b[0m\n\u001b[1;32m     64\u001b[0m     \u001b[0mmark\u001b[0m \u001b[0;32min\u001b[0m \u001b[0;36m2\u001b[0m\u001b[0mD\u001b[0m \u001b[0mspace\u001b[0m\u001b[0;34m.\u001b[0m\u001b[0;34m\u001b[0m\u001b[0;34m\u001b[0m\u001b[0m\n\u001b[1;32m     65\u001b[0m     \"\"\"\n\u001b[0;32m---> 66\u001b[0;31m     \u001b[0;32mreturn\u001b[0m \u001b[0mmake_figure\u001b[0m\u001b[0;34m(\u001b[0m\u001b[0margs\u001b[0m\u001b[0;34m=\u001b[0m\u001b[0mlocals\u001b[0m\u001b[0;34m(\u001b[0m\u001b[0;34m)\u001b[0m\u001b[0;34m,\u001b[0m \u001b[0mconstructor\u001b[0m\u001b[0;34m=\u001b[0m\u001b[0mgo\u001b[0m\u001b[0;34m.\u001b[0m\u001b[0mScatter\u001b[0m\u001b[0;34m)\u001b[0m\u001b[0;34m\u001b[0m\u001b[0;34m\u001b[0m\u001b[0m\n\u001b[0m\u001b[1;32m     67\u001b[0m \u001b[0;34m\u001b[0m\u001b[0m\n\u001b[1;32m     68\u001b[0m \u001b[0;34m\u001b[0m\u001b[0m\n",
            "\u001b[0;32m/usr/local/lib/python3.10/dist-packages/plotly/express/_core.py\u001b[0m in \u001b[0;36mmake_figure\u001b[0;34m(args, constructor, trace_patch, layout_patch)\u001b[0m\n\u001b[1;32m   2115\u001b[0m     \u001b[0mapply_default_cascade\u001b[0m\u001b[0;34m(\u001b[0m\u001b[0margs\u001b[0m\u001b[0;34m)\u001b[0m\u001b[0;34m\u001b[0m\u001b[0;34m\u001b[0m\u001b[0m\n\u001b[1;32m   2116\u001b[0m \u001b[0;34m\u001b[0m\u001b[0m\n\u001b[0;32m-> 2117\u001b[0;31m     \u001b[0margs\u001b[0m \u001b[0;34m=\u001b[0m \u001b[0mbuild_dataframe\u001b[0m\u001b[0;34m(\u001b[0m\u001b[0margs\u001b[0m\u001b[0;34m,\u001b[0m \u001b[0mconstructor\u001b[0m\u001b[0;34m)\u001b[0m\u001b[0;34m\u001b[0m\u001b[0;34m\u001b[0m\u001b[0m\n\u001b[0m\u001b[1;32m   2118\u001b[0m     \u001b[0;32mif\u001b[0m \u001b[0mconstructor\u001b[0m \u001b[0;32min\u001b[0m \u001b[0;34m[\u001b[0m\u001b[0mgo\u001b[0m\u001b[0;34m.\u001b[0m\u001b[0mTreemap\u001b[0m\u001b[0;34m,\u001b[0m \u001b[0mgo\u001b[0m\u001b[0;34m.\u001b[0m\u001b[0mSunburst\u001b[0m\u001b[0;34m,\u001b[0m \u001b[0mgo\u001b[0m\u001b[0;34m.\u001b[0m\u001b[0mIcicle\u001b[0m\u001b[0;34m]\u001b[0m \u001b[0;32mand\u001b[0m \u001b[0margs\u001b[0m\u001b[0;34m[\u001b[0m\u001b[0;34m\"path\"\u001b[0m\u001b[0;34m]\u001b[0m \u001b[0;32mis\u001b[0m \u001b[0;32mnot\u001b[0m \u001b[0;32mNone\u001b[0m\u001b[0;34m:\u001b[0m\u001b[0;34m\u001b[0m\u001b[0;34m\u001b[0m\u001b[0m\n\u001b[1;32m   2119\u001b[0m         \u001b[0margs\u001b[0m \u001b[0;34m=\u001b[0m \u001b[0mprocess_dataframe_hierarchy\u001b[0m\u001b[0;34m(\u001b[0m\u001b[0margs\u001b[0m\u001b[0;34m)\u001b[0m\u001b[0;34m\u001b[0m\u001b[0;34m\u001b[0m\u001b[0m\n",
            "\u001b[0;32m/usr/local/lib/python3.10/dist-packages/plotly/express/_core.py\u001b[0m in \u001b[0;36mbuild_dataframe\u001b[0;34m(args, constructor)\u001b[0m\n\u001b[1;32m   1511\u001b[0m     \u001b[0;31m# now that things have been prepped, we do the systematic rewriting of `args`\u001b[0m\u001b[0;34m\u001b[0m\u001b[0;34m\u001b[0m\u001b[0m\n\u001b[1;32m   1512\u001b[0m \u001b[0;34m\u001b[0m\u001b[0m\n\u001b[0;32m-> 1513\u001b[0;31m     df_output, wide_id_vars = process_args_into_dataframe(\n\u001b[0m\u001b[1;32m   1514\u001b[0m         \u001b[0margs\u001b[0m\u001b[0;34m,\u001b[0m \u001b[0mwide_mode\u001b[0m\u001b[0;34m,\u001b[0m \u001b[0mvar_name\u001b[0m\u001b[0;34m,\u001b[0m \u001b[0mvalue_name\u001b[0m\u001b[0;34m\u001b[0m\u001b[0;34m\u001b[0m\u001b[0m\n\u001b[1;32m   1515\u001b[0m     )\n",
            "\u001b[0;32m/usr/local/lib/python3.10/dist-packages/plotly/express/_core.py\u001b[0m in \u001b[0;36mprocess_args_into_dataframe\u001b[0;34m(args, wide_mode, var_name, value_name)\u001b[0m\n\u001b[1;32m   1232\u001b[0m                         \u001b[0;32mif\u001b[0m \u001b[0margument\u001b[0m \u001b[0;34m==\u001b[0m \u001b[0;34m\"index\"\u001b[0m\u001b[0;34m:\u001b[0m\u001b[0;34m\u001b[0m\u001b[0;34m\u001b[0m\u001b[0m\n\u001b[1;32m   1233\u001b[0m                             \u001b[0merr_msg\u001b[0m \u001b[0;34m+=\u001b[0m \u001b[0;34m\"\\n To use the index, pass it in directly as `df.index`.\"\u001b[0m\u001b[0;34m\u001b[0m\u001b[0;34m\u001b[0m\u001b[0m\n\u001b[0;32m-> 1234\u001b[0;31m                         \u001b[0;32mraise\u001b[0m \u001b[0mValueError\u001b[0m\u001b[0;34m(\u001b[0m\u001b[0merr_msg\u001b[0m\u001b[0;34m)\u001b[0m\u001b[0;34m\u001b[0m\u001b[0;34m\u001b[0m\u001b[0m\n\u001b[0m\u001b[1;32m   1235\u001b[0m                 \u001b[0;32melif\u001b[0m \u001b[0mlength\u001b[0m \u001b[0;32mand\u001b[0m \u001b[0mlen\u001b[0m\u001b[0;34m(\u001b[0m\u001b[0mdf_input\u001b[0m\u001b[0;34m[\u001b[0m\u001b[0margument\u001b[0m\u001b[0;34m]\u001b[0m\u001b[0;34m)\u001b[0m \u001b[0;34m!=\u001b[0m \u001b[0mlength\u001b[0m\u001b[0;34m:\u001b[0m\u001b[0;34m\u001b[0m\u001b[0;34m\u001b[0m\u001b[0m\n\u001b[1;32m   1236\u001b[0m                     raise ValueError(\n",
            "\u001b[0;31mValueError\u001b[0m: Value of 'x' is not the name of a column in 'data_frame'. Expected one of ['Unnamed: 0', 'district', 'school', 'county', 'grades', 'students', 'teachers', 'calworks', 'lunch', 'computer', 'expenditure', 'income', 'english', 'read', 'math', 'students_per_teacher', 'predicted_students_per_teacher', 'residual_students_per_teacher'] but received: size"
          ]
        }
      ]
    },
    {
      "cell_type": "markdown",
      "source": [
        "Creating a Linear Model\n",
        "\n",
        "In this notebook, we are going to fit the following model to our mortgage dataset.\n",
        "\n",
        "\n",
        "$$\\text{Loan Amount}_i = \\beta_0 + \\beta_1 \\text{Applicant Income}_i +  \\text{Loan Type}_i + ɛ_i$$\n",
        "\n",
        "To create a linear model in Python we have to specify the two components.\n",
        "\n",
        "- Relationship of Interest\n",
        "- DataFrame which contains the variables\n"
      ],
      "metadata": {
        "id": "7gVUWzRYvHLE"
      }
    },
    {
      "cell_type": "markdown",
      "source": [
        "\n",
        "**The relationship of interest**\n",
        "  - What is the outcome/dependent variable\n",
        "  - What are the independent variables/ Control Variables / Features\n",
        "  - We can do so in Python by create a string with the outcome to the left of a tilde sign and the independent variables (separated by `+`)  to the right as in:\n",
        "\n",
        "  ```Dependent ~ Independent1 + Independent2```\n",
        "\n",
        "  - If an independent variable is a categorical variable, then we write `c(Independent)` as in:\n",
        "  \n",
        "  ```Dependent ~ Independent1 + C(Independent2)```"
      ],
      "metadata": {
        "id": "8PJcM0Jh71Nh"
      }
    },
    {
      "cell_type": "markdown",
      "source": [
        "We can create a **Linear Model** in Python by passing the relationship of interest and the dataframe as inputs to `smf.ols` as in\n",
        "\n",
        "```linear_model = smf.ols('Dependent ~ Independent1 + C(Independent2)', data = df)```"
      ],
      "metadata": {
        "id": "JmwkQfRr8AJ8"
      }
    },
    {
      "cell_type": "markdown",
      "source": [
        "\n",
        "### **Task \\#1**: <font color='navy'>Create a Linear Regression Model in Python where Loan Amount is the outcome variable and Applicant Income and Loan Type are the control variables. Save this as a variable `linear_model`</font>"
      ],
      "metadata": {
        "id": "p27M8O4i-fPJ"
      }
    },
    {
      "cell_type": "code",
      "source": [
        "linear_model = smf.ols('price ~ size + C(rooms)', data=df)"
      ],
      "metadata": {
        "id": "AfMFyx9tGmB9"
      },
      "execution_count": null,
      "outputs": []
    },
    {
      "cell_type": "markdown",
      "source": [
        "\n",
        "### **Task \\#2**: <font color='navy'>Fit the linear model (estimate the parameters) and save the it as a variable named `results1`</font>"
      ],
      "metadata": {
        "id": "amwPp-Rn_aX5"
      }
    },
    {
      "cell_type": "code",
      "source": [
        "results1 = linear_model.fit()"
      ],
      "metadata": {
        "id": "rDJ4XMio_brN"
      },
      "execution_count": null,
      "outputs": []
    },
    {
      "cell_type": "markdown",
      "source": [
        "### **Task \\#3**: <font color='navy'>What surpises you about the estimated parameters? Specifically, compared to the `pd.unique(df['loan_type_name'])`, which parameters appears to not have been estimated? </font>"
      ],
      "metadata": {
        "id": "1ndU2x9PBoIu"
      }
    },
    {
      "cell_type": "code",
      "source": [
        "results1.params"
      ],
      "metadata": {
        "id": "m6rov6oVG-VU"
      },
      "execution_count": null,
      "outputs": []
    },
    {
      "cell_type": "markdown",
      "source": [
        "Visulaizing Model Fit\n",
        "\n",
        "Python provides us with an easy way to see our models predictions on the dataset that we used to fit the model. Given that we named the variable corresponding to the output of `linear_model.fit()`, we can access the predicted values via `reg.fittedvalues`. Create a scatter plot of Size and Price, and overlay a plot of Size and the fitted values."
      ],
      "metadata": {
        "id": "D08JjNV4EddD"
      }
    },
    {
      "cell_type": "code",
      "source": [
        "import numpy as np\n",
        "import matplotlib.pyplot as plt\n",
        "\n",
        "# Define a range for the 'size' variable\n",
        "size_range = np.linspace(df['size'].min(), df['size'].max(), 100)\n",
        "\n",
        "# Get the intercept from the model\n",
        "intercept = results1.params['Intercept']\n",
        "slope = results1.params['size']\n",
        "\n",
        "# Generate predictions for each room category, using the fitted coefficients\n",
        "predictions = {}\n",
        "for room in range(2, 12):  # Loop over rooms 2 to 11\n",
        "    room_effect = results1.params.get(f'C(rooms)[T.{room}]', 0)  # Use 0 if not found (for reference category)\n",
        "    predictions[room] = intercept + room_effect + slope * size_range\n",
        "\n",
        "# Plot each category\n",
        "plt.figure(figsize=(10, 6))\n",
        "for room, prediction in predictions.items():\n",
        "    plt.plot(size_range, prediction, label=f'Rooms = {room}')\n",
        "\n",
        "# Include the reference category (rooms = 1) as a baseline\n",
        "baseline_prediction = intercept + slope * size_range\n",
        "plt.plot(size_range, baseline_prediction, label='Rooms = 1 (Reference)', linestyle='--', color='black')\n",
        "\n",
        "# Customize plot\n",
        "plt.xlabel('Size', size=14)\n",
        "ax = plt.gca()\n",
        "ax.spines['right'].set_visible(False)\n",
        "ax.spines['top'].set_visible(False)\n",
        "ax.yaxis.set_major_formatter(mticker.FuncFormatter(lambda x, _: f'{int(x):,}'))\n",
        "plt.title('Price', loc='left')\n",
        "plt.legend(title='Room Count')\n",
        "plt.show()"
      ],
      "metadata": {
        "id": "HuHWbUlRCJHW"
      },
      "execution_count": null,
      "outputs": []
    },
    {
      "cell_type": "markdown",
      "source": [
        "\\#4. Showing Results\n",
        "\n",
        "If you fit the model correctly, then you can adjust the following code to show both the fitted parameters and the overall results.\n",
        "\n",
        "- We're using an f-string within a `print` statement to show the fitted parameters. Pass in `reg.params.values` within the curly braces.\n",
        "\n",
        "- To show the results in a table-like format (one that you could use to show your work in a final project), pass in `reg` with the `[]` argument of `summary_col`"
      ],
      "metadata": {
        "id": "JTRaQ9CyG_OW"
      }
    },
    {
      "cell_type": "code",
      "source": [
        "### PRINT FITTED PARAMETERS\n",
        "print(f\"Fitted Parameters: {### FILL THIS IN###}\")\n",
        "\n",
        "### PRESENT RESULTS\n",
        "print(summary_col([### FILL THIS IN###],\n",
        "                  stars=True,\n",
        "                  float_format='%0.2f'))"
      ],
      "metadata": {
        "id": "aNjUFFW1EcYA"
      },
      "execution_count": null,
      "outputs": []
    },
    {
      "cell_type": "markdown",
      "source": [
        "\\#5. Understanding what a linear model captures:\n",
        "\n",
        "Using the methods that we previouslly learned in pandas, `df[var1].cov(df[var2])`, `df[var2].var()`, divide the covariance of Price and Size by the variance of Size. How does this relate to the slope parameters?"
      ],
      "metadata": {
        "id": "QzNdKG0zJUQK"
      }
    },
    {
      "cell_type": "code",
      "source": [],
      "metadata": {
        "id": "zh2RHpO4JobX"
      },
      "execution_count": null,
      "outputs": []
    },
    {
      "cell_type": "markdown",
      "source": [
        "\\#6. Using the Model to Generate Predictions\n",
        "\n",
        "Having fit a linear model to the data, we have a pair of estimated values for the parameters. We can now create a function `model(params, x)` which can take in the estimated parameters and some value of size of the house and output our prediction. Implement this function"
      ],
      "metadata": {
        "id": "Ue2lBZHz9c7G"
      }
    },
    {
      "cell_type": "code",
      "source": [
        "\n"
      ],
      "metadata": {
        "id": "3cG_5EYV9XqI"
      },
      "execution_count": null,
      "outputs": []
    },
    {
      "cell_type": "markdown",
      "source": [
        "\\#8. Mean Residual\n",
        "\n",
        "In this notebook, we're fitting a linear model to our data. As the above figures highlight, a linear model will not perfectly predict Price for a given Size of the house. We refer to this \"prediction error\" as the residual.\n",
        "\n",
        "Compute the mean residual.\n",
        "\n",
        "$$r_i(\\beta_0, \\beta_1) = y_i - (\\beta_0 + \\beta_1 x_i)$$"
      ],
      "metadata": {
        "id": "GHciMQGwJ0oW"
      }
    },
    {
      "cell_type": "markdown",
      "source": [
        "\\#9. Visualing the Distribution of the Residual\n",
        "\n",
        "Using `reg.resid`, create a histogram which captures the distribution of the residuals. Then create a scatter plot of Size and the residuals"
      ],
      "metadata": {
        "id": "dfoKQwx2KQnH"
      }
    },
    {
      "cell_type": "markdown",
      "source": [
        "Use `.resid` to create a scatter plot of Size and the Residual Values\n",
        "\n"
      ],
      "metadata": {
        "id": "Bm4SVAN819oM"
      }
    },
    {
      "cell_type": "code",
      "source": [
        "### ADD HISTOGRAM HERE\n",
        "ax = plt.gca()\n",
        "ax.spines['right'].set_visible(False)\n",
        "ax.spines['top'].set_visible(False)\n",
        "plt.xlabel('Residuls', size=14)\n",
        "plt.title('Density', loc='left', size=14)\n",
        "plt.show()\n",
        "\n",
        "### ADD SCATTER PLOT HERE\n",
        "ax = plt.gca()\n",
        "ax.spines['right'].set_visible(False)\n",
        "ax.spines['top'].set_visible(False)\n",
        "ax.yaxis.set_major_formatter(mticker.FuncFormatter(lambda x, _: f'{int(x):,}'))\n",
        "plt.xlabel('Size', size=14)\n",
        "plt.title('Residuals', loc='left', size=14)\n",
        "plt.show()"
      ],
      "metadata": {
        "id": "M3cW1tIsyMGa"
      },
      "execution_count": null,
      "outputs": []
    },
    {
      "cell_type": "markdown",
      "source": [
        "\\#10. Let's explore the relationship between Size and the Residual numerically.\n",
        "\n",
        "(A) Create a new column in your DataFrame that is equal to the residuals.\n",
        "\n",
        "(B) Regress the residual on Size.\n",
        "\n",
        "Do the results surprise you?\n"
      ],
      "metadata": {
        "id": "zcMYpMwnzZpv"
      }
    },
    {
      "cell_type": "code",
      "source": [],
      "metadata": {
        "id": "iPI_0iIFyxqk"
      },
      "execution_count": null,
      "outputs": []
    },
    {
      "cell_type": "markdown",
      "source": [
        "\\#11. Visualizing Uncertainty\n",
        "\n",
        "We can use **new** plotting libraries, like Seaborn, for more advanced plotting techniques such as capturing the uncertainty in our estimate. Fill in the following value for `x` and `y` to show a scatter plot of size and price and a line of best fit with uncertainty estimates."
      ],
      "metadata": {
        "id": "JjB8ZKkG_C7R"
      }
    },
    {
      "cell_type": "code",
      "source": [
        "sb.regplot(x = ###FILL THIS IN###, y = ###FILL THIS IN###, data = df,\n",
        "line_kws = {'color': 'red'})\n",
        "ax = plt.gca()\n",
        "ax.spines['right'].set_visible(False)\n",
        "ax.spines['top'].set_visible(False)\n",
        "ax.yaxis.set_major_formatter(mticker.FuncFormatter(lambda x, _: f'{int(x):,}'))\n",
        "plt.xlabel('Size', size=14)\n",
        "plt.title('Price', loc='left', size=14)\n",
        "plt.ylabel('')\n",
        "plt.show()"
      ],
      "metadata": {
        "id": "5N2puqcy_Ete"
      },
      "execution_count": null,
      "outputs": []
    },
    {
      "cell_type": "markdown",
      "source": [
        "\\#12. Challenge\n",
        "\n",
        "Read in the WNBA dataset as a new dataframe and adjust the seaborn code above to visualize the relationship between Assists and Price. What is the read line (uncertainty) meant to capture?"
      ],
      "metadata": {
        "id": "CB3rIltgLnyS"
      }
    },
    {
      "cell_type": "code",
      "source": [],
      "metadata": {
        "id": "j3adW1fHL3PH"
      },
      "execution_count": null,
      "outputs": []
    }
  ]
}