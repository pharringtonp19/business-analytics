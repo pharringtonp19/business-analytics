{
  "nbformat": 4,
  "nbformat_minor": 0,
  "metadata": {
    "colab": {
      "provenance": [],
      "authorship_tag": "ABX9TyNsxCc/l1DWLAnYaUCcfVKZ",
      "include_colab_link": true
    },
    "kernelspec": {
      "name": "python3",
      "display_name": "Python 3"
    },
    "language_info": {
      "name": "python"
    }
  },
  "cells": [
    {
      "cell_type": "markdown",
      "metadata": {
        "id": "view-in-github",
        "colab_type": "text"
      },
      "source": [
        "<a href=\"https://colab.research.google.com/github/pharringtonp19/business-analytics/blob/main/notebooks/regression/regression_transformations_basics.ipynb\" target=\"_parent\"><img src=\"https://colab.research.google.com/assets/colab-badge.svg\" alt=\"Open In Colab\"/></a>"
      ]
    },
    {
      "cell_type": "code",
      "execution_count": 56,
      "metadata": {
        "colab": {
          "base_uri": "https://localhost:8080/"
        },
        "id": "6Oodh9Qc-MvJ",
        "outputId": "b630bd99-e562-404e-de3f-44d66fd69d3f"
      },
      "outputs": [
        {
          "output_type": "stream",
          "name": "stdout",
          "text": [
            "fatal: destination path 'business-analytics' already exists and is not an empty directory.\n"
          ]
        }
      ],
      "source": [
        "!git clone https://github.com/pharringtonp19/business-analytics.git"
      ]
    },
    {
      "cell_type": "markdown",
      "source": [
        "### **Import Packages**"
      ],
      "metadata": {
        "id": "f26Jqdel-hbb"
      }
    },
    {
      "cell_type": "code",
      "source": [
        "import pandas as pd\n",
        "pd.set_option('display.max_columns', None)\n",
        "import matplotlib.pyplot as plt\n",
        "import matplotlib.ticker as mticker\n",
        "import statsmodels.formula.api as smf\n",
        "from statsmodels.iolib.summary2 import summary_col\n",
        "import plotly.graph_objects as go\n",
        "import plotly.express as px\n",
        "import numpy as np\n",
        "import jax.numpy as jnp\n",
        "import jax\n",
        "import seaborn as sb\n",
        "from functools import partial\n",
        "import warnings\n",
        "warnings.simplefilter(action='ignore', category=FutureWarning)"
      ],
      "metadata": {
        "id": "I7sWtc92-Was"
      },
      "execution_count": 57,
      "outputs": []
    },
    {
      "cell_type": "markdown",
      "source": [
        "### **Read In Data Set**"
      ],
      "metadata": {
        "id": "GSK0cZ4Z-koJ"
      }
    },
    {
      "cell_type": "code",
      "source": [
        "df = pd.read_csv('/content/business-analytics/datasets/CASchools.csv')\n",
        "df['Students_per_Teacher'] = df['students'] / df['teachers']\n",
        "df.sort_values(by='Students_per_Teacher', ascending=False)\n",
        "df.head()"
      ],
      "metadata": {
        "id": "cNM7U1qP-bE8",
        "colab": {
          "base_uri": "https://localhost:8080/",
          "height": 241
        },
        "outputId": "2ac5cc7f-237c-4708-b738-11a04a5a0cfc"
      },
      "execution_count": 65,
      "outputs": [
        {
          "output_type": "execute_result",
          "data": {
            "text/plain": [
              "   Unnamed: 0  district                           school   county grades  \\\n",
              "0           1     75119               Sunol Glen Unified  Alameda  KK-08   \n",
              "1           2     61499             Manzanita Elementary    Butte  KK-08   \n",
              "2           3     61549      Thermalito Union Elementary    Butte  KK-08   \n",
              "3           4     61457  Golden Feather Union Elementary    Butte  KK-08   \n",
              "4           5     61523         Palermo Union Elementary    Butte  KK-08   \n",
              "\n",
              "   students   teachers   calworks      lunch  computer  expenditure  \\\n",
              "0       195  10.900000   0.510200   2.040800        67  6384.911133   \n",
              "1       240  11.150000  15.416700  47.916698       101  5099.380859   \n",
              "2      1550  82.900002  55.032299  76.322601       169  5501.954590   \n",
              "3       243  14.000000  36.475399  77.049202        85  7101.831055   \n",
              "4      1335  71.500000  33.108601  78.427002       171  5235.987793   \n",
              "\n",
              "      income    english        read        math  Students_per_Teacher  \n",
              "0  22.690001   0.000000  691.599976  690.000000             17.889909  \n",
              "1   9.824000   4.583333  660.500000  661.900024             21.524664  \n",
              "2   8.978000  30.000002  636.299988  650.900024             18.697225  \n",
              "3   8.978000   0.000000  651.900024  643.500000             17.357143  \n",
              "4   9.080333  13.857677  641.799988  639.900024             18.671329  "
            ],
            "text/html": [
              "\n",
              "  <div id=\"df-1d132671-c985-4e2d-b3a2-fa881dbd7412\" class=\"colab-df-container\">\n",
              "    <div>\n",
              "<style scoped>\n",
              "    .dataframe tbody tr th:only-of-type {\n",
              "        vertical-align: middle;\n",
              "    }\n",
              "\n",
              "    .dataframe tbody tr th {\n",
              "        vertical-align: top;\n",
              "    }\n",
              "\n",
              "    .dataframe thead th {\n",
              "        text-align: right;\n",
              "    }\n",
              "</style>\n",
              "<table border=\"1\" class=\"dataframe\">\n",
              "  <thead>\n",
              "    <tr style=\"text-align: right;\">\n",
              "      <th></th>\n",
              "      <th>Unnamed: 0</th>\n",
              "      <th>district</th>\n",
              "      <th>school</th>\n",
              "      <th>county</th>\n",
              "      <th>grades</th>\n",
              "      <th>students</th>\n",
              "      <th>teachers</th>\n",
              "      <th>calworks</th>\n",
              "      <th>lunch</th>\n",
              "      <th>computer</th>\n",
              "      <th>expenditure</th>\n",
              "      <th>income</th>\n",
              "      <th>english</th>\n",
              "      <th>read</th>\n",
              "      <th>math</th>\n",
              "      <th>Students_per_Teacher</th>\n",
              "    </tr>\n",
              "  </thead>\n",
              "  <tbody>\n",
              "    <tr>\n",
              "      <th>0</th>\n",
              "      <td>1</td>\n",
              "      <td>75119</td>\n",
              "      <td>Sunol Glen Unified</td>\n",
              "      <td>Alameda</td>\n",
              "      <td>KK-08</td>\n",
              "      <td>195</td>\n",
              "      <td>10.900000</td>\n",
              "      <td>0.510200</td>\n",
              "      <td>2.040800</td>\n",
              "      <td>67</td>\n",
              "      <td>6384.911133</td>\n",
              "      <td>22.690001</td>\n",
              "      <td>0.000000</td>\n",
              "      <td>691.599976</td>\n",
              "      <td>690.000000</td>\n",
              "      <td>17.889909</td>\n",
              "    </tr>\n",
              "    <tr>\n",
              "      <th>1</th>\n",
              "      <td>2</td>\n",
              "      <td>61499</td>\n",
              "      <td>Manzanita Elementary</td>\n",
              "      <td>Butte</td>\n",
              "      <td>KK-08</td>\n",
              "      <td>240</td>\n",
              "      <td>11.150000</td>\n",
              "      <td>15.416700</td>\n",
              "      <td>47.916698</td>\n",
              "      <td>101</td>\n",
              "      <td>5099.380859</td>\n",
              "      <td>9.824000</td>\n",
              "      <td>4.583333</td>\n",
              "      <td>660.500000</td>\n",
              "      <td>661.900024</td>\n",
              "      <td>21.524664</td>\n",
              "    </tr>\n",
              "    <tr>\n",
              "      <th>2</th>\n",
              "      <td>3</td>\n",
              "      <td>61549</td>\n",
              "      <td>Thermalito Union Elementary</td>\n",
              "      <td>Butte</td>\n",
              "      <td>KK-08</td>\n",
              "      <td>1550</td>\n",
              "      <td>82.900002</td>\n",
              "      <td>55.032299</td>\n",
              "      <td>76.322601</td>\n",
              "      <td>169</td>\n",
              "      <td>5501.954590</td>\n",
              "      <td>8.978000</td>\n",
              "      <td>30.000002</td>\n",
              "      <td>636.299988</td>\n",
              "      <td>650.900024</td>\n",
              "      <td>18.697225</td>\n",
              "    </tr>\n",
              "    <tr>\n",
              "      <th>3</th>\n",
              "      <td>4</td>\n",
              "      <td>61457</td>\n",
              "      <td>Golden Feather Union Elementary</td>\n",
              "      <td>Butte</td>\n",
              "      <td>KK-08</td>\n",
              "      <td>243</td>\n",
              "      <td>14.000000</td>\n",
              "      <td>36.475399</td>\n",
              "      <td>77.049202</td>\n",
              "      <td>85</td>\n",
              "      <td>7101.831055</td>\n",
              "      <td>8.978000</td>\n",
              "      <td>0.000000</td>\n",
              "      <td>651.900024</td>\n",
              "      <td>643.500000</td>\n",
              "      <td>17.357143</td>\n",
              "    </tr>\n",
              "    <tr>\n",
              "      <th>4</th>\n",
              "      <td>5</td>\n",
              "      <td>61523</td>\n",
              "      <td>Palermo Union Elementary</td>\n",
              "      <td>Butte</td>\n",
              "      <td>KK-08</td>\n",
              "      <td>1335</td>\n",
              "      <td>71.500000</td>\n",
              "      <td>33.108601</td>\n",
              "      <td>78.427002</td>\n",
              "      <td>171</td>\n",
              "      <td>5235.987793</td>\n",
              "      <td>9.080333</td>\n",
              "      <td>13.857677</td>\n",
              "      <td>641.799988</td>\n",
              "      <td>639.900024</td>\n",
              "      <td>18.671329</td>\n",
              "    </tr>\n",
              "  </tbody>\n",
              "</table>\n",
              "</div>\n",
              "    <div class=\"colab-df-buttons\">\n",
              "\n",
              "  <div class=\"colab-df-container\">\n",
              "    <button class=\"colab-df-convert\" onclick=\"convertToInteractive('df-1d132671-c985-4e2d-b3a2-fa881dbd7412')\"\n",
              "            title=\"Convert this dataframe to an interactive table.\"\n",
              "            style=\"display:none;\">\n",
              "\n",
              "  <svg xmlns=\"http://www.w3.org/2000/svg\" height=\"24px\" viewBox=\"0 -960 960 960\">\n",
              "    <path d=\"M120-120v-720h720v720H120Zm60-500h600v-160H180v160Zm220 220h160v-160H400v160Zm0 220h160v-160H400v160ZM180-400h160v-160H180v160Zm440 0h160v-160H620v160ZM180-180h160v-160H180v160Zm440 0h160v-160H620v160Z\"/>\n",
              "  </svg>\n",
              "    </button>\n",
              "\n",
              "  <style>\n",
              "    .colab-df-container {\n",
              "      display:flex;\n",
              "      gap: 12px;\n",
              "    }\n",
              "\n",
              "    .colab-df-convert {\n",
              "      background-color: #E8F0FE;\n",
              "      border: none;\n",
              "      border-radius: 50%;\n",
              "      cursor: pointer;\n",
              "      display: none;\n",
              "      fill: #1967D2;\n",
              "      height: 32px;\n",
              "      padding: 0 0 0 0;\n",
              "      width: 32px;\n",
              "    }\n",
              "\n",
              "    .colab-df-convert:hover {\n",
              "      background-color: #E2EBFA;\n",
              "      box-shadow: 0px 1px 2px rgba(60, 64, 67, 0.3), 0px 1px 3px 1px rgba(60, 64, 67, 0.15);\n",
              "      fill: #174EA6;\n",
              "    }\n",
              "\n",
              "    .colab-df-buttons div {\n",
              "      margin-bottom: 4px;\n",
              "    }\n",
              "\n",
              "    [theme=dark] .colab-df-convert {\n",
              "      background-color: #3B4455;\n",
              "      fill: #D2E3FC;\n",
              "    }\n",
              "\n",
              "    [theme=dark] .colab-df-convert:hover {\n",
              "      background-color: #434B5C;\n",
              "      box-shadow: 0px 1px 3px 1px rgba(0, 0, 0, 0.15);\n",
              "      filter: drop-shadow(0px 1px 2px rgba(0, 0, 0, 0.3));\n",
              "      fill: #FFFFFF;\n",
              "    }\n",
              "  </style>\n",
              "\n",
              "    <script>\n",
              "      const buttonEl =\n",
              "        document.querySelector('#df-1d132671-c985-4e2d-b3a2-fa881dbd7412 button.colab-df-convert');\n",
              "      buttonEl.style.display =\n",
              "        google.colab.kernel.accessAllowed ? 'block' : 'none';\n",
              "\n",
              "      async function convertToInteractive(key) {\n",
              "        const element = document.querySelector('#df-1d132671-c985-4e2d-b3a2-fa881dbd7412');\n",
              "        const dataTable =\n",
              "          await google.colab.kernel.invokeFunction('convertToInteractive',\n",
              "                                                    [key], {});\n",
              "        if (!dataTable) return;\n",
              "\n",
              "        const docLinkHtml = 'Like what you see? Visit the ' +\n",
              "          '<a target=\"_blank\" href=https://colab.research.google.com/notebooks/data_table.ipynb>data table notebook</a>'\n",
              "          + ' to learn more about interactive tables.';\n",
              "        element.innerHTML = '';\n",
              "        dataTable['output_type'] = 'display_data';\n",
              "        await google.colab.output.renderOutput(dataTable, element);\n",
              "        const docLink = document.createElement('div');\n",
              "        docLink.innerHTML = docLinkHtml;\n",
              "        element.appendChild(docLink);\n",
              "      }\n",
              "    </script>\n",
              "  </div>\n",
              "\n",
              "\n",
              "<div id=\"df-763e8d17-cd99-4483-b01d-47dd178d87e0\">\n",
              "  <button class=\"colab-df-quickchart\" onclick=\"quickchart('df-763e8d17-cd99-4483-b01d-47dd178d87e0')\"\n",
              "            title=\"Suggest charts\"\n",
              "            style=\"display:none;\">\n",
              "\n",
              "<svg xmlns=\"http://www.w3.org/2000/svg\" height=\"24px\"viewBox=\"0 0 24 24\"\n",
              "     width=\"24px\">\n",
              "    <g>\n",
              "        <path d=\"M19 3H5c-1.1 0-2 .9-2 2v14c0 1.1.9 2 2 2h14c1.1 0 2-.9 2-2V5c0-1.1-.9-2-2-2zM9 17H7v-7h2v7zm4 0h-2V7h2v10zm4 0h-2v-4h2v4z\"/>\n",
              "    </g>\n",
              "</svg>\n",
              "  </button>\n",
              "\n",
              "<style>\n",
              "  .colab-df-quickchart {\n",
              "      --bg-color: #E8F0FE;\n",
              "      --fill-color: #1967D2;\n",
              "      --hover-bg-color: #E2EBFA;\n",
              "      --hover-fill-color: #174EA6;\n",
              "      --disabled-fill-color: #AAA;\n",
              "      --disabled-bg-color: #DDD;\n",
              "  }\n",
              "\n",
              "  [theme=dark] .colab-df-quickchart {\n",
              "      --bg-color: #3B4455;\n",
              "      --fill-color: #D2E3FC;\n",
              "      --hover-bg-color: #434B5C;\n",
              "      --hover-fill-color: #FFFFFF;\n",
              "      --disabled-bg-color: #3B4455;\n",
              "      --disabled-fill-color: #666;\n",
              "  }\n",
              "\n",
              "  .colab-df-quickchart {\n",
              "    background-color: var(--bg-color);\n",
              "    border: none;\n",
              "    border-radius: 50%;\n",
              "    cursor: pointer;\n",
              "    display: none;\n",
              "    fill: var(--fill-color);\n",
              "    height: 32px;\n",
              "    padding: 0;\n",
              "    width: 32px;\n",
              "  }\n",
              "\n",
              "  .colab-df-quickchart:hover {\n",
              "    background-color: var(--hover-bg-color);\n",
              "    box-shadow: 0 1px 2px rgba(60, 64, 67, 0.3), 0 1px 3px 1px rgba(60, 64, 67, 0.15);\n",
              "    fill: var(--button-hover-fill-color);\n",
              "  }\n",
              "\n",
              "  .colab-df-quickchart-complete:disabled,\n",
              "  .colab-df-quickchart-complete:disabled:hover {\n",
              "    background-color: var(--disabled-bg-color);\n",
              "    fill: var(--disabled-fill-color);\n",
              "    box-shadow: none;\n",
              "  }\n",
              "\n",
              "  .colab-df-spinner {\n",
              "    border: 2px solid var(--fill-color);\n",
              "    border-color: transparent;\n",
              "    border-bottom-color: var(--fill-color);\n",
              "    animation:\n",
              "      spin 1s steps(1) infinite;\n",
              "  }\n",
              "\n",
              "  @keyframes spin {\n",
              "    0% {\n",
              "      border-color: transparent;\n",
              "      border-bottom-color: var(--fill-color);\n",
              "      border-left-color: var(--fill-color);\n",
              "    }\n",
              "    20% {\n",
              "      border-color: transparent;\n",
              "      border-left-color: var(--fill-color);\n",
              "      border-top-color: var(--fill-color);\n",
              "    }\n",
              "    30% {\n",
              "      border-color: transparent;\n",
              "      border-left-color: var(--fill-color);\n",
              "      border-top-color: var(--fill-color);\n",
              "      border-right-color: var(--fill-color);\n",
              "    }\n",
              "    40% {\n",
              "      border-color: transparent;\n",
              "      border-right-color: var(--fill-color);\n",
              "      border-top-color: var(--fill-color);\n",
              "    }\n",
              "    60% {\n",
              "      border-color: transparent;\n",
              "      border-right-color: var(--fill-color);\n",
              "    }\n",
              "    80% {\n",
              "      border-color: transparent;\n",
              "      border-right-color: var(--fill-color);\n",
              "      border-bottom-color: var(--fill-color);\n",
              "    }\n",
              "    90% {\n",
              "      border-color: transparent;\n",
              "      border-bottom-color: var(--fill-color);\n",
              "    }\n",
              "  }\n",
              "</style>\n",
              "\n",
              "  <script>\n",
              "    async function quickchart(key) {\n",
              "      const quickchartButtonEl =\n",
              "        document.querySelector('#' + key + ' button');\n",
              "      quickchartButtonEl.disabled = true;  // To prevent multiple clicks.\n",
              "      quickchartButtonEl.classList.add('colab-df-spinner');\n",
              "      try {\n",
              "        const charts = await google.colab.kernel.invokeFunction(\n",
              "            'suggestCharts', [key], {});\n",
              "      } catch (error) {\n",
              "        console.error('Error during call to suggestCharts:', error);\n",
              "      }\n",
              "      quickchartButtonEl.classList.remove('colab-df-spinner');\n",
              "      quickchartButtonEl.classList.add('colab-df-quickchart-complete');\n",
              "    }\n",
              "    (() => {\n",
              "      let quickchartButtonEl =\n",
              "        document.querySelector('#df-763e8d17-cd99-4483-b01d-47dd178d87e0 button');\n",
              "      quickchartButtonEl.style.display =\n",
              "        google.colab.kernel.accessAllowed ? 'block' : 'none';\n",
              "    })();\n",
              "  </script>\n",
              "</div>\n",
              "\n",
              "    </div>\n",
              "  </div>\n"
            ],
            "application/vnd.google.colaboratory.intrinsic+json": {
              "type": "dataframe",
              "variable_name": "df",
              "summary": "{\n  \"name\": \"df\",\n  \"rows\": 420,\n  \"fields\": [\n    {\n      \"column\": \"Unnamed: 0\",\n      \"properties\": {\n        \"dtype\": \"number\",\n        \"std\": 121,\n        \"min\": 1,\n        \"max\": 420,\n        \"num_unique_values\": 420,\n        \"samples\": [\n          146,\n          335,\n          176\n        ],\n        \"semantic_type\": \"\",\n        \"description\": \"\"\n      }\n    },\n    {\n      \"column\": \"district\",\n      \"properties\": {\n        \"dtype\": \"number\",\n        \"std\": 3466,\n        \"min\": 61382,\n        \"max\": 75440,\n        \"num_unique_values\": 420,\n        \"samples\": [\n          68205,\n          71654,\n          63032\n        ],\n        \"semantic_type\": \"\",\n        \"description\": \"\"\n      }\n    },\n    {\n      \"column\": \"school\",\n      \"properties\": {\n        \"dtype\": \"string\",\n        \"num_unique_values\": 409,\n        \"samples\": [\n          \"Red Bluff Union Elementary\",\n          \"Banta Elementary\",\n          \"Bellevue Union Elementary\"\n        ],\n        \"semantic_type\": \"\",\n        \"description\": \"\"\n      }\n    },\n    {\n      \"column\": \"county\",\n      \"properties\": {\n        \"dtype\": \"category\",\n        \"num_unique_values\": 45,\n        \"samples\": [\n          \"Calaveras\",\n          \"Lake\",\n          \"Sutter\"\n        ],\n        \"semantic_type\": \"\",\n        \"description\": \"\"\n      }\n    },\n    {\n      \"column\": \"grades\",\n      \"properties\": {\n        \"dtype\": \"category\",\n        \"num_unique_values\": 2,\n        \"samples\": [\n          \"KK-06\",\n          \"KK-08\"\n        ],\n        \"semantic_type\": \"\",\n        \"description\": \"\"\n      }\n    },\n    {\n      \"column\": \"students\",\n      \"properties\": {\n        \"dtype\": \"number\",\n        \"std\": 3913,\n        \"min\": 81,\n        \"max\": 27176,\n        \"num_unique_values\": 391,\n        \"samples\": [\n          446,\n          6219\n        ],\n        \"semantic_type\": \"\",\n        \"description\": \"\"\n      }\n    },\n    {\n      \"column\": \"teachers\",\n      \"properties\": {\n        \"dtype\": \"number\",\n        \"std\": 187.9126794313481,\n        \"min\": 4.849999905,\n        \"max\": 1429.0,\n        \"num_unique_values\": 374,\n        \"samples\": [\n          16.28000069,\n          90.40000153\n        ],\n        \"semantic_type\": \"\",\n        \"description\": \"\"\n      }\n    },\n    {\n      \"column\": \"calworks\",\n      \"properties\": {\n        \"dtype\": \"number\",\n        \"std\": 11.454820990356554,\n        \"min\": 0.0,\n        \"max\": 78.99420166,\n        \"num_unique_values\": 411,\n        \"samples\": [\n          20.63489914,\n          12.69200039\n        ],\n        \"semantic_type\": \"\",\n        \"description\": \"\"\n      }\n    },\n    {\n      \"column\": \"lunch\",\n      \"properties\": {\n        \"dtype\": \"number\",\n        \"std\": 27.1233810812201,\n        \"min\": 0.0,\n        \"max\": 100.0,\n        \"num_unique_values\": 407,\n        \"samples\": [\n          86.02940369,\n          34.03609848\n        ],\n        \"semantic_type\": \"\",\n        \"description\": \"\"\n      }\n    },\n    {\n      \"column\": \"computer\",\n      \"properties\": {\n        \"dtype\": \"number\",\n        \"std\": 441,\n        \"min\": 0,\n        \"max\": 3324,\n        \"num_unique_values\": 270,\n        \"samples\": [\n          177,\n          4\n        ],\n        \"semantic_type\": \"\",\n        \"description\": \"\"\n      }\n    },\n    {\n      \"column\": \"expenditure\",\n      \"properties\": {\n        \"dtype\": \"number\",\n        \"std\": 633.9370531365886,\n        \"min\": 3926.06958,\n        \"max\": 7711.506836,\n        \"num_unique_values\": 420,\n        \"samples\": [\n          5124.836426,\n          4357.826172\n        ],\n        \"semantic_type\": \"\",\n        \"description\": \"\"\n      }\n    },\n    {\n      \"column\": \"income\",\n      \"properties\": {\n        \"dtype\": \"number\",\n        \"std\": 7.225889763125028,\n        \"min\": 5.335000038,\n        \"max\": 55.32799911,\n        \"num_unique_values\": 337,\n        \"samples\": [\n          10.47200012,\n          11.9119997\n        ],\n        \"semantic_type\": \"\",\n        \"description\": \"\"\n      }\n    },\n    {\n      \"column\": \"english\",\n      \"properties\": {\n        \"dtype\": \"number\",\n        \"std\": 18.2859274675383,\n        \"min\": 0.0,\n        \"max\": 85.53971863,\n        \"num_unique_values\": 372,\n        \"samples\": [\n          1.68350172,\n          49.82307053\n        ],\n        \"semantic_type\": \"\",\n        \"description\": \"\"\n      }\n    },\n    {\n      \"column\": \"read\",\n      \"properties\": {\n        \"dtype\": \"number\",\n        \"std\": 20.107980021994248,\n        \"min\": 604.5,\n        \"max\": 704.0,\n        \"num_unique_values\": 322,\n        \"samples\": [\n          650.0,\n          650.7999878\n        ],\n        \"semantic_type\": \"\",\n        \"description\": \"\"\n      }\n    },\n    {\n      \"column\": \"math\",\n      \"properties\": {\n        \"dtype\": \"number\",\n        \"std\": 18.75420217321223,\n        \"min\": 605.4000244,\n        \"max\": 709.5,\n        \"num_unique_values\": 324,\n        \"samples\": [\n          646.0999756,\n          645.0999756\n        ],\n        \"semantic_type\": \"\",\n        \"description\": \"\"\n      }\n    },\n    {\n      \"column\": \"Students_per_Teacher\",\n      \"properties\": {\n        \"dtype\": \"number\",\n        \"std\": 1.8918117781492074,\n        \"min\": 14.0,\n        \"max\": 25.8,\n        \"num_unique_values\": 413,\n        \"samples\": [\n          17.258064516129032,\n          21.584157603764364\n        ],\n        \"semantic_type\": \"\",\n        \"description\": \"\"\n      }\n    }\n  ]\n}"
            }
          },
          "metadata": {},
          "execution_count": 65
        }
      ]
    },
    {
      "cell_type": "code",
      "source": [
        "rhs_var = 'income'\n",
        "dep_var = 'math'"
      ],
      "metadata": {
        "id": "Hh_ft78Sennn"
      },
      "execution_count": 66,
      "outputs": []
    },
    {
      "cell_type": "markdown",
      "source": [
        "### **Linear Model 1**"
      ],
      "metadata": {
        "id": "H4qk50A3c5j5"
      }
    },
    {
      "cell_type": "code",
      "source": [
        "linear_model1 = smf.ols(f'{dep_var} ~ {rhs_var}', data=df)\n",
        "results1 = linear_model1.fit()"
      ],
      "metadata": {
        "id": "cZUX1hREctLD"
      },
      "execution_count": 67,
      "outputs": []
    },
    {
      "cell_type": "markdown",
      "source": [
        "### **Linear Model 2**"
      ],
      "metadata": {
        "id": "4z0M6y-sc9Wf"
      }
    },
    {
      "cell_type": "code",
      "source": [
        "linear_model2 = smf.ols(f'{dep_var} ~ {rhs_var} + I({rhs_var} **2)', data=df)\n",
        "results2 = linear_model2.fit()"
      ],
      "metadata": {
        "id": "9PkLlJwdc3no"
      },
      "execution_count": 68,
      "outputs": []
    },
    {
      "cell_type": "markdown",
      "source": [
        "### **Linear Model 3**"
      ],
      "metadata": {
        "id": "jUhfNmVmdgxr"
      }
    },
    {
      "cell_type": "code",
      "source": [
        "linear_model3 = smf.ols(f'{dep_var} ~ {rhs_var} + I({rhs_var} **2) + I({rhs_var} **3) ', data=df)\n",
        "results3 = linear_model3.fit()"
      ],
      "metadata": {
        "id": "9oT7J7gOdP1u"
      },
      "execution_count": 69,
      "outputs": []
    },
    {
      "cell_type": "markdown",
      "source": [
        "### **Summarize Results**"
      ],
      "metadata": {
        "id": "jsTNtKJQduiO"
      }
    },
    {
      "cell_type": "code",
      "source": [
        "summary_col([results1, results2, results3])"
      ],
      "metadata": {
        "colab": {
          "base_uri": "https://localhost:8080/",
          "height": 289
        },
        "id": "Zb8FoD5ZdALA",
        "outputId": "c3f08298-54a7-460c-f9b8-c661782f1165"
      },
      "execution_count": 70,
      "outputs": [
        {
          "output_type": "execute_result",
          "data": {
            "text/plain": [
              "<class 'statsmodels.iolib.summary2.Summary'>\n",
              "\"\"\"\n",
              "\n",
              "=========================================\n",
              "                math I  math II  math III\n",
              "-----------------------------------------\n",
              "Intercept      625.5395 610.3464 607.2301\n",
              "               (1.5363) (3.1033) (5.9511)\n",
              "income         1.8152   3.4726   3.9764  \n",
              "               (0.0907) (0.3100) (0.8774)\n",
              "I(income ** 2)          -0.0355  -0.0586 \n",
              "                        (0.0064) (0.0381)\n",
              "I(income ** 3)                   0.0003  \n",
              "                                 (0.0005)\n",
              "R-squared      0.4892   0.5246   0.5250  \n",
              "R-squared Adj. 0.4879   0.5223   0.5216  \n",
              "=========================================\n",
              "Standard errors in parentheses.\n",
              "\"\"\""
            ],
            "text/html": [
              "<table class=\"simpletable\">\n",
              "<tr>\n",
              "         <td></td>         <th>math I</th>   <th>math II</th> <th>math III</th>\n",
              "</tr>\n",
              "<tr>\n",
              "  <th>Intercept</th>      <td>625.5395</td> <td>610.3464</td> <td>607.2301</td>\n",
              "</tr>\n",
              "<tr>\n",
              "  <th></th>               <td>(1.5363)</td> <td>(3.1033)</td> <td>(5.9511)</td>\n",
              "</tr>\n",
              "<tr>\n",
              "  <th>income</th>          <td>1.8152</td>   <td>3.4726</td>   <td>3.9764</td> \n",
              "</tr>\n",
              "<tr>\n",
              "  <th></th>               <td>(0.0907)</td> <td>(0.3100)</td> <td>(0.8774)</td>\n",
              "</tr>\n",
              "<tr>\n",
              "  <th>I(income ** 2)</th>     <td></td>      <td>-0.0355</td>  <td>-0.0586</td>\n",
              "</tr>\n",
              "<tr>\n",
              "  <th></th>                   <td></td>     <td>(0.0064)</td> <td>(0.0381)</td>\n",
              "</tr>\n",
              "<tr>\n",
              "  <th>I(income ** 3)</th>     <td></td>         <td></td>      <td>0.0003</td> \n",
              "</tr>\n",
              "<tr>\n",
              "  <th></th>                   <td></td>         <td></td>     <td>(0.0005)</td>\n",
              "</tr>\n",
              "<tr>\n",
              "  <th>R-squared</th>       <td>0.4892</td>   <td>0.5246</td>   <td>0.5250</td> \n",
              "</tr>\n",
              "<tr>\n",
              "  <th>R-squared Adj.</th>  <td>0.4879</td>   <td>0.5223</td>   <td>0.5216</td> \n",
              "</tr>\n",
              "</table><br/>\n",
              "Standard errors in parentheses."
            ],
            "text/latex": "\\begin{table}\n\\caption{}\n\\label{}\n\\begin{center}\n\\begin{tabular}{llll}\n\\hline\n               & math I   & math II  & math III  \\\\\n\\hline\nIntercept      & 625.5395 & 610.3464 & 607.2301  \\\\\n               & (1.5363) & (3.1033) & (5.9511)  \\\\\nincome         & 1.8152   & 3.4726   & 3.9764    \\\\\n               & (0.0907) & (0.3100) & (0.8774)  \\\\\nI(income ** 2) &          & -0.0355  & -0.0586   \\\\\n               &          & (0.0064) & (0.0381)  \\\\\nI(income ** 3) &          &          & 0.0003    \\\\\n               &          &          & (0.0005)  \\\\\nR-squared      & 0.4892   & 0.5246   & 0.5250    \\\\\nR-squared Adj. & 0.4879   & 0.5223   & 0.5216    \\\\\n\\hline\n\\end{tabular}\n\\end{center}\n\\end{table}\n\\bigskip\nStandard errors in parentheses."
          },
          "metadata": {},
          "execution_count": 70
        }
      ]
    },
    {
      "cell_type": "markdown",
      "source": [
        "### **Plot**"
      ],
      "metadata": {
        "id": "VS4DwyF4g4ih"
      }
    },
    {
      "cell_type": "code",
      "source": [
        "# Sort the values by the independent variable (rhs_var)\n",
        "sorted_indices = np.argsort(df[rhs_var])  # Get indices that would sort rhs_var\n",
        "sorted_x = df[rhs_var].iloc[sorted_indices]  # Sort the x-values\n",
        "sorted_fitted1 = results1.fittedvalues.iloc[sorted_indices]  # Sort fitted values for model 1\n",
        "sorted_fitted2 = results2.fittedvalues.iloc[sorted_indices]  # Sort fitted values for model 2\n",
        "sorted_fitted3 = results3.fittedvalues.iloc[sorted_indices]  # Sort fitted values for model 3\n",
        "\n",
        "# Scatter plot of the data points\n",
        "plt.scatter(df[rhs_var], df[dep_var],color='grey', alpha=0.25)\n",
        "\n",
        "ax = plt.gca()\n",
        "ax.spines['right'].set_visible(False)\n",
        "ax.spines['top'].set_visible(False)\n",
        "\n",
        "# Plot the fitted lines\n",
        "ax.plot(sorted_x, sorted_fitted1, color='blue')\n",
        "ax.plot(sorted_x, sorted_fitted2, color='orange')\n",
        "ax.plot(sorted_x, sorted_fitted3, color='green')\n",
        "\n",
        "# Add text annotations near the end of each line\n",
        "ax.text(sorted_x.iloc[-1] + 1, sorted_fitted1.iloc[-1], '1', color='blue', fontsize=10)\n",
        "ax.text(sorted_x.iloc[-1] + 1, sorted_fitted2.iloc[-1], '2', color='orange', fontsize=10)\n",
        "ax.text(sorted_x.iloc[-1] + 1, sorted_fitted3.iloc[-1], '3', color='green', fontsize=10)\n",
        "ax.text(sorted_x.iloc[-1] -2, sorted_fitted1.iloc[-1] + 6, 'Degree', color='black', fontsize=10)\n",
        "\n",
        "\n",
        "# Add legend and labels)\n",
        "plt.xlabel(rhs_var, size=14)\n",
        "plt.title('Math', loc='left')\n",
        "\n",
        "plt.show()"
      ],
      "metadata": {
        "colab": {
          "base_uri": "https://localhost:8080/",
          "height": 477
        },
        "id": "d_0TQsVidDI6",
        "outputId": "1b41ba18-fe84-4b8a-c1ba-a7cae66595f3"
      },
      "execution_count": 85,
      "outputs": [
        {
          "output_type": "display_data",
          "data": {
            "text/plain": [
              "<Figure size 640x480 with 1 Axes>"
            ],
            "image/png": "[encoded data removed]"
          },
          "metadata": {}
        }
      ]
    },
    {
      "cell_type": "code",
      "source": [],
      "metadata": {
        "id": "bwPPKlV0eLYk"
      },
      "execution_count": 64,
      "outputs": []
    }
  ]
}