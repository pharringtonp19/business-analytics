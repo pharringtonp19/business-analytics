{
  "nbformat": 4,
  "nbformat_minor": 0,
  "metadata": {
    "colab": {
      "provenance": [],
      "authorship_tag": "ABX9TyPKzOUdw85gs1FAlNxmiAa8",
      "include_colab_link": true
    },
    "kernelspec": {
      "name": "python3",
      "display_name": "Python 3"
    },
    "language_info": {
      "name": "python"
    }
  },
  "cells": [
    {
      "cell_type": "markdown",
      "metadata": {
        "id": "view-in-github",
        "colab_type": "text"
      },
      "source": [
        "<a href=\"https://colab.research.google.com/github/pharringtonp19/business-analytics/blob/main/notebooks/regression/svrt_class2.ipynb\" target=\"_parent\"><img src=\"https://colab.research.google.com/assets/colab-badge.svg\" alt=\"Open In Colab\"/></a>"
      ]
    },
    {
      "cell_type": "markdown",
      "source": [
        "### **Import Libraries**"
      ],
      "metadata": {
        "id": "MsszBEzh3J9i"
      }
    },
    {
      "cell_type": "code",
      "execution_count": null,
      "metadata": {
        "id": "rmu6F4mHmult"
      },
      "outputs": [],
      "source": [
        "import jax\n",
        "import jax.numpy as jnp\n",
        "import numpy as np\n",
        "import pandas as pd\n",
        "import statsmodels.formula.api as smf\n",
        "import matplotlib.pyplot as plt\n",
        "import matplotlib.ticker as mticker\n",
        "from functools import partial"
      ]
    },
    {
      "cell_type": "markdown",
      "source": [
        "### **Construct Dataset**"
      ],
      "metadata": {
        "id": "M7BLJHiO3MMT"
      }
    },
    {
      "cell_type": "code",
      "source": [
        "def cef(x):\n",
        "  return 80_000 + x + 0.25*x**2\n",
        "\n",
        "xs_true = jnp.linspace(80, 3000, 1000)\n",
        "ys_true = jax.vmap(cef)(xs_true)\n",
        "\n",
        "def Price(x, key):\n",
        "  expected_price = cef(x)\n",
        "  noise = jax.random.uniform(key, minval=-500_000, maxval=500_000)*(x/3000)\n",
        "  return expected_price + noise\n",
        "\n",
        "pop_size = 1_000_000\n",
        "xs = jax.random.uniform(jax.random.PRNGKey(0), minval=80, maxval = 3000, shape=(pop_size,))\n",
        "keys = jax.random.split(jax.random.PRNGKey(0), pop_size)\n",
        "ys = jax.vmap(Price)(xs, keys)\n",
        "\n",
        "df = pd.DataFrame({'price': ys, 'size': xs}) # Creates DataFrame from arrays\n",
        "sample_df = df.sample(n=250, random_state=42)"
      ],
      "metadata": {
        "id": "Y9XmWhOa2ZTT"
      },
      "execution_count": null,
      "outputs": []
    },
    {
      "cell_type": "markdown",
      "source": [
        "### **Regression Models**"
      ],
      "metadata": {
        "id": "VaP6qecI3O5v"
      }
    },
    {
      "cell_type": "code",
      "source": [
        "results = smf.ols('price ~ size', data=df).fit()\n",
        "results1 =  smf.ols('price ~ size', data=sample_df).fit()"
      ],
      "metadata": {
        "id": "Mq9kBtPs2f6L"
      },
      "execution_count": null,
      "outputs": []
    },
    {
      "cell_type": "code",
      "source": [
        "def model(x):\n",
        "\treturn results.params[0] + results.params[1]*x\n",
        "\n",
        "def sample_model(x):\n",
        "\treturn results1.params[0] + results1.params[1]*x"
      ],
      "metadata": {
        "id": "Iqlruo0N2lqH"
      },
      "execution_count": null,
      "outputs": []
    },
    {
      "cell_type": "code",
      "source": [],
      "metadata": {
        "id": "bIA8wl9u4uGZ"
      },
      "execution_count": null,
      "outputs": []
    }
  ]
}