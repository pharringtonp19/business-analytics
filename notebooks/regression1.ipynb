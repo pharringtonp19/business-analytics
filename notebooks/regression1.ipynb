{
  "nbformat": 4,
  "nbformat_minor": 0,
  "metadata": {
    "colab": {
      "provenance": [],
      "authorship_tag": "ABX9TyOCt3E8rW+PF05eunkBR9HN",
      "include_colab_link": true
    },
    "kernelspec": {
      "name": "python3",
      "display_name": "Python 3"
    },
    "language_info": {
      "name": "python"
    }
  },
  "cells": [
    {
      "cell_type": "markdown",
      "metadata": {
        "id": "view-in-github",
        "colab_type": "text"
      },
      "source": [
        "<a href=\"https://colab.research.google.com/github/pharringtonp19/business-analytics/blob/main/notebooks/regression1.ipynb\" target=\"_parent\"><img src=\"https://colab.research.google.com/assets/colab-badge.svg\" alt=\"Open In Colab\"/></a>"
      ]
    },
    {
      "cell_type": "markdown",
      "source": [
        "For Background on the Dataset see: https://cps.ipums.org/cps-action/variables/group"
      ],
      "metadata": {
        "id": "7daEZlYalcs7"
      }
    },
    {
      "cell_type": "markdown",
      "source": [
        "### **Clone Library**"
      ],
      "metadata": {
        "id": "DFbrseyC-fDE"
      }
    },
    {
      "cell_type": "code",
      "execution_count": 31,
      "metadata": {
        "colab": {
          "base_uri": "https://localhost:8080/"
        },
        "id": "6Oodh9Qc-MvJ",
        "outputId": "423e2988-548b-4325-e633-6ecdc6604dec"
      },
      "outputs": [
        {
          "output_type": "stream",
          "name": "stdout",
          "text": [
            "Cloning into 'business-analytics'...\n",
            "remote: Enumerating objects: 932, done.\u001b[K\n",
            "remote: Counting objects: 100% (549/549), done.\u001b[K\n",
            "remote: Compressing objects: 100% (201/201), done.\u001b[K\n",
            "remote: Total 932 (delta 405), reused 424 (delta 326), pack-reused 383 (from 1)\u001b[K\n",
            "Receiving objects: 100% (932/932), 17.77 MiB | 31.47 MiB/s, done.\n",
            "Resolving deltas: 100% (533/533), done.\n"
          ]
        }
      ],
      "source": [
        "!git clone https://github.com/pharringtonp19/business-analytics.git"
      ]
    },
    {
      "cell_type": "markdown",
      "source": [
        "### **Import Packages**"
      ],
      "metadata": {
        "id": "f26Jqdel-hbb"
      }
    },
    {
      "cell_type": "code",
      "source": [
        "import jax\n",
        "import jax.numpy as jnp\n",
        "import pandas as pd\n",
        "pd.set_option('display.max_columns', None)\n",
        "import numpy as np\n",
        "import matplotlib.pyplot as plt\n",
        "import matplotlib.ticker as mticker\n",
        "import statsmodels.formula.api as smf"
      ],
      "metadata": {
        "id": "I7sWtc92-Was"
      },
      "execution_count": 32,
      "outputs": []
    },
    {
      "cell_type": "markdown",
      "source": [
        "### **Read In Data Set**"
      ],
      "metadata": {
        "id": "GSK0cZ4Z-koJ"
      }
    },
    {
      "cell_type": "code",
      "source": [
        "df = pd.read_csv('/content/business-analytics/datasets/cps_00009.csv.gz', compression=\"gzip\")\n",
        "df['INCTOT'].replace(999999999, np.nan, inplace=True)"
      ],
      "metadata": {
        "id": "cNM7U1qP-bE8",
        "outputId": "6aa9885e-36a3-4c91-b9b0-5bc3f6363cb9",
        "colab": {
          "base_uri": "https://localhost:8080/"
        }
      },
      "execution_count": 37,
      "outputs": [
        {
          "output_type": "stream",
          "name": "stderr",
          "text": [
            "<ipython-input-37-210537a456b6>:2: FutureWarning: A value is trying to be set on a copy of a DataFrame or Series through chained assignment using an inplace method.\n",
            "The behavior will change in pandas 3.0. This inplace method will never work because the intermediate object on which we are setting values always behaves as a copy.\n",
            "\n",
            "For example, when doing 'df[col].method(value, inplace=True)', try using 'df.method({col: value}, inplace=True)' or df[col] = df[col].method(value) instead, to perform the operation inplace on the original object.\n",
            "\n",
            "\n",
            "  df['INCTOT'].replace(999999999, np.nan, inplace=True)\n"
          ]
        }
      ]
    },
    {
      "cell_type": "code",
      "source": [
        "df.head()"
      ],
      "metadata": {
        "colab": {
          "base_uri": "https://localhost:8080/",
          "height": 206
        },
        "id": "gEtrVBDjd46k",
        "outputId": "86f020e4-d2c8-434a-9ae7-2f046ac1459c"
      },
      "execution_count": 38,
      "outputs": [
        {
          "output_type": "execute_result",
          "data": {
            "text/plain": [
              "   YEAR  SERIAL  MONTH           CPSID  ASECFLAG  ASECWTH  PERNUM  \\\n",
              "0  2024       6      3  20230200357800         1   601.57       1   \n",
              "1  2024       6      3  20230200357800         1   601.57       2   \n",
              "2  2024       6      3  20230200357800         1   601.57       3   \n",
              "3  2024       7      3  20230100363800         1  1559.99       1   \n",
              "4  2024       7      3  20230100363800         1  1559.99       2   \n",
              "\n",
              "            CPSIDV          CPSIDP   ASECWT  AGE  SEX  RACE  MARST  VETSTAT  \\\n",
              "0  202302003578011  20230200357801   601.57   85    2   100      1        1   \n",
              "1  202302003578021  20230200357802   601.57   85    1   100      1        2   \n",
              "2  202302003578031  20230200357803  1312.04   15    2   100      6        0   \n",
              "3  202301003638011  20230100363801  1559.99   53    2   100      1        1   \n",
              "4  202301003638021  20230100363802  1559.99   52    1   100      1        1   \n",
              "\n",
              "   FTOTVAL   INCTOT  \n",
              "0    32206   8565.0  \n",
              "1    32206  23641.0  \n",
              "2        0      0.0  \n",
              "3    50838  10801.0  \n",
              "4    50838  40037.0  "
            ],
            "text/html": [
              "\n",
              "  <div id=\"df-7583eba5-2ef0-411b-a8ef-fcc46b6ebddb\" class=\"colab-df-container\">\n",
              "    <div>\n",
              "<style scoped>\n",
              "    .dataframe tbody tr th:only-of-type {\n",
              "        vertical-align: middle;\n",
              "    }\n",
              "\n",
              "    .dataframe tbody tr th {\n",
              "        vertical-align: top;\n",
              "    }\n",
              "\n",
              "    .dataframe thead th {\n",
              "        text-align: right;\n",
              "    }\n",
              "</style>\n",
              "<table border=\"1\" class=\"dataframe\">\n",
              "  <thead>\n",
              "    <tr style=\"text-align: right;\">\n",
              "      <th></th>\n",
              "      <th>YEAR</th>\n",
              "      <th>SERIAL</th>\n",
              "      <th>MONTH</th>\n",
              "      <th>CPSID</th>\n",
              "      <th>ASECFLAG</th>\n",
              "      <th>ASECWTH</th>\n",
              "      <th>PERNUM</th>\n",
              "      <th>CPSIDV</th>\n",
              "      <th>CPSIDP</th>\n",
              "      <th>ASECWT</th>\n",
              "      <th>AGE</th>\n",
              "      <th>SEX</th>\n",
              "      <th>RACE</th>\n",
              "      <th>MARST</th>\n",
              "      <th>VETSTAT</th>\n",
              "      <th>FTOTVAL</th>\n",
              "      <th>INCTOT</th>\n",
              "    </tr>\n",
              "  </thead>\n",
              "  <tbody>\n",
              "    <tr>\n",
              "      <th>0</th>\n",
              "      <td>2024</td>\n",
              "      <td>6</td>\n",
              "      <td>3</td>\n",
              "      <td>20230200357800</td>\n",
              "      <td>1</td>\n",
              "      <td>601.57</td>\n",
              "      <td>1</td>\n",
              "      <td>202302003578011</td>\n",
              "      <td>20230200357801</td>\n",
              "      <td>601.57</td>\n",
              "      <td>85</td>\n",
              "      <td>2</td>\n",
              "      <td>100</td>\n",
              "      <td>1</td>\n",
              "      <td>1</td>\n",
              "      <td>32206</td>\n",
              "      <td>8565.0</td>\n",
              "    </tr>\n",
              "    <tr>\n",
              "      <th>1</th>\n",
              "      <td>2024</td>\n",
              "      <td>6</td>\n",
              "      <td>3</td>\n",
              "      <td>20230200357800</td>\n",
              "      <td>1</td>\n",
              "      <td>601.57</td>\n",
              "      <td>2</td>\n",
              "      <td>202302003578021</td>\n",
              "      <td>20230200357802</td>\n",
              "      <td>601.57</td>\n",
              "      <td>85</td>\n",
              "      <td>1</td>\n",
              "      <td>100</td>\n",
              "      <td>1</td>\n",
              "      <td>2</td>\n",
              "      <td>32206</td>\n",
              "      <td>23641.0</td>\n",
              "    </tr>\n",
              "    <tr>\n",
              "      <th>2</th>\n",
              "      <td>2024</td>\n",
              "      <td>6</td>\n",
              "      <td>3</td>\n",
              "      <td>20230200357800</td>\n",
              "      <td>1</td>\n",
              "      <td>601.57</td>\n",
              "      <td>3</td>\n",
              "      <td>202302003578031</td>\n",
              "      <td>20230200357803</td>\n",
              "      <td>1312.04</td>\n",
              "      <td>15</td>\n",
              "      <td>2</td>\n",
              "      <td>100</td>\n",
              "      <td>6</td>\n",
              "      <td>0</td>\n",
              "      <td>0</td>\n",
              "      <td>0.0</td>\n",
              "    </tr>\n",
              "    <tr>\n",
              "      <th>3</th>\n",
              "      <td>2024</td>\n",
              "      <td>7</td>\n",
              "      <td>3</td>\n",
              "      <td>20230100363800</td>\n",
              "      <td>1</td>\n",
              "      <td>1559.99</td>\n",
              "      <td>1</td>\n",
              "      <td>202301003638011</td>\n",
              "      <td>20230100363801</td>\n",
              "      <td>1559.99</td>\n",
              "      <td>53</td>\n",
              "      <td>2</td>\n",
              "      <td>100</td>\n",
              "      <td>1</td>\n",
              "      <td>1</td>\n",
              "      <td>50838</td>\n",
              "      <td>10801.0</td>\n",
              "    </tr>\n",
              "    <tr>\n",
              "      <th>4</th>\n",
              "      <td>2024</td>\n",
              "      <td>7</td>\n",
              "      <td>3</td>\n",
              "      <td>20230100363800</td>\n",
              "      <td>1</td>\n",
              "      <td>1559.99</td>\n",
              "      <td>2</td>\n",
              "      <td>202301003638021</td>\n",
              "      <td>20230100363802</td>\n",
              "      <td>1559.99</td>\n",
              "      <td>52</td>\n",
              "      <td>1</td>\n",
              "      <td>100</td>\n",
              "      <td>1</td>\n",
              "      <td>1</td>\n",
              "      <td>50838</td>\n",
              "      <td>40037.0</td>\n",
              "    </tr>\n",
              "  </tbody>\n",
              "</table>\n",
              "</div>\n",
              "    <div class=\"colab-df-buttons\">\n",
              "\n",
              "  <div class=\"colab-df-container\">\n",
              "    <button class=\"colab-df-convert\" onclick=\"convertToInteractive('df-7583eba5-2ef0-411b-a8ef-fcc46b6ebddb')\"\n",
              "            title=\"Convert this dataframe to an interactive table.\"\n",
              "            style=\"display:none;\">\n",
              "\n",
              "  <svg xmlns=\"http://www.w3.org/2000/svg\" height=\"24px\" viewBox=\"0 -960 960 960\">\n",
              "    <path d=\"M120-120v-720h720v720H120Zm60-500h600v-160H180v160Zm220 220h160v-160H400v160Zm0 220h160v-160H400v160ZM180-400h160v-160H180v160Zm440 0h160v-160H620v160ZM180-180h160v-160H180v160Zm440 0h160v-160H620v160Z\"/>\n",
              "  </svg>\n",
              "    </button>\n",
              "\n",
              "  <style>\n",
              "    .colab-df-container {\n",
              "      display:flex;\n",
              "      gap: 12px;\n",
              "    }\n",
              "\n",
              "    .colab-df-convert {\n",
              "      background-color: #E8F0FE;\n",
              "      border: none;\n",
              "      border-radius: 50%;\n",
              "      cursor: pointer;\n",
              "      display: none;\n",
              "      fill: #1967D2;\n",
              "      height: 32px;\n",
              "      padding: 0 0 0 0;\n",
              "      width: 32px;\n",
              "    }\n",
              "\n",
              "    .colab-df-convert:hover {\n",
              "      background-color: #E2EBFA;\n",
              "      box-shadow: 0px 1px 2px rgba(60, 64, 67, 0.3), 0px 1px 3px 1px rgba(60, 64, 67, 0.15);\n",
              "      fill: #174EA6;\n",
              "    }\n",
              "\n",
              "    .colab-df-buttons div {\n",
              "      margin-bottom: 4px;\n",
              "    }\n",
              "\n",
              "    [theme=dark] .colab-df-convert {\n",
              "      background-color: #3B4455;\n",
              "      fill: #D2E3FC;\n",
              "    }\n",
              "\n",
              "    [theme=dark] .colab-df-convert:hover {\n",
              "      background-color: #434B5C;\n",
              "      box-shadow: 0px 1px 3px 1px rgba(0, 0, 0, 0.15);\n",
              "      filter: drop-shadow(0px 1px 2px rgba(0, 0, 0, 0.3));\n",
              "      fill: #FFFFFF;\n",
              "    }\n",
              "  </style>\n",
              "\n",
              "    <script>\n",
              "      const buttonEl =\n",
              "        document.querySelector('#df-7583eba5-2ef0-411b-a8ef-fcc46b6ebddb button.colab-df-convert');\n",
              "      buttonEl.style.display =\n",
              "        google.colab.kernel.accessAllowed ? 'block' : 'none';\n",
              "\n",
              "      async function convertToInteractive(key) {\n",
              "        const element = document.querySelector('#df-7583eba5-2ef0-411b-a8ef-fcc46b6ebddb');\n",
              "        const dataTable =\n",
              "          await google.colab.kernel.invokeFunction('convertToInteractive',\n",
              "                                                    [key], {});\n",
              "        if (!dataTable) return;\n",
              "\n",
              "        const docLinkHtml = 'Like what you see? Visit the ' +\n",
              "          '<a target=\"_blank\" href=https://colab.research.google.com/notebooks/data_table.ipynb>data table notebook</a>'\n",
              "          + ' to learn more about interactive tables.';\n",
              "        element.innerHTML = '';\n",
              "        dataTable['output_type'] = 'display_data';\n",
              "        await google.colab.output.renderOutput(dataTable, element);\n",
              "        const docLink = document.createElement('div');\n",
              "        docLink.innerHTML = docLinkHtml;\n",
              "        element.appendChild(docLink);\n",
              "      }\n",
              "    </script>\n",
              "  </div>\n",
              "\n",
              "\n",
              "<div id=\"df-1ec33477-df17-4d56-a9d9-51b7452c0564\">\n",
              "  <button class=\"colab-df-quickchart\" onclick=\"quickchart('df-1ec33477-df17-4d56-a9d9-51b7452c0564')\"\n",
              "            title=\"Suggest charts\"\n",
              "            style=\"display:none;\">\n",
              "\n",
              "<svg xmlns=\"http://www.w3.org/2000/svg\" height=\"24px\"viewBox=\"0 0 24 24\"\n",
              "     width=\"24px\">\n",
              "    <g>\n",
              "        <path d=\"M19 3H5c-1.1 0-2 .9-2 2v14c0 1.1.9 2 2 2h14c1.1 0 2-.9 2-2V5c0-1.1-.9-2-2-2zM9 17H7v-7h2v7zm4 0h-2V7h2v10zm4 0h-2v-4h2v4z\"/>\n",
              "    </g>\n",
              "</svg>\n",
              "  </button>\n",
              "\n",
              "<style>\n",
              "  .colab-df-quickchart {\n",
              "      --bg-color: #E8F0FE;\n",
              "      --fill-color: #1967D2;\n",
              "      --hover-bg-color: #E2EBFA;\n",
              "      --hover-fill-color: #174EA6;\n",
              "      --disabled-fill-color: #AAA;\n",
              "      --disabled-bg-color: #DDD;\n",
              "  }\n",
              "\n",
              "  [theme=dark] .colab-df-quickchart {\n",
              "      --bg-color: #3B4455;\n",
              "      --fill-color: #D2E3FC;\n",
              "      --hover-bg-color: #434B5C;\n",
              "      --hover-fill-color: #FFFFFF;\n",
              "      --disabled-bg-color: #3B4455;\n",
              "      --disabled-fill-color: #666;\n",
              "  }\n",
              "\n",
              "  .colab-df-quickchart {\n",
              "    background-color: var(--bg-color);\n",
              "    border: none;\n",
              "    border-radius: 50%;\n",
              "    cursor: pointer;\n",
              "    display: none;\n",
              "    fill: var(--fill-color);\n",
              "    height: 32px;\n",
              "    padding: 0;\n",
              "    width: 32px;\n",
              "  }\n",
              "\n",
              "  .colab-df-quickchart:hover {\n",
              "    background-color: var(--hover-bg-color);\n",
              "    box-shadow: 0 1px 2px rgba(60, 64, 67, 0.3), 0 1px 3px 1px rgba(60, 64, 67, 0.15);\n",
              "    fill: var(--button-hover-fill-color);\n",
              "  }\n",
              "\n",
              "  .colab-df-quickchart-complete:disabled,\n",
              "  .colab-df-quickchart-complete:disabled:hover {\n",
              "    background-color: var(--disabled-bg-color);\n",
              "    fill: var(--disabled-fill-color);\n",
              "    box-shadow: none;\n",
              "  }\n",
              "\n",
              "  .colab-df-spinner {\n",
              "    border: 2px solid var(--fill-color);\n",
              "    border-color: transparent;\n",
              "    border-bottom-color: var(--fill-color);\n",
              "    animation:\n",
              "      spin 1s steps(1) infinite;\n",
              "  }\n",
              "\n",
              "  @keyframes spin {\n",
              "    0% {\n",
              "      border-color: transparent;\n",
              "      border-bottom-color: var(--fill-color);\n",
              "      border-left-color: var(--fill-color);\n",
              "    }\n",
              "    20% {\n",
              "      border-color: transparent;\n",
              "      border-left-color: var(--fill-color);\n",
              "      border-top-color: var(--fill-color);\n",
              "    }\n",
              "    30% {\n",
              "      border-color: transparent;\n",
              "      border-left-color: var(--fill-color);\n",
              "      border-top-color: var(--fill-color);\n",
              "      border-right-color: var(--fill-color);\n",
              "    }\n",
              "    40% {\n",
              "      border-color: transparent;\n",
              "      border-right-color: var(--fill-color);\n",
              "      border-top-color: var(--fill-color);\n",
              "    }\n",
              "    60% {\n",
              "      border-color: transparent;\n",
              "      border-right-color: var(--fill-color);\n",
              "    }\n",
              "    80% {\n",
              "      border-color: transparent;\n",
              "      border-right-color: var(--fill-color);\n",
              "      border-bottom-color: var(--fill-color);\n",
              "    }\n",
              "    90% {\n",
              "      border-color: transparent;\n",
              "      border-bottom-color: var(--fill-color);\n",
              "    }\n",
              "  }\n",
              "</style>\n",
              "\n",
              "  <script>\n",
              "    async function quickchart(key) {\n",
              "      const quickchartButtonEl =\n",
              "        document.querySelector('#' + key + ' button');\n",
              "      quickchartButtonEl.disabled = true;  // To prevent multiple clicks.\n",
              "      quickchartButtonEl.classList.add('colab-df-spinner');\n",
              "      try {\n",
              "        const charts = await google.colab.kernel.invokeFunction(\n",
              "            'suggestCharts', [key], {});\n",
              "      } catch (error) {\n",
              "        console.error('Error during call to suggestCharts:', error);\n",
              "      }\n",
              "      quickchartButtonEl.classList.remove('colab-df-spinner');\n",
              "      quickchartButtonEl.classList.add('colab-df-quickchart-complete');\n",
              "    }\n",
              "    (() => {\n",
              "      let quickchartButtonEl =\n",
              "        document.querySelector('#df-1ec33477-df17-4d56-a9d9-51b7452c0564 button');\n",
              "      quickchartButtonEl.style.display =\n",
              "        google.colab.kernel.accessAllowed ? 'block' : 'none';\n",
              "    })();\n",
              "  </script>\n",
              "</div>\n",
              "\n",
              "    </div>\n",
              "  </div>\n"
            ],
            "application/vnd.google.colaboratory.intrinsic+json": {
              "type": "dataframe",
              "variable_name": "df"
            }
          },
          "metadata": {},
          "execution_count": 38
        }
      ]
    },
    {
      "cell_type": "code",
      "source": [
        "df.shape"
      ],
      "metadata": {
        "id": "XUNAjwUIlzjP",
        "outputId": "10b85610-425a-446a-d12f-86c36c6d4acc",
        "colab": {
          "base_uri": "https://localhost:8080/"
        }
      },
      "execution_count": 43,
      "outputs": [
        {
          "output_type": "execute_result",
          "data": {
            "text/plain": [
              "(144265, 17)"
            ]
          },
          "metadata": {},
          "execution_count": 43
        }
      ]
    },
    {
      "cell_type": "markdown",
      "source": [
        "### **Plot**"
      ],
      "metadata": {
        "id": "KU1DH5KA_ljZ"
      }
    },
    {
      "cell_type": "code",
      "source": [
        "plt.scatter(df['AGE'], df['INCTOT'], color=\"#36454F\", alpha=0.2)\n",
        "ax = plt.gca()\n",
        "ax.spines['right'].set_visible(False)\n",
        "ax.spines['top'].set_visible(False)\n",
        "ax.yaxis.set_major_formatter(mticker.FuncFormatter(lambda x, _: f'{int(x):,}'))\n",
        "plt.xlabel('Age', size=14)\n",
        "plt.title('Annual Income', size=14, loc='left')\n",
        "plt.show()"
      ],
      "metadata": {
        "colab": {
          "base_uri": "https://localhost:8080/",
          "height": 478
        },
        "id": "XxoPvEGS-du6",
        "outputId": "996b20df-0ebd-4e7e-df3c-4c21c207d1be"
      },
      "execution_count": 42,
      "outputs": [
        {
          "output_type": "display_data",
          "data": {
            "text/plain": [
              "<Figure size 640x480 with 1 Axes>"
            ],
            "image/png": "[encoded data removed]"
          },
          "metadata": {}
        }
      ]
    },
    {
      "cell_type": "code",
      "source": [
        "def affine_f(x, params):\n",
        "  return params[0] + x*params[1]\n",
        "\n",
        "def random_line(key):\n",
        "  xs = jnp.linspace(0, 4500, 10)\n",
        "  params = jax.random.normal(key, shape=(2,))*500\n",
        "  ys = affine_f(xs, params)\n",
        "  return xs, ys\n",
        "\n",
        "\n",
        "plt.scatter(df['size'], df['price'], color=\"#36454F\")\n",
        "\n",
        "key = jax.random.PRNGKey(0)\n",
        "for i in range(10):\n",
        "  key, _ = jax.random.split(key)\n",
        "  plt.plot(*random_line(key))\n",
        "ax = plt.gca()\n",
        "ax.spines['right'].set_visible(False)\n",
        "ax.spines['top'].set_visible(False)\n",
        "ax.yaxis.set_major_formatter(mticker.FuncFormatter(lambda x, _: f'{int(x):,}'))\n",
        "plt.xlabel('Size', size=14)\n",
        "plt.title('Price', size=14, loc='left')\n",
        "plt.show()"
      ],
      "metadata": {
        "id": "PO9IShi7-qWK"
      },
      "execution_count": null,
      "outputs": []
    },
    {
      "cell_type": "code",
      "source": [
        "def affine_f(x, params):\n",
        "    return params[0] + x * params[1]\n",
        "\n",
        "def random_line(key):\n",
        "    xs = jnp.linspace(0, 4500, 10)\n",
        "    params = jax.random.normal(key, shape=(2,)) * 500\n",
        "    ys = affine_f(xs, params)\n",
        "    return xs, ys, params\n",
        "\n",
        "# Generate main plot and parameter space subplot\n",
        "fig, (ax1, ax2) = plt.subplots(1, 2, figsize=(12, 6))\n",
        "\n",
        "# Scatter plot of size vs. price\n",
        "ax1.scatter(df['size'], df['price'], color=\"#36454F\")\n",
        "key = jax.random.PRNGKey(0)\n",
        "\n",
        "params_list = []\n",
        "for i in range(10):\n",
        "    key, _ = jax.random.split(key)\n",
        "    xs, ys, params = random_line(key)\n",
        "    ax1.plot(xs, ys, alpha=0.7)\n",
        "    params_list.append(params)\n",
        "\n",
        "\n",
        "ax1.spines['right'].set_visible(False)\n",
        "ax1.spines['top'].set_visible(False)\n",
        "ax1.yaxis.set_major_formatter(mticker.FuncFormatter(lambda x, _: f'{int(x):,}'))\n",
        "ax1.set_xlabel('Size', size=14)\n",
        "ax1.set_title('Price', size=14, loc='left')\n",
        "\n",
        "\n",
        "for p in params_list:\n",
        "  plt.scatter(p[0], p[1])\n",
        "ax2.set_xlabel('Intercept Parameter', size=14)\n",
        "ax2.set_title('Slope Parameter', size=14, loc='left')\n",
        "ax2.axhline(0, linestyle='--', color='black')\n",
        "ax2.axvline(0, linestyle='--', color='black')\n",
        "ax2.spines['right'].set_visible(False)\n",
        "ax2.spines['top'].set_visible(False)\n",
        "\n",
        "plt.tight_layout()\n",
        "plt.show()"
      ],
      "metadata": {
        "id": "etrMe0xQALfm"
      },
      "execution_count": null,
      "outputs": []
    },
    {
      "cell_type": "code",
      "source": [
        "# Define the functions\n",
        "def affine_f(x, params):\n",
        "    return params[0] + x * params[1]\n",
        "\n",
        "# Define a mean squared error loss function\n",
        "def loss_function(params, xs, ys_true):\n",
        "    ys_pred = affine_f(xs, params)\n",
        "    return jnp.mean((ys_true - ys_pred) ** 2)\n",
        "\n",
        "# Create data points from your dataset\n",
        "xs = jnp.array(df['size'].values)\n",
        "ys_true = jnp.array(df['price'].values)\n",
        "\n",
        "# Define parameter ranges and create a grid\n",
        "intercepts = jnp.linspace(0, 2000, 50)\n",
        "slopes = jnp.linspace(-1000, 1000, 50)\n",
        "intercepts_grid, slopes_grid = jnp.meshgrid(intercepts, slopes)\n",
        "\n",
        "# Vectorize the loss computation over the grid\n",
        "params_grid = jnp.stack([intercepts_grid.ravel(), slopes_grid.ravel()], axis=-1)\n",
        "loss_values = jax.vmap(lambda params: loss_function(params, xs, ys_true))(params_grid)\n",
        "loss_values = loss_values.reshape(intercepts_grid.shape)\n",
        "\n",
        "# Create a 3D plot\n",
        "fig = plt.figure(figsize=(12, 8))\n",
        "ax = fig.add_subplot(111, projection='3d')\n",
        "ax.plot_surface(intercepts_grid, slopes_grid, loss_values, cmap='viridis', edgecolor='none')\n",
        "\n",
        "# Customize the plot\n",
        "ax.set_xlabel(\"Intercept\")\n",
        "ax.set_ylabel(\"Slope\")\n",
        "ax.set_zlabel(\"Loss (MSE)\")\n",
        "ax.view_init(elev=10, azim=120)  # Adjust these values as needed\n",
        "\n",
        "plt.show()"
      ],
      "metadata": {
        "id": "36t0xQ_YA8BL"
      },
      "execution_count": null,
      "outputs": []
    },
    {
      "cell_type": "code",
      "source": [
        "eqn = smf.ols('price ~ size', data = df)\n",
        "results = eqn.fit()\n",
        "results.params"
      ],
      "metadata": {
        "id": "SPpFO-L2KaBi"
      },
      "execution_count": null,
      "outputs": []
    },
    {
      "cell_type": "markdown",
      "source": [
        "### **Fitted Values**"
      ],
      "metadata": {
        "id": "wHFEa-xTSgMY"
      }
    },
    {
      "cell_type": "code",
      "source": [
        "plt.scatter(df['size'], df['price'], color=\"#36454F\")\n",
        "plt.scatter(df['size'], results.fittedvalues)\n",
        "ax = plt.gca()\n",
        "ax.spines['right'].set_visible(False)\n",
        "ax.spines['top'].set_visible(False)\n",
        "ax.yaxis.set_major_formatter(mticker.FuncFormatter(lambda x, _: f'{int(x):,}'))\n",
        "ax.set_xlabel('Size', size=14)\n",
        "ax.set_title('Price', size=14, loc='left')\n",
        "plt.show()\n"
      ],
      "metadata": {
        "id": "FI1uzVmiRRky"
      },
      "execution_count": null,
      "outputs": []
    },
    {
      "cell_type": "markdown",
      "source": [
        "### **Residuals**"
      ],
      "metadata": {
        "id": "pB0iofjPSjEC"
      }
    },
    {
      "cell_type": "code",
      "source": [
        "plt.scatter(df['size'], results.resid)\n",
        "ax = plt.gca()\n",
        "ax.spines['right'].set_visible(False)\n",
        "ax.spines['top'].set_visible(False)\n",
        "ax.yaxis.set_major_formatter(mticker.FuncFormatter(lambda x, _: f'{int(x):,}'))\n",
        "ax.set_xlabel('Size', size=14)\n",
        "ax.set_title('Residuals', size=14, loc='left')\n",
        "plt.show()"
      ],
      "metadata": {
        "id": "KBNpOSMFR_SW"
      },
      "execution_count": null,
      "outputs": []
    },
    {
      "cell_type": "code",
      "source": [
        "results.summary()"
      ],
      "metadata": {
        "id": "RtMFkWR1Smc5"
      },
      "execution_count": null,
      "outputs": []
    },
    {
      "cell_type": "code",
      "source": [],
      "metadata": {
        "id": "BhlY91zQS26W"
      },
      "execution_count": null,
      "outputs": []
    }
  ]
}