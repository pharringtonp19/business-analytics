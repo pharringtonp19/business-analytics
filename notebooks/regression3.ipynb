{
  "nbformat": 4,
  "nbformat_minor": 0,
  "metadata": {
    "colab": {
      "provenance": [],
      "authorship_tag": "ABX9TyPcU6MJUBgMwIzx5wS66GEx",
      "include_colab_link": true
    },
    "kernelspec": {
      "name": "python3",
      "display_name": "Python 3"
    },
    "language_info": {
      "name": "python"
    }
  },
  "cells": [
    {
      "cell_type": "markdown",
      "metadata": {
        "id": "view-in-github",
        "colab_type": "text"
      },
      "source": [
        "<a href=\"https://colab.research.google.com/github/pharringtonp19/business-analytics/blob/main/notebooks/regression3.ipynb\" target=\"_parent\"><img src=\"https://colab.research.google.com/assets/colab-badge.svg\" alt=\"Open In Colab\"/></a>"
      ]
    },
    {
      "cell_type": "markdown",
      "source": [
        "For Background on the Dataset see: https://cps.ipums.org/cps-action/variables/group"
      ],
      "metadata": {
        "id": "7daEZlYalcs7"
      }
    },
    {
      "cell_type": "markdown",
      "source": [
        "### **Clone Library**"
      ],
      "metadata": {
        "id": "DFbrseyC-fDE"
      }
    },
    {
      "cell_type": "code",
      "execution_count": 1,
      "metadata": {
        "colab": {
          "base_uri": "https://localhost:8080/"
        },
        "id": "6Oodh9Qc-MvJ",
        "outputId": "c23f4ab8-5f5d-4569-8a1b-94ec7695b060"
      },
      "outputs": [
        {
          "output_type": "stream",
          "name": "stdout",
          "text": [
            "Cloning into 'business-analytics'...\n",
            "remote: Enumerating objects: 949, done.\u001b[K\n",
            "remote: Counting objects: 100% (566/566), done.\u001b[K\n",
            "remote: Compressing objects: 100% (215/215), done.\u001b[K\n",
            "remote: Total 949 (delta 414), reused 428 (delta 328), pack-reused 383 (from 1)\u001b[K\n",
            "Receiving objects: 100% (949/949), 18.46 MiB | 11.55 MiB/s, done.\n",
            "Resolving deltas: 100% (542/542), done.\n"
          ]
        }
      ],
      "source": [
        "!git clone https://github.com/pharringtonp19/business-analytics.git"
      ]
    },
    {
      "cell_type": "markdown",
      "source": [
        "### **Import Packages**"
      ],
      "metadata": {
        "id": "f26Jqdel-hbb"
      }
    },
    {
      "cell_type": "code",
      "source": [
        "import jax\n",
        "import jax.numpy as jnp\n",
        "import pandas as pd\n",
        "pd.set_option('display.max_columns', None)\n",
        "import numpy as np\n",
        "import matplotlib.pyplot as plt\n",
        "import matplotlib.ticker as mticker\n",
        "import statsmodels.formula.api as smf\n",
        "from statsmodels.iolib.summary2 import summary_col"
      ],
      "metadata": {
        "id": "I7sWtc92-Was"
      },
      "execution_count": 14,
      "outputs": []
    },
    {
      "cell_type": "markdown",
      "source": [
        "### **Read In Data Set**"
      ],
      "metadata": {
        "id": "GSK0cZ4Z-koJ"
      }
    },
    {
      "cell_type": "code",
      "source": [
        "df = pd.read_csv('/content/business-analytics/datasets/cps_00009.csv.gz', compression=\"gzip\")\n",
        "df['INCTOT'].replace(999999999, np.nan, inplace=True)\n",
        "df = df[df['AGE'] <80]"
      ],
      "metadata": {
        "id": "cNM7U1qP-bE8",
        "outputId": "cfa5cd8f-edc2-44b8-c10b-f0684949caa7",
        "colab": {
          "base_uri": "https://localhost:8080/"
        }
      },
      "execution_count": 3,
      "outputs": [
        {
          "output_type": "stream",
          "name": "stderr",
          "text": [
            "<ipython-input-3-ff998f827f10>:2: FutureWarning: A value is trying to be set on a copy of a DataFrame or Series through chained assignment using an inplace method.\n",
            "The behavior will change in pandas 3.0. This inplace method will never work because the intermediate object on which we are setting values always behaves as a copy.\n",
            "\n",
            "For example, when doing 'df[col].method(value, inplace=True)', try using 'df.method({col: value}, inplace=True)' or df[col] = df[col].method(value) instead, to perform the operation inplace on the original object.\n",
            "\n",
            "\n",
            "  df['INCTOT'].replace(999999999, np.nan, inplace=True)\n"
          ]
        }
      ]
    },
    {
      "cell_type": "markdown",
      "source": [
        "### **Show Data**"
      ],
      "metadata": {
        "id": "d6F47kMfy_F_"
      }
    },
    {
      "cell_type": "code",
      "source": [
        "df.head()"
      ],
      "metadata": {
        "colab": {
          "base_uri": "https://localhost:8080/",
          "height": 206
        },
        "id": "gEtrVBDjd46k",
        "outputId": "ce3d0b67-2f30-4c95-b438-6446acf0d785"
      },
      "execution_count": 4,
      "outputs": [
        {
          "output_type": "execute_result",
          "data": {
            "text/plain": [
              "   YEAR  SERIAL  MONTH           CPSID  ASECFLAG  ASECWTH  PERNUM  \\\n",
              "2  2024       6      3  20230200357800         1   601.57       3   \n",
              "3  2024       7      3  20230100363800         1  1559.99       1   \n",
              "4  2024       7      3  20230100363800         1  1559.99       2   \n",
              "5  2024       8      3  20240200366300         1   580.60       1   \n",
              "6  2024       8      3  20240200366300         1   580.60       2   \n",
              "\n",
              "            CPSIDV          CPSIDP   ASECWT  AGE  SEX  RACE  MARST  VETSTAT  \\\n",
              "2  202302003578031  20230200357803  1312.04   15    2   100      6        0   \n",
              "3  202301003638011  20230100363801  1559.99   53    2   100      1        1   \n",
              "4  202301003638021  20230100363802  1559.99   52    1   100      1        1   \n",
              "5  202402003663011  20240200366301   580.60   68    1   100      5        1   \n",
              "6  202402003663021  20240200366302  1351.94   14    2   100      6        0   \n",
              "\n",
              "   FTOTVAL   INCTOT  \n",
              "2        0      0.0  \n",
              "3    50838  10801.0  \n",
              "4    50838  40037.0  \n",
              "5     9648   9648.0  \n",
              "6     9648      NaN  "
            ],
            "text/html": [
              "\n",
              "  <div id=\"df-6907a9fc-9d03-4660-9024-d9388c3f688d\" class=\"colab-df-container\">\n",
              "    <div>\n",
              "<style scoped>\n",
              "    .dataframe tbody tr th:only-of-type {\n",
              "        vertical-align: middle;\n",
              "    }\n",
              "\n",
              "    .dataframe tbody tr th {\n",
              "        vertical-align: top;\n",
              "    }\n",
              "\n",
              "    .dataframe thead th {\n",
              "        text-align: right;\n",
              "    }\n",
              "</style>\n",
              "<table border=\"1\" class=\"dataframe\">\n",
              "  <thead>\n",
              "    <tr style=\"text-align: right;\">\n",
              "      <th></th>\n",
              "      <th>YEAR</th>\n",
              "      <th>SERIAL</th>\n",
              "      <th>MONTH</th>\n",
              "      <th>CPSID</th>\n",
              "      <th>ASECFLAG</th>\n",
              "      <th>ASECWTH</th>\n",
              "      <th>PERNUM</th>\n",
              "      <th>CPSIDV</th>\n",
              "      <th>CPSIDP</th>\n",
              "      <th>ASECWT</th>\n",
              "      <th>AGE</th>\n",
              "      <th>SEX</th>\n",
              "      <th>RACE</th>\n",
              "      <th>MARST</th>\n",
              "      <th>VETSTAT</th>\n",
              "      <th>FTOTVAL</th>\n",
              "      <th>INCTOT</th>\n",
              "    </tr>\n",
              "  </thead>\n",
              "  <tbody>\n",
              "    <tr>\n",
              "      <th>2</th>\n",
              "      <td>2024</td>\n",
              "      <td>6</td>\n",
              "      <td>3</td>\n",
              "      <td>20230200357800</td>\n",
              "      <td>1</td>\n",
              "      <td>601.57</td>\n",
              "      <td>3</td>\n",
              "      <td>202302003578031</td>\n",
              "      <td>20230200357803</td>\n",
              "      <td>1312.04</td>\n",
              "      <td>15</td>\n",
              "      <td>2</td>\n",
              "      <td>100</td>\n",
              "      <td>6</td>\n",
              "      <td>0</td>\n",
              "      <td>0</td>\n",
              "      <td>0.0</td>\n",
              "    </tr>\n",
              "    <tr>\n",
              "      <th>3</th>\n",
              "      <td>2024</td>\n",
              "      <td>7</td>\n",
              "      <td>3</td>\n",
              "      <td>20230100363800</td>\n",
              "      <td>1</td>\n",
              "      <td>1559.99</td>\n",
              "      <td>1</td>\n",
              "      <td>202301003638011</td>\n",
              "      <td>20230100363801</td>\n",
              "      <td>1559.99</td>\n",
              "      <td>53</td>\n",
              "      <td>2</td>\n",
              "      <td>100</td>\n",
              "      <td>1</td>\n",
              "      <td>1</td>\n",
              "      <td>50838</td>\n",
              "      <td>10801.0</td>\n",
              "    </tr>\n",
              "    <tr>\n",
              "      <th>4</th>\n",
              "      <td>2024</td>\n",
              "      <td>7</td>\n",
              "      <td>3</td>\n",
              "      <td>20230100363800</td>\n",
              "      <td>1</td>\n",
              "      <td>1559.99</td>\n",
              "      <td>2</td>\n",
              "      <td>202301003638021</td>\n",
              "      <td>20230100363802</td>\n",
              "      <td>1559.99</td>\n",
              "      <td>52</td>\n",
              "      <td>1</td>\n",
              "      <td>100</td>\n",
              "      <td>1</td>\n",
              "      <td>1</td>\n",
              "      <td>50838</td>\n",
              "      <td>40037.0</td>\n",
              "    </tr>\n",
              "    <tr>\n",
              "      <th>5</th>\n",
              "      <td>2024</td>\n",
              "      <td>8</td>\n",
              "      <td>3</td>\n",
              "      <td>20240200366300</td>\n",
              "      <td>1</td>\n",
              "      <td>580.60</td>\n",
              "      <td>1</td>\n",
              "      <td>202402003663011</td>\n",
              "      <td>20240200366301</td>\n",
              "      <td>580.60</td>\n",
              "      <td>68</td>\n",
              "      <td>1</td>\n",
              "      <td>100</td>\n",
              "      <td>5</td>\n",
              "      <td>1</td>\n",
              "      <td>9648</td>\n",
              "      <td>9648.0</td>\n",
              "    </tr>\n",
              "    <tr>\n",
              "      <th>6</th>\n",
              "      <td>2024</td>\n",
              "      <td>8</td>\n",
              "      <td>3</td>\n",
              "      <td>20240200366300</td>\n",
              "      <td>1</td>\n",
              "      <td>580.60</td>\n",
              "      <td>2</td>\n",
              "      <td>202402003663021</td>\n",
              "      <td>20240200366302</td>\n",
              "      <td>1351.94</td>\n",
              "      <td>14</td>\n",
              "      <td>2</td>\n",
              "      <td>100</td>\n",
              "      <td>6</td>\n",
              "      <td>0</td>\n",
              "      <td>9648</td>\n",
              "      <td>NaN</td>\n",
              "    </tr>\n",
              "  </tbody>\n",
              "</table>\n",
              "</div>\n",
              "    <div class=\"colab-df-buttons\">\n",
              "\n",
              "  <div class=\"colab-df-container\">\n",
              "    <button class=\"colab-df-convert\" onclick=\"convertToInteractive('df-6907a9fc-9d03-4660-9024-d9388c3f688d')\"\n",
              "            title=\"Convert this dataframe to an interactive table.\"\n",
              "            style=\"display:none;\">\n",
              "\n",
              "  <svg xmlns=\"http://www.w3.org/2000/svg\" height=\"24px\" viewBox=\"0 -960 960 960\">\n",
              "    <path d=\"M120-120v-720h720v720H120Zm60-500h600v-160H180v160Zm220 220h160v-160H400v160Zm0 220h160v-160H400v160ZM180-400h160v-160H180v160Zm440 0h160v-160H620v160ZM180-180h160v-160H180v160Zm440 0h160v-160H620v160Z\"/>\n",
              "  </svg>\n",
              "    </button>\n",
              "\n",
              "  <style>\n",
              "    .colab-df-container {\n",
              "      display:flex;\n",
              "      gap: 12px;\n",
              "    }\n",
              "\n",
              "    .colab-df-convert {\n",
              "      background-color: #E8F0FE;\n",
              "      border: none;\n",
              "      border-radius: 50%;\n",
              "      cursor: pointer;\n",
              "      display: none;\n",
              "      fill: #1967D2;\n",
              "      height: 32px;\n",
              "      padding: 0 0 0 0;\n",
              "      width: 32px;\n",
              "    }\n",
              "\n",
              "    .colab-df-convert:hover {\n",
              "      background-color: #E2EBFA;\n",
              "      box-shadow: 0px 1px 2px rgba(60, 64, 67, 0.3), 0px 1px 3px 1px rgba(60, 64, 67, 0.15);\n",
              "      fill: #174EA6;\n",
              "    }\n",
              "\n",
              "    .colab-df-buttons div {\n",
              "      margin-bottom: 4px;\n",
              "    }\n",
              "\n",
              "    [theme=dark] .colab-df-convert {\n",
              "      background-color: #3B4455;\n",
              "      fill: #D2E3FC;\n",
              "    }\n",
              "\n",
              "    [theme=dark] .colab-df-convert:hover {\n",
              "      background-color: #434B5C;\n",
              "      box-shadow: 0px 1px 3px 1px rgba(0, 0, 0, 0.15);\n",
              "      filter: drop-shadow(0px 1px 2px rgba(0, 0, 0, 0.3));\n",
              "      fill: #FFFFFF;\n",
              "    }\n",
              "  </style>\n",
              "\n",
              "    <script>\n",
              "      const buttonEl =\n",
              "        document.querySelector('#df-6907a9fc-9d03-4660-9024-d9388c3f688d button.colab-df-convert');\n",
              "      buttonEl.style.display =\n",
              "        google.colab.kernel.accessAllowed ? 'block' : 'none';\n",
              "\n",
              "      async function convertToInteractive(key) {\n",
              "        const element = document.querySelector('#df-6907a9fc-9d03-4660-9024-d9388c3f688d');\n",
              "        const dataTable =\n",
              "          await google.colab.kernel.invokeFunction('convertToInteractive',\n",
              "                                                    [key], {});\n",
              "        if (!dataTable) return;\n",
              "\n",
              "        const docLinkHtml = 'Like what you see? Visit the ' +\n",
              "          '<a target=\"_blank\" href=https://colab.research.google.com/notebooks/data_table.ipynb>data table notebook</a>'\n",
              "          + ' to learn more about interactive tables.';\n",
              "        element.innerHTML = '';\n",
              "        dataTable['output_type'] = 'display_data';\n",
              "        await google.colab.output.renderOutput(dataTable, element);\n",
              "        const docLink = document.createElement('div');\n",
              "        docLink.innerHTML = docLinkHtml;\n",
              "        element.appendChild(docLink);\n",
              "      }\n",
              "    </script>\n",
              "  </div>\n",
              "\n",
              "\n",
              "<div id=\"df-56dda71e-c767-4459-8aee-f77560a41fe6\">\n",
              "  <button class=\"colab-df-quickchart\" onclick=\"quickchart('df-56dda71e-c767-4459-8aee-f77560a41fe6')\"\n",
              "            title=\"Suggest charts\"\n",
              "            style=\"display:none;\">\n",
              "\n",
              "<svg xmlns=\"http://www.w3.org/2000/svg\" height=\"24px\"viewBox=\"0 0 24 24\"\n",
              "     width=\"24px\">\n",
              "    <g>\n",
              "        <path d=\"M19 3H5c-1.1 0-2 .9-2 2v14c0 1.1.9 2 2 2h14c1.1 0 2-.9 2-2V5c0-1.1-.9-2-2-2zM9 17H7v-7h2v7zm4 0h-2V7h2v10zm4 0h-2v-4h2v4z\"/>\n",
              "    </g>\n",
              "</svg>\n",
              "  </button>\n",
              "\n",
              "<style>\n",
              "  .colab-df-quickchart {\n",
              "      --bg-color: #E8F0FE;\n",
              "      --fill-color: #1967D2;\n",
              "      --hover-bg-color: #E2EBFA;\n",
              "      --hover-fill-color: #174EA6;\n",
              "      --disabled-fill-color: #AAA;\n",
              "      --disabled-bg-color: #DDD;\n",
              "  }\n",
              "\n",
              "  [theme=dark] .colab-df-quickchart {\n",
              "      --bg-color: #3B4455;\n",
              "      --fill-color: #D2E3FC;\n",
              "      --hover-bg-color: #434B5C;\n",
              "      --hover-fill-color: #FFFFFF;\n",
              "      --disabled-bg-color: #3B4455;\n",
              "      --disabled-fill-color: #666;\n",
              "  }\n",
              "\n",
              "  .colab-df-quickchart {\n",
              "    background-color: var(--bg-color);\n",
              "    border: none;\n",
              "    border-radius: 50%;\n",
              "    cursor: pointer;\n",
              "    display: none;\n",
              "    fill: var(--fill-color);\n",
              "    height: 32px;\n",
              "    padding: 0;\n",
              "    width: 32px;\n",
              "  }\n",
              "\n",
              "  .colab-df-quickchart:hover {\n",
              "    background-color: var(--hover-bg-color);\n",
              "    box-shadow: 0 1px 2px rgba(60, 64, 67, 0.3), 0 1px 3px 1px rgba(60, 64, 67, 0.15);\n",
              "    fill: var(--button-hover-fill-color);\n",
              "  }\n",
              "\n",
              "  .colab-df-quickchart-complete:disabled,\n",
              "  .colab-df-quickchart-complete:disabled:hover {\n",
              "    background-color: var(--disabled-bg-color);\n",
              "    fill: var(--disabled-fill-color);\n",
              "    box-shadow: none;\n",
              "  }\n",
              "\n",
              "  .colab-df-spinner {\n",
              "    border: 2px solid var(--fill-color);\n",
              "    border-color: transparent;\n",
              "    border-bottom-color: var(--fill-color);\n",
              "    animation:\n",
              "      spin 1s steps(1) infinite;\n",
              "  }\n",
              "\n",
              "  @keyframes spin {\n",
              "    0% {\n",
              "      border-color: transparent;\n",
              "      border-bottom-color: var(--fill-color);\n",
              "      border-left-color: var(--fill-color);\n",
              "    }\n",
              "    20% {\n",
              "      border-color: transparent;\n",
              "      border-left-color: var(--fill-color);\n",
              "      border-top-color: var(--fill-color);\n",
              "    }\n",
              "    30% {\n",
              "      border-color: transparent;\n",
              "      border-left-color: var(--fill-color);\n",
              "      border-top-color: var(--fill-color);\n",
              "      border-right-color: var(--fill-color);\n",
              "    }\n",
              "    40% {\n",
              "      border-color: transparent;\n",
              "      border-right-color: var(--fill-color);\n",
              "      border-top-color: var(--fill-color);\n",
              "    }\n",
              "    60% {\n",
              "      border-color: transparent;\n",
              "      border-right-color: var(--fill-color);\n",
              "    }\n",
              "    80% {\n",
              "      border-color: transparent;\n",
              "      border-right-color: var(--fill-color);\n",
              "      border-bottom-color: var(--fill-color);\n",
              "    }\n",
              "    90% {\n",
              "      border-color: transparent;\n",
              "      border-bottom-color: var(--fill-color);\n",
              "    }\n",
              "  }\n",
              "</style>\n",
              "\n",
              "  <script>\n",
              "    async function quickchart(key) {\n",
              "      const quickchartButtonEl =\n",
              "        document.querySelector('#' + key + ' button');\n",
              "      quickchartButtonEl.disabled = true;  // To prevent multiple clicks.\n",
              "      quickchartButtonEl.classList.add('colab-df-spinner');\n",
              "      try {\n",
              "        const charts = await google.colab.kernel.invokeFunction(\n",
              "            'suggestCharts', [key], {});\n",
              "      } catch (error) {\n",
              "        console.error('Error during call to suggestCharts:', error);\n",
              "      }\n",
              "      quickchartButtonEl.classList.remove('colab-df-spinner');\n",
              "      quickchartButtonEl.classList.add('colab-df-quickchart-complete');\n",
              "    }\n",
              "    (() => {\n",
              "      let quickchartButtonEl =\n",
              "        document.querySelector('#df-56dda71e-c767-4459-8aee-f77560a41fe6 button');\n",
              "      quickchartButtonEl.style.display =\n",
              "        google.colab.kernel.accessAllowed ? 'block' : 'none';\n",
              "    })();\n",
              "  </script>\n",
              "</div>\n",
              "\n",
              "    </div>\n",
              "  </div>\n"
            ],
            "application/vnd.google.colaboratory.intrinsic+json": {
              "type": "dataframe",
              "variable_name": "df"
            }
          },
          "metadata": {},
          "execution_count": 4
        }
      ]
    },
    {
      "cell_type": "markdown",
      "source": [
        "### **Check NAN Values**"
      ],
      "metadata": {
        "id": "ldhL4aelWu_3"
      }
    },
    {
      "cell_type": "code",
      "source": [
        "print(df['AGE'].isna().sum(), df['INCTOT'].isna().sum())\n",
        "condition = df['AGE'].isna() | df['INCTOT'].isna()\n",
        "df = df[~condition]"
      ],
      "metadata": {
        "colab": {
          "base_uri": "https://localhost:8080/"
        },
        "id": "X-1xAbMTWs_t",
        "outputId": "f4f48609-0a27-472f-e0d7-19e11fcc5e26"
      },
      "execution_count": 5,
      "outputs": [
        {
          "output_type": "stream",
          "name": "stdout",
          "text": [
            "0 28429\n"
          ]
        }
      ]
    },
    {
      "cell_type": "markdown",
      "source": [
        "### **Single Variable Regression**"
      ],
      "metadata": {
        "id": "QrzoijwP0WeN"
      }
    },
    {
      "cell_type": "code",
      "source": [
        "reg0 = smf.ols('INCTOT ~ AGE', data = df).fit()\n",
        "reg0.params"
      ],
      "metadata": {
        "colab": {
          "base_uri": "https://localhost:8080/",
          "height": 147
        },
        "id": "gYNhEIWA0ZII",
        "outputId": "c9dbf675-2bde-48c8-bec8-2997bf8a9e40"
      },
      "execution_count": 16,
      "outputs": [
        {
          "output_type": "execute_result",
          "data": {
            "text/plain": [
              "Intercept    30852.211683\n",
              "AGE            571.919726\n",
              "dtype: float64"
            ],
            "text/html": [
              "<div>\n",
              "<style scoped>\n",
              "    .dataframe tbody tr th:only-of-type {\n",
              "        vertical-align: middle;\n",
              "    }\n",
              "\n",
              "    .dataframe tbody tr th {\n",
              "        vertical-align: top;\n",
              "    }\n",
              "\n",
              "    .dataframe thead th {\n",
              "        text-align: right;\n",
              "    }\n",
              "</style>\n",
              "<table border=\"1\" class=\"dataframe\">\n",
              "  <thead>\n",
              "    <tr style=\"text-align: right;\">\n",
              "      <th></th>\n",
              "      <th>0</th>\n",
              "    </tr>\n",
              "  </thead>\n",
              "  <tbody>\n",
              "    <tr>\n",
              "      <th>Intercept</th>\n",
              "      <td>30852.211683</td>\n",
              "    </tr>\n",
              "    <tr>\n",
              "      <th>AGE</th>\n",
              "      <td>571.919726</td>\n",
              "    </tr>\n",
              "  </tbody>\n",
              "</table>\n",
              "</div><br><label><b>dtype:</b> float64</label>"
            ]
          },
          "metadata": {},
          "execution_count": 16
        }
      ]
    },
    {
      "cell_type": "markdown",
      "source": [
        "### **Multivariate Regression**"
      ],
      "metadata": {
        "id": "XqBqzsNkzgXc"
      }
    },
    {
      "cell_type": "code",
      "source": [
        "reg1 = smf.ols('INCTOT ~ AGE + C(SEX)', data = df).fit()\n",
        "reg1.params"
      ],
      "metadata": {
        "id": "BhlY91zQS26W",
        "colab": {
          "base_uri": "https://localhost:8080/",
          "height": 178
        },
        "outputId": "0533a8a6-a22b-414a-9cca-994244ff0e6a"
      },
      "execution_count": 17,
      "outputs": [
        {
          "output_type": "execute_result",
          "data": {
            "text/plain": [
              "Intercept      42560.167388\n",
              "C(SEX)[T.2]   -24788.693718\n",
              "AGE              595.412553\n",
              "dtype: float64"
            ],
            "text/html": [
              "<div>\n",
              "<style scoped>\n",
              "    .dataframe tbody tr th:only-of-type {\n",
              "        vertical-align: middle;\n",
              "    }\n",
              "\n",
              "    .dataframe tbody tr th {\n",
              "        vertical-align: top;\n",
              "    }\n",
              "\n",
              "    .dataframe thead th {\n",
              "        text-align: right;\n",
              "    }\n",
              "</style>\n",
              "<table border=\"1\" class=\"dataframe\">\n",
              "  <thead>\n",
              "    <tr style=\"text-align: right;\">\n",
              "      <th></th>\n",
              "      <th>0</th>\n",
              "    </tr>\n",
              "  </thead>\n",
              "  <tbody>\n",
              "    <tr>\n",
              "      <th>Intercept</th>\n",
              "      <td>42560.167388</td>\n",
              "    </tr>\n",
              "    <tr>\n",
              "      <th>C(SEX)[T.2]</th>\n",
              "      <td>-24788.693718</td>\n",
              "    </tr>\n",
              "    <tr>\n",
              "      <th>AGE</th>\n",
              "      <td>595.412553</td>\n",
              "    </tr>\n",
              "  </tbody>\n",
              "</table>\n",
              "</div><br><label><b>dtype:</b> float64</label>"
            ]
          },
          "metadata": {},
          "execution_count": 17
        }
      ]
    },
    {
      "cell_type": "markdown",
      "source": [
        "### **View Results**"
      ],
      "metadata": {
        "id": "RBCxsIdz1DBw"
      }
    },
    {
      "cell_type": "code",
      "source": [
        "print(summary_col([reg0, reg1],\n",
        "                  stars=True,\n",
        "                  float_format='%0.2f'))"
      ],
      "metadata": {
        "colab": {
          "base_uri": "https://localhost:8080/"
        },
        "id": "f82K3PfTzPUR",
        "outputId": "d40a136f-d976-4ddd-e959-f9acda2d9254"
      },
      "execution_count": 20,
      "outputs": [
        {
          "output_type": "stream",
          "name": "stdout",
          "text": [
            "\n",
            "=======================================\n",
            "                 INCTOT I   INCTOT II  \n",
            "---------------------------------------\n",
            "Intercept      30852.21*** 42560.17*** \n",
            "               (673.45)    (705.49)    \n",
            "AGE            571.92***   595.41***   \n",
            "               (13.94)     (13.79)     \n",
            "C(SEX)[T.2]                -24788.69***\n",
            "                           (493.47)    \n",
            "R-squared      0.02        0.04        \n",
            "R-squared Adj. 0.02        0.04        \n",
            "=======================================\n",
            "Standard errors in parentheses.\n",
            "* p<.1, ** p<.05, ***p<.01\n"
          ]
        }
      ]
    },
    {
      "cell_type": "markdown",
      "source": [
        "### **Residulaized Viewpoint**"
      ],
      "metadata": {
        "id": "kcKpQP2H1FmP"
      }
    },
    {
      "cell_type": "code",
      "source": [
        "df['AGE_Fitted'] = smf.ols('AGE ~ C(SEX)', data = df).fit().fittedvalues\n",
        "df['AGE_residualized'] = df['AGE'] - df['AGE_Fitted']\n",
        "reg_residualized = smf.ols('INCTOT ~ 0 + AGE_residualized', data=df).fit()\n",
        "reg_residualized.params"
      ],
      "metadata": {
        "colab": {
          "base_uri": "https://localhost:8080/",
          "height": 115
        },
        "id": "FNwX1DfD0jAZ",
        "outputId": "666c70f1-75a2-479e-f378-0e411fa07b88"
      },
      "execution_count": 25,
      "outputs": [
        {
          "output_type": "execute_result",
          "data": {
            "text/plain": [
              "AGE_residualized    595.412553\n",
              "dtype: float64"
            ],
            "text/html": [
              "<div>\n",
              "<style scoped>\n",
              "    .dataframe tbody tr th:only-of-type {\n",
              "        vertical-align: middle;\n",
              "    }\n",
              "\n",
              "    .dataframe tbody tr th {\n",
              "        vertical-align: top;\n",
              "    }\n",
              "\n",
              "    .dataframe thead th {\n",
              "        text-align: right;\n",
              "    }\n",
              "</style>\n",
              "<table border=\"1\" class=\"dataframe\">\n",
              "  <thead>\n",
              "    <tr style=\"text-align: right;\">\n",
              "      <th></th>\n",
              "      <th>0</th>\n",
              "    </tr>\n",
              "  </thead>\n",
              "  <tbody>\n",
              "    <tr>\n",
              "      <th>AGE_residualized</th>\n",
              "      <td>595.412553</td>\n",
              "    </tr>\n",
              "  </tbody>\n",
              "</table>\n",
              "</div><br><label><b>dtype:</b> float64</label>"
            ]
          },
          "metadata": {},
          "execution_count": 25
        }
      ]
    },
    {
      "cell_type": "code",
      "source": [],
      "metadata": {
        "id": "C0DVAoLJ1SAA"
      },
      "execution_count": null,
      "outputs": []
    }
  ]
}