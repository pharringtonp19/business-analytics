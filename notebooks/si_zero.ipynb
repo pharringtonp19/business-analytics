{
  "nbformat": 4,
  "nbformat_minor": 0,
  "metadata": {
    "colab": {
      "provenance": [],
      "authorship_tag": "ABX9TyPKbgyd2sHNk0osfKckJiCG",
      "include_colab_link": true
    },
    "kernelspec": {
      "name": "python3",
      "display_name": "Python 3"
    },
    "language_info": {
      "name": "python"
    }
  },
  "cells": [
    {
      "cell_type": "markdown",
      "metadata": {
        "id": "view-in-github",
        "colab_type": "text"
      },
      "source": [
        "<a href=\"https://colab.research.google.com/github/pharringtonp19/business-analytics/blob/main/notebooks/si_zero.ipynb\" target=\"_parent\"><img src=\"https://colab.research.google.com/assets/colab-badge.svg\" alt=\"Open In Colab\"/></a>"
      ]
    },
    {
      "cell_type": "markdown",
      "source": [
        "### **Import Libraries**"
      ],
      "metadata": {
        "id": "rfLroSndJVbt"
      }
    },
    {
      "cell_type": "code",
      "execution_count": 11,
      "metadata": {
        "id": "yRhcsFLYJQxo"
      },
      "outputs": [],
      "source": [
        "import jax\n",
        "import jax.numpy as jnp\n",
        "import matplotlib.pyplot as plt\n",
        "from functools import partial"
      ]
    },
    {
      "cell_type": "markdown",
      "source": [
        "### **Parameters**"
      ],
      "metadata": {
        "id": "V5X6uhFrO3NA"
      }
    },
    {
      "cell_type": "code",
      "source": [
        "p = jnp.array([.48, .46, .06])\n",
        "n = 3385"
      ],
      "metadata": {
        "id": "SKvCCCn7O2p9"
      },
      "execution_count": 14,
      "outputs": []
    },
    {
      "cell_type": "markdown",
      "source": [
        "### **Sample Mean**"
      ],
      "metadata": {
        "id": "az1X7lUOKQwM"
      }
    },
    {
      "cell_type": "code",
      "source": [
        "def sample_mean(n, candidate, key):\n",
        "  votes = jax.random.choice(key, a=jnp.array([0, 1, 2]), p=p, shape=(n,))\n",
        "  return jnp.mean(votes==candidate)"
      ],
      "metadata": {
        "id": "MIVB3JnrJU4y"
      },
      "execution_count": 15,
      "outputs": []
    },
    {
      "cell_type": "code",
      "source": [
        "print(f\"Fraction voting for Kamala: {sample_mean(3385, 0, jax.random.PRNGKey(0)):.3f}\")\n",
        "print(f\"Fraction voting for Trump: {sample_mean(3385, 1, jax.random.PRNGKey(0)):.3f}\")\n",
        "print(f\"Fraction voting for Other: {sample_mean(3385, 2, jax.random.PRNGKey(0)):.3f}\")"
      ],
      "metadata": {
        "colab": {
          "base_uri": "https://localhost:8080/"
        },
        "id": "3Kmm4QjaJ5jk",
        "outputId": "496a64c6-ad55-49a7-c2c7-69307510b1aa"
      },
      "execution_count": 10,
      "outputs": [
        {
          "output_type": "stream",
          "name": "stdout",
          "text": [
            "Fraction voting for Kamala: 0.483\n",
            "Fraction voting for Trump: 0.456\n",
            "Fraction voting for Other: 0.061\n"
          ]
        }
      ]
    },
    {
      "cell_type": "code",
      "source": [
        "def normalized_sample_mean(n, candidate, key):\n",
        "  numerator = sample_mean - p[candidate]\n",
        "  denominator = jnp.sqrt(p[candidate]*(1-p[candidate])) / jnp.sqrt(n)\n",
        "  return numerator/ denominator"
      ],
      "metadata": {
        "id": "APFNTQ_yKFUW"
      },
      "execution_count": 17,
      "outputs": []
    },
    {
      "cell_type": "code",
      "source": [
        "partial(normalized_sample_mean, n, )"
      ],
      "metadata": {
        "id": "qEgTb3KfOe8q"
      },
      "execution_count": null,
      "outputs": []
    }
  ]
}