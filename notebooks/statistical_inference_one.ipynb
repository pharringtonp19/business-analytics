{
  "nbformat": 4,
  "nbformat_minor": 0,
  "metadata": {
    "colab": {
      "provenance": [],
      "authorship_tag": "ABX9TyMGzLQFMcKccY6+J+eme3uu",
      "include_colab_link": true
    },
    "kernelspec": {
      "name": "python3",
      "display_name": "Python 3"
    },
    "language_info": {
      "name": "python"
    }
  },
  "cells": [
    {
      "cell_type": "markdown",
      "metadata": {
        "id": "view-in-github",
        "colab_type": "text"
      },
      "source": [
        "<a href=\"https://colab.research.google.com/github/pharringtonp19/business-analytics/blob/main/notebooks/statistical_inference_one.ipynb\" target=\"_parent\"><img src=\"https://colab.research.google.com/assets/colab-badge.svg\" alt=\"Open In Colab\"/></a>"
      ]
    },
    {
      "cell_type": "markdown",
      "source": [],
      "metadata": {
        "id": "56_Mx_XF63cv"
      }
    },
    {
      "cell_type": "code",
      "execution_count": 1,
      "metadata": {
        "id": "PIKNzzxH5-Xc"
      },
      "outputs": [],
      "source": [
        "def percentage_grade(score: float, total:float) -> float:\n",
        "\treturn score/total\n",
        "\n",
        "def stringify(percent: float) -> str:\n",
        "\treturn \"You got \" + str(percent) + \" of the questions correct\""
      ]
    },
    {
      "cell_type": "code",
      "source": [
        "score = 112.0\n",
        "total = 156.0\n",
        "percent = percentage_grade(score, total)\n",
        "stringify(percent)"
      ],
      "metadata": {
        "colab": {
          "base_uri": "https://localhost:8080/",
          "height": 36
        },
        "id": "FQmMIxZM5_E_",
        "outputId": "333176d7-c2ca-4b14-e405-83ce628cf3a9"
      },
      "execution_count": 2,
      "outputs": [
        {
          "output_type": "execute_result",
          "data": {
            "text/plain": [
              "'You got 0.717948717948718 of the questions correct'"
            ],
            "application/vnd.google.colaboratory.intrinsic+json": {
              "type": "string"
            }
          },
          "metadata": {},
          "execution_count": 2
        }
      ]
    },
    {
      "cell_type": "code",
      "source": [],
      "metadata": {
        "id": "HILI3i9k6Bwy"
      },
      "execution_count": null,
      "outputs": []
    }
  ]
}