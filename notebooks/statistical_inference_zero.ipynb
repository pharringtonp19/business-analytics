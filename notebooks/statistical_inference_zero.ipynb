{
  "nbformat": 4,
  "nbformat_minor": 0,
  "metadata": {
    "colab": {
      "provenance": [],
      "authorship_tag": "ABX9TyPhJu31tOVii7JgvSUIJkp4",
      "include_colab_link": true
    },
    "kernelspec": {
      "name": "python3",
      "display_name": "Python 3"
    },
    "language_info": {
      "name": "python"
    }
  },
  "cells": [
    {
      "cell_type": "markdown",
      "metadata": {
        "id": "view-in-github",
        "colab_type": "text"
      },
      "source": [
        "<a href=\"https://colab.research.google.com/github/pharringtonp19/business-analytics/blob/main/notebooks/statistical_inference_zero.ipynb\" target=\"_parent\"><img src=\"https://colab.research.google.com/assets/colab-badge.svg\" alt=\"Open In Colab\"/></a>"
      ]
    },
    {
      "cell_type": "markdown",
      "source": [
        "### **Import Libraries**"
      ],
      "metadata": {
        "id": "kWIOo_chRzc-"
      }
    },
    {
      "cell_type": "code",
      "source": [
        "import jax\n",
        "import jax.numpy as jnp\n",
        "import numpy as np\n",
        "import matplotlib.pyplot as plt"
      ],
      "metadata": {
        "id": "fUcS4uNnRx3S"
      },
      "execution_count": 1,
      "outputs": []
    },
    {
      "cell_type": "markdown",
      "source": [
        "### **Random Variable**"
      ],
      "metadata": {
        "id": "WiIbeTE5U3Et"
      }
    },
    {
      "cell_type": "code",
      "source": [
        "def f(x):\n",
        "  if x % 2 == 0:\n",
        "    return 1\n",
        "  else:\n",
        "    return -1"
      ],
      "metadata": {
        "id": "hp2tCUUJ8w3g"
      },
      "execution_count": 2,
      "outputs": []
    },
    {
      "cell_type": "markdown",
      "source": [
        "### **Sample Space**"
      ],
      "metadata": {
        "id": "nt-lQPcC82bV"
      }
    },
    {
      "cell_type": "code",
      "source": [
        "sample_space = jnp.array([1, 2, 3, 4, 5, 6])"
      ],
      "metadata": {
        "id": "1UIzgbLZ84cF"
      },
      "execution_count": 3,
      "outputs": []
    },
    {
      "cell_type": "markdown",
      "source": [
        "### **Roll**"
      ],
      "metadata": {
        "id": "-t4X3d2D87oT"
      }
    },
    {
      "cell_type": "code",
      "source": [
        "def roll(key):\n",
        "  return jax.random.choice(key, sample_space)"
      ],
      "metadata": {
        "id": "DFaAyul8UAgb"
      },
      "execution_count": 7,
      "outputs": []
    },
    {
      "cell_type": "markdown",
      "source": [
        "### **Experiment**"
      ],
      "metadata": {
        "id": "8D1_mtBb9HM0"
      }
    },
    {
      "cell_type": "code",
      "source": [
        "def experiment(key):\n",
        "  value = roll(key)\n",
        "  return f(value)"
      ],
      "metadata": {
        "id": "XVySmxgzU1Vs"
      },
      "execution_count": 8,
      "outputs": []
    }
  ]
}