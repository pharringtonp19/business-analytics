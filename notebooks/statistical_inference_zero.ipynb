{
  "nbformat": 4,
  "nbformat_minor": 0,
  "metadata": {
    "colab": {
      "provenance": [],
      "authorship_tag": "ABX9TyOgXFLlovTrrigt9UJat2EO",
      "include_colab_link": true
    },
    "kernelspec": {
      "name": "python3",
      "display_name": "Python 3"
    },
    "language_info": {
      "name": "python"
    }
  },
  "cells": [
    {
      "cell_type": "markdown",
      "metadata": {
        "id": "view-in-github",
        "colab_type": "text"
      },
      "source": [
        "<a href=\"https://colab.research.google.com/github/pharringtonp19/business-analytics/blob/main/notebooks/statistical_inference_zero.ipynb\" target=\"_parent\"><img src=\"https://colab.research.google.com/assets/colab-badge.svg\" alt=\"Open In Colab\"/></a>"
      ]
    },
    {
      "cell_type": "markdown",
      "source": [
        "### **Import Libraries**"
      ],
      "metadata": {
        "id": "kWIOo_chRzc-"
      }
    },
    {
      "cell_type": "code",
      "source": [
        "import jax\n",
        "import jax.numpy as jnp\n",
        "import numpy as np\n",
        "import matplotlib.pyplot as plt"
      ],
      "metadata": {
        "id": "fUcS4uNnRx3S"
      },
      "execution_count": 1,
      "outputs": []
    },
    {
      "cell_type": "markdown",
      "source": [
        "### **Rolling a Die**"
      ],
      "metadata": {
        "id": "WiIbeTE5U3Et"
      }
    },
    {
      "cell_type": "code",
      "source": [
        "def f(x):\n",
        "  return 1 if x % 2 == 0 else -1\n",
        "\n",
        "sample_space = jnp.array([1, 2, 3, 4, 5, 6])\n",
        "\n",
        "outcome = jax.random.choice(jax.random.PRNGKey(0), sample_space)\n",
        "print(f(outcome))"
      ],
      "metadata": {
        "id": "DFaAyul8UAgb"
      },
      "execution_count": 4,
      "outputs": []
    },
    {
      "cell_type": "markdown",
      "source": [
        "### **Trader Example**"
      ],
      "metadata": {
        "id": "yg8snFOHYYCh"
      }
    },
    {
      "cell_type": "code",
      "source": [
        "def f(x):\n",
        "  return 2_000_000\n",
        "outcome = jax.random.uniform(jax.random.PRNGKey(0), minval=0.0, maxval=1.0)\n",
        "print(f(outcome))"
      ],
      "metadata": {
        "colab": {
          "base_uri": "https://localhost:8080/"
        },
        "id": "CgfYXZvDVmjd",
        "outputId": "c20d2711-e049-4f68-9f14-818ac615df86"
      },
      "execution_count": 12,
      "outputs": [
        {
          "output_type": "stream",
          "name": "stdout",
          "text": [
            "2000000\n"
          ]
        }
      ]
    },
    {
      "cell_type": "code",
      "source": [],
      "metadata": {
        "colab": {
          "base_uri": "https://localhost:8080/"
        },
        "id": "XVySmxgzU1Vs",
        "outputId": "62ab64cb-b9c2-4308-ddfd-bc48447f8072"
      },
      "execution_count": 10,
      "outputs": [
        {
          "output_type": "stream",
          "name": "stdout",
          "text": [
            "3\n",
            "-1\n"
          ]
        }
      ]
    },
    {
      "cell_type": "code",
      "source": [],
      "metadata": {
        "id": "rGUwXj4UVqwn"
      },
      "execution_count": null,
      "outputs": []
    }
  ]
}