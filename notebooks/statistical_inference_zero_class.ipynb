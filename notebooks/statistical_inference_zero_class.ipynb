{
  "nbformat": 4,
  "nbformat_minor": 0,
  "metadata": {
    "colab": {
      "provenance": [],
      "authorship_tag": "ABX9TyMDSrDnaIs93sN+SF+nTk4v",
      "include_colab_link": true
    },
    "kernelspec": {
      "name": "python3",
      "display_name": "Python 3"
    },
    "language_info": {
      "name": "python"
    }
  },
  "cells": [
    {
      "cell_type": "markdown",
      "metadata": {
        "id": "view-in-github",
        "colab_type": "text"
      },
      "source": [
        "<a href=\"https://colab.research.google.com/github/pharringtonp19/business-analytics/blob/main/notebooks/statistical_inference_zero_class.ipynb\" target=\"_parent\"><img src=\"https://colab.research.google.com/assets/colab-badge.svg\" alt=\"Open In Colab\"/></a>"
      ]
    },
    {
      "cell_type": "markdown",
      "source": [
        "The following code will load in a data set corresponding to the 2024 WNBA season. If you need to know what the variables mean you can find the original dataset [here](https://www.basketball-reference.com/wnba/years/2024_per_game.html):"
      ],
      "metadata": {
        "id": "pGpL1zprTdlL"
      }
    },
    {
      "cell_type": "markdown",
      "source": [
        "### **Clone Business Analytics Repository**"
      ],
      "metadata": {
        "id": "AFnfxPBqRuha"
      }
    },
    {
      "cell_type": "code",
      "execution_count": null,
      "metadata": {
        "colab": {
          "base_uri": "https://localhost:8080/"
        },
        "id": "OS6s1WulRkBk",
        "outputId": "ed67355b-d949-4b32-8e5e-083d8be4cf97"
      },
      "outputs": [
        {
          "output_type": "stream",
          "name": "stdout",
          "text": [
            "Cloning into 'business-analytics'...\n",
            "remote: Enumerating objects: 458, done.\u001b[K\n",
            "remote: Counting objects: 100% (256/256), done.\u001b[K\n",
            "remote: Compressing objects: 100% (136/136), done.\u001b[K\n",
            "remote: Total 458 (delta 154), reused 192 (delta 115), pack-reused 202 (from 1)\u001b[K\n",
            "Receiving objects: 100% (458/458), 7.64 MiB | 17.90 MiB/s, done.\n",
            "Resolving deltas: 100% (244/244), done.\n"
          ]
        }
      ],
      "source": [
        "!git clone https://github.com/pharringtonp19/business-analytics.git"
      ]
    },
    {
      "cell_type": "markdown",
      "source": [
        "### **Import Libraries**"
      ],
      "metadata": {
        "id": "kWIOo_chRzc-"
      }
    },
    {
      "cell_type": "code",
      "source": [
        "import pandas as pd\n",
        "pd.set_option('display.max_columns', None)\n",
        "import numpy as np\n",
        "import matplotlib.pyplot as plt"
      ],
      "metadata": {
        "id": "fUcS4uNnRx3S"
      },
      "execution_count": null,
      "outputs": []
    },
    {
      "cell_type": "markdown",
      "source": [
        "### **Read In the Dataset**"
      ],
      "metadata": {
        "id": "Mqsf7r_0R3iP"
      }
    },
    {
      "cell_type": "code",
      "source": [
        "df = pd.read_csv('/content/business-analytics/datasets/sportsref_download.csv')"
      ],
      "metadata": {
        "id": "gX04XorJR21B"
      },
      "execution_count": null,
      "outputs": []
    }
  ]
}