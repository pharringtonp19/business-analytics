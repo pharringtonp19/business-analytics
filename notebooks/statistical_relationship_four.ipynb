{
  "nbformat": 4,
  "nbformat_minor": 0,
  "metadata": {
    "colab": {
      "provenance": [],
      "authorship_tag": "ABX9TyNnUQJLhahBzD4F/jus09ff",
      "include_colab_link": true
    },
    "kernelspec": {
      "name": "python3",
      "display_name": "Python 3"
    },
    "language_info": {
      "name": "python"
    }
  },
  "cells": [
    {
      "cell_type": "markdown",
      "metadata": {
        "id": "view-in-github",
        "colab_type": "text"
      },
      "source": [
        "<a href=\"https://colab.research.google.com/github/pharringtonp19/business-analytics/blob/main/notebooks/statistical_relationship_four.ipynb\" target=\"_parent\"><img src=\"https://colab.research.google.com/assets/colab-badge.svg\" alt=\"Open In Colab\"/></a>"
      ]
    },
    {
      "cell_type": "code",
      "source": [
        "!pip install transformers"
      ],
      "metadata": {
        "colab": {
          "base_uri": "https://localhost:8080/"
        },
        "id": "eKXoKyg6IRhU",
        "outputId": "673b5e7b-b57b-4770-bffd-0cbe8616c6c5"
      },
      "execution_count": 15,
      "outputs": [
        {
          "output_type": "stream",
          "name": "stdout",
          "text": [
            "Requirement already satisfied: transformers in /usr/local/lib/python3.10/dist-packages (4.44.2)\n",
            "Requirement already satisfied: filelock in /usr/local/lib/python3.10/dist-packages (from transformers) (3.16.1)\n",
            "Requirement already satisfied: huggingface-hub<1.0,>=0.23.2 in /usr/local/lib/python3.10/dist-packages (from transformers) (0.24.7)\n",
            "Requirement already satisfied: numpy>=1.17 in /usr/local/lib/python3.10/dist-packages (from transformers) (1.26.4)\n",
            "Requirement already satisfied: packaging>=20.0 in /usr/local/lib/python3.10/dist-packages (from transformers) (24.1)\n",
            "Requirement already satisfied: pyyaml>=5.1 in /usr/local/lib/python3.10/dist-packages (from transformers) (6.0.2)\n",
            "Requirement already satisfied: regex!=2019.12.17 in /usr/local/lib/python3.10/dist-packages (from transformers) (2024.9.11)\n",
            "Requirement already satisfied: requests in /usr/local/lib/python3.10/dist-packages (from transformers) (2.32.3)\n",
            "Requirement already satisfied: safetensors>=0.4.1 in /usr/local/lib/python3.10/dist-packages (from transformers) (0.4.5)\n",
            "Requirement already satisfied: tokenizers<0.20,>=0.19 in /usr/local/lib/python3.10/dist-packages (from transformers) (0.19.1)\n",
            "Requirement already satisfied: tqdm>=4.27 in /usr/local/lib/python3.10/dist-packages (from transformers) (4.66.5)\n",
            "Requirement already satisfied: fsspec>=2023.5.0 in /usr/local/lib/python3.10/dist-packages (from huggingface-hub<1.0,>=0.23.2->transformers) (2024.6.1)\n",
            "Requirement already satisfied: typing-extensions>=3.7.4.3 in /usr/local/lib/python3.10/dist-packages (from huggingface-hub<1.0,>=0.23.2->transformers) (4.12.2)\n",
            "Requirement already satisfied: charset-normalizer<4,>=2 in /usr/local/lib/python3.10/dist-packages (from requests->transformers) (3.4.0)\n",
            "Requirement already satisfied: idna<4,>=2.5 in /usr/local/lib/python3.10/dist-packages (from requests->transformers) (3.10)\n",
            "Requirement already satisfied: urllib3<3,>=1.21.1 in /usr/local/lib/python3.10/dist-packages (from requests->transformers) (2.2.3)\n",
            "Requirement already satisfied: certifi>=2017.4.17 in /usr/local/lib/python3.10/dist-packages (from requests->transformers) (2024.8.30)\n"
          ]
        }
      ]
    },
    {
      "cell_type": "markdown",
      "source": [
        "### **Import Libraries**"
      ],
      "metadata": {
        "id": "YXOuc1IkIWqx"
      }
    },
    {
      "cell_type": "code",
      "source": [
        "from transformers import AutoTokenizer, AutoModelForCausalLM\n",
        "import torch"
      ],
      "metadata": {
        "id": "i9CaKYeCIVAe"
      },
      "execution_count": 16,
      "outputs": []
    },
    {
      "cell_type": "markdown",
      "source": [
        "### **Setup Model**"
      ],
      "metadata": {
        "id": "JYRd2djrIfC3"
      }
    },
    {
      "cell_type": "code",
      "source": [
        "model_name = 'gpt2'\n",
        "tokenizer = AutoTokenizer.from_pretrained(model_name)\n",
        "model = AutoModelForCausalLM.from_pretrained(model_name)\n",
        "model.eval()"
      ],
      "metadata": {
        "colab": {
          "base_uri": "https://localhost:8080/"
        },
        "id": "7nEmX1otIbVS",
        "outputId": "665a75ef-3c81-4212-856e-dd3499ec3d6e"
      },
      "execution_count": 17,
      "outputs": [
        {
          "output_type": "stream",
          "name": "stderr",
          "text": [
            "/usr/local/lib/python3.10/dist-packages/transformers/tokenization_utils_base.py:1601: FutureWarning: `clean_up_tokenization_spaces` was not set. It will be set to `True` by default. This behavior will be depracted in transformers v4.45, and will be then set to `False` by default. For more details check this issue: https://github.com/huggingface/transformers/issues/31884\n",
            "  warnings.warn(\n"
          ]
        },
        {
          "output_type": "execute_result",
          "data": {
            "text/plain": [
              "GPT2LMHeadModel(\n",
              "  (transformer): GPT2Model(\n",
              "    (wte): Embedding(50257, 768)\n",
              "    (wpe): Embedding(1024, 768)\n",
              "    (drop): Dropout(p=0.1, inplace=False)\n",
              "    (h): ModuleList(\n",
              "      (0-11): 12 x GPT2Block(\n",
              "        (ln_1): LayerNorm((768,), eps=1e-05, elementwise_affine=True)\n",
              "        (attn): GPT2SdpaAttention(\n",
              "          (c_attn): Conv1D()\n",
              "          (c_proj): Conv1D()\n",
              "          (attn_dropout): Dropout(p=0.1, inplace=False)\n",
              "          (resid_dropout): Dropout(p=0.1, inplace=False)\n",
              "        )\n",
              "        (ln_2): LayerNorm((768,), eps=1e-05, elementwise_affine=True)\n",
              "        (mlp): GPT2MLP(\n",
              "          (c_fc): Conv1D()\n",
              "          (c_proj): Conv1D()\n",
              "          (act): NewGELUActivation()\n",
              "          (dropout): Dropout(p=0.1, inplace=False)\n",
              "        )\n",
              "      )\n",
              "    )\n",
              "    (ln_f): LayerNorm((768,), eps=1e-05, elementwise_affine=True)\n",
              "  )\n",
              "  (lm_head): Linear(in_features=768, out_features=50257, bias=False)\n",
              ")"
            ]
          },
          "metadata": {},
          "execution_count": 17
        }
      ]
    },
    {
      "cell_type": "markdown",
      "source": [
        "### **Compute Probability of Sentence**"
      ],
      "metadata": {
        "id": "HBFJ6CKPVX8P"
      }
    },
    {
      "cell_type": "code",
      "source": [
        "def sentence_probability(text):\n",
        "    input_ids = tokenizer.encode(text, return_tensors=\"pt\")\n",
        "    total_log_prob = 0.0\n",
        "    for i in range(1, input_ids.shape[1]):\n",
        "        input_sequence = input_ids[:, :i]\n",
        "        target_token_id = input_ids[0, i]\n",
        "        with torch.no_grad():\n",
        "            outputs = model(input_sequence)\n",
        "            last_logits = outputs.logits[:, -1, :]\n",
        "        probabilities = torch.nn.functional.softmax(last_logits, dim=-1)\n",
        "        target_token_prob = probabilities[0, target_token_id].item()\n",
        "        total_log_prob += torch.log(torch.tensor(target_token_prob))\n",
        "    sentence_prob = torch.exp(total_log_prob).item()\n",
        "\n",
        "    return sentence_prob"
      ],
      "metadata": {
        "id": "m6MEvmAwVXeA"
      },
      "execution_count": 26,
      "outputs": []
    },
    {
      "cell_type": "markdown",
      "source": [
        "### **Example Sentences**"
      ],
      "metadata": {
        "id": "srNVWY73W9gQ"
      }
    },
    {
      "cell_type": "code",
      "source": [
        "print(sentence_probability('I walked my dog'))\n",
        "print(sentence_probability('I walked my dog around the block'))"
      ],
      "metadata": {
        "id": "X9qFurF4U_Cr",
        "outputId": "1e84ab05-e005-4ec0-94df-2ea7029528af",
        "colab": {
          "base_uri": "https://localhost:8080/"
        }
      },
      "execution_count": 27,
      "outputs": [
        {
          "output_type": "stream",
          "name": "stdout",
          "text": [
            "2.9131615519872867e-07\n",
            "4.061623953832694e-11\n"
          ]
        }
      ]
    },
    {
      "cell_type": "code",
      "source": [
        "def sentence_probability(text):\n",
        "    input_ids = tokenizer.encode(text, return_tensors=\"pt\")\n",
        "    total_log_prob = 0.0\n",
        "    for i in range(1, len(input_ids[0])):\n",
        "        input_sequence = input_ids[:, :i]\n",
        "        target_token_id = input_ids[0, i]\n",
        "        with torch.no_grad():\n",
        "            outputs = model(input_sequence)\n",
        "            last_logits = outputs.logits[:, -1, :]\n",
        "        probabilities = torch.nn.functional.softmax(last_logits, dim=-1)\n",
        "        target_token_prob = probabilities[0, target_token_id].item()\n",
        "        total_log_prob += torch.log(torch.tensor(target_token_prob))\n",
        "    sentence_prob = torch.exp(total_log_prob).item()\n",
        "\n",
        "    return sentence_prob"
      ],
      "metadata": {
        "id": "Ku2LCi_qUQoi"
      },
      "execution_count": 19,
      "outputs": []
    },
    {
      "cell_type": "markdown",
      "source": [
        "### **Text to Tokens**"
      ],
      "metadata": {
        "id": "-OmZhiUci4cX"
      }
    },
    {
      "cell_type": "code",
      "source": [
        "text = \"The weather outside is frightful\"\n",
        "tokens = tokenizer.tokenize(text)\n",
        "tokens"
      ],
      "metadata": {
        "id": "3fH5rf5fgRRu",
        "outputId": "3d0bcff9-f7e0-4bc3-afdb-96d1b26e911c",
        "colab": {
          "base_uri": "https://localhost:8080/"
        }
      },
      "execution_count": null,
      "outputs": [
        {
          "output_type": "execute_result",
          "data": {
            "text/plain": [
              "['The', 'Ġweather', 'Ġoutside', 'Ġis', 'Ġfright', 'ful']"
            ]
          },
          "metadata": {},
          "execution_count": 17
        }
      ]
    },
    {
      "cell_type": "markdown",
      "source": [
        "### **Tokens to Input Ids**"
      ],
      "metadata": {
        "id": "iKknPsPfi7Yy"
      }
    },
    {
      "cell_type": "code",
      "source": [
        "input_ids = tokenizer.convert_tokens_to_ids(tokens)\n",
        "input_ids"
      ],
      "metadata": {
        "id": "99AYhQ3Hi9bY",
        "outputId": "2a004399-af7f-4d01-b724-15671fd40a1a",
        "colab": {
          "base_uri": "https://localhost:8080/"
        }
      },
      "execution_count": null,
      "outputs": [
        {
          "output_type": "execute_result",
          "data": {
            "text/plain": [
              "[464, 6193, 2354, 318, 12773, 913]"
            ]
          },
          "metadata": {},
          "execution_count": 24
        }
      ]
    },
    {
      "cell_type": "code",
      "source": [
        "input_ids = tokenizer.encode(text)\n",
        "input_ids"
      ],
      "metadata": {
        "id": "b_BddCdujeXw",
        "outputId": "5516f77c-5a60-4b6a-e578-49564c84dcc4",
        "colab": {
          "base_uri": "https://localhost:8080/"
        }
      },
      "execution_count": null,
      "outputs": [
        {
          "output_type": "execute_result",
          "data": {
            "text/plain": [
              "[464, 6193, 2354, 318, 12773, 913]"
            ]
          },
          "metadata": {},
          "execution_count": 25
        }
      ]
    },
    {
      "cell_type": "markdown",
      "source": [
        "### **Sampling Function**"
      ],
      "metadata": {
        "id": "oWAZAWy7QFf9"
      }
    },
    {
      "cell_type": "code",
      "source": [
        "def sample_next_token(text, temperature=1):\n",
        "\n",
        "    input_ids = tokenizer.encode(text, return_tensors=\"pt\")\n",
        "    with torch.no_grad():\n",
        "        outputs = model(input_ids)\n",
        "        last_logits = outputs.logits[:, -1, :]\n",
        "\n",
        "        # Scale the logits by the temperature\n",
        "        scaled_logits = last_logits / temperature\n",
        "\n",
        "        # Convert logits to probabilities\n",
        "        probabilities = torch.nn.functional.softmax(scaled_logits, dim=-1)\n",
        "\n",
        "        # Sample from the distribution\n",
        "        next_token_id = torch.multinomial(probabilities, num_samples=1)\n",
        "        next_token = tokenizer.decode(next_token_id.item())\n",
        "\n",
        "    return next_token"
      ],
      "metadata": {
        "id": "LvgnVliIJRsz"
      },
      "execution_count": null,
      "outputs": []
    },
    {
      "cell_type": "markdown",
      "source": [
        "### **Example #1**"
      ],
      "metadata": {
        "id": "Bjk-kxbOQJTF"
      }
    },
    {
      "cell_type": "code",
      "source": [
        "text = \"It's really nice outside today. Do you want to go to the\"\n",
        "temperature = 1\n",
        "sample_next_token(text, temperature)"
      ],
      "metadata": {
        "colab": {
          "base_uri": "https://localhost:8080/",
          "height": 35
        },
        "id": "Xg_iPeYwKlsO",
        "outputId": "4ca58be8-2bc3-4b88-ae75-8f2790ef33e0"
      },
      "execution_count": null,
      "outputs": [
        {
          "output_type": "execute_result",
          "data": {
            "text/plain": [
              "' games'"
            ],
            "application/vnd.google.colaboratory.intrinsic+json": {
              "type": "string"
            }
          },
          "metadata": {},
          "execution_count": 39
        }
      ]
    },
    {
      "cell_type": "markdown",
      "source": [
        "### **Example #1.1**"
      ],
      "metadata": {
        "id": "_M-9R9NMnrtA"
      }
    },
    {
      "cell_type": "code",
      "source": [
        "text = \"It's really nice outside today. Do you want to go to the\"\n",
        "temperature = 0.01\n",
        "sample_next_token(text, temperature)"
      ],
      "metadata": {
        "id": "5QP5SQcYnuJx",
        "outputId": "a94b1b14-1937-4a63-fca4-578653852eaa",
        "colab": {
          "base_uri": "https://localhost:8080/",
          "height": 35
        }
      },
      "execution_count": null,
      "outputs": [
        {
          "output_type": "execute_result",
          "data": {
            "text/plain": [
              "' beach'"
            ],
            "application/vnd.google.colaboratory.intrinsic+json": {
              "type": "string"
            }
          },
          "metadata": {},
          "execution_count": 44
        }
      ]
    },
    {
      "cell_type": "markdown",
      "source": [
        "### **Example #2**"
      ],
      "metadata": {
        "id": "3VuigG36QMSs"
      }
    },
    {
      "cell_type": "code",
      "source": [
        "text = \"It's really nice outside today.\"\n",
        "temperature = 1\n",
        "for _ in range(20):\n",
        "  text = text + sample_next_token(text, temperature)\n",
        "  print(text+'\\n')"
      ],
      "metadata": {
        "colab": {
          "base_uri": "https://localhost:8080/"
        },
        "id": "nu8AI6gTNTc7",
        "outputId": "a86a9f8d-0373-4b38-aca9-7510ae700ea1"
      },
      "execution_count": null,
      "outputs": [
        {
          "output_type": "stream",
          "name": "stdout",
          "text": [
            "It's really nice outside today. And\n",
            "\n",
            "It's really nice outside today. And I\n",
            "\n",
            "It's really nice outside today. And I...\n",
            "\n",
            "It's really nice outside today. And I... you\n",
            "\n",
            "It's really nice outside today. And I... you have\n",
            "\n",
            "It's really nice outside today. And I... you have accepted\n",
            "\n",
            "It's really nice outside today. And I... you have accepted the\n",
            "\n",
            "It's really nice outside today. And I... you have accepted the fact\n",
            "\n",
            "It's really nice outside today. And I... you have accepted the fact that\n",
            "\n",
            "It's really nice outside today. And I... you have accepted the fact that kicking\n",
            "\n",
            "It's really nice outside today. And I... you have accepted the fact that kicking first\n",
            "\n",
            "It's really nice outside today. And I... you have accepted the fact that kicking first off\n",
            "\n",
            "It's really nice outside today. And I... you have accepted the fact that kicking first off was\n",
            "\n",
            "It's really nice outside today. And I... you have accepted the fact that kicking first off was the\n",
            "\n",
            "It's really nice outside today. And I... you have accepted the fact that kicking first off was the right\n",
            "\n",
            "It's really nice outside today. And I... you have accepted the fact that kicking first off was the right decision\n",
            "\n",
            "It's really nice outside today. And I... you have accepted the fact that kicking first off was the right decision in\n",
            "\n",
            "It's really nice outside today. And I... you have accepted the fact that kicking first off was the right decision in my\n",
            "\n",
            "It's really nice outside today. And I... you have accepted the fact that kicking first off was the right decision in my opinion\n",
            "\n",
            "It's really nice outside today. And I... you have accepted the fact that kicking first off was the right decision in my opinion.\n",
            "\n"
          ]
        }
      ]
    },
    {
      "cell_type": "markdown",
      "source": [
        "### **Example 2.1**"
      ],
      "metadata": {
        "id": "tLjX5B4Xn50N"
      }
    },
    {
      "cell_type": "code",
      "source": [
        "text = \"It's really nice outside today.\"\n",
        "temperature = 0.01\n",
        "for _ in range(20):\n",
        "  text = text + sample_next_token(text, temperature)\n",
        "  print(text+'\\n')"
      ],
      "metadata": {
        "id": "LCVtuoeEO8Mp",
        "outputId": "be8a7e67-b8ab-48f6-8449-ca8ad151b9e9",
        "colab": {
          "base_uri": "https://localhost:8080/"
        }
      },
      "execution_count": 14,
      "outputs": [
        {
          "metadata": {
            "tags": null
          },
          "name": "stdout",
          "output_type": "stream",
          "text": [
            "Should I bother recycling?\n",
            "\n",
            "\n",
            "Should I bother recycling?\n",
            "\n",
            "\n",
            "\n",
            "Should I bother recycling?\n",
            "\n",
            "\n",
            "\n",
            "\n",
            "Should I bother recycling?\n",
            "\n",
            "\n",
            "Yes\n",
            "\n",
            "Should I bother recycling?\n",
            "\n",
            "\n",
            "Yes,\n",
            "\n",
            "Should I bother recycling?\n",
            "\n",
            "\n",
            "Yes, you\n",
            "\n",
            "Should I bother recycling?\n",
            "\n",
            "\n",
            "Yes, you can\n",
            "\n",
            "Should I bother recycling?\n",
            "\n",
            "\n",
            "Yes, you can recycle\n",
            "\n",
            "Should I bother recycling?\n",
            "\n",
            "\n",
            "Yes, you can recycle your\n",
            "\n",
            "Should I bother recycling?\n",
            "\n",
            "\n",
            "Yes, you can recycle your own\n",
            "\n",
            "Should I bother recycling?\n",
            "\n",
            "\n",
            "Yes, you can recycle your own items\n",
            "\n",
            "Should I bother recycling?\n",
            "\n",
            "\n",
            "Yes, you can recycle your own items.\n",
            "\n",
            "Should I bother recycling?\n",
            "\n",
            "\n",
            "Yes, you can recycle your own items. You\n",
            "\n",
            "Should I bother recycling?\n",
            "\n",
            "\n",
            "Yes, you can recycle your own items. You can\n",
            "\n",
            "Should I bother recycling?\n",
            "\n",
            "\n",
            "Yes, you can recycle your own items. You can recycle\n",
            "\n",
            "Should I bother recycling?\n",
            "\n",
            "\n",
            "Yes, you can recycle your own items. You can recycle your\n",
            "\n",
            "Should I bother recycling?\n",
            "\n",
            "\n",
            "Yes, you can recycle your own items. You can recycle your own\n",
            "\n",
            "Should I bother recycling?\n",
            "\n",
            "\n",
            "Yes, you can recycle your own items. You can recycle your own items\n",
            "\n",
            "Should I bother recycling?\n",
            "\n",
            "\n",
            "Yes, you can recycle your own items. You can recycle your own items.\n",
            "\n",
            "Should I bother recycling?\n",
            "\n",
            "\n",
            "Yes, you can recycle your own items. You can recycle your own items. You\n",
            "\n",
            "Should I bother recycling?\n",
            "\n",
            "\n",
            "Yes, you can recycle your own items. You can recycle your own items. You can\n",
            "\n",
            "Should I bother recycling?\n",
            "\n",
            "\n",
            "Yes, you can recycle your own items. You can recycle your own items. You can recycle\n",
            "\n",
            "Should I bother recycling?\n",
            "\n",
            "\n",
            "Yes, you can recycle your own items. You can recycle your own items. You can recycle your\n",
            "\n",
            "Should I bother recycling?\n",
            "\n",
            "\n",
            "Yes, you can recycle your own items. You can recycle your own items. You can recycle your own\n",
            "\n",
            "Should I bother recycling?\n",
            "\n",
            "\n",
            "Yes, you can recycle your own items. You can recycle your own items. You can recycle your own items\n",
            "\n",
            "Should I bother recycling?\n",
            "\n",
            "\n",
            "Yes, you can recycle your own items. You can recycle your own items. You can recycle your own items.\n",
            "\n",
            "Should I bother recycling?\n",
            "\n",
            "\n",
            "Yes, you can recycle your own items. You can recycle your own items. You can recycle your own items. You\n",
            "\n",
            "Should I bother recycling?\n",
            "\n",
            "\n",
            "Yes, you can recycle your own items. You can recycle your own items. You can recycle your own items. You can\n",
            "\n",
            "Should I bother recycling?\n",
            "\n",
            "\n",
            "Yes, you can recycle your own items. You can recycle your own items. You can recycle your own items. You can recycle\n",
            "\n",
            "Should I bother recycling?\n",
            "\n",
            "\n",
            "Yes, you can recycle your own items. You can recycle your own items. You can recycle your own items. You can recycle your\n",
            "\n",
            "Should I bother recycling?\n",
            "\n",
            "\n",
            "Yes, you can recycle your own items. You can recycle your own items. You can recycle your own items. You can recycle your own\n",
            "\n",
            "Should I bother recycling?\n",
            "\n",
            "\n",
            "Yes, you can recycle your own items. You can recycle your own items. You can recycle your own items. You can recycle your own items\n",
            "\n",
            "Should I bother recycling?\n",
            "\n",
            "\n",
            "Yes, you can recycle your own items. You can recycle your own items. You can recycle your own items. You can recycle your own items.\n",
            "\n",
            "Should I bother recycling?\n",
            "\n",
            "\n",
            "Yes, you can recycle your own items. You can recycle your own items. You can recycle your own items. You can recycle your own items. You\n",
            "\n",
            "Should I bother recycling?\n",
            "\n",
            "\n",
            "Yes, you can recycle your own items. You can recycle your own items. You can recycle your own items. You can recycle your own items. You can\n",
            "\n",
            "Should I bother recycling?\n",
            "\n",
            "\n",
            "Yes, you can recycle your own items. You can recycle your own items. You can recycle your own items. You can recycle your own items. You can recycle\n",
            "\n",
            "Should I bother recycling?\n",
            "\n",
            "\n",
            "Yes, you can recycle your own items. You can recycle your own items. You can recycle your own items. You can recycle your own items. You can recycle your\n",
            "\n",
            "Should I bother recycling?\n",
            "\n",
            "\n",
            "Yes, you can recycle your own items. You can recycle your own items. You can recycle your own items. You can recycle your own items. You can recycle your own\n",
            "\n",
            "Should I bother recycling?\n",
            "\n",
            "\n",
            "Yes, you can recycle your own items. You can recycle your own items. You can recycle your own items. You can recycle your own items. You can recycle your own items\n",
            "\n",
            "Should I bother recycling?\n",
            "\n",
            "\n",
            "Yes, you can recycle your own items. You can recycle your own items. You can recycle your own items. You can recycle your own items. You can recycle your own items.\n",
            "\n",
            "Should I bother recycling?\n",
            "\n",
            "\n",
            "Yes, you can recycle your own items. You can recycle your own items. You can recycle your own items. You can recycle your own items. You can recycle your own items. You\n",
            "\n",
            "Should I bother recycling?\n",
            "\n",
            "\n",
            "Yes, you can recycle your own items. You can recycle your own items. You can recycle your own items. You can recycle your own items. You can recycle your own items. You can\n",
            "\n",
            "Should I bother recycling?\n",
            "\n",
            "\n",
            "Yes, you can recycle your own items. You can recycle your own items. You can recycle your own items. You can recycle your own items. You can recycle your own items. You can recycle\n",
            "\n",
            "Should I bother recycling?\n",
            "\n",
            "\n",
            "Yes, you can recycle your own items. You can recycle your own items. You can recycle your own items. You can recycle your own items. You can recycle your own items. You can recycle your\n",
            "\n",
            "Should I bother recycling?\n",
            "\n",
            "\n",
            "Yes, you can recycle your own items. You can recycle your own items. You can recycle your own items. You can recycle your own items. You can recycle your own items. You can recycle your own\n",
            "\n",
            "Should I bother recycling?\n",
            "\n",
            "\n",
            "Yes, you can recycle your own items. You can recycle your own items. You can recycle your own items. You can recycle your own items. You can recycle your own items. You can recycle your own items\n",
            "\n",
            "Should I bother recycling?\n",
            "\n",
            "\n",
            "Yes, you can recycle your own items. You can recycle your own items. You can recycle your own items. You can recycle your own items. You can recycle your own items. You can recycle your own items.\n",
            "\n",
            "Should I bother recycling?\n",
            "\n",
            "\n",
            "Yes, you can recycle your own items. You can recycle your own items. You can recycle your own items. You can recycle your own items. You can recycle your own items. You can recycle your own items. You\n",
            "\n",
            "Should I bother recycling?\n",
            "\n",
            "\n",
            "Yes, you can recycle your own items. You can recycle your own items. You can recycle your own items. You can recycle your own items. You can recycle your own items. You can recycle your own items. You can\n",
            "\n",
            "Should I bother recycling?\n",
            "\n",
            "\n",
            "Yes, you can recycle your own items. You can recycle your own items. You can recycle your own items. You can recycle your own items. You can recycle your own items. You can recycle your own items. You can recycle\n",
            "\n",
            "Should I bother recycling?\n",
            "\n",
            "\n",
            "Yes, you can recycle your own items. You can recycle your own items. You can recycle your own items. You can recycle your own items. You can recycle your own items. You can recycle your own items. You can recycle your\n",
            "\n",
            "Should I bother recycling?\n",
            "\n",
            "\n",
            "Yes, you can recycle your own items. You can recycle your own items. You can recycle your own items. You can recycle your own items. You can recycle your own items. You can recycle your own items. You can recycle your own\n",
            "\n",
            "Should I bother recycling?\n",
            "\n",
            "\n",
            "Yes, you can recycle your own items. You can recycle your own items. You can recycle your own items. You can recycle your own items. You can recycle your own items. You can recycle your own items. You can recycle your own items\n",
            "\n",
            "Should I bother recycling?\n",
            "\n",
            "\n",
            "Yes, you can recycle your own items. You can recycle your own items. You can recycle your own items. You can recycle your own items. You can recycle your own items. You can recycle your own items. You can recycle your own items.\n",
            "\n",
            "Should I bother recycling?\n",
            "\n",
            "\n",
            "Yes, you can recycle your own items. You can recycle your own items. You can recycle your own items. You can recycle your own items. You can recycle your own items. You can recycle your own items. You can recycle your own items. You\n",
            "\n",
            "Should I bother recycling?\n",
            "\n",
            "\n",
            "Yes, you can recycle your own items. You can recycle your own items. You can recycle your own items. You can recycle your own items. You can recycle your own items. You can recycle your own items. You can recycle your own items. You can\n",
            "\n",
            "Should I bother recycling?\n",
            "\n",
            "\n",
            "Yes, you can recycle your own items. You can recycle your own items. You can recycle your own items. You can recycle your own items. You can recycle your own items. You can recycle your own items. You can recycle your own items. You can recycle\n",
            "\n",
            "Should I bother recycling?\n",
            "\n",
            "\n",
            "Yes, you can recycle your own items. You can recycle your own items. You can recycle your own items. You can recycle your own items. You can recycle your own items. You can recycle your own items. You can recycle your own items. You can recycle your\n",
            "\n",
            "Should I bother recycling?\n",
            "\n",
            "\n",
            "Yes, you can recycle your own items. You can recycle your own items. You can recycle your own items. You can recycle your own items. You can recycle your own items. You can recycle your own items. You can recycle your own items. You can recycle your own\n",
            "\n",
            "Should I bother recycling?\n",
            "\n",
            "\n",
            "Yes, you can recycle your own items. You can recycle your own items. You can recycle your own items. You can recycle your own items. You can recycle your own items. You can recycle your own items. You can recycle your own items. You can recycle your own items\n",
            "\n",
            "Should I bother recycling?\n",
            "\n",
            "\n",
            "Yes, you can recycle your own items. You can recycle your own items. You can recycle your own items. You can recycle your own items. You can recycle your own items. You can recycle your own items. You can recycle your own items. You can recycle your own items.\n",
            "\n",
            "Should I bother recycling?\n",
            "\n",
            "\n",
            "Yes, you can recycle your own items. You can recycle your own items. You can recycle your own items. You can recycle your own items. You can recycle your own items. You can recycle your own items. You can recycle your own items. You can recycle your own items. You\n",
            "\n",
            "Should I bother recycling?\n",
            "\n",
            "\n",
            "Yes, you can recycle your own items. You can recycle your own items. You can recycle your own items. You can recycle your own items. You can recycle your own items. You can recycle your own items. You can recycle your own items. You can recycle your own items. You can\n",
            "\n",
            "Should I bother recycling?\n",
            "\n",
            "\n",
            "Yes, you can recycle your own items. You can recycle your own items. You can recycle your own items. You can recycle your own items. You can recycle your own items. You can recycle your own items. You can recycle your own items. You can recycle your own items. You can recycle\n",
            "\n",
            "Should I bother recycling?\n",
            "\n",
            "\n",
            "Yes, you can recycle your own items. You can recycle your own items. You can recycle your own items. You can recycle your own items. You can recycle your own items. You can recycle your own items. You can recycle your own items. You can recycle your own items. You can recycle your\n",
            "\n",
            "Should I bother recycling?\n",
            "\n",
            "\n",
            "Yes, you can recycle your own items. You can recycle your own items. You can recycle your own items. You can recycle your own items. You can recycle your own items. You can recycle your own items. You can recycle your own items. You can recycle your own items. You can recycle your own\n",
            "\n",
            "Should I bother recycling?\n",
            "\n",
            "\n",
            "Yes, you can recycle your own items. You can recycle your own items. You can recycle your own items. You can recycle your own items. You can recycle your own items. You can recycle your own items. You can recycle your own items. You can recycle your own items. You can recycle your own items\n",
            "\n",
            "Should I bother recycling?\n",
            "\n",
            "\n",
            "Yes, you can recycle your own items. You can recycle your own items. You can recycle your own items. You can recycle your own items. You can recycle your own items. You can recycle your own items. You can recycle your own items. You can recycle your own items. You can recycle your own items.\n",
            "\n",
            "Should I bother recycling?\n",
            "\n",
            "\n",
            "Yes, you can recycle your own items. You can recycle your own items. You can recycle your own items. You can recycle your own items. You can recycle your own items. You can recycle your own items. You can recycle your own items. You can recycle your own items. You can recycle your own items. You\n",
            "\n",
            "Should I bother recycling?\n",
            "\n",
            "\n",
            "Yes, you can recycle your own items. You can recycle your own items. You can recycle your own items. You can recycle your own items. You can recycle your own items. You can recycle your own items. You can recycle your own items. You can recycle your own items. You can recycle your own items. You can\n",
            "\n",
            "Should I bother recycling?\n",
            "\n",
            "\n",
            "Yes, you can recycle your own items. You can recycle your own items. You can recycle your own items. You can recycle your own items. You can recycle your own items. You can recycle your own items. You can recycle your own items. You can recycle your own items. You can recycle your own items. You can recycle\n",
            "\n",
            "Should I bother recycling?\n",
            "\n",
            "\n",
            "Yes, you can recycle your own items. You can recycle your own items. You can recycle your own items. You can recycle your own items. You can recycle your own items. You can recycle your own items. You can recycle your own items. You can recycle your own items. You can recycle your own items. You can recycle your\n",
            "\n",
            "Should I bother recycling?\n",
            "\n",
            "\n",
            "Yes, you can recycle your own items. You can recycle your own items. You can recycle your own items. You can recycle your own items. You can recycle your own items. You can recycle your own items. You can recycle your own items. You can recycle your own items. You can recycle your own items. You can recycle your own\n",
            "\n",
            "Should I bother recycling?\n",
            "\n",
            "\n",
            "Yes, you can recycle your own items. You can recycle your own items. You can recycle your own items. You can recycle your own items. You can recycle your own items. You can recycle your own items. You can recycle your own items. You can recycle your own items. You can recycle your own items. You can recycle your own items\n",
            "\n",
            "Should I bother recycling?\n",
            "\n",
            "\n",
            "Yes, you can recycle your own items. You can recycle your own items. You can recycle your own items. You can recycle your own items. You can recycle your own items. You can recycle your own items. You can recycle your own items. You can recycle your own items. You can recycle your own items. You can recycle your own items.\n",
            "\n",
            "Should I bother recycling?\n",
            "\n",
            "\n",
            "Yes, you can recycle your own items. You can recycle your own items. You can recycle your own items. You can recycle your own items. You can recycle your own items. You can recycle your own items. You can recycle your own items. You can recycle your own items. You can recycle your own items. You can recycle your own items. You\n",
            "\n",
            "Should I bother recycling?\n",
            "\n",
            "\n",
            "Yes, you can recycle your own items. You can recycle your own items. You can recycle your own items. You can recycle your own items. You can recycle your own items. You can recycle your own items. You can recycle your own items. You can recycle your own items. You can recycle your own items. You can recycle your own items. You can\n",
            "\n",
            "Should I bother recycling?\n",
            "\n",
            "\n",
            "Yes, you can recycle your own items. You can recycle your own items. You can recycle your own items. You can recycle your own items. You can recycle your own items. You can recycle your own items. You can recycle your own items. You can recycle your own items. You can recycle your own items. You can recycle your own items. You can recycle\n",
            "\n",
            "Should I bother recycling?\n",
            "\n",
            "\n",
            "Yes, you can recycle your own items. You can recycle your own items. You can recycle your own items. You can recycle your own items. You can recycle your own items. You can recycle your own items. You can recycle your own items. You can recycle your own items. You can recycle your own items. You can recycle your own items. You can recycle your\n",
            "\n",
            "Should I bother recycling?\n",
            "\n",
            "\n",
            "Yes, you can recycle your own items. You can recycle your own items. You can recycle your own items. You can recycle your own items. You can recycle your own items. You can recycle your own items. You can recycle your own items. You can recycle your own items. You can recycle your own items. You can recycle your own items. You can recycle your own\n",
            "\n",
            "Should I bother recycling?\n",
            "\n",
            "\n",
            "Yes, you can recycle your own items. You can recycle your own items. You can recycle your own items. You can recycle your own items. You can recycle your own items. You can recycle your own items. You can recycle your own items. You can recycle your own items. You can recycle your own items. You can recycle your own items. You can recycle your own items\n",
            "\n",
            "Should I bother recycling?\n",
            "\n",
            "\n",
            "Yes, you can recycle your own items. You can recycle your own items. You can recycle your own items. You can recycle your own items. You can recycle your own items. You can recycle your own items. You can recycle your own items. You can recycle your own items. You can recycle your own items. You can recycle your own items. You can recycle your own items.\n",
            "\n",
            "Should I bother recycling?\n",
            "\n",
            "\n",
            "Yes, you can recycle your own items. You can recycle your own items. You can recycle your own items. You can recycle your own items. You can recycle your own items. You can recycle your own items. You can recycle your own items. You can recycle your own items. You can recycle your own items. You can recycle your own items. You can recycle your own items. You\n",
            "\n",
            "Should I bother recycling?\n",
            "\n",
            "\n",
            "Yes, you can recycle your own items. You can recycle your own items. You can recycle your own items. You can recycle your own items. You can recycle your own items. You can recycle your own items. You can recycle your own items. You can recycle your own items. You can recycle your own items. You can recycle your own items. You can recycle your own items. You can\n",
            "\n",
            "Should I bother recycling?\n",
            "\n",
            "\n",
            "Yes, you can recycle your own items. You can recycle your own items. You can recycle your own items. You can recycle your own items. You can recycle your own items. You can recycle your own items. You can recycle your own items. You can recycle your own items. You can recycle your own items. You can recycle your own items. You can recycle your own items. You can recycle\n",
            "\n",
            "Should I bother recycling?\n",
            "\n",
            "\n",
            "Yes, you can recycle your own items. You can recycle your own items. You can recycle your own items. You can recycle your own items. You can recycle your own items. You can recycle your own items. You can recycle your own items. You can recycle your own items. You can recycle your own items. You can recycle your own items. You can recycle your own items. You can recycle your\n",
            "\n",
            "Should I bother recycling?\n",
            "\n",
            "\n",
            "Yes, you can recycle your own items. You can recycle your own items. You can recycle your own items. You can recycle your own items. You can recycle your own items. You can recycle your own items. You can recycle your own items. You can recycle your own items. You can recycle your own items. You can recycle your own items. You can recycle your own items. You can recycle your own\n",
            "\n",
            "Should I bother recycling?\n",
            "\n",
            "\n",
            "Yes, you can recycle your own items. You can recycle your own items. You can recycle your own items. You can recycle your own items. You can recycle your own items. You can recycle your own items. You can recycle your own items. You can recycle your own items. You can recycle your own items. You can recycle your own items. You can recycle your own items. You can recycle your own items\n",
            "\n",
            "Should I bother recycling?\n",
            "\n",
            "\n",
            "Yes, you can recycle your own items. You can recycle your own items. You can recycle your own items. You can recycle your own items. You can recycle your own items. You can recycle your own items. You can recycle your own items. You can recycle your own items. You can recycle your own items. You can recycle your own items. You can recycle your own items. You can recycle your own items.\n",
            "\n",
            "Should I bother recycling?\n",
            "\n",
            "\n",
            "Yes, you can recycle your own items. You can recycle your own items. You can recycle your own items. You can recycle your own items. You can recycle your own items. You can recycle your own items. You can recycle your own items. You can recycle your own items. You can recycle your own items. You can recycle your own items. You can recycle your own items. You can recycle your own items. You\n",
            "\n",
            "Should I bother recycling?\n",
            "\n",
            "\n",
            "Yes, you can recycle your own items. You can recycle your own items. You can recycle your own items. You can recycle your own items. You can recycle your own items. You can recycle your own items. You can recycle your own items. You can recycle your own items. You can recycle your own items. You can recycle your own items. You can recycle your own items. You can recycle your own items. You can\n",
            "\n",
            "Should I bother recycling?\n",
            "\n",
            "\n",
            "Yes, you can recycle your own items. You can recycle your own items. You can recycle your own items. You can recycle your own items. You can recycle your own items. You can recycle your own items. You can recycle your own items. You can recycle your own items. You can recycle your own items. You can recycle your own items. You can recycle your own items. You can recycle your own items. You can recycle\n",
            "\n",
            "Should I bother recycling?\n",
            "\n",
            "\n",
            "Yes, you can recycle your own items. You can recycle your own items. You can recycle your own items. You can recycle your own items. You can recycle your own items. You can recycle your own items. You can recycle your own items. You can recycle your own items. You can recycle your own items. You can recycle your own items. You can recycle your own items. You can recycle your own items. You can recycle your\n",
            "\n",
            "Should I bother recycling?\n",
            "\n",
            "\n",
            "Yes, you can recycle your own items. You can recycle your own items. You can recycle your own items. You can recycle your own items. You can recycle your own items. You can recycle your own items. You can recycle your own items. You can recycle your own items. You can recycle your own items. You can recycle your own items. You can recycle your own items. You can recycle your own items. You can recycle your own\n",
            "\n",
            "Should I bother recycling?\n",
            "\n",
            "\n",
            "Yes, you can recycle your own items. You can recycle your own items. You can recycle your own items. You can recycle your own items. You can recycle your own items. You can recycle your own items. You can recycle your own items. You can recycle your own items. You can recycle your own items. You can recycle your own items. You can recycle your own items. You can recycle your own items. You can recycle your own items\n",
            "\n",
            "Should I bother recycling?\n",
            "\n",
            "\n",
            "Yes, you can recycle your own items. You can recycle your own items. You can recycle your own items. You can recycle your own items. You can recycle your own items. You can recycle your own items. You can recycle your own items. You can recycle your own items. You can recycle your own items. You can recycle your own items. You can recycle your own items. You can recycle your own items. You can recycle your own items.\n",
            "\n",
            "Should I bother recycling?\n",
            "\n",
            "\n",
            "Yes, you can recycle your own items. You can recycle your own items. You can recycle your own items. You can recycle your own items. You can recycle your own items. You can recycle your own items. You can recycle your own items. You can recycle your own items. You can recycle your own items. You can recycle your own items. You can recycle your own items. You can recycle your own items. You can recycle your own items. You\n",
            "\n",
            "Should I bother recycling?\n",
            "\n",
            "\n",
            "Yes, you can recycle your own items. You can recycle your own items. You can recycle your own items. You can recycle your own items. You can recycle your own items. You can recycle your own items. You can recycle your own items. You can recycle your own items. You can recycle your own items. You can recycle your own items. You can recycle your own items. You can recycle your own items. You can recycle your own items. You can\n",
            "\n",
            "Should I bother recycling?\n",
            "\n",
            "\n",
            "Yes, you can recycle your own items. You can recycle your own items. You can recycle your own items. You can recycle your own items. You can recycle your own items. You can recycle your own items. You can recycle your own items. You can recycle your own items. You can recycle your own items. You can recycle your own items. You can recycle your own items. You can recycle your own items. You can recycle your own items. You can recycle\n",
            "\n",
            "Should I bother recycling?\n",
            "\n",
            "\n",
            "Yes, you can recycle your own items. You can recycle your own items. You can recycle your own items. You can recycle your own items. You can recycle your own items. You can recycle your own items. You can recycle your own items. You can recycle your own items. You can recycle your own items. You can recycle your own items. You can recycle your own items. You can recycle your own items. You can recycle your own items. You can recycle your\n",
            "\n"
          ]
        }
      ]
    },
    {
      "cell_type": "code",
      "source": [],
      "metadata": {
        "id": "H3DnjzVdn7CT"
      },
      "execution_count": null,
      "outputs": []
    }
  ]
}